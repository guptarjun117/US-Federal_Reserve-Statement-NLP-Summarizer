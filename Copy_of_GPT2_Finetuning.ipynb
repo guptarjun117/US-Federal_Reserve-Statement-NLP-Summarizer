{
  "cells": [
    {
      "cell_type": "code",
      "execution_count": null,
      "metadata": {
        "colab": {
          "base_uri": "https://localhost:8080/"
        },
        "id": "iIpwXONTjXwx",
        "outputId": "252afb38-79d1-4677-bbb4-f83bd0640dcf"
      },
      "outputs": [
        {
          "output_type": "stream",
          "name": "stdout",
          "text": [
            "Requirement already satisfied: python-docx in ./opt/anaconda3/lib/python3.9/site-packages (0.8.11)\r\n",
            "Requirement already satisfied: lxml>=2.3.2 in ./opt/anaconda3/lib/python3.9/site-packages (from python-docx) (4.9.1)\n",
            "Requirement already satisfied: PyPDF2 in ./opt/anaconda3/lib/python3.9/site-packages (2.10.8)\n",
            "Requirement already satisfied: typing-extensions>=3.10.0.0 in ./opt/anaconda3/lib/python3.9/site-packages (from PyPDF2) (4.4.0)\n",
            "Requirement already satisfied: transformers in ./opt/anaconda3/lib/python3.9/site-packages (4.25.1)\n",
            "Requirement already satisfied: datasets in ./opt/anaconda3/lib/python3.9/site-packages (2.8.0)\n",
            "Requirement already satisfied: regex!=2019.12.17 in ./opt/anaconda3/lib/python3.9/site-packages (from transformers) (2022.7.9)\n",
            "Requirement already satisfied: huggingface-hub<1.0,>=0.10.0 in ./opt/anaconda3/lib/python3.9/site-packages (from transformers) (0.11.1)\n",
            "Requirement already satisfied: tokenizers!=0.11.3,<0.14,>=0.11.1 in ./opt/anaconda3/lib/python3.9/site-packages (from transformers) (0.13.2)\n",
            "Requirement already satisfied: numpy>=1.17 in ./opt/anaconda3/lib/python3.9/site-packages (from transformers) (1.21.5)\n",
            "Requirement already satisfied: requests in ./opt/anaconda3/lib/python3.9/site-packages (from transformers) (2.28.1)\n",
            "Requirement already satisfied: pyyaml>=5.1 in ./opt/anaconda3/lib/python3.9/site-packages (from transformers) (6.0)\n",
            "Requirement already satisfied: filelock in ./opt/anaconda3/lib/python3.9/site-packages (from transformers) (3.9.0)\n",
            "Requirement already satisfied: tqdm>=4.27 in ./opt/anaconda3/lib/python3.9/site-packages (from transformers) (4.64.1)\n",
            "Requirement already satisfied: packaging>=20.0 in ./opt/anaconda3/lib/python3.9/site-packages (from transformers) (22.0)\n",
            "Requirement already satisfied: multiprocess in ./opt/anaconda3/lib/python3.9/site-packages (from datasets) (0.70.14)\n",
            "Requirement already satisfied: aiohttp in ./opt/anaconda3/lib/python3.9/site-packages (from datasets) (3.8.3)\n",
            "Requirement already satisfied: fsspec[http]>=2021.11.1 in ./opt/anaconda3/lib/python3.9/site-packages (from datasets) (2022.11.0)\n",
            "Requirement already satisfied: responses<0.19 in ./opt/anaconda3/lib/python3.9/site-packages (from datasets) (0.10.15)\n",
            "Requirement already satisfied: pandas in ./opt/anaconda3/lib/python3.9/site-packages (from datasets) (1.4.4)\n",
            "Requirement already satisfied: xxhash in ./opt/anaconda3/lib/python3.9/site-packages (from datasets) (3.2.0)\n",
            "Requirement already satisfied: dill<0.3.7 in ./opt/anaconda3/lib/python3.9/site-packages (from datasets) (0.3.6)\n",
            "Requirement already satisfied: pyarrow>=6.0.0 in ./opt/anaconda3/lib/python3.9/site-packages (from datasets) (10.0.1)\n",
            "Requirement already satisfied: async-timeout<5.0,>=4.0.0a3 in ./opt/anaconda3/lib/python3.9/site-packages (from aiohttp->datasets) (4.0.2)\n",
            "Requirement already satisfied: multidict<7.0,>=4.5 in ./opt/anaconda3/lib/python3.9/site-packages (from aiohttp->datasets) (6.0.2)\n",
            "Requirement already satisfied: frozenlist>=1.1.1 in ./opt/anaconda3/lib/python3.9/site-packages (from aiohttp->datasets) (1.3.3)\n",
            "Requirement already satisfied: attrs>=17.3.0 in ./opt/anaconda3/lib/python3.9/site-packages (from aiohttp->datasets) (22.1.0)\n",
            "Requirement already satisfied: aiosignal>=1.1.2 in ./opt/anaconda3/lib/python3.9/site-packages (from aiohttp->datasets) (1.2.0)\n",
            "Requirement already satisfied: charset-normalizer<3.0,>=2.0 in ./opt/anaconda3/lib/python3.9/site-packages (from aiohttp->datasets) (2.0.4)\n",
            "Requirement already satisfied: yarl<2.0,>=1.0 in ./opt/anaconda3/lib/python3.9/site-packages (from aiohttp->datasets) (1.8.1)\n",
            "Requirement already satisfied: typing-extensions>=3.7.4.3 in ./opt/anaconda3/lib/python3.9/site-packages (from huggingface-hub<1.0,>=0.10.0->transformers) (4.4.0)\n",
            "Requirement already satisfied: urllib3<1.27,>=1.21.1 in ./opt/anaconda3/lib/python3.9/site-packages (from requests->transformers) (1.26.14)\n",
            "Requirement already satisfied: idna<4,>=2.5 in ./opt/anaconda3/lib/python3.9/site-packages (from requests->transformers) (3.4)\n",
            "Requirement already satisfied: certifi>=2017.4.17 in ./opt/anaconda3/lib/python3.9/site-packages (from requests->transformers) (2022.12.7)\n",
            "Requirement already satisfied: six in ./opt/anaconda3/lib/python3.9/site-packages (from responses<0.19->datasets) (1.12.0)\n",
            "Requirement already satisfied: python-dateutil>=2.8.1 in ./opt/anaconda3/lib/python3.9/site-packages (from pandas->datasets) (2.8.2)\n",
            "Requirement already satisfied: pytz>=2020.1 in ./opt/anaconda3/lib/python3.9/site-packages (from pandas->datasets) (2022.7)\n"
          ]
        }
      ],
      "source": [
        "import os\n",
        "\n",
        "# import pandas as pd\n",
        "# import numpy as np\n",
        "# import matplotlib.pyplot as plt\n",
        "!pip install python-docx\n",
        "import docx\n",
        "!pip install PyPDF2\n",
        "import PyPDF2\n",
        "\n",
        "!pip install transformers datasets"
      ]
    },
    {
      "cell_type": "code",
      "execution_count": null,
      "metadata": {
        "id": "BnpAyuE5jlzI"
      },
      "outputs": [],
      "source": [
        "# from google.colab import drive\n",
        "# drive.mount('/content/drive', force_remount = True)\n",
        "# # note: the path may be different for others.\n",
        "# os.chdir('/content/drive/MyDrive/DAP Group 6: Fin Scanners/statements')"
      ]
    },
    {
      "cell_type": "code",
      "execution_count": null,
      "metadata": {
        "colab": {
          "base_uri": "https://localhost:8080/"
        },
        "id": "MCfXFbeqjnvr",
        "outputId": "09f722e0-6475-444d-dc68-bddd0586e628"
      },
      "outputs": [
        {
          "output_type": "stream",
          "name": "stdout",
          "text": [
            "\u001b[34mApplications\u001b[m\u001b[m                    monetary20220615a1_summary.docx\r\n",
            "\u001b[34mDesktop\u001b[m\u001b[m                         monetary20220727a1.pdf\r\n",
            "\u001b[34mDeveloper\u001b[m\u001b[m                       monetary20220727a1_summary.docx\r\n",
            "\u001b[34mDocuments\u001b[m\u001b[m                       monetary20220921a1.pdf\r\n",
            "\u001b[34mDownloads\u001b[m\u001b[m                       monetary20220921a1_summary.docx\r\n",
            "\u001b[34mLibrary\u001b[m\u001b[m                         monetary20221102a1.pdf\r\n",
            "\u001b[34mMovies\u001b[m\u001b[m                          monetary20221102a1_summary.docx\r\n",
            "\u001b[34mMusic\u001b[m\u001b[m                           monetary20221214a1.pdf\r\n",
            "\u001b[34mPictures\u001b[m\u001b[m                        monetary20221214a1_summary.docx\r\n",
            "\u001b[34mPostman\u001b[m\u001b[m                         news_summary.csv\r\n",
            "\u001b[34mPublic\u001b[m\u001b[m                          \u001b[34mnltk_data\u001b[m\u001b[m\r\n",
            "\u001b[34mSites\u001b[m\u001b[m                           open\r\n",
            "Summary 20220126a1.docx         \u001b[34mopt\u001b[m\u001b[m\r\n",
            "Summary 20220504a1.docx         \u001b[34mpandas\u001b[m\u001b[m\r\n",
            "Summary 20220615a1.docx         refsum20220126.docx\r\n",
            "Summary 20220727a1.docx         refsum20220504.docx\r\n",
            "Summary 20220921a1.docx         refsum20220615.docx\r\n",
            "Summary 20221102a1.docx         refsum20220727.docx\r\n",
            "Summary 20221214a1.docx         refsum20220921.docx\r\n",
            "\u001b[34mZotero\u001b[m\u001b[m                          refsum20221102.docx\r\n",
            "\u001b[34mgensim-data\u001b[m\u001b[m                     refsum20221214.docx\r\n",
            "monetary20220126a1.pdf          \u001b[34mresults\u001b[m\u001b[m\r\n",
            "monetary20220126a1_summary.docx tutorial.pem\r\n",
            "monetary20220504a1.pdf          \u001b[34mvenv\u001b[m\u001b[m\r\n",
            "monetary20220504a1_summary.docx word_mov_dist.pkl\r\n",
            "monetary20220615a1.pdf\r\n"
          ]
        }
      ],
      "source": [
        "!ls"
      ]
    },
    {
      "cell_type": "markdown",
      "metadata": {
        "id": "SqNE86oAEfWC"
      },
      "source": [
        "# create a function to preprocess the statement to be fed into the model"
      ]
    },
    {
      "cell_type": "code",
      "execution_count": null,
      "metadata": {
        "id": "BpEBJGpskgER"
      },
      "outputs": [],
      "source": [
        "def clean_monetary_pdf(monetary_pdf, by=\"para\"):\n",
        "  # takes in 2 parameters: first is the original statement;\n",
        "  # second parameter is \"para\" (for split by paragraphs) or  \"sen\" (for split by first sentences)\n",
        "\n",
        "  # opening the pdf\n",
        "  monetary_pdf = open(monetary_pdf, \"rb\")\n",
        "  monetary_pdf = PyPDF2.PdfReader(monetary_pdf)\n",
        "\n",
        "  # chunking all the text in the pdf together\n",
        "  text = \"\"\n",
        "  for page in monetary_pdf.pages:\n",
        "    text+=page.extract_text()\n",
        "    if \"-0-\" in page:\n",
        "      break\n",
        "\n",
        "  # create a header variable which we will need to take out if present\n",
        "  header = \"\"\n",
        "  start = text.find(\"For release\")\n",
        "  end = text.find(\"22\")\n",
        "  header = text[start:end+2]\n",
        "\n",
        "  text = text.split(\"\\n\")\n",
        "\n",
        "  # split by paragraph\n",
        "  para_summary_input = []\n",
        "  current_para = \"\"\n",
        "\n",
        "  for i,sentence in enumerate(text):\n",
        "    if \"Voting\" in sentence:\n",
        "      break\n",
        "    elif \"-2-\" in sentence or \"(more)\" in sentence:\n",
        "      continue\n",
        "    # make sure there's no headers in the sentence\n",
        "    sentence = sentence.replace(header, \"\")\n",
        "    # if first word is a \" \", that means it's a start of a new paragraph! (not the same for every text!)\n",
        "    # if the sentence starts with a capital letter and the prevoious letter is a \" \" then it's also a new para! (idk how that works)\n",
        "    # push the current para into the summary and reset current_para\n",
        "    # print(sentence)\n",
        "    if sentence[0] == \" \" or (sentence[0].isupper() and text[i-1][-1] == \" \"):\n",
        "      if current_para.strip():\n",
        "        para_summary_input.append(current_para.strip())\n",
        "      current_para = sentence\n",
        "    else:\n",
        "        current_para += sentence\n",
        "  # add in the leftovers\n",
        "  if current_para:\n",
        "    para_summary_input.append(current_para)\n",
        "\n",
        "  if by == \"para\":\n",
        "    return para_summary_input\n",
        "\n",
        "  # split and get the first sentences\n",
        "  if by == \"sen\":\n",
        "    first_n_summary = \"\"\n",
        "    for para in para_summary_input:      \n",
        "      first_n_summary += para.split(\". \")[0] + \". \"\n",
        "    \n",
        "    return first_n_summary"
      ]
    },
    {
      "cell_type": "markdown",
      "metadata": {
        "id": "-sL0SMpHO0q-"
      },
      "source": [
        "(sort of\\) works for everything except for the statements in Jun, Jul and Sep"
      ]
    },
    {
      "cell_type": "code",
      "execution_count": null,
      "metadata": {
        "id": "rROGTvf3PH0M"
      },
      "outputs": [],
      "source": [
        "# by_para_mon202212 = clean_monetary_pdf(\"monetary20221214a1.pdf\", by=\"para\")\n",
        "# by_sen_mon202212 = clean_monetary_pdf(\"monetary20221214a1.pdf\", by=\"sen\")"
      ]
    },
    {
      "cell_type": "code",
      "source": [
        "by_para_mon202212 = ['Recent indicators point to modest growth in spending and production.  Job gains have been robust in recent months, and the unemployment rate has remained low.  Inflation remains elevated, reflecting supply and demand imbalances related to the pandemic, higher food and energy prices, and broader price pressures.', 'Russia’s war against Ukraine is causing tremendous human and economic hardship.  The war and related e vents are contributing to upward pressure on inflation and are weighing on global economic activity.  The Committee is highly attentive to inflation risks.', 'The Committee seeks to achieve maximum employment and inflation at the rate of 2 percent over the l onger run.  In support of these goals, the Committee decided to raise the target range for the federal funds rate to 4 -1/4 to 4- 1/2 percent.  The Committee anticipates that ongoing increases in the target range will be appropriate in order to attain a stan ce of monetary policy that is sufficiently restrictive to return inflation to 2 percent over time.  In determining the pace of future increases in the target range, the Committee will take into account the cumulative tightening of monetary policy, the lags  with which monetary policy affects economic activity and inflation, and economic and financial developments.  In addition, the Committee will continue reducing its holdings of Treasury securities and agency debt and agency mortgage -backed securities, as d escribed in the Plans for Reducing the Size of the Federal Reserve’s Balance Sheet that were issued in May.  The Committee is strongly committed to returning inflation to its 2 percent objective.', 'In assessing the appropriate stance of monetary policy, the Committee will continue to monitor the implications of incoming information for the economic outlook.  The Committee would be prepared to adjust the stance of monetary policy as appropriate if ris ks emerge that could impede the attainment of the Committee’s goals.  The Committee’s assessments will take into account a wide range of information, including readings on public health, labor market conditions, inflation pressures and inflation expectations, and financial and international developments.   ']\n",
        "by_sen_mon202212 = \"Recent indicators point to modest growth in spending and production. Russia’s war against Ukraine is causing tremendous human and economic hardship. The Committee seeks to achieve maximum employment and inflation at the rate of 2 percent over the l onger run. In assessing the appropriate stance of monetary policy, the Committee will continue to monitor the implications of incoming information for the economic outlook. \""
      ],
      "metadata": {
        "id": "WnzQmDjAAd3x"
      },
      "execution_count": null,
      "outputs": []
    },
    {
      "cell_type": "code",
      "execution_count": null,
      "metadata": {
        "id": "K0hL3dJRuYgy"
      },
      "outputs": [],
      "source": [
        "# by_para_mon202211 = clean_monetary_pdf(\"monetary20221102a1.pdf\", by=\"para\")\n",
        "# by_sen_mon202211 = clean_monetary_pdf(\"monetary20221102a1.pdf\", by=\"sen\")"
      ]
    },
    {
      "cell_type": "code",
      "source": [
        "by_para_mon202211 = ['Recent indicators point to modest growth in spending and production.  Job gains have been robust in recent months, and the unemployment rate has remained low.  Inflation remains elevated, reflecting supply and demand imbalances related to the pandemic, higher food and energy prices, and broader price pressures .', 'Russia’s war against Ukraine is causing tremendous human and economic hardship.  The war and related  events are creating additional upward pressure on inflation and are weighing on global economic activity.  The Committee is highly attentive to inflation risks.', 'The Committee seeks to achieve maximum employment and inflation at the rate of 2 percent ov er the longer run.  In support of these goals, the Committee decided to raise the target range for the federal funds rate to 3 -3/4 to 4 percent.  The Committee anticipates that ongoing increases in the target range will be appropriate in order to attain a stance of monetary policy that is sufficiently restrictive to return inflation to 2 percent over time .  In determining the pace of future increases in the target range, the Committee will take into account the cumulative tightening of monetary policy, the lags with which monetary policy affects economic activity and inflation, and economic and financial developments.  In addition, the Committee will continue reducing its holdings of Treasury securities and agency debt and agency mortgage -backed securities, as described in the Plans for Reducing the Size of the Federal Reserve’s Balance Sheet that were issued in May.  The Committee is strongly committed to returning inflation to its 2 percent objective.', ' In assessing the appropriate stance of monetary policy, the Committee will continue to monitor the implications of incoming information for the economic outlook.  The Committee would be prepared to adjust the stance of monetary policy as appropriate if ris ks emerge that could impede the attainment of the Committee’s goals.  The Committee’s assessments will take into account a wide range of information, including readings on public health, labor market conditions, inflation pressures and inflation expectations, and financial and international developments.   ']\n",
        "by_sen_mon202211 = \"Recent indicators point to modest growth in spending and production. Russia’s war against Ukraine is causing tremendous human and economic hardship. The Committee seeks to achieve maximum employment and inflation at the rate of 2 percent ov er the longer run.  In assessing the appropriate stance of monetary policy, the Committee will continue to monitor the implications of incoming information for the economic outlook. \""
      ],
      "metadata": {
        "id": "8DPNuKvGAgUC"
      },
      "execution_count": null,
      "outputs": []
    },
    {
      "cell_type": "code",
      "execution_count": null,
      "metadata": {
        "id": "63EftyXCaE6O"
      },
      "outputs": [],
      "source": [
        "# by_para_mon202205 = clean_monetary_pdf(\"monetary20220504a1.pdf\", by=\"para\")\n",
        "# by_sen_mon202205 = clean_monetary_pdf(\"monetary20220504a1.pdf\", by=\"sen\")"
      ]
    },
    {
      "cell_type": "code",
      "source": [
        "by_para_mon202205 = ['Although overall economic activity edged down in the first quarter, household spending and business fixed investment remained strong.  Job gains have been robust  in recent months, and the unemployment rate has declined substantially.  Inflation remains elevated, reflecting supply and demand imbalances related to the pandemic, higher energy prices, and broader price pressures.', 'The invasion of Ukraine by Russia is c ausing tremendous human and economic hardship.  The implications for the U.S. economy are highly uncertain.  The invasion and related events are creating  additional upward pressure on inflation and are likely to weigh on economic activity.  In addition, CO VID- related lockdowns in China are likely to exacerbate supply chain disruptions.  The Committee is highly attentive to inflation risks.', 'The Committee seeks to achieve maximum employment and inflation at the rate of 2 percent over the longer run.  With appropriate firming in the stance of monetary policy, the Committee expects inflation to return to its 2  percent objective and the labor market to remain strong.  In support of these goals, the Committee decided to raise the target range for the federal funds rate to 3/4 to 1 percent and anticipates that ongoing increases in the target range will be appropriate.  In addition, the Committee decided  to begin reducing its holdings of Treasury securities and agency debt and agency mortgage -backed securities on June 1, as described in the Plans for Reducing the Size of the Federal Reserve’s Balance Sheet that were issued in conjunction with this statement.', 'In assessing the appropriate stance of monetary policy, the Committee will continue to monitor the implications of incoming information for the economic', '  outlook.  The Committee would be prepared to adjust the stance of monetary policy as appropriate if risks emerge that could impede the attainment of the Committee’s goals.  The Committee’s assessments will take into account a wide range of information, including readings on public health, labor market conditions, inflation pressures and inflation expectations, and financial and international developments.  ']\n",
        "by_sen_mon202205 = \"Although overall economic activity edged down in the first quarter, household spending and business fixed investment remained strong. The invasion of Ukraine by Russia is causing tremendous human and economic hardship. The Committee seeks to achieve maximum employment and inflation at the rate of 2 percent over the longer run. In assessing the appropriate stance of monetary policy, the Committee will continue to monitor the implications of incoming information for the economic.   outlook. \""
      ],
      "metadata": {
        "id": "yTEc1eqZAkV1"
      },
      "execution_count": null,
      "outputs": []
    },
    {
      "cell_type": "code",
      "execution_count": null,
      "metadata": {
        "id": "QfkJCypNjd9v"
      },
      "outputs": [],
      "source": [
        "# by_para_mon202201 = clean_monetary_pdf(\"monetary20220126a1.pdf\", by=\"para\")\n",
        "# by_sen_mon202201 = clean_monetary_pdf(\"monetary20220126a1.pdf\", by=\"sen\")"
      ]
    },
    {
      "cell_type": "code",
      "source": [
        "by_para_mon202201 = ['Indicators of economic activity and employment have continued to strengthen. The sectors most adversely affected by the pandemic have improved in recent months but are being affected by the recent sharp rise in COVID-19 cases.  Job gains have been solid in recent months, and the unemployment rate has declined substantially.  Supply and demand imbalances related to the pandemic and the reopening of the economy have continued to contribute to elevated levels of inflation.  Overall financial conditions remain accommodative, in part reflecting policy measures to support the economy and the flow of credit to U.S. households and businesses.', 'The path of the economy continues to depend on the course of the virus.  Progress on vaccinations and an easing of supply cons traints are expected to support continued gains in economic activity and employment as well as a reduction in inflation.  Risks to the economic outlook remain, including from new va riants of the virus.', 'The Committee seeks to achieve maximum em ployment and inflation at the rate of 2 percent over the longer run.  In s upport of these goals, the Committee decided to keep the target range for the federal funds rate  at 0 to 1/4 percent.  With inflation well above 2 percent and a strong labor market , the Committee expects it will soon be appropriate to raise the target range for the federal funds rate.   The Committee decided to continue to redu ce the monthly pace of its net asset purchases, bringing them to an end in early March.  Beginning in February, the Committee will increase its holdings of Treasury securities by at least $20 billion per month and of agency mortgage ‑backed securities by at l east $10 billion per month.  The Federal Reserve’s ongoing purchases and  holdings of securities will continue to foster smooth market functioning and accommodative financial conditions, thereby supporting the flow of credit to households and businesses.', 'In assessing the appropriate stance of monetary policy, the Committee will continue to monitor the implications of  incoming information for the economic outlook.  The Committee would be prepared to  adjust the stance of monetary policy as appropriate if risks emer ge that could impede the at tainment of the Committee’s goals.  The Committee’s assessments will take into account a wide range of information, including readi ngs on public health, labor market conditions, inflation pressures and inflation expectations, and financial and international developments. ']\n",
        "by_sen_mon202201 = \"Indicators of economic activity and empl oyment have continued to strengthen. The sectors most adversely affected by th e pandemic have improved in recent months but are being affected by the recent sharp rise in COVID-19 cases. The path of the economy continues to depe nd on the course of the virus. The Committee seeks to achieve maximum em ployment and inflation at the rate of 2 percent over the longer run. In assessing the appropriate stance of monetary policy, the Committee will continue to monitor the implications of  incoming information for the economic outlook. \""
      ],
      "metadata": {
        "id": "Vi_JuP3nAnNd"
      },
      "execution_count": null,
      "outputs": []
    },
    {
      "cell_type": "code",
      "execution_count": null,
      "metadata": {
        "id": "3uTbL6PlFFLE"
      },
      "outputs": [],
      "source": [
        "by_para_mon = [by_para_mon202212, by_para_mon202211, by_para_mon202205, by_para_mon202201]\n",
        "by_sen_mon = [by_sen_mon202212, by_sen_mon202211, by_sen_mon202205, by_sen_mon202201]"
      ]
    },
    {
      "cell_type": "markdown",
      "metadata": {
        "id": "7Ck1w2OWWLpC"
      },
      "source": [
        "# code to extract our human-summarisation from the docx into the model"
      ]
    },
    {
      "cell_type": "code",
      "execution_count": null,
      "metadata": {
        "id": "XHxTmyWxTpJE"
      },
      "outputs": [],
      "source": [
        "def getText(filename):\n",
        "    doc = docx.Document(filename)\n",
        "    fullText = []\n",
        "    for para in doc.paragraphs:\n",
        "        fullText.append(para.text)\n",
        "    return ' '.join(fullText)"
      ]
    },
    {
      "cell_type": "code",
      "execution_count": null,
      "metadata": {
        "id": "cnL-8s1CWrHj"
      },
      "outputs": [],
      "source": [
        "  # given the way i write the for-loop later on, the order should stay like that\n",
        "\n",
        "human202212 = getText(\"refsum20221214.docx\")\n",
        "human202211 = getText(\"refsum20221102.docx\")\n",
        "human202205 = getText(\"refsum20220504.docx\")\n",
        "human202201 = getText(\"refsum20220126.docx\")\n",
        "tarasha202212 = getText(\"Summary 20221214a1.docx\")\n",
        "tarasha202211 = getText(\"Summary 20221102a1.docx\")\n",
        "tarasha202205 = getText(\"Summary 20220504a1.docx\")\n",
        "tarasha202201 = getText(\"Summary 20220126a1.docx\")\n",
        "arjun202212 = getText(\"monetary20220126a1_summary.docx\")\n",
        "arjun202211 = getText(\"monetary20221102a1_summary.docx\")\n",
        "arjun202205 = getText(\"monetary20220504a1_summary.docx\")\n",
        "arjun202201 = getText(\"monetary20220126a1_summary.docx\")\n",
        "\n",
        "by_human = [human202212, human202211, human202205, human202201]\n",
        "by_tarasha = [tarasha202212, tarasha202211, tarasha202205, tarasha202201]\n",
        "by_arjun = [arjun202212, arjun202211, arjun202205, arjun202201]"
      ]
    },
    {
      "cell_type": "markdown",
      "metadata": {
        "id": "XaacbasIMXds"
      },
      "source": [
        "# Getting GPT2 model (from PyPI) to evaluate text that is split by paragraph"
      ]
    },
    {
      "cell_type": "code",
      "source": [
        "!pip install bert-extractive-summarizer\n",
        "from summarizer import Summarizer,TransformerSummarizer"
      ],
      "metadata": {
        "id": "FDIh7GuYn9eU",
        "colab": {
          "base_uri": "https://localhost:8080/"
        },
        "outputId": "24d2cbd5-b42e-4f15-9618-b742d36b5e0f"
      },
      "execution_count": null,
      "outputs": [
        {
          "output_type": "stream",
          "name": "stdout",
          "text": [
            "Requirement already satisfied: bert-extractive-summarizer in ./opt/anaconda3/lib/python3.9/site-packages (0.10.1)\r\n",
            "Requirement already satisfied: scikit-learn in ./opt/anaconda3/lib/python3.9/site-packages (from bert-extractive-summarizer) (1.1.2)\r\n",
            "Requirement already satisfied: spacy in ./opt/anaconda3/lib/python3.9/site-packages (from bert-extractive-summarizer) (3.5.0)\r\n",
            "Requirement already satisfied: transformers in ./opt/anaconda3/lib/python3.9/site-packages (from bert-extractive-summarizer) (4.25.1)\n",
            "Requirement already satisfied: numpy>=1.17.3 in ./opt/anaconda3/lib/python3.9/site-packages (from scikit-learn->bert-extractive-summarizer) (1.21.5)\n",
            "Requirement already satisfied: scipy>=1.3.2 in ./opt/anaconda3/lib/python3.9/site-packages (from scikit-learn->bert-extractive-summarizer) (1.7.3)\n",
            "Requirement already satisfied: joblib>=1.0.0 in ./opt/anaconda3/lib/python3.9/site-packages (from scikit-learn->bert-extractive-summarizer) (1.1.1)\n",
            "Requirement already satisfied: threadpoolctl>=2.0.0 in ./opt/anaconda3/lib/python3.9/site-packages (from scikit-learn->bert-extractive-summarizer) (2.2.0)\n",
            "Requirement already satisfied: pydantic!=1.8,!=1.8.1,<1.11.0,>=1.7.4 in ./opt/anaconda3/lib/python3.9/site-packages (from spacy->bert-extractive-summarizer) (1.10.6)\n",
            "Requirement already satisfied: requests<3.0.0,>=2.13.0 in ./opt/anaconda3/lib/python3.9/site-packages (from spacy->bert-extractive-summarizer) (2.28.1)\n",
            "Requirement already satisfied: preshed<3.1.0,>=3.0.2 in ./opt/anaconda3/lib/python3.9/site-packages (from spacy->bert-extractive-summarizer) (3.0.8)\n",
            "Requirement already satisfied: packaging>=20.0 in ./opt/anaconda3/lib/python3.9/site-packages (from spacy->bert-extractive-summarizer) (22.0)\n",
            "Requirement already satisfied: srsly<3.0.0,>=2.4.3 in ./opt/anaconda3/lib/python3.9/site-packages (from spacy->bert-extractive-summarizer) (2.4.6)\n",
            "Requirement already satisfied: spacy-loggers<2.0.0,>=1.0.0 in ./opt/anaconda3/lib/python3.9/site-packages (from spacy->bert-extractive-summarizer) (1.0.4)\n",
            "Requirement already satisfied: wasabi<1.2.0,>=0.9.1 in ./opt/anaconda3/lib/python3.9/site-packages (from spacy->bert-extractive-summarizer) (1.1.1)\n",
            "Requirement already satisfied: thinc<8.2.0,>=8.1.0 in ./opt/anaconda3/lib/python3.9/site-packages (from spacy->bert-extractive-summarizer) (8.1.9)\n",
            "Requirement already satisfied: pathy>=0.10.0 in ./opt/anaconda3/lib/python3.9/site-packages (from spacy->bert-extractive-summarizer) (0.10.1)\n",
            "Requirement already satisfied: spacy-legacy<3.1.0,>=3.0.11 in ./opt/anaconda3/lib/python3.9/site-packages (from spacy->bert-extractive-summarizer) (3.0.12)\n",
            "Requirement already satisfied: smart-open<7.0.0,>=5.2.1 in ./opt/anaconda3/lib/python3.9/site-packages (from spacy->bert-extractive-summarizer) (5.2.1)\n",
            "Requirement already satisfied: cymem<2.1.0,>=2.0.2 in ./opt/anaconda3/lib/python3.9/site-packages (from spacy->bert-extractive-summarizer) (2.0.7)\n",
            "Requirement already satisfied: catalogue<2.1.0,>=2.0.6 in ./opt/anaconda3/lib/python3.9/site-packages (from spacy->bert-extractive-summarizer) (2.0.8)\n",
            "Requirement already satisfied: setuptools in ./opt/anaconda3/lib/python3.9/site-packages (from spacy->bert-extractive-summarizer) (65.6.3)\n",
            "Requirement already satisfied: langcodes<4.0.0,>=3.2.0 in ./opt/anaconda3/lib/python3.9/site-packages (from spacy->bert-extractive-summarizer) (3.3.0)\n",
            "Requirement already satisfied: murmurhash<1.1.0,>=0.28.0 in ./opt/anaconda3/lib/python3.9/site-packages (from spacy->bert-extractive-summarizer) (1.0.9)\n",
            "Requirement already satisfied: jinja2 in ./opt/anaconda3/lib/python3.9/site-packages (from spacy->bert-extractive-summarizer) (2.11.3)\n",
            "Requirement already satisfied: tqdm<5.0.0,>=4.38.0 in ./opt/anaconda3/lib/python3.9/site-packages (from spacy->bert-extractive-summarizer) (4.64.1)\n",
            "Requirement already satisfied: typer<0.8.0,>=0.3.0 in ./opt/anaconda3/lib/python3.9/site-packages (from spacy->bert-extractive-summarizer) (0.7.0)\n",
            "Requirement already satisfied: tokenizers!=0.11.3,<0.14,>=0.11.1 in ./opt/anaconda3/lib/python3.9/site-packages (from transformers->bert-extractive-summarizer) (0.13.2)\n",
            "Requirement already satisfied: filelock in ./opt/anaconda3/lib/python3.9/site-packages (from transformers->bert-extractive-summarizer) (3.9.0)\n",
            "Requirement already satisfied: pyyaml>=5.1 in ./opt/anaconda3/lib/python3.9/site-packages (from transformers->bert-extractive-summarizer) (6.0)\n",
            "Requirement already satisfied: huggingface-hub<1.0,>=0.10.0 in ./opt/anaconda3/lib/python3.9/site-packages (from transformers->bert-extractive-summarizer) (0.11.1)\n",
            "Requirement already satisfied: regex!=2019.12.17 in ./opt/anaconda3/lib/python3.9/site-packages (from transformers->bert-extractive-summarizer) (2022.7.9)\n",
            "Requirement already satisfied: typing-extensions>=3.7.4.3 in ./opt/anaconda3/lib/python3.9/site-packages (from huggingface-hub<1.0,>=0.10.0->transformers->bert-extractive-summarizer) (4.4.0)\n",
            "Requirement already satisfied: charset-normalizer<3,>=2 in ./opt/anaconda3/lib/python3.9/site-packages (from requests<3.0.0,>=2.13.0->spacy->bert-extractive-summarizer) (2.0.4)\n",
            "Requirement already satisfied: urllib3<1.27,>=1.21.1 in ./opt/anaconda3/lib/python3.9/site-packages (from requests<3.0.0,>=2.13.0->spacy->bert-extractive-summarizer) (1.26.14)\n",
            "Requirement already satisfied: idna<4,>=2.5 in ./opt/anaconda3/lib/python3.9/site-packages (from requests<3.0.0,>=2.13.0->spacy->bert-extractive-summarizer) (3.4)\n",
            "Requirement already satisfied: certifi>=2017.4.17 in ./opt/anaconda3/lib/python3.9/site-packages (from requests<3.0.0,>=2.13.0->spacy->bert-extractive-summarizer) (2022.12.7)\n",
            "Requirement already satisfied: blis<0.8.0,>=0.7.8 in ./opt/anaconda3/lib/python3.9/site-packages (from thinc<8.2.0,>=8.1.0->spacy->bert-extractive-summarizer) (0.7.9)\n",
            "Requirement already satisfied: confection<1.0.0,>=0.0.1 in ./opt/anaconda3/lib/python3.9/site-packages (from thinc<8.2.0,>=8.1.0->spacy->bert-extractive-summarizer) (0.0.4)\n",
            "Requirement already satisfied: click<9.0.0,>=7.1.1 in ./opt/anaconda3/lib/python3.9/site-packages (from typer<0.8.0,>=0.3.0->spacy->bert-extractive-summarizer) (8.0.4)\n",
            "Requirement already satisfied: MarkupSafe>=0.23 in ./opt/anaconda3/lib/python3.9/site-packages (from jinja2->spacy->bert-extractive-summarizer) (2.0.1)\n"
          ]
        }
      ]
    },
    {
      "cell_type": "code",
      "source": [
        "GPT2_model = TransformerSummarizer(transformer_type=\"GPT2\",transformer_model_key=\"gpt2-medium\")"
      ],
      "metadata": {
        "id": "xsfsO0JcoRXY"
      },
      "execution_count": null,
      "outputs": []
    },
    {
      "cell_type": "code",
      "source": [
        "print(GPT2_model.model)"
      ],
      "metadata": {
        "id": "ZNVLy_JMGn_e",
        "colab": {
          "base_uri": "https://localhost:8080/"
        },
        "outputId": "e59f7242-a32b-4147-8a8b-7e3b587f4135"
      },
      "execution_count": null,
      "outputs": [
        {
          "output_type": "stream",
          "name": "stdout",
          "text": [
            "functools.partial(<summarizer.transformer_embeddings.bert_embedding.BertEmbedding object at 0x7fd83219d670>, hidden=-2, reduce_option='mean', hidden_concat=False)\n"
          ]
        }
      ]
    },
    {
      "cell_type": "code",
      "source": [
        "import locale\n",
        "def getpreferredencoding(do_setlocale = True):\n",
        "    return \"UTF-8\"\n",
        "locale.getpreferredencoding = getpreferredencoding"
      ],
      "metadata": {
        "id": "kmxBg_L0Ts65"
      },
      "execution_count": null,
      "outputs": []
    },
    {
      "cell_type": "code",
      "source": [
        "!pip install rouge\n",
        "from rouge import Rouge\n",
        "rouge = Rouge()\n",
        "\n",
        "def calc_rouge_scores(model_summary, reference_summary):\n",
        "    return rouge.get_scores(model_summary, reference_summary)"
      ],
      "metadata": {
        "id": "wmXm7J4lS2Jg",
        "colab": {
          "base_uri": "https://localhost:8080/"
        },
        "outputId": "b51ab89d-5648-4a8c-af21-e15c1c747a0e"
      },
      "execution_count": null,
      "outputs": [
        {
          "output_type": "stream",
          "name": "stdout",
          "text": [
            "huggingface/tokenizers: The current process just got forked, after parallelism has already been used. Disabling parallelism to avoid deadlocks...\n",
            "To disable this warning, you can either:\n",
            "\t- Avoid using `tokenizers` before the fork if possible\n",
            "\t- Explicitly set the environment variable TOKENIZERS_PARALLELISM=(true | false)\n",
            "Requirement already satisfied: rouge in ./opt/anaconda3/lib/python3.9/site-packages (1.0.1)\n",
            "Requirement already satisfied: six in ./opt/anaconda3/lib/python3.9/site-packages (from rouge) (1.12.0)\n"
          ]
        }
      ]
    },
    {
      "cell_type": "code",
      "source": [
        "from nltk.corpus import stopwords\n",
        "from nltk import download\n",
        "\n",
        "download('stopwords')\n",
        "stop_words = stopwords.words('english')\n",
        "\n",
        "def preprocess(sentence):\n",
        "  a = []\n",
        "  for sen in sentence:\n",
        "    for word in sen.split(\" \"):\n",
        "      if word.lower() not in stop_words:\n",
        "        a.append(word.lower())\n",
        "  return a\n",
        "\n",
        "def preprocess2(sentence):\n",
        "  return [w for w in sentence.lower().split() if w not in stop_words]\n",
        "\n",
        "def preprocess_to_str(sentence):\n",
        "  sentence = sentence.lower().split()\n",
        "  result = \"\"\n",
        "  for i in sentence:\n",
        "    if i not in stop_words:\n",
        "      result += (i + \" \")\n",
        "  return result"
      ],
      "metadata": {
        "id": "IaROSnWmUOf4",
        "colab": {
          "base_uri": "https://localhost:8080/"
        },
        "outputId": "456105a6-e7b8-42fd-cbab-a031498af2da"
      },
      "execution_count": null,
      "outputs": [
        {
          "output_type": "stream",
          "name": "stderr",
          "text": [
            "[nltk_data] Downloading package stopwords to /Users/yj/nltk_data...\n",
            "[nltk_data]   Package stopwords is already up-to-date!\n"
          ]
        }
      ]
    },
    {
      "cell_type": "code",
      "execution_count": null,
      "metadata": {
        "id": "52CKjuCJQpyY",
        "colab": {
          "base_uri": "https://localhost:8080/"
        },
        "outputId": "c59ac31f-14cb-4d87-c286-b449f073abd9"
      },
      "outputs": [
        {
          "output_type": "stream",
          "name": "stdout",
          "text": [
            "Recent indicators point to modest growth in spending and production. Job gains have been robust in recent months, and the unemployment rate has remained low. Russia’s war against Ukraine is causing tremendous human and economic hardship. The war and related e vents are contributing to upward pressure on inflation and are weighing on global economic activity. The Committee seeks to achieve maximum employment and inflation at the rate of 2 percent over the l onger run. The Committee anticipates that ongoing increases in the target range will be appropriate in order to attain a stan ce of monetary policy that is sufficiently restrictive to return inflation to 2 percent over time. In assessing the appropriate stance of monetary policy, the Committee will continue to monitor the implications of incoming information for the economic outlook. The Committee’s assessments will take into account a wide range of information, including readings on public health, labor market conditions, inflation pressures and inflation expectations, and financial and international developments.\n",
            "Recent indicators point to modest growth in spending and production. Job gains have been robust in recent months, and the unemployment rate has remained low. Russia’s war against Ukraine is causing tremendous human and economic hardship. The Committee is highly attentive to inflation risks. The Committee seeks to achieve maximum employment and inflation at the rate of 2 percent ov er the longer run. The Committee anticipates that ongoing increases in the target range will be appropriate in order to attain a stance of monetary policy that is sufficiently restrictive to return inflation to 2 percent over time . In assessing the appropriate stance of monetary policy, the Committee will continue to monitor the implications of incoming information for the economic outlook. The Committee’s assessments will take into account a wide range of information, including readings on public health, labor market conditions, inflation pressures and inflation expectations, and financial and international developments.\n",
            "Although overall economic activity edged down in the first quarter, household spending and business fixed investment remained strong. Job gains have been robust  in recent months, and the unemployment rate has declined substantially. The invasion of Ukraine by Russia is c ausing tremendous human and economic hardship. In addition, CO VID- related lockdowns in China are likely to exacerbate supply chain disruptions. The Committee seeks to achieve maximum employment and inflation at the rate of 2 percent over the longer run. In support of these goals, the Committee decided to raise the target range for the federal funds rate to 3/4 to 1 percent and anticipates that ongoing increases in the target range will be appropriate. In assessing the appropriate stance of monetary policy, the Committee will continue to monitor the implications of incoming information for the economic The Committee would be prepared to adjust the stance of monetary policy as appropriate if risks emerge that could impede the attainment of the Committee’s goals. The Committee’s assessments will take into account a wide range of information, including readings on public health, labor market conditions, inflation pressures and inflation expectations, and financial and international developments.\n",
            "Indicators of economic activity and employment have continued to strengthen. Supply and demand imbalances related to the pandemic and the reopening of the economy have continued to contribute to elevated levels of inflation. The path of the economy continues to depend on the course of the virus. Risks to the economic outlook remain, including from new va riants of the virus. The Committee seeks to achieve maximum em ployment and inflation at the rate of 2 percent over the longer run. In s upport of these goals, the Committee decided to keep the target range for the federal funds rate  at 0 to 1/4 percent. In assessing the appropriate stance of monetary policy, the Committee will continue to monitor the implications of  incoming information for the economic outlook. The Committee would be prepared to  adjust the stance of monetary policy as appropriate if risks emer ge that could impede the at tainment of the Committee’s goals.\n",
            "{'rouge-1': {'r': 0.5025667886493642, 'p': 0.2497163277335691, 'f': 0.3315555643206765}, 'rouge-2': {'r': 0.2695713274620649, 'p': 0.13046999061521766, 'f': 0.1743448686494261}, 'rouge-l': {'r': 0.49598784128094325, 'p': 0.24684276451517834, 'f': 0.32755556432067656}}\n"
          ]
        }
      ],
      "source": [
        "# avg score from 1st summaries\n",
        "rouge1r, rouge1p, rouge1f = 0, 0, 0\n",
        "rouge2r, rouge2p, rouge2f = 0, 0, 0\n",
        "rougelr, rougelp, rougelf = 0, 0, 0\n",
        "avg_gpt2_by_human_rouge = {}\n",
        "gpt2_generated_summaries = []\n",
        "N = len(by_human)\n",
        "\n",
        "for i in range(N):  # looping through every text(splitted by paragraph) in the list \n",
        "  gpt2_candidate = []\n",
        "  for para in by_para_mon[i]: # looping through every paragraph within that text\n",
        "    gpt2_candidate.append(GPT2_model(para, min_length=50))\n",
        "  gpt2_cand = ' '.join(gpt2_candidate)\n",
        "  gpt2_generated_summaries.append(gpt2_cand)\n",
        "  print(gpt2_cand)\n",
        "\n",
        "  result = calc_rouge_scores(preprocess_to_str(gpt2_cand), preprocess_to_str(by_human[i]))\n",
        "  rouge1r += result[0]['rouge-1']['r']\n",
        "  rouge1p += result[0]['rouge-1']['p']\n",
        "  rouge1f += result[0]['rouge-1']['f']\n",
        "\n",
        "  rouge2r += result[0]['rouge-2']['r']\n",
        "  rouge2p += result[0]['rouge-2']['p']\n",
        "  rouge2f += result[0]['rouge-2']['f']\n",
        "\n",
        "  rougelr += result[0]['rouge-l']['r']\n",
        "  rougelp += result[0]['rouge-l']['p']\n",
        "  rougelf += result[0]['rouge-l']['f']\n",
        "\n",
        "avg_gpt2_by_human_rouge = {'rouge-1':{'r': rouge1r/N, 'p': rouge1p/N, 'f': rouge1f/N}, 'rouge-2':{'r': rouge2r/N, 'p': rouge2p/N, 'f': rouge2f/N}, 'rouge-l':{'r': rougelr/N, 'p': rougelp/N, 'f': rougelf/N}}\n",
        "print(avg_gpt2_by_human_rouge)"
      ]
    },
    {
      "cell_type": "code",
      "execution_count": null,
      "metadata": {
        "id": "GhqYr3klRJ_S",
        "colab": {
          "base_uri": "https://localhost:8080/"
        },
        "outputId": "8c0b4017-c114-4dc9-98d5-7baa67de548e"
      },
      "outputs": [
        {
          "output_type": "stream",
          "name": "stdout",
          "text": [
            "Recent indicators point to modest growth in spending and production. Job gains have been robust in recent months, and the unemployment rate has remained low. Russia’s war against Ukraine is causing tremendous human and economic hardship. The war and related e vents are contributing to upward pressure on inflation and are weighing on global economic activity. The Committee seeks to achieve maximum employment and inflation at the rate of 2 percent over the l onger run. The Committee anticipates that ongoing increases in the target range will be appropriate in order to attain a stan ce of monetary policy that is sufficiently restrictive to return inflation to 2 percent over time. In assessing the appropriate stance of monetary policy, the Committee will continue to monitor the implications of incoming information for the economic outlook. The Committee’s assessments will take into account a wide range of information, including readings on public health, labor market conditions, inflation pressures and inflation expectations, and financial and international developments.\n",
            "Recent indicators point to modest growth in spending and production. Job gains have been robust in recent months, and the unemployment rate has remained low. Russia’s war against Ukraine is causing tremendous human and economic hardship. The Committee is highly attentive to inflation risks. The Committee seeks to achieve maximum employment and inflation at the rate of 2 percent ov er the longer run. The Committee anticipates that ongoing increases in the target range will be appropriate in order to attain a stance of monetary policy that is sufficiently restrictive to return inflation to 2 percent over time . In assessing the appropriate stance of monetary policy, the Committee will continue to monitor the implications of incoming information for the economic outlook. The Committee’s assessments will take into account a wide range of information, including readings on public health, labor market conditions, inflation pressures and inflation expectations, and financial and international developments.\n",
            "Although overall economic activity edged down in the first quarter, household spending and business fixed investment remained strong. Job gains have been robust  in recent months, and the unemployment rate has declined substantially. The invasion of Ukraine by Russia is c ausing tremendous human and economic hardship. In addition, CO VID- related lockdowns in China are likely to exacerbate supply chain disruptions. The Committee seeks to achieve maximum employment and inflation at the rate of 2 percent over the longer run. In support of these goals, the Committee decided to raise the target range for the federal funds rate to 3/4 to 1 percent and anticipates that ongoing increases in the target range will be appropriate. In assessing the appropriate stance of monetary policy, the Committee will continue to monitor the implications of incoming information for the economic The Committee would be prepared to adjust the stance of monetary policy as appropriate if risks emerge that could impede the attainment of the Committee’s goals. The Committee’s assessments will take into account a wide range of information, including readings on public health, labor market conditions, inflation pressures and inflation expectations, and financial and international developments.\n",
            "Indicators of economic activity and employment have continued to strengthen. Supply and demand imbalances related to the pandemic and the reopening of the economy have continued to contribute to elevated levels of inflation. The path of the economy continues to depend on the course of the virus. Risks to the economic outlook remain, including from new va riants of the virus. The Committee seeks to achieve maximum em ployment and inflation at the rate of 2 percent over the longer run. In s upport of these goals, the Committee decided to keep the target range for the federal funds rate  at 0 to 1/4 percent. In assessing the appropriate stance of monetary policy, the Committee will continue to monitor the implications of  incoming information for the economic outlook. The Committee would be prepared to  adjust the stance of monetary policy as appropriate if risks emer ge that could impede the at tainment of the Committee’s goals.\n",
            "{'rouge-1': {'r': 0.5441011574444685, 'p': 0.3222084070144415, 'f': 0.37647599637094575}, 'rouge-2': {'r': 0.31748219184978227, 'p': 0.1641730790048373, 'f': 0.19973117048697014}, 'rouge-l': {'r': 0.5391506623949636, 'p': 0.31526396256999706, 'f': 0.37069564955013656}}\n"
          ]
        }
      ],
      "source": [
        "# avg score from 2nd summaries\n",
        "rouge1r, rouge1p, rouge1f = 0, 0, 0\n",
        "rouge2r, rouge2p, rouge2f = 0, 0, 0\n",
        "rougelr, rougelp, rougelf = 0, 0, 0\n",
        "avg_gpt2_by_tarasha_rouge = {}\n",
        "\n",
        "N = len(by_tarasha)\n",
        "\n",
        "for i in range(N):  # looping through every text(splitted by paragraph) in the list \n",
        "  gpt2_candidate = []\n",
        "  for para in by_para_mon[i]: # looping through every paragraph within that text\n",
        "    gpt2_candidate.append(GPT2_model(para, min_length=50))\n",
        "  gpt2_cand = ' '.join(gpt2_candidate)\n",
        "  print(gpt2_cand)\n",
        "    \n",
        "  result = calc_rouge_scores(preprocess_to_str(gpt2_cand), preprocess_to_str(by_tarasha[i]))\n",
        "  rouge1r += result[0]['rouge-1']['r']\n",
        "  rouge1p += result[0]['rouge-1']['p']\n",
        "  rouge1f += result[0]['rouge-1']['f']\n",
        "\n",
        "  rouge2r += result[0]['rouge-2']['r']\n",
        "  rouge2p += result[0]['rouge-2']['p']\n",
        "  rouge2f += result[0]['rouge-2']['f']\n",
        "\n",
        "  rougelr += result[0]['rouge-l']['r']\n",
        "  rougelp += result[0]['rouge-l']['p']\n",
        "  rougelf += result[0]['rouge-l']['f']\n",
        "\n",
        "avg_gpt2_by_tarasha_rouge = {'rouge-1':{'r': rouge1r/N, 'p': rouge1p/N, 'f': rouge1f/N}, 'rouge-2':{'r': rouge2r/N, 'p': rouge2p/N, 'f': rouge2f/N}, 'rouge-l':{'r': rougelr/N, 'p': rougelp/N, 'f': rougelf/N}}\n",
        "print(avg_gpt2_by_tarasha_rouge)"
      ]
    },
    {
      "cell_type": "code",
      "execution_count": null,
      "metadata": {
        "id": "0bGx9fVmRKGz",
        "colab": {
          "base_uri": "https://localhost:8080/"
        },
        "outputId": "192b9cf7-fb10-49ad-b822-ace9af4b2f82"
      },
      "outputs": [
        {
          "output_type": "stream",
          "name": "stdout",
          "text": [
            "Recent indicators point to modest growth in spending and production. Job gains have been robust in recent months, and the unemployment rate has remained low. Russia’s war against Ukraine is causing tremendous human and economic hardship. The war and related e vents are contributing to upward pressure on inflation and are weighing on global economic activity. The Committee seeks to achieve maximum employment and inflation at the rate of 2 percent over the l onger run. The Committee anticipates that ongoing increases in the target range will be appropriate in order to attain a stan ce of monetary policy that is sufficiently restrictive to return inflation to 2 percent over time. In assessing the appropriate stance of monetary policy, the Committee will continue to monitor the implications of incoming information for the economic outlook. The Committee’s assessments will take into account a wide range of information, including readings on public health, labor market conditions, inflation pressures and inflation expectations, and financial and international developments.\n",
            "Recent indicators point to modest growth in spending and production. Job gains have been robust in recent months, and the unemployment rate has remained low. Russia’s war against Ukraine is causing tremendous human and economic hardship. The Committee is highly attentive to inflation risks. The Committee seeks to achieve maximum employment and inflation at the rate of 2 percent ov er the longer run. The Committee anticipates that ongoing increases in the target range will be appropriate in order to attain a stance of monetary policy that is sufficiently restrictive to return inflation to 2 percent over time . In assessing the appropriate stance of monetary policy, the Committee will continue to monitor the implications of incoming information for the economic outlook. The Committee’s assessments will take into account a wide range of information, including readings on public health, labor market conditions, inflation pressures and inflation expectations, and financial and international developments.\n",
            "Although overall economic activity edged down in the first quarter, household spending and business fixed investment remained strong. Job gains have been robust  in recent months, and the unemployment rate has declined substantially. The invasion of Ukraine by Russia is c ausing tremendous human and economic hardship. In addition, CO VID- related lockdowns in China are likely to exacerbate supply chain disruptions. The Committee seeks to achieve maximum employment and inflation at the rate of 2 percent over the longer run. In support of these goals, the Committee decided to raise the target range for the federal funds rate to 3/4 to 1 percent and anticipates that ongoing increases in the target range will be appropriate. In assessing the appropriate stance of monetary policy, the Committee will continue to monitor the implications of incoming information for the economic The Committee would be prepared to adjust the stance of monetary policy as appropriate if risks emerge that could impede the attainment of the Committee’s goals. The Committee’s assessments will take into account a wide range of information, including readings on public health, labor market conditions, inflation pressures and inflation expectations, and financial and international developments.\n",
            "Indicators of economic activity and employment have continued to strengthen. Supply and demand imbalances related to the pandemic and the reopening of the economy have continued to contribute to elevated levels of inflation. The path of the economy continues to depend on the course of the virus. Risks to the economic outlook remain, including from new va riants of the virus. The Committee seeks to achieve maximum em ployment and inflation at the rate of 2 percent over the longer run. In s upport of these goals, the Committee decided to keep the target range for the federal funds rate  at 0 to 1/4 percent. In assessing the appropriate stance of monetary policy, the Committee will continue to monitor the implications of  incoming information for the economic outlook. The Committee would be prepared to  adjust the stance of monetary policy as appropriate if risks emer ge that could impede the at tainment of the Committee’s goals.\n",
            "{'rouge-1': {'r': 0.3131197559115179, 'p': 0.2524158193339228, 'f': 0.2772514938592605}, 'rouge-2': {'r': 0.11727755630009755, 'p': 0.08385173296402561, 'f': 0.0971997413803084}, 'rouge-l': {'r': 0.2920480549199085, 'p': 0.23441368258178605, 'f': 0.2580029808857213}}\n"
          ]
        }
      ],
      "source": [
        "# avg score from 3rd summaries\n",
        "rouge1r, rouge1p, rouge1f = 0, 0, 0\n",
        "rouge2r, rouge2p, rouge2f = 0, 0, 0\n",
        "rougelr, rougelp, rougelf = 0, 0, 0\n",
        "avg_gpt2_by_arjun_rouge = {}\n",
        "\n",
        "N = len(by_arjun)\n",
        "\n",
        "for i in range(N):  # looping through every text(splitted by paragraph) in the list \n",
        "  gpt2_candidate = []\n",
        "  for para in by_para_mon[i]: # looping through every paragraph within that text\n",
        "    gpt2_candidate.append(GPT2_model(para, min_length=50))\n",
        "  gpt2_cand = ' '.join(gpt2_candidate)\n",
        "  print(gpt2_cand)\n",
        "    \n",
        "  result = calc_rouge_scores(preprocess_to_str(gpt2_cand), preprocess_to_str(by_arjun[i]))\n",
        "  rouge1r += result[0]['rouge-1']['r']\n",
        "  rouge1p += result[0]['rouge-1']['p']\n",
        "  rouge1f += result[0]['rouge-1']['f']\n",
        "\n",
        "  rouge2r += result[0]['rouge-2']['r']\n",
        "  rouge2p += result[0]['rouge-2']['p']\n",
        "  rouge2f += result[0]['rouge-2']['f']\n",
        "\n",
        "  rougelr += result[0]['rouge-l']['r']\n",
        "  rougelp += result[0]['rouge-l']['p']\n",
        "  rougelf += result[0]['rouge-l']['f']\n",
        "\n",
        "avg_gpt2_by_arjun_rouge = {'rouge-1':{'r': rouge1r/N, 'p': rouge1p/N, 'f': rouge1f/N}, 'rouge-2':{'r': rouge2r/N, 'p': rouge2p/N, 'f': rouge2f/N}, 'rouge-l':{'r': rougelr/N, 'p': rougelp/N, 'f': rougelf/N}}\n",
        "print(avg_gpt2_by_arjun_rouge)"
      ]
    },
    {
      "cell_type": "code",
      "source": [
        "# function to get the combined avg of all 3 results\n",
        "\n",
        "def avg_rouge_results(all_results):\n",
        "  N = len(all_results)\n",
        "  ans = {'rouge-1':{'r': 0, 'p': 0, 'f': 0}, 'rouge-2':{'r': 0, 'p': 0, 'f': 0}, 'rouge-l':{'r': 0, 'p': 0, 'f': 0}}\n",
        "\n",
        "  # to get the sum of the score\n",
        "  for i in range(len(all_results)):\n",
        "    for k, (r, p, f) in all_results[i].items():\n",
        "      ans[k][r] += all_results[i][k][r]\n",
        "      ans[k][p] += all_results[i][k][p]\n",
        "      ans[k][f] += all_results[i][k][f]\n",
        "  \n",
        "  # to get the avg score\n",
        "  for k, (r, p, f) in ans.items():\n",
        "    ans[k][r] /= N\n",
        "    ans[k][p] /= N\n",
        "    ans[k][f] /= N\n",
        "  return ans"
      ],
      "metadata": {
        "id": "em_OhTYdU0yH"
      },
      "execution_count": null,
      "outputs": []
    },
    {
      "cell_type": "code",
      "execution_count": null,
      "metadata": {
        "id": "lcQS_Q8NiMbk",
        "colab": {
          "base_uri": "https://localhost:8080/"
        },
        "outputId": "c26c88f3-5f4b-4bf9-bebc-64bbc8486198"
      },
      "outputs": [
        {
          "output_type": "stream",
          "name": "stdout",
          "text": [
            "*** Average ROUGE scores ***\n",
            "{'rouge-1': {'r': 0.45326256733511694, 'p': 0.27478018469397775, 'f': 0.3284276848502943}, 'rouge-2': {'r': 0.23477702520398155, 'p': 0.12616493419469352, 'f': 0.15709192683890155}, 'rouge-l': {'r': 0.44239551953193845, 'p': 0.2655068032223205, 'f': 0.31875139825217813}}\n"
          ]
        }
      ],
      "source": [
        "# ## Combined avg of all 3 summaries\n",
        "all_gpt2_rouge = [avg_gpt2_by_human_rouge, avg_gpt2_by_tarasha_rouge, avg_gpt2_by_arjun_rouge]\n",
        "print(\"*** Average ROUGE scores ***\")\n",
        "print(avg_rouge_results(all_gpt2_rouge))"
      ]
    },
    {
      "cell_type": "markdown",
      "source": [
        "## Based on WMD"
      ],
      "metadata": {
        "id": "YSOzgLi9A8yj"
      }
    },
    {
      "cell_type": "code",
      "source": [
        "import gensim.downloader as api\n",
        "wmdmodel = api.load('word2vec-google-news-300')\n",
        "!pip install pyemd"
      ],
      "metadata": {
        "id": "Nqyq2n4bJZhi",
        "colab": {
          "base_uri": "https://localhost:8080/"
        },
        "outputId": "6bed687d-fe9c-46c1-f8d1-164a272c5ca2"
      },
      "execution_count": null,
      "outputs": [
        {
          "output_type": "stream",
          "name": "stdout",
          "text": [
            "huggingface/tokenizers: The current process just got forked, after parallelism has already been used. Disabling parallelism to avoid deadlocks...\n",
            "To disable this warning, you can either:\n",
            "\t- Avoid using `tokenizers` before the fork if possible\n",
            "\t- Explicitly set the environment variable TOKENIZERS_PARALLELISM=(true | false)\n",
            "Requirement already satisfied: pyemd in ./opt/anaconda3/lib/python3.9/site-packages (1.0.0)\n",
            "Requirement already satisfied: numpy>=1.9.0 in ./opt/anaconda3/lib/python3.9/site-packages (from pyemd) (1.21.5)\n"
          ]
        }
      ]
    },
    {
      "cell_type": "code",
      "source": [
        "avg_dist = 0\n",
        "\n",
        "for i in range(N):\n",
        "  reference_summary1 = preprocess2(by_human[i])\n",
        "  reference_summary2 = preprocess2(by_tarasha[i])\n",
        "  reference_summary3 = preprocess2(by_arjun[i])\n",
        "  model_summary = preprocess2(gpt2_generated_summaries[i])\n",
        "  print(f\"*** WMD for the {i+1}th summary ***\")\n",
        "  distance1 = wmdmodel.wmdistance(model_summary, reference_summary1)\n",
        "  print('distance = %.4f' % distance1)\n",
        "  distance2 = wmdmodel.wmdistance(model_summary, reference_summary2)\n",
        "  print('distance = %.4f' % distance2)\n",
        "  distance3 = wmdmodel.wmdistance(model_summary, reference_summary3)\n",
        "  print('distance = %.4f' % distance3)\n",
        "  dist = (distance1 + distance2 + distance3) / 3\n",
        "  avg_dist += dist\n",
        "  print('average distance = %.4f' % dist + \"\\n\")\n",
        "print(\"*** Average WMD from all 4 summaries *** \")\n",
        "print(avg_dist/4)"
      ],
      "metadata": {
        "id": "Ltoa_s-YM0Wi",
        "colab": {
          "base_uri": "https://localhost:8080/"
        },
        "outputId": "6de0d2d6-1018-43b3-cbab-f083c88c48eb"
      },
      "execution_count": null,
      "outputs": [
        {
          "output_type": "stream",
          "name": "stdout",
          "text": [
            "*** WMD for the 1th summary ***\n",
            "distance = 0.8960\n",
            "distance = 0.8232\n",
            "distance = 1.0143\n",
            "average distance = 0.9111\n",
            "\n",
            "*** WMD for the 2th summary ***\n",
            "distance = 0.7297\n",
            "distance = 0.7497\n",
            "distance = 0.8776\n",
            "average distance = 0.7856\n",
            "\n",
            "*** WMD for the 3th summary ***\n",
            "distance = 0.7626\n",
            "distance = 0.8860\n",
            "distance = 0.6460\n",
            "average distance = 0.7649\n",
            "\n",
            "*** WMD for the 4th summary ***\n",
            "distance = 0.8746\n",
            "distance = 0.6750\n",
            "distance = 0.9377\n",
            "average distance = 0.8291\n",
            "\n",
            "*** Average WMD from all 4 summaries *** \n",
            "0.8226913831081987\n"
          ]
        }
      ]
    },
    {
      "cell_type": "code",
      "source": [
        "print(reference_summary1)\n",
        "print(reference_summary2)\n",
        "print(reference_summary3)\n",
        "print(model_summary)"
      ],
      "metadata": {
        "colab": {
          "base_uri": "https://localhost:8080/"
        },
        "id": "rqm1a7VZiQ3B",
        "outputId": "76b81fda-11d7-4162-9cef-c03d05b6d866"
      },
      "execution_count": null,
      "outputs": [
        {
          "output_type": "stream",
          "name": "stdout",
          "text": [
            "['economy', 'employment', 'continues', 'strengthen,', 'inflation', 'high.', 'committee', 'committed', 'achieving', 'maximum', 'employment', 'returning', 'inflation', 'rate', '2', 'percent', 'committee', 'keep', 'target', 'range', 'federal', 'funds', 'rate', '0', '1/4', 'percent.', 'committee', 'increase', 'holdings', 'securities.', 'due', 'inflation', '2', 'percent', 'strong', 'labour', 'market,', 'committee', 'expects', 'raise', 'target', 'range', 'federal', 'funds', 'rate.', 'committee', 'reduce', 'monthly', 'pace', 'net', 'asset', 'purchases,', 'stop', 'early', 'march.']\n",
            "['paragraph', 'paragraph:', 'improvement', 'sectors', 'affected', 'pandemic.', 'unemployment', 'declined.', 'imbalance', 'supply', 'demand', 'fuelled', 'inflation.', 'economy', 'still', 'dependent', 'pandemic', 'situation.', 'committee’s', 'goal', 'increase', 'employment', 'get', 'inflation', '2%.', 'achieved,', 'federal', 'funds', 'rate', 'increased.', 'committee', 'continue', 'monitor', 'adjust', 'monetary', 'policy', 'based', 'risks', 'may', 'observe', 'public', 'health,', 'labour', 'market', 'conditions,', 'on.', 'general', 'idea:', 'us', 'economy', 'strengthening', 'indicators', 'economic', 'activity', 'employment', 'showing', 'improvement.', 'however,', 'covid-19', 'cases', 'affecting', 'certain', 'sectors.', 'job', 'gains', 'solid', 'unemployment', 'rate', 'declined.', 'supply', 'demand', 'imbalances', 'related', 'pandemic', 'contributed', 'elevated', 'inflation', 'levels.', 'financial', 'conditions', 'accommodative', 'due', 'policy', 'measures.', \"economy's\", 'path', 'depends', 'course', 'virus', 'committee', 'seeks', 'achieve', 'maximum', 'employment', 'inflation', '2%.', 'federal', 'funds', 'rate', 'target', 'range', 'remain', '0', '1/4%.', 'committee', 'plans', 'end', 'net', 'asset', 'purchases', 'early', 'march', 'increase', 'holdings', 'treasury', 'agency', 'mortgage-backed', 'securities.', 'federal', 'reserve', 'monitor', 'incoming', 'information', 'adjust', 'monetary', 'policy', 'necessary', 'achieve', 'goals.']\n",
            "['us', 'economy', 'showed', 'signs', 'recovery', 'strong', 'indicators', 'good', 'employment', 'despite', 'fact', 'got', 'severely', 'affected', 'covid-19', 'cases.', 'but,', 'supply-demand', 'imbalances', 'due', 'pandemic', 'rise', 'new', 'virus', 'variants.', 'federal', 'reserve', 'kept', 'federal', 'funds', 'rate', 'target', 'range', '0%', '¼%', 'expects', 'raise', 'soon', 'due', 'inflation', 'well', '2%', 'strong', 'labor', 'market.', 'furthermore,', 'committee', 'decided', 'continue', 'reduce', 'monthly', 'pace', 'net', 'asset', 'purchases.', 'also', 'aim', 'increase', 'holdings', 'treasury', 'securities', 'least', '$20', 'billion', 'month', 'agency', 'mortgage‐backed', 'securities', 'least', '$10', 'billion', 'per', 'month.', 'purchase', 'holdings', 'aim', 'continue', 'smoothen', 'market', 'functioning,', 'thereby', 'supporting', 'flow', 'credit', 'households', 'businesses.']\n",
            "['committee', 'international', 'financial', 'management', 'considered', 'changing', 'monetary', 'policy', 'united', 'states', 'mix', 'add', 'accommodative', 'monetary', 'policy', 'improve', 'financial', 'international', 'conditions.', 'committee', 'aware', 'risk', 'increasing', 'rate', 'inflation', 'response', 'pandemic', 'present', 'adopted', 'accommodative', 'policies.']\n"
          ]
        }
      ]
    },
    {
      "cell_type": "markdown",
      "metadata": {
        "id": "9MfWhpR_3tVT"
      },
      "source": [
        "# Getting GPT2 model from Huggingface to evaluate text that is split by paragraph"
      ]
    },
    {
      "cell_type": "code",
      "source": [
        "!pip install transformers\n",
        "import re\n",
        "import random\n",
        "import pandas as pd\n",
        "import numpy as np\n",
        "import torch\n",
        "from torch.utils.data import Dataset, DataLoader\n",
        "from transformers import AutoTokenizer, AutoModelWithLMHead\n",
        "import torch.optim as optim"
      ],
      "metadata": {
        "id": "VTepnjTE51Ew",
        "colab": {
          "base_uri": "https://localhost:8080/"
        },
        "outputId": "2e07f19d-86dc-4644-cefe-479990aa9118"
      },
      "execution_count": null,
      "outputs": [
        {
          "output_type": "stream",
          "name": "stdout",
          "text": [
            "Requirement already satisfied: transformers in ./opt/anaconda3/lib/python3.9/site-packages (4.25.1)\n",
            "Requirement already satisfied: huggingface-hub<1.0,>=0.10.0 in ./opt/anaconda3/lib/python3.9/site-packages (from transformers) (0.11.1)\n",
            "Requirement already satisfied: regex!=2019.12.17 in ./opt/anaconda3/lib/python3.9/site-packages (from transformers) (2022.7.9)\n",
            "Requirement already satisfied: tokenizers!=0.11.3,<0.14,>=0.11.1 in ./opt/anaconda3/lib/python3.9/site-packages (from transformers) (0.13.2)\n",
            "Requirement already satisfied: filelock in ./opt/anaconda3/lib/python3.9/site-packages (from transformers) (3.9.0)\n",
            "Requirement already satisfied: pyyaml>=5.1 in ./opt/anaconda3/lib/python3.9/site-packages (from transformers) (6.0)\n",
            "Requirement already satisfied: requests in ./opt/anaconda3/lib/python3.9/site-packages (from transformers) (2.28.1)\n",
            "Requirement already satisfied: numpy>=1.17 in ./opt/anaconda3/lib/python3.9/site-packages (from transformers) (1.21.5)\n",
            "Requirement already satisfied: packaging>=20.0 in ./opt/anaconda3/lib/python3.9/site-packages (from transformers) (22.0)\n",
            "Requirement already satisfied: tqdm>=4.27 in ./opt/anaconda3/lib/python3.9/site-packages (from transformers) (4.64.1)\n",
            "Requirement already satisfied: typing-extensions>=3.7.4.3 in ./opt/anaconda3/lib/python3.9/site-packages (from huggingface-hub<1.0,>=0.10.0->transformers) (4.4.0)\n",
            "Requirement already satisfied: charset-normalizer<3,>=2 in ./opt/anaconda3/lib/python3.9/site-packages (from requests->transformers) (2.0.4)\n",
            "Requirement already satisfied: certifi>=2017.4.17 in ./opt/anaconda3/lib/python3.9/site-packages (from requests->transformers) (2022.12.7)\n",
            "Requirement already satisfied: idna<4,>=2.5 in ./opt/anaconda3/lib/python3.9/site-packages (from requests->transformers) (3.4)\n",
            "Requirement already satisfied: urllib3<1.27,>=1.21.1 in ./opt/anaconda3/lib/python3.9/site-packages (from requests->transformers) (1.26.14)\n"
          ]
        }
      ]
    },
    {
      "cell_type": "code",
      "source": [
        "# tokenizer = AutoTokenizer.from_pretrained(\"gpt2\")\n",
        "# model = AutoModelWithLMHead.from_pretrained(\"gpt2\")\n",
        "# device = torch.device('cuda:0' if torch.cuda.is_available() else 'cpu')\n",
        "# model = model.to(device)\n",
        "# tokenizer.encode(\" TL;DR \")"
      ],
      "metadata": {
        "id": "v7546Xg5GAih"
      },
      "execution_count": null,
      "outputs": []
    },
    {
      "cell_type": "code",
      "source": [
        "tokenizer = AutoTokenizer.from_pretrained(\"gpt2\")\n",
        "model = AutoModelWithLMHead.from_pretrained(\"gpt2\")\n",
        "device = torch.device('cuda:0' if torch.cuda.is_available() else 'cpu')\n",
        "model = model.to(device)\n",
        "tokenizer.encode(\" TL;DR \")"
      ],
      "metadata": {
        "id": "TD2Py5riEpMJ",
        "colab": {
          "base_uri": "https://localhost:8080/"
        },
        "outputId": "4dadad7b-3257-43ef-eb38-d0200cf9b458"
      },
      "execution_count": null,
      "outputs": [
        {
          "output_type": "execute_result",
          "data": {
            "text/plain": [
              "[24811, 26, 7707, 220]"
            ]
          },
          "metadata": {},
          "execution_count": 40
        }
      ]
    },
    {
      "cell_type": "code",
      "source": [
        "!pip install rouge\n",
        "from rouge import Rouge\n",
        "rouge = Rouge()\n",
        "\n",
        "def calc_rouge_scores(model_summary, reference_summary):\n",
        "    return rouge.get_scores(model_summary, reference_summary)"
      ],
      "metadata": {
        "id": "qVwYKtZh3tVX",
        "colab": {
          "base_uri": "https://localhost:8080/"
        },
        "outputId": "bec6ab73-74f3-4c1b-baf7-c64234131141"
      },
      "execution_count": null,
      "outputs": [
        {
          "output_type": "stream",
          "name": "stdout",
          "text": [
            "huggingface/tokenizers: The current process just got forked, after parallelism has already been used. Disabling parallelism to avoid deadlocks...\n",
            "To disable this warning, you can either:\n",
            "\t- Avoid using `tokenizers` before the fork if possible\n",
            "\t- Explicitly set the environment variable TOKENIZERS_PARALLELISM=(true | false)\n",
            "Requirement already satisfied: rouge in ./opt/anaconda3/lib/python3.9/site-packages (1.0.1)\n",
            "Requirement already satisfied: six in ./opt/anaconda3/lib/python3.9/site-packages (from rouge) (1.12.0)\n"
          ]
        }
      ]
    },
    {
      "cell_type": "code",
      "source": [
        "from nltk.corpus import stopwords\n",
        "from nltk import download\n",
        "\n",
        "download('stopwords')\n",
        "stop_words = stopwords.words('english')\n",
        "\n",
        "def preprocess(sentence):\n",
        "  a = []\n",
        "  for sen in sentence:\n",
        "    for word in sen.split(\" \"):\n",
        "      if word.lower() not in stop_words:\n",
        "        a.append(word.lower())\n",
        "  return a\n",
        "\n",
        "def preprocess2(sentence):\n",
        "  return [w for w in sentence.lower().split() if w not in stop_words]\n",
        "\n",
        "def preprocess_to_str(sentence):\n",
        "  sentence = sentence.lower().split()\n",
        "  result = \"\"\n",
        "  for i in sentence:\n",
        "    if i not in stop_words:\n",
        "      result += (i + \" \")\n",
        "  return result"
      ],
      "metadata": {
        "id": "1nSLGRfD3tVX",
        "colab": {
          "base_uri": "https://localhost:8080/"
        },
        "outputId": "f414be05-e0cf-4536-e597-daae509473cd"
      },
      "execution_count": null,
      "outputs": [
        {
          "output_type": "stream",
          "name": "stderr",
          "text": [
            "[nltk_data] Downloading package stopwords to /Users/yj/nltk_data...\n",
            "[nltk_data]   Package stopwords is already up-to-date!\n"
          ]
        }
      ]
    },
    {
      "cell_type": "code",
      "source": [
        "# 512, 200, 512 works\n",
        "# 1024, 200, 512 works\n",
        "\n",
        "# max_length in tokenizer should be > mex_length in generate\n",
        "N = len(by_para_mon[0])\n",
        "list_of_summaries = [\"mon202212\", \"mon202211\", \"mon202205\", \"mon202201\"]\n",
        "new_gpt2_summary = []\n",
        "by_para_mon2 = []\n",
        "for speech in by_para_mon:\n",
        "  by_para_mon2.append(\" \".join(speech))\n",
        "for i in range(N):\n",
        "  print(f\"*** Monetary policy for {list_of_summaries[i]} ***\")\n",
        "  print(\"Original text: \"+ by_para_mon2[i])\n",
        "\n",
        "  GPT_summary=\"\"\n",
        "  input_ids = tokenizer.encode(by_para_mon2[i] +'TL;DR', return_tensors='pt', truncation=True)\n",
        "  summary_ids=model.generate(\n",
        "    input_ids,\n",
        "    do_sample=True, \n",
        "    max_length = 1024,\n",
        "    min_length = 512,\n",
        "    top_k=50, \n",
        "    top_p=0.90, \n",
        "    num_return_sequences=4,\n",
        "    pad_token_id=tokenizer.eos_token_id,\n",
        "  )\n",
        "  GPT_summary=tokenizer.decode(summary_ids[0],skip_special_tokens=True)\n",
        "  GPT_summary = GPT_summary.split(\"TL;DR\")[1]\n",
        "  \n",
        "  new_gpt2_summary.append(GPT_summary)\n",
        "  print(\"Summarised text: \"+ GPT_summary + \"\\n\")"
      ],
      "metadata": {
        "id": "i8w8Ku47S6mW",
        "colab": {
          "base_uri": "https://localhost:8080/"
        },
        "outputId": "d47fa070-09d4-447f-ec1e-55a14ca30563"
      },
      "execution_count": null,
      "outputs": [
        {
          "output_type": "stream",
          "name": "stdout",
          "text": [
            "*** Monetary policy for mon202212 ***\n",
            "Original text: Recent indicators point to modest growth in spending and production.  Job gains have been robust in recent months, and the unemployment rate has remained low.  Inflation remains elevated, reflecting supply and demand imbalances related to the pandemic, higher food and energy prices, and broader price pressures. Russia’s war against Ukraine is causing tremendous human and economic hardship.  The war and related e vents are contributing to upward pressure on inflation and are weighing on global economic activity.  The Committee is highly attentive to inflation risks. The Committee seeks to achieve maximum employment and inflation at the rate of 2 percent over the l onger run.  In support of these goals, the Committee decided to raise the target range for the federal funds rate to 4 -1/4 to 4- 1/2 percent.  The Committee anticipates that ongoing increases in the target range will be appropriate in order to attain a stan ce of monetary policy that is sufficiently restrictive to return inflation to 2 percent over time.  In determining the pace of future increases in the target range, the Committee will take into account the cumulative tightening of monetary policy, the lags  with which monetary policy affects economic activity and inflation, and economic and financial developments.  In addition, the Committee will continue reducing its holdings of Treasury securities and agency debt and agency mortgage -backed securities, as d escribed in the Plans for Reducing the Size of the Federal Reserve’s Balance Sheet that were issued in May.  The Committee is strongly committed to returning inflation to its 2 percent objective. In assessing the appropriate stance of monetary policy, the Committee will continue to monitor the implications of incoming information for the economic outlook.  The Committee would be prepared to adjust the stance of monetary policy as appropriate if ris ks emerge that could impede the attainment of the Committee’s goals.  The Committee’s assessments will take into account a wide range of information, including readings on public health, labor market conditions, inflation pressures and inflation expectations, and financial and international developments.   \n",
            "Summarised text:  The Committee intends to undertake detailed, detailed analysis of the economic outlook in its first few months of fiscal 2017.  There will be a transition period in the next several months to reflect a variety of different developments.  The Committee will evaluate a wide range of factors and factors affecting economic activity, inflation and growth and to assess future expectations for its target range of monetary policy and to reflect possible future developments in this area. The Committee will then consider the potential risks associated with the adoption of its policies and develop recommendations to achieve a stable inflation target.   \n",
            "\n",
            "*** Monetary policy for mon202211 ***\n",
            "Original text: Recent indicators point to modest growth in spending and production.  Job gains have been robust in recent months, and the unemployment rate has remained low.  Inflation remains elevated, reflecting supply and demand imbalances related to the pandemic, higher food and energy prices, and broader price pressures . Russia’s war against Ukraine is causing tremendous human and economic hardship.  The war and related  events are creating additional upward pressure on inflation and are weighing on global economic activity.  The Committee is highly attentive to inflation risks. The Committee seeks to achieve maximum employment and inflation at the rate of 2 percent ov er the longer run.  In support of these goals, the Committee decided to raise the target range for the federal funds rate to 3 -3/4 to 4 percent.  The Committee anticipates that ongoing increases in the target range will be appropriate in order to attain a stance of monetary policy that is sufficiently restrictive to return inflation to 2 percent over time .  In determining the pace of future increases in the target range, the Committee will take into account the cumulative tightening of monetary policy, the lags with which monetary policy affects economic activity and inflation, and economic and financial developments.  In addition, the Committee will continue reducing its holdings of Treasury securities and agency debt and agency mortgage -backed securities, as described in the Plans for Reducing the Size of the Federal Reserve’s Balance Sheet that were issued in May.  The Committee is strongly committed to returning inflation to its 2 percent objective.  In assessing the appropriate stance of monetary policy, the Committee will continue to monitor the implications of incoming information for the economic outlook.  The Committee would be prepared to adjust the stance of monetary policy as appropriate if ris ks emerge that could impede the attainment of the Committee’s goals.  The Committee’s assessments will take into account a wide range of information, including readings on public health, labor market conditions, inflation pressures and inflation expectations, and financial and international developments.   \n",
            "Summarised text: : The Committee has committed to making available to the public, on a daily basis, the results of its assessment of the future of the United States and its external trading partners and the extent to which these estimates reflect real, observable and actuarial risks and uncertainties.  A public assessment of the United States and its external trading partners will require a variety of factors, including a range of historical changes, economic conditions, fiscal and political conditions and the impact on foreign exchange and trade.  The Committee has taken steps to identify potential adverse changes in monetary policy.   In addition, the Committee has worked with the IMF to assess the relative risks of monetary policy to external and international financial markets.   The Committee has also conducted additional reviews of the policy environment.  The Committee believes that the Committee's recent actions have helped to develop appropriate expectations and benchmarks for monetary policy.  The Committee has considered the possibility that the Committee has adopted other measures to address the uncertainty about future monetary policy. The Committee believes that these additional efforts will enhance the efficiency and effectiveness of the Committee's monetary policy program. The Committee believes that monetary policy should be able to withstand the uncertainties associated with the pandemic, but that the risk posed by the events of May and June is manageable. The Committee will continue to work with the IMF and other public and private sector stakeholders to address issues of financial inclusion, liquidity, and risk.   The Committee is evaluating the prospects for a U.S. dollar tightening to 3/4 to 4 percent for the next three years.  The Committee has not made any specific changes to monetary policy. In addition to the Committee's decisions regarding the policy environment, the Committee has evaluated the potential implications of the United States monetary policy environment on international and domestic economic activity and on macroeconomic factors and the effect of fiscal policy on monetary policy.   The Committee's decision, as described in the Plan for Reducing the Size of the Federal Reserve’s Balance Sheet, has not been fully evaluated by the IMF. The Committee's decision, as described in the Plan for Reducing the Size of the Federal Reserve’s Balance Sheet, has not been fully evaluated by the Committee. The Committee is currently reviewing the proposed rate of interest rates that are set for the fiscal year of 2016.  The Committee's decisions, as described in the Plan for Reducing the Size of the Federal Reserve’s Balance Sheet, have not been fully evaluated by the Committee. The Committee is considering other policy options to mitigate fiscal policy effects.   Although the Committee has not yet adopted any of these options, it may act in the future to adjust its stance on fiscal policy.   The Committee has made this determination in consultation with the IMF, the Committee's central bank partners and other central banks as well as others who have provided critical information regarding the risks of international monetary policy and the potential effects on fiscal policy.   The Committee has already taken steps to address the risks posed by international monetary policy, including a review of policy-relevant risks and the possible role of interest rates. \n",
            "\n",
            "*** Monetary policy for mon202205 ***\n",
            "Original text: Although overall economic activity edged down in the first quarter, household spending and business fixed investment remained strong.  Job gains have been robust  in recent months, and the unemployment rate has declined substantially.  Inflation remains elevated, reflecting supply and demand imbalances related to the pandemic, higher energy prices, and broader price pressures. The invasion of Ukraine by Russia is c ausing tremendous human and economic hardship.  The implications for the U.S. economy are highly uncertain.  The invasion and related events are creating  additional upward pressure on inflation and are likely to weigh on economic activity.  In addition, CO VID- related lockdowns in China are likely to exacerbate supply chain disruptions.  The Committee is highly attentive to inflation risks. The Committee seeks to achieve maximum employment and inflation at the rate of 2 percent over the longer run.  With appropriate firming in the stance of monetary policy, the Committee expects inflation to return to its 2  percent objective and the labor market to remain strong.  In support of these goals, the Committee decided to raise the target range for the federal funds rate to 3/4 to 1 percent and anticipates that ongoing increases in the target range will be appropriate.  In addition, the Committee decided  to begin reducing its holdings of Treasury securities and agency debt and agency mortgage -backed securities on June 1, as described in the Plans for Reducing the Size of the Federal Reserve’s Balance Sheet that were issued in conjunction with this statement. In assessing the appropriate stance of monetary policy, the Committee will continue to monitor the implications of incoming information for the economic   outlook.  The Committee would be prepared to adjust the stance of monetary policy as appropriate if risks emerge that could impede the attainment of the Committee’s goals.  The Committee’s assessments will take into account a wide range of information, including readings on public health, labor market conditions, inflation pressures and inflation expectations, and financial and international developments.  \n",
            "Summarised text: : The Committee believes that a sustained low in the level of unemployment and an increase in GDP in July may reduce the risks for the U.S. economy and its ability to support the long-term growth outlook of the U.S. Federal Reserve System. However, we anticipate that the Committee will focus on fiscal policy and fiscal discipline in order to mitigate future challenges and provide an overall assessment of current and future risk factors.  The Committee is not convinced that current policies are appropriate in addressing the current challenges with regard to employment and inflation.   On an economic and budgetary basis, the Committee believes that fiscal policy needs to be focused on reducing the use of government reserves to fund programs and efforts that will reduce the cost of government services, as well as the effects on national financial stability and on economic recovery.   As a nation, we do not expect that the current level of public debt will continue to have any impact on economic activity. The Committee believes that policymakers should adopt fiscal policy in a more balanced manner to meet their economic needs and expectations for the nation's economy and the nation's security. However, the Committee believes that it is premature to assume that any policy actions will be effective.   To that end, the Committee believes that the Committee is willing to continue its effort to strengthen our national interest while maintaining fiscal policy and fiscal discipline.  Achieving full employment, as determined by the Committee, is the key priority of this Committee.  The Committee recognizes that the economic circumstances in the U.S. have been exceptionally difficult for many years. We understand that the Federal Reserve System faces a challenging economic situation. This Committee expects our economic outlook to improve substantially with time.  As of today, the Committee is in the midst of reviewing the Federal Reserve's revised financial statements and is considering what actions we could take to enhance the Committee's credibility in preparing our financial statements for our economic and economic recovery.   The Committee intends to conduct daily reviews of our consolidated financial statements to determine whether we maintain current levels of confidence and in keeping with our current positions.\n",
            "\n",
            "The Committee expects that the economic circumstances in the U.S. have been exceptionally difficult for many years.   The Committee understands that the economic circumstances in the U.S. have been exceptionally difficult for many years.   The Committee believes that the economic conditions in the U.S. have been exceptionally difficult for many years.   The Committee is very concerned about the impact of the global economic crisis and the continued rise of a global financial crisis.   The Committee is more concerned about the implications of a global economic crisis for the global economy.   In a time of global economic uncertainty and geopolitical uncertainty, the U.S. economy is facing a growing debt burden and an increasing number of other national security issues.   The Committee appreciates that the United States is not facing an urgent emergency of national security threats such as an economic meltdown or a financial crisis.   The Committee appreciates that an increase in the rate of interest on the government debt will further exacerbate the debt load, including by affecting\n",
            "\n",
            "*** Monetary policy for mon202201 ***\n",
            "Original text: Indicators of economic activity and employment have continued to strengthen. The sectors most adversely affected by the pandemic have improved in recent months but are being affected by the recent sharp rise in COVID-19 cases.  Job gains have been solid in recent months, and the unemployment rate has declined substantially.  Supply and demand imbalances related to the pandemic and the reopening of the economy have continued to contribute to elevated levels of inflation.  Overall financial conditions remain accommodative, in part reflecting policy measures to support the economy and the flow of credit to U.S. households and businesses. The path of the economy continues to depend on the course of the virus.  Progress on vaccinations and an easing of supply cons traints are expected to support continued gains in economic activity and employment as well as a reduction in inflation.  Risks to the economic outlook remain, including from new va riants of the virus. The Committee seeks to achieve maximum em ployment and inflation at the rate of 2 percent over the longer run.  In s upport of these goals, the Committee decided to keep the target range for the federal funds rate  at 0 to 1/4 percent.  With inflation well above 2 percent and a strong labor market , the Committee expects it will soon be appropriate to raise the target range for the federal funds rate.   The Committee decided to continue to redu ce the monthly pace of its net asset purchases, bringing them to an end in early March.  Beginning in February, the Committee will increase its holdings of Treasury securities by at least $20 billion per month and of agency mortgage ‑backed securities by at l east $10 billion per month.  The Federal Reserve’s ongoing purchases and  holdings of securities will continue to foster smooth market functioning and accommodative financial conditions, thereby supporting the flow of credit to households and businesses. In assessing the appropriate stance of monetary policy, the Committee will continue to monitor the implications of  incoming information for the economic outlook.  The Committee would be prepared to  adjust the stance of monetary policy as appropriate if risks emer ge that could impede the at tainment of the Committee’s goals.  The Committee’s assessments will take into account a wide range of information, including readi ngs on public health, labor market conditions, inflation pressures and inflation expectations, and financial and international developments. \n",
            "Summarised text: : It is anticipated that an estimated $40 billion in unspent government securities is intended for the short-term public security markets in the first quarter of 2015, reflecting the anticipated increases in demand for government debt and the increasing cost of such debt.  If the Committee were to take any action to mitigate the risk of new influenza viruses that could result from the pandemic, we would consider an action at the rate of 2 percent per month for the period to be reached.  A number of agencies, such as the Centers for Disease Control and Prevention (CDC) and the Federal Reserve Bank of San Francisco, are involved in the financing of the research and development effort to combat the pandemic.  The Committee and the Federal Reserve are conducting studies to evaluate the safety, effectiveness and appropriateness of new influenza virus vaccines in developing countries, such as the United States.  The Committee would also assess the advisability of the federal government buying from private equity firms and other financial institutions to minimize the costs associated with the pandemic. The Committee also would look at whether public health and financial markets in the United States are affected by the pandemic, including whether private investment and other costs may be offset by public health and public financial markets, particularly in the United States. The Committee would also consider whether new influenza viruses have the potential to affect public health or public financial markets, including whether such costs may be mitigated by the actions of existing and new public health organizations, such as the Centers for Disease Control and Prevention, to mitigate risks related to the pandemic.  The Committee has met in November 2011, but has not met since 2010.\n",
            "\n"
          ]
        }
      ]
    },
    {
      "cell_type": "markdown",
      "source": [
        "## Using rouge"
      ],
      "metadata": {
        "id": "VR6ym5DZ6_LY"
      }
    },
    {
      "cell_type": "code",
      "source": [
        "# avg score from 1st summaries\n",
        "rouge1r, rouge1p, rouge1f = 0, 0, 0\n",
        "rouge2r, rouge2p, rouge2f = 0, 0, 0\n",
        "rougelr, rougelp, rougelf = 0, 0, 0\n",
        "avg_new_gpt2_by_human_rouge = {}\n",
        "\n",
        "N = len(by_human)\n",
        "\n",
        "for i in range(N):  \n",
        "  for generated_summary in new_gpt2_summary:\n",
        "    result = calc_rouge_scores(preprocess_to_str(generated_summary), preprocess_to_str(by_human[i]))\n",
        "    rouge1r += result[0]['rouge-1']['r']\n",
        "    rouge1p += result[0]['rouge-1']['p']\n",
        "    rouge1f += result[0]['rouge-1']['f']\n",
        "\n",
        "    rouge2r += result[0]['rouge-2']['r']\n",
        "    rouge2p += result[0]['rouge-2']['p']\n",
        "    rouge2f += result[0]['rouge-2']['f']\n",
        "\n",
        "    rougelr += result[0]['rouge-l']['r']\n",
        "    rougelp += result[0]['rouge-l']['p']\n",
        "    rougelf += result[0]['rouge-l']['f']\n",
        "\n",
        "avg_gpt2_by_human_rouge = {'rouge-1':{'r': rouge1r/N, 'p': rouge1p/N, 'f': rouge1f/N}, 'rouge-2':{'r': rouge2r/N, 'p': rouge2p/N, 'f': rouge2f/N}, 'rouge-l':{'r': rougelr/N, 'p': rougelp/N, 'f': rougelf/N}}\n",
        "print(avg_gpt2_by_human_rouge)"
      ],
      "metadata": {
        "id": "QnZvhjWd6_LZ",
        "colab": {
          "base_uri": "https://localhost:8080/"
        },
        "outputId": "a09ec498-d06f-4a5a-bff4-6d0b877f0610"
      },
      "execution_count": null,
      "outputs": [
        {
          "output_type": "stream",
          "name": "stdout",
          "text": [
            "{'rouge-1': {'r': 1.0558536082731746, 'p': 0.8893739725658231, 'f': 0.9508610732975666}, 'rouge-2': {'r': 0.29625281599965647, 'p': 0.2334564981463363, 'f': 0.25813981762104304}, 'rouge-l': {'r': 1.0017847775585143, 'p': 0.8457231789150293, 'f': 0.903200028008865}}\n"
          ]
        }
      ]
    },
    {
      "cell_type": "code",
      "source": [
        "# avg score from 2nd summaries\n",
        "rouge1r, rouge1p, rouge1f = 0, 0, 0\n",
        "rouge2r, rouge2p, rouge2f = 0, 0, 0\n",
        "rougelr, rougelp, rougelf = 0, 0, 0\n",
        "avg_new_gpt2_by_tarasha_rouge = {}\n",
        "\n",
        "N = len(by_tarasha)\n",
        "\n",
        "for i in range(N):  \n",
        "  for generated_summary in new_gpt2_summary:\n",
        "    result = calc_rouge_scores(preprocess_to_str(generated_summary), preprocess_to_str(by_tarasha[i]))\n",
        "    rouge1r += result[0]['rouge-1']['r']\n",
        "    rouge1p += result[0]['rouge-1']['p']\n",
        "    rouge1f += result[0]['rouge-1']['f']\n",
        "\n",
        "    rouge2r += result[0]['rouge-2']['r']\n",
        "    rouge2p += result[0]['rouge-2']['p']\n",
        "    rouge2f += result[0]['rouge-2']['f']\n",
        "\n",
        "    rougelr += result[0]['rouge-l']['r']\n",
        "    rougelp += result[0]['rouge-l']['p']\n",
        "    rougelf += result[0]['rouge-l']['f']\n",
        "\n",
        "avg_gpt2_by_tarasha_rouge = {'rouge-1':{'r': rouge1r/N, 'p': rouge1p/N, 'f': rouge1f/N}, 'rouge-2':{'r': rouge2r/N, 'p': rouge2p/N, 'f': rouge2f/N}, 'rouge-l':{'r': rougelr/N, 'p': rougelp/N, 'f': rougelf/N}}\n",
        "print(avg_gpt2_by_tarasha_rouge)"
      ],
      "metadata": {
        "id": "QjPEwXe46_LZ",
        "colab": {
          "base_uri": "https://localhost:8080/"
        },
        "outputId": "549a62e0-1514-4fb5-e8d9-482c5721faf1"
      },
      "execution_count": null,
      "outputs": [
        {
          "output_type": "stream",
          "name": "stdout",
          "text": [
            "{'rouge-1': {'r': 0.7544675429202254, 'p': 0.743626539466947, 'f': 0.7011019582166418}, 'rouge-2': {'r': 0.14621141567452828, 'p': 0.14572496615541997, 'f': 0.1322534093773565}, 'rouge-l': {'r': 0.7152674255483376, 'p': 0.7090137979356994, 'f': 0.6660394454954252}}\n"
          ]
        }
      ]
    },
    {
      "cell_type": "code",
      "source": [
        "# avg score from 3rd summaries\n",
        "rouge1r, rouge1p, rouge1f = 0, 0, 0\n",
        "rouge2r, rouge2p, rouge2f = 0, 0, 0\n",
        "rougelr, rougelp, rougelf = 0, 0, 0\n",
        "avg_gpt2_by_arjun_rouge = {}\n",
        "\n",
        "N = len(by_arjun)\n",
        "\n",
        "for i in range(N):  \n",
        "  for generated_summay in new_gpt2_summary: \n",
        "    result = calc_rouge_scores(preprocess_to_str(generated_summary), preprocess_to_str(by_arjun[i]))\n",
        "    rouge1r += result[0]['rouge-1']['r']\n",
        "    rouge1p += result[0]['rouge-1']['p']\n",
        "    rouge1f += result[0]['rouge-1']['f']\n",
        "\n",
        "    rouge2r += result[0]['rouge-2']['r']\n",
        "    rouge2p += result[0]['rouge-2']['p']\n",
        "    rouge2f += result[0]['rouge-2']['f']\n",
        "\n",
        "    rougelr += result[0]['rouge-l']['r']\n",
        "    rougelp += result[0]['rouge-l']['p']\n",
        "    rougelf += result[0]['rouge-l']['f']\n",
        "\n",
        "avg_gpt2_by_arjun_rouge = {'rouge-1':{'r': rouge1r/N, 'p': rouge1p/N, 'f': rouge1f/N}, 'rouge-2':{'r': rouge2r/N, 'p': rouge2p/N, 'f': rouge2f/N}, 'rouge-l':{'r': rougelr/N, 'p': rougelp/N, 'f': rougelf/N}}\n",
        "print(avg_gpt2_by_arjun_rouge)"
      ],
      "metadata": {
        "id": "vN7uEmGi6_La",
        "colab": {
          "base_uri": "https://localhost:8080/"
        },
        "outputId": "a77b7273-c88a-4e0a-98c0-64e505cd6107"
      },
      "execution_count": null,
      "outputs": [
        {
          "output_type": "stream",
          "name": "stdout",
          "text": [
            "{'rouge-1': {'r': 0.8215102974828375, 'p': 0.9677419354838711, 'f': 0.8881513243067138}, 'rouge-2': {'r': 0.23103609143729592, 'p': 0.2676056338028169, 'f': 0.24779781717084245}, 'rouge-l': {'r': 0.6872616323417237, 'p': 0.8064516129032256, 'f': 0.7416749441761683}}\n"
          ]
        }
      ]
    },
    {
      "cell_type": "code",
      "source": [
        "all_gpt2_rouge = [avg_gpt2_by_human_rouge, avg_gpt2_by_tarasha_rouge, avg_gpt2_by_arjun_rouge]\n",
        "# SCORE TO BEAT: {'rouge-1': {'r': 0.44843257775721174, 'p': 0.26704870321249635, 'f': 0.32233283893970527}, 'rouge-2': {'r': 0.23409951842891383, 'p': 0.12404817840146716, 'f': 0.15570658372256482}, 'rouge-l': {'r': 0.43756552995403325, 'p': 0.2579605069260242, 'f': 0.3127341419547412}}\n",
        "print(avg_rouge_results(all_gpt2_rouge))"
      ],
      "metadata": {
        "id": "wX6EaRSV6_La",
        "colab": {
          "base_uri": "https://localhost:8080/"
        },
        "outputId": "2f9b1b0e-92fc-42fb-fb99-a63f942d807a"
      },
      "execution_count": null,
      "outputs": [
        {
          "output_type": "stream",
          "name": "stdout",
          "text": [
            "{'rouge-1': {'r': 0.8772771495587458, 'p': 0.8669141491722137, 'f': 0.8467047852736407}, 'rouge-2': {'r': 0.2245001077038269, 'p': 0.21559569936819103, 'f': 0.212730348056414}, 'rouge-l': {'r': 0.8014379451495252, 'p': 0.7870628632513181, 'f': 0.7703048058934862}}\n"
          ]
        }
      ]
    },
    {
      "cell_type": "markdown",
      "source": [
        "## Using wmd\n"
      ],
      "metadata": {
        "id": "FSfiVlY87YoR"
      }
    },
    {
      "cell_type": "code",
      "source": [
        "avg_dist = 0\n",
        "\n",
        "for i in range(N):\n",
        "  reference_summary1 = preprocess2(by_human[i])\n",
        "  reference_summary2 = preprocess2(by_tarasha[i])\n",
        "  reference_summary3 = preprocess2(by_arjun[i])\n",
        "  model_summary = preprocess2(new_gpt2_summary[i])\n",
        "  print(f\"*** WMD for the {i+1}th summary ***\")\n",
        "  distance1 = wmdmodel.wmdistance(model_summary, reference_summary1)\n",
        "  print('distance = %.4f' % distance1)\n",
        "  distance2 = wmdmodel.wmdistance(model_summary, reference_summary2)\n",
        "  print('distance = %.4f' % distance2)\n",
        "  distance3 = wmdmodel.wmdistance(model_summary, reference_summary3)\n",
        "  print('distance = %.4f' % distance3)\n",
        "  dist = (distance1 + distance2 + distance3) / 3\n",
        "  avg_dist += dist\n",
        "  print('average distance = %.4f' % dist + \"\\n\")\n",
        "print(\"*** Average WMD from all 4 summaries *** \")\n",
        "print(avg_dist/N)"
      ],
      "metadata": {
        "id": "3YzObabg7YoS",
        "colab": {
          "base_uri": "https://localhost:8080/"
        },
        "outputId": "3620204f-f6ed-49e7-aefe-9244f1869725"
      },
      "execution_count": null,
      "outputs": [
        {
          "output_type": "stream",
          "name": "stdout",
          "text": [
            "*** WMD for the 1th summary ***\n",
            "distance = 0.9105\n",
            "distance = 1.0540\n",
            "distance = 1.0481\n",
            "average distance = 1.0042\n",
            "\n",
            "*** WMD for the 2th summary ***\n",
            "distance = 0.9183\n",
            "distance = 1.0539\n",
            "distance = 0.8701\n",
            "average distance = 0.9474\n",
            "\n",
            "*** WMD for the 3th summary ***\n",
            "distance = 0.9351\n",
            "distance = 0.9360\n",
            "distance = 1.0350\n",
            "average distance = 0.9687\n",
            "\n",
            "*** WMD for the 4th summary ***\n",
            "distance = 0.8771\n",
            "distance = 0.9140\n",
            "distance = 0.8868\n",
            "average distance = 0.8926\n",
            "\n",
            "*** Average WMD from all 4 summaries *** \n",
            "0.9532546757460377\n"
          ]
        }
      ]
    },
    {
      "cell_type": "markdown",
      "source": [
        "# Finetuning"
      ],
      "metadata": {
        "id": "GahhhHFcVP9t"
      }
    },
    {
      "cell_type": "code",
      "source": [
        "!pip install transformers\n",
        "import re\n",
        "import random\n",
        "import pandas as pd\n",
        "import numpy as np\n",
        "import torch\n",
        "from torch.utils.data import Dataset, DataLoader\n",
        "from transformers import AutoTokenizer, AutoModelWithLMHead\n",
        "import torch.optim as optim"
      ],
      "metadata": {
        "id": "-7rZMjieVSWt",
        "colab": {
          "base_uri": "https://localhost:8080/"
        },
        "outputId": "0536cbe7-e4f7-425a-85fa-3ba8525f74a9"
      },
      "execution_count": null,
      "outputs": [
        {
          "output_type": "stream",
          "name": "stdout",
          "text": [
            "huggingface/tokenizers: The current process just got forked, after parallelism has already been used. Disabling parallelism to avoid deadlocks...\n",
            "To disable this warning, you can either:\n",
            "\t- Avoid using `tokenizers` before the fork if possible\n",
            "\t- Explicitly set the environment variable TOKENIZERS_PARALLELISM=(true | false)\n",
            "Requirement already satisfied: transformers in ./opt/anaconda3/lib/python3.9/site-packages (4.25.1)\n",
            "Requirement already satisfied: numpy>=1.17 in ./opt/anaconda3/lib/python3.9/site-packages (from transformers) (1.21.5)\n",
            "Requirement already satisfied: requests in ./opt/anaconda3/lib/python3.9/site-packages (from transformers) (2.28.1)\n",
            "Requirement already satisfied: packaging>=20.0 in ./opt/anaconda3/lib/python3.9/site-packages (from transformers) (22.0)\n",
            "Requirement already satisfied: tokenizers!=0.11.3,<0.14,>=0.11.1 in ./opt/anaconda3/lib/python3.9/site-packages (from transformers) (0.13.2)\n",
            "Requirement already satisfied: huggingface-hub<1.0,>=0.10.0 in ./opt/anaconda3/lib/python3.9/site-packages (from transformers) (0.11.1)\n",
            "Requirement already satisfied: pyyaml>=5.1 in ./opt/anaconda3/lib/python3.9/site-packages (from transformers) (6.0)\n",
            "Requirement already satisfied: tqdm>=4.27 in ./opt/anaconda3/lib/python3.9/site-packages (from transformers) (4.64.1)\n",
            "Requirement already satisfied: regex!=2019.12.17 in ./opt/anaconda3/lib/python3.9/site-packages (from transformers) (2022.7.9)\n",
            "Requirement already satisfied: filelock in ./opt/anaconda3/lib/python3.9/site-packages (from transformers) (3.9.0)\n",
            "Requirement already satisfied: typing-extensions>=3.7.4.3 in ./opt/anaconda3/lib/python3.9/site-packages (from huggingface-hub<1.0,>=0.10.0->transformers) (4.4.0)\n",
            "Requirement already satisfied: certifi>=2017.4.17 in ./opt/anaconda3/lib/python3.9/site-packages (from requests->transformers) (2022.12.7)\n",
            "Requirement already satisfied: idna<4,>=2.5 in ./opt/anaconda3/lib/python3.9/site-packages (from requests->transformers) (3.4)\n",
            "Requirement already satisfied: charset-normalizer<3,>=2 in ./opt/anaconda3/lib/python3.9/site-packages (from requests->transformers) (2.0.4)\n",
            "Requirement already satisfied: urllib3<1.27,>=1.21.1 in ./opt/anaconda3/lib/python3.9/site-packages (from requests->transformers) (1.26.14)\n"
          ]
        }
      ]
    },
    {
      "cell_type": "code",
      "source": [
        "device = torch.device('cuda:0' if torch.cuda.is_available() else 'cpu')\n",
        "device"
      ],
      "metadata": {
        "id": "i3LQ3X6hVcw0",
        "colab": {
          "base_uri": "https://localhost:8080/"
        },
        "outputId": "d3538a3f-f800-4a54-8d27-47d4af818841"
      },
      "execution_count": null,
      "outputs": [
        {
          "output_type": "execute_result",
          "data": {
            "text/plain": [
              "device(type='cpu')"
            ]
          },
          "metadata": {},
          "execution_count": 45
        }
      ]
    },
    {
      "cell_type": "code",
      "source": [
        "# news_articles_data = pd.read_csv(\"/content/drive/MyDrive/DAP Group 6: Fin Scanners/news_summary.csv\", encoding = \"ISO-8859-1\")\n",
        "news_articles_data = pd.read_csv(\"news_summary.csv\", encoding=\"ISO-8859-1\")\n",
        "news_articles_data.head()"
      ],
      "metadata": {
        "id": "Bjd25U2fVtVw",
        "colab": {
          "base_uri": "https://localhost:8080/",
          "height": 206
        },
        "outputId": "50c2cdf1-8f44-4c82-fe33-c784721bc1dc"
      },
      "execution_count": null,
      "outputs": [
        {
          "output_type": "execute_result",
          "data": {
            "text/plain": [
              "               author                  date  \\\n",
              "0        Chhavi Tyagi  03 Aug 2017,Thursday   \n",
              "1         Daisy Mowke  03 Aug 2017,Thursday   \n",
              "2      Arshiya Chopra  03 Aug 2017,Thursday   \n",
              "3       Sumedha Sehra  03 Aug 2017,Thursday   \n",
              "4  Aarushi Maheshwari  03 Aug 2017,Thursday   \n",
              "\n",
              "                                           headlines  \\\n",
              "0  Daman & Diu revokes mandatory Rakshabandhan in...   \n",
              "1  Malaika slams user who trolled her for 'divorc...   \n",
              "2  'Virgin' now corrected to 'Unmarried' in IGIMS...   \n",
              "3  Aaj aapne pakad liya: LeT man Dujana before be...   \n",
              "4  Hotel staff to get training to spot signs of s...   \n",
              "\n",
              "                                           read_more  \\\n",
              "0  http://www.hindustantimes.com/india-news/raksh...   \n",
              "1  http://www.hindustantimes.com/bollywood/malaik...   \n",
              "2  http://www.hindustantimes.com/patna/bihar-igim...   \n",
              "3  http://indiatoday.intoday.in/story/abu-dujana-...   \n",
              "4  http://indiatoday.intoday.in/story/sex-traffic...   \n",
              "\n",
              "                                                text  \\\n",
              "0  The Administration of Union Territory Daman an...   \n",
              "1  Malaika Arora slammed an Instagram user who tr...   \n",
              "2  The Indira Gandhi Institute of Medical Science...   \n",
              "3  Lashkar-e-Taiba's Kashmir commander Abu Dujana...   \n",
              "4  Hotels in Maharashtra will train their staff t...   \n",
              "\n",
              "                                               ctext  \n",
              "0  The Daman and Diu administration on Wednesday ...  \n",
              "1  From her special numbers to TV?appearances, Bo...  \n",
              "2  The Indira Gandhi Institute of Medical Science...  \n",
              "3  Lashkar-e-Taiba's Kashmir commander Abu Dujana...  \n",
              "4  Hotels in Mumbai and other Indian cities are t...  "
            ],
            "text/html": [
              "<div>\n",
              "<style scoped>\n",
              "    .dataframe tbody tr th:only-of-type {\n",
              "        vertical-align: middle;\n",
              "    }\n",
              "\n",
              "    .dataframe tbody tr th {\n",
              "        vertical-align: top;\n",
              "    }\n",
              "\n",
              "    .dataframe thead th {\n",
              "        text-align: right;\n",
              "    }\n",
              "</style>\n",
              "<table border=\"1\" class=\"dataframe\">\n",
              "  <thead>\n",
              "    <tr style=\"text-align: right;\">\n",
              "      <th></th>\n",
              "      <th>author</th>\n",
              "      <th>date</th>\n",
              "      <th>headlines</th>\n",
              "      <th>read_more</th>\n",
              "      <th>text</th>\n",
              "      <th>ctext</th>\n",
              "    </tr>\n",
              "  </thead>\n",
              "  <tbody>\n",
              "    <tr>\n",
              "      <th>0</th>\n",
              "      <td>Chhavi Tyagi</td>\n",
              "      <td>03 Aug 2017,Thursday</td>\n",
              "      <td>Daman &amp; Diu revokes mandatory Rakshabandhan in...</td>\n",
              "      <td>http://www.hindustantimes.com/india-news/raksh...</td>\n",
              "      <td>The Administration of Union Territory Daman an...</td>\n",
              "      <td>The Daman and Diu administration on Wednesday ...</td>\n",
              "    </tr>\n",
              "    <tr>\n",
              "      <th>1</th>\n",
              "      <td>Daisy Mowke</td>\n",
              "      <td>03 Aug 2017,Thursday</td>\n",
              "      <td>Malaika slams user who trolled her for 'divorc...</td>\n",
              "      <td>http://www.hindustantimes.com/bollywood/malaik...</td>\n",
              "      <td>Malaika Arora slammed an Instagram user who tr...</td>\n",
              "      <td>From her special numbers to TV?appearances, Bo...</td>\n",
              "    </tr>\n",
              "    <tr>\n",
              "      <th>2</th>\n",
              "      <td>Arshiya Chopra</td>\n",
              "      <td>03 Aug 2017,Thursday</td>\n",
              "      <td>'Virgin' now corrected to 'Unmarried' in IGIMS...</td>\n",
              "      <td>http://www.hindustantimes.com/patna/bihar-igim...</td>\n",
              "      <td>The Indira Gandhi Institute of Medical Science...</td>\n",
              "      <td>The Indira Gandhi Institute of Medical Science...</td>\n",
              "    </tr>\n",
              "    <tr>\n",
              "      <th>3</th>\n",
              "      <td>Sumedha Sehra</td>\n",
              "      <td>03 Aug 2017,Thursday</td>\n",
              "      <td>Aaj aapne pakad liya: LeT man Dujana before be...</td>\n",
              "      <td>http://indiatoday.intoday.in/story/abu-dujana-...</td>\n",
              "      <td>Lashkar-e-Taiba's Kashmir commander Abu Dujana...</td>\n",
              "      <td>Lashkar-e-Taiba's Kashmir commander Abu Dujana...</td>\n",
              "    </tr>\n",
              "    <tr>\n",
              "      <th>4</th>\n",
              "      <td>Aarushi Maheshwari</td>\n",
              "      <td>03 Aug 2017,Thursday</td>\n",
              "      <td>Hotel staff to get training to spot signs of s...</td>\n",
              "      <td>http://indiatoday.intoday.in/story/sex-traffic...</td>\n",
              "      <td>Hotels in Maharashtra will train their staff t...</td>\n",
              "      <td>Hotels in Mumbai and other Indian cities are t...</td>\n",
              "    </tr>\n",
              "  </tbody>\n",
              "</table>\n",
              "</div>"
            ]
          },
          "metadata": {},
          "execution_count": 46
        }
      ]
    },
    {
      "cell_type": "code",
      "source": [
        "news_articles_data.rename(columns = {\"text\":\"summary\", \"ctext\":\"full_text\"}, inplace = True)\n",
        "news_articles_data.head()"
      ],
      "metadata": {
        "id": "mLn-OewnXB4v",
        "colab": {
          "base_uri": "https://localhost:8080/",
          "height": 206
        },
        "outputId": "7d0a4c0d-21a8-4539-fa8b-8cc8553dfa79"
      },
      "execution_count": null,
      "outputs": [
        {
          "output_type": "execute_result",
          "data": {
            "text/plain": [
              "               author                  date  \\\n",
              "0        Chhavi Tyagi  03 Aug 2017,Thursday   \n",
              "1         Daisy Mowke  03 Aug 2017,Thursday   \n",
              "2      Arshiya Chopra  03 Aug 2017,Thursday   \n",
              "3       Sumedha Sehra  03 Aug 2017,Thursday   \n",
              "4  Aarushi Maheshwari  03 Aug 2017,Thursday   \n",
              "\n",
              "                                           headlines  \\\n",
              "0  Daman & Diu revokes mandatory Rakshabandhan in...   \n",
              "1  Malaika slams user who trolled her for 'divorc...   \n",
              "2  'Virgin' now corrected to 'Unmarried' in IGIMS...   \n",
              "3  Aaj aapne pakad liya: LeT man Dujana before be...   \n",
              "4  Hotel staff to get training to spot signs of s...   \n",
              "\n",
              "                                           read_more  \\\n",
              "0  http://www.hindustantimes.com/india-news/raksh...   \n",
              "1  http://www.hindustantimes.com/bollywood/malaik...   \n",
              "2  http://www.hindustantimes.com/patna/bihar-igim...   \n",
              "3  http://indiatoday.intoday.in/story/abu-dujana-...   \n",
              "4  http://indiatoday.intoday.in/story/sex-traffic...   \n",
              "\n",
              "                                             summary  \\\n",
              "0  The Administration of Union Territory Daman an...   \n",
              "1  Malaika Arora slammed an Instagram user who tr...   \n",
              "2  The Indira Gandhi Institute of Medical Science...   \n",
              "3  Lashkar-e-Taiba's Kashmir commander Abu Dujana...   \n",
              "4  Hotels in Maharashtra will train their staff t...   \n",
              "\n",
              "                                           full_text  \n",
              "0  The Daman and Diu administration on Wednesday ...  \n",
              "1  From her special numbers to TV?appearances, Bo...  \n",
              "2  The Indira Gandhi Institute of Medical Science...  \n",
              "3  Lashkar-e-Taiba's Kashmir commander Abu Dujana...  \n",
              "4  Hotels in Mumbai and other Indian cities are t...  "
            ],
            "text/html": [
              "<div>\n",
              "<style scoped>\n",
              "    .dataframe tbody tr th:only-of-type {\n",
              "        vertical-align: middle;\n",
              "    }\n",
              "\n",
              "    .dataframe tbody tr th {\n",
              "        vertical-align: top;\n",
              "    }\n",
              "\n",
              "    .dataframe thead th {\n",
              "        text-align: right;\n",
              "    }\n",
              "</style>\n",
              "<table border=\"1\" class=\"dataframe\">\n",
              "  <thead>\n",
              "    <tr style=\"text-align: right;\">\n",
              "      <th></th>\n",
              "      <th>author</th>\n",
              "      <th>date</th>\n",
              "      <th>headlines</th>\n",
              "      <th>read_more</th>\n",
              "      <th>summary</th>\n",
              "      <th>full_text</th>\n",
              "    </tr>\n",
              "  </thead>\n",
              "  <tbody>\n",
              "    <tr>\n",
              "      <th>0</th>\n",
              "      <td>Chhavi Tyagi</td>\n",
              "      <td>03 Aug 2017,Thursday</td>\n",
              "      <td>Daman &amp; Diu revokes mandatory Rakshabandhan in...</td>\n",
              "      <td>http://www.hindustantimes.com/india-news/raksh...</td>\n",
              "      <td>The Administration of Union Territory Daman an...</td>\n",
              "      <td>The Daman and Diu administration on Wednesday ...</td>\n",
              "    </tr>\n",
              "    <tr>\n",
              "      <th>1</th>\n",
              "      <td>Daisy Mowke</td>\n",
              "      <td>03 Aug 2017,Thursday</td>\n",
              "      <td>Malaika slams user who trolled her for 'divorc...</td>\n",
              "      <td>http://www.hindustantimes.com/bollywood/malaik...</td>\n",
              "      <td>Malaika Arora slammed an Instagram user who tr...</td>\n",
              "      <td>From her special numbers to TV?appearances, Bo...</td>\n",
              "    </tr>\n",
              "    <tr>\n",
              "      <th>2</th>\n",
              "      <td>Arshiya Chopra</td>\n",
              "      <td>03 Aug 2017,Thursday</td>\n",
              "      <td>'Virgin' now corrected to 'Unmarried' in IGIMS...</td>\n",
              "      <td>http://www.hindustantimes.com/patna/bihar-igim...</td>\n",
              "      <td>The Indira Gandhi Institute of Medical Science...</td>\n",
              "      <td>The Indira Gandhi Institute of Medical Science...</td>\n",
              "    </tr>\n",
              "    <tr>\n",
              "      <th>3</th>\n",
              "      <td>Sumedha Sehra</td>\n",
              "      <td>03 Aug 2017,Thursday</td>\n",
              "      <td>Aaj aapne pakad liya: LeT man Dujana before be...</td>\n",
              "      <td>http://indiatoday.intoday.in/story/abu-dujana-...</td>\n",
              "      <td>Lashkar-e-Taiba's Kashmir commander Abu Dujana...</td>\n",
              "      <td>Lashkar-e-Taiba's Kashmir commander Abu Dujana...</td>\n",
              "    </tr>\n",
              "    <tr>\n",
              "      <th>4</th>\n",
              "      <td>Aarushi Maheshwari</td>\n",
              "      <td>03 Aug 2017,Thursday</td>\n",
              "      <td>Hotel staff to get training to spot signs of s...</td>\n",
              "      <td>http://indiatoday.intoday.in/story/sex-traffic...</td>\n",
              "      <td>Hotels in Maharashtra will train their staff t...</td>\n",
              "      <td>Hotels in Mumbai and other Indian cities are t...</td>\n",
              "    </tr>\n",
              "  </tbody>\n",
              "</table>\n",
              "</div>"
            ]
          },
          "metadata": {},
          "execution_count": 47
        }
      ]
    },
    {
      "cell_type": "code",
      "source": [
        "len(news_articles_data)"
      ],
      "metadata": {
        "id": "Th37YoXoXvdD",
        "colab": {
          "base_uri": "https://localhost:8080/"
        },
        "outputId": "302354e6-2073-45c8-a14c-9d310ad63685"
      },
      "execution_count": null,
      "outputs": [
        {
          "output_type": "execute_result",
          "data": {
            "text/plain": [
              "4514"
            ]
          },
          "metadata": {},
          "execution_count": 48
        }
      ]
    },
    {
      "cell_type": "markdown",
      "source": [
        "## Preparing data"
      ],
      "metadata": {
        "id": "FXrDcIrUYM-t"
      }
    },
    {
      "cell_type": "code",
      "source": [
        "news_articles_data[\"joined_text\"] = news_articles_data[\"full_text\"] + \" TL;DR \" + news_articles_data[\"summary\"]\n",
        "news_articles_data.head()"
      ],
      "metadata": {
        "id": "TJ0aKHKgYQ3b",
        "colab": {
          "base_uri": "https://localhost:8080/",
          "height": 293
        },
        "outputId": "173d7d58-6608-4030-e2ae-7b88d7a6bc6f"
      },
      "execution_count": null,
      "outputs": [
        {
          "output_type": "execute_result",
          "data": {
            "text/plain": [
              "               author                  date  \\\n",
              "0        Chhavi Tyagi  03 Aug 2017,Thursday   \n",
              "1         Daisy Mowke  03 Aug 2017,Thursday   \n",
              "2      Arshiya Chopra  03 Aug 2017,Thursday   \n",
              "3       Sumedha Sehra  03 Aug 2017,Thursday   \n",
              "4  Aarushi Maheshwari  03 Aug 2017,Thursday   \n",
              "\n",
              "                                           headlines  \\\n",
              "0  Daman & Diu revokes mandatory Rakshabandhan in...   \n",
              "1  Malaika slams user who trolled her for 'divorc...   \n",
              "2  'Virgin' now corrected to 'Unmarried' in IGIMS...   \n",
              "3  Aaj aapne pakad liya: LeT man Dujana before be...   \n",
              "4  Hotel staff to get training to spot signs of s...   \n",
              "\n",
              "                                           read_more  \\\n",
              "0  http://www.hindustantimes.com/india-news/raksh...   \n",
              "1  http://www.hindustantimes.com/bollywood/malaik...   \n",
              "2  http://www.hindustantimes.com/patna/bihar-igim...   \n",
              "3  http://indiatoday.intoday.in/story/abu-dujana-...   \n",
              "4  http://indiatoday.intoday.in/story/sex-traffic...   \n",
              "\n",
              "                                             summary  \\\n",
              "0  The Administration of Union Territory Daman an...   \n",
              "1  Malaika Arora slammed an Instagram user who tr...   \n",
              "2  The Indira Gandhi Institute of Medical Science...   \n",
              "3  Lashkar-e-Taiba's Kashmir commander Abu Dujana...   \n",
              "4  Hotels in Maharashtra will train their staff t...   \n",
              "\n",
              "                                           full_text  \\\n",
              "0  The Daman and Diu administration on Wednesday ...   \n",
              "1  From her special numbers to TV?appearances, Bo...   \n",
              "2  The Indira Gandhi Institute of Medical Science...   \n",
              "3  Lashkar-e-Taiba's Kashmir commander Abu Dujana...   \n",
              "4  Hotels in Mumbai and other Indian cities are t...   \n",
              "\n",
              "                                         joined_text  \n",
              "0  The Daman and Diu administration on Wednesday ...  \n",
              "1  From her special numbers to TV?appearances, Bo...  \n",
              "2  The Indira Gandhi Institute of Medical Science...  \n",
              "3  Lashkar-e-Taiba's Kashmir commander Abu Dujana...  \n",
              "4  Hotels in Mumbai and other Indian cities are t...  "
            ],
            "text/html": [
              "<div>\n",
              "<style scoped>\n",
              "    .dataframe tbody tr th:only-of-type {\n",
              "        vertical-align: middle;\n",
              "    }\n",
              "\n",
              "    .dataframe tbody tr th {\n",
              "        vertical-align: top;\n",
              "    }\n",
              "\n",
              "    .dataframe thead th {\n",
              "        text-align: right;\n",
              "    }\n",
              "</style>\n",
              "<table border=\"1\" class=\"dataframe\">\n",
              "  <thead>\n",
              "    <tr style=\"text-align: right;\">\n",
              "      <th></th>\n",
              "      <th>author</th>\n",
              "      <th>date</th>\n",
              "      <th>headlines</th>\n",
              "      <th>read_more</th>\n",
              "      <th>summary</th>\n",
              "      <th>full_text</th>\n",
              "      <th>joined_text</th>\n",
              "    </tr>\n",
              "  </thead>\n",
              "  <tbody>\n",
              "    <tr>\n",
              "      <th>0</th>\n",
              "      <td>Chhavi Tyagi</td>\n",
              "      <td>03 Aug 2017,Thursday</td>\n",
              "      <td>Daman &amp; Diu revokes mandatory Rakshabandhan in...</td>\n",
              "      <td>http://www.hindustantimes.com/india-news/raksh...</td>\n",
              "      <td>The Administration of Union Territory Daman an...</td>\n",
              "      <td>The Daman and Diu administration on Wednesday ...</td>\n",
              "      <td>The Daman and Diu administration on Wednesday ...</td>\n",
              "    </tr>\n",
              "    <tr>\n",
              "      <th>1</th>\n",
              "      <td>Daisy Mowke</td>\n",
              "      <td>03 Aug 2017,Thursday</td>\n",
              "      <td>Malaika slams user who trolled her for 'divorc...</td>\n",
              "      <td>http://www.hindustantimes.com/bollywood/malaik...</td>\n",
              "      <td>Malaika Arora slammed an Instagram user who tr...</td>\n",
              "      <td>From her special numbers to TV?appearances, Bo...</td>\n",
              "      <td>From her special numbers to TV?appearances, Bo...</td>\n",
              "    </tr>\n",
              "    <tr>\n",
              "      <th>2</th>\n",
              "      <td>Arshiya Chopra</td>\n",
              "      <td>03 Aug 2017,Thursday</td>\n",
              "      <td>'Virgin' now corrected to 'Unmarried' in IGIMS...</td>\n",
              "      <td>http://www.hindustantimes.com/patna/bihar-igim...</td>\n",
              "      <td>The Indira Gandhi Institute of Medical Science...</td>\n",
              "      <td>The Indira Gandhi Institute of Medical Science...</td>\n",
              "      <td>The Indira Gandhi Institute of Medical Science...</td>\n",
              "    </tr>\n",
              "    <tr>\n",
              "      <th>3</th>\n",
              "      <td>Sumedha Sehra</td>\n",
              "      <td>03 Aug 2017,Thursday</td>\n",
              "      <td>Aaj aapne pakad liya: LeT man Dujana before be...</td>\n",
              "      <td>http://indiatoday.intoday.in/story/abu-dujana-...</td>\n",
              "      <td>Lashkar-e-Taiba's Kashmir commander Abu Dujana...</td>\n",
              "      <td>Lashkar-e-Taiba's Kashmir commander Abu Dujana...</td>\n",
              "      <td>Lashkar-e-Taiba's Kashmir commander Abu Dujana...</td>\n",
              "    </tr>\n",
              "    <tr>\n",
              "      <th>4</th>\n",
              "      <td>Aarushi Maheshwari</td>\n",
              "      <td>03 Aug 2017,Thursday</td>\n",
              "      <td>Hotel staff to get training to spot signs of s...</td>\n",
              "      <td>http://indiatoday.intoday.in/story/sex-traffic...</td>\n",
              "      <td>Hotels in Maharashtra will train their staff t...</td>\n",
              "      <td>Hotels in Mumbai and other Indian cities are t...</td>\n",
              "      <td>Hotels in Mumbai and other Indian cities are t...</td>\n",
              "    </tr>\n",
              "  </tbody>\n",
              "</table>\n",
              "</div>"
            ]
          },
          "metadata": {},
          "execution_count": 49
        }
      ]
    },
    {
      "cell_type": "code",
      "source": [
        "news_articles_data[\"joined_text\"] = news_articles_data[\"joined_text\"].astype(str)"
      ],
      "metadata": {
        "id": "Tqud1S3KgzIL"
      },
      "execution_count": null,
      "outputs": []
    },
    {
      "cell_type": "code",
      "source": [
        "# find avg length for inputs\n",
        "avg_length = sum([len(article.split()) for article in news_articles_data[\"joined_text\"]])/len(news_articles_data[\"joined_text\"])\n",
        "avg_length = round(avg_length)\n",
        "\n",
        "print(avg_length)\n",
        "\n",
        "max_length = 500"
      ],
      "metadata": {
        "id": "UBK781mYbq_5",
        "colab": {
          "base_uri": "https://localhost:8080/"
        },
        "outputId": "54567304-b144-4a6e-da90-cbf6d6a30f89"
      },
      "execution_count": null,
      "outputs": [
        {
          "output_type": "stream",
          "name": "stdout",
          "text": [
            "392\n"
          ]
        }
      ]
    },
    {
      "cell_type": "code",
      "source": [
        "class ArticlesFinetuningDataset(Dataset):  \n",
        "    def __init__(self, tokenizer, reviews, max_len):\n",
        "        self.max_len = max_len\n",
        "        self.tokenizer = tokenizer\n",
        "        self.eos = self.tokenizer.eos_token\n",
        "        self.eos_id = self.tokenizer.eos_token_id\n",
        "        self.reviews = reviews\n",
        "        self.result = []\n",
        "\n",
        "        for review in self.reviews:\n",
        "            # Encode the text using tokenizer.encode(). We add EOS at the end\n",
        "            tokenized = self.tokenizer.encode(review + self.eos)\n",
        "            \n",
        "            # Padding/truncating the encoded sequence to max_len \n",
        "            padded = self.pad_truncate(tokenized)            \n",
        "\n",
        "            # Creating a tensor and adding to the result\n",
        "            self.result.append(torch.tensor(padded))\n",
        "\n",
        "    def __len__(self):\n",
        "        return len(self.result)\n",
        "\n",
        "\n",
        "    def __getitem__(self, item):\n",
        "        return self.result[item]\n",
        "\n",
        "    def pad_truncate(self, name):\n",
        "        name_length = len(name) - extra_length\n",
        "        if name_length < self.max_len:\n",
        "            difference = self.max_len - name_length\n",
        "            result = name + [self.eos_id] * difference\n",
        "        elif name_length > self.max_len:\n",
        "            result = name[:self.max_len + 3]+[self.eos_id] \n",
        "        else:\n",
        "            result = name\n",
        "        return result"
      ],
      "metadata": {
        "id": "pP7aN5BRnV8R"
      },
      "execution_count": null,
      "outputs": []
    },
    {
      "cell_type": "code",
      "source": [
        "# # if you want to use the og one, use this code \n",
        "# tokenizer = AutoTokenizer.from_pretrained(\"gpt2\")\n",
        "# model = AutoModelWithLMHead.from_pretrained(\"gpt2\")\n",
        "# model = model.to(device)"
      ],
      "metadata": {
        "id": "xrWmvPfhUkOm"
      },
      "execution_count": null,
      "outputs": []
    },
    {
      "cell_type": "code",
      "source": [
        "# if you want to use the fine-tuned one, use this code \n",
        "tokenizer = AutoTokenizer.from_pretrained(\"yijiyap/finscan_gpt2_test\")\n",
        "model = AutoModelWithLMHead.from_pretrained(\"yijiyap/finscan_gpt2_test\")\n",
        "model = model.to(device)"
      ],
      "metadata": {
        "id": "SPZjLF0daUJn",
        "colab": {
          "base_uri": "https://localhost:8080/"
        },
        "outputId": "0c3526fd-788b-4992-b2c9-ddd586a14005"
      },
      "execution_count": null,
      "outputs": [
        {
          "output_type": "stream",
          "name": "stderr",
          "text": [
            "/Users/yj/opt/anaconda3/lib/python3.9/site-packages/transformers/models/auto/modeling_auto.py:1177: FutureWarning: The class `AutoModelWithLMHead` is deprecated and will be removed in a future version. Please use `AutoModelForCausalLM` for causal language models, `AutoModelForMaskedLM` for masked language models and `AutoModelForSeq2SeqLM` for encoder-decoder models.\n",
            "  warnings.warn(\n"
          ]
        }
      ]
    },
    {
      "cell_type": "code",
      "source": [
        "tokenizer.encode(\" TL;DR \")"
      ],
      "metadata": {
        "id": "jbu_S1zTm3g7",
        "colab": {
          "base_uri": "https://localhost:8080/"
        },
        "outputId": "4b7817d8-6265-4468-daf5-72d7386e3de4"
      },
      "execution_count": null,
      "outputs": [
        {
          "output_type": "execute_result",
          "data": {
            "text/plain": [
              "[24811, 26, 7707, 220]"
            ]
          },
          "metadata": {},
          "execution_count": 55
        }
      ]
    },
    {
      "cell_type": "code",
      "source": [
        "extra_length = len(tokenizer.encode(\" TL;DR \"))"
      ],
      "metadata": {
        "id": "JesDgaeSm8b8"
      },
      "execution_count": null,
      "outputs": []
    },
    {
      "cell_type": "code",
      "source": [
        "optimizer = optim.AdamW(model.parameters(), lr=3e-4)"
      ],
      "metadata": {
        "id": "BkJ4eU0Bmf5H"
      },
      "execution_count": null,
      "outputs": []
    },
    {
      "cell_type": "code",
      "source": [
        "# generate dataset\n",
        "dataset = ArticlesFinetuningDataset(tokenizer, news_articles_data[\"joined_text\"], 500)"
      ],
      "metadata": {
        "id": "lHV_r7JWoSsG",
        "colab": {
          "base_uri": "https://localhost:8080/"
        },
        "outputId": "cf825475-9f8f-4b90-c9b1-403790eb5d28"
      },
      "execution_count": null,
      "outputs": [
        {
          "output_type": "stream",
          "name": "stderr",
          "text": [
            "Token indices sequence length is longer than the specified maximum sequence length for this model (1221 > 1024). Running this sequence through the model will result in indexing errors\n"
          ]
        }
      ]
    },
    {
      "cell_type": "code",
      "source": [
        "dataloader = DataLoader(dataset, batch_size=16, shuffle=True, drop_last=True)"
      ],
      "metadata": {
        "id": "SyTsk2b1OAHW"
      },
      "execution_count": null,
      "outputs": []
    },
    {
      "cell_type": "markdown",
      "source": [
        "## Train"
      ],
      "metadata": {
        "id": "LK26qkYIpy0k"
      }
    },
    {
      "cell_type": "code",
      "source": [
        "def train(model, optimizer, dl, epochs):    \n",
        "    for epoch in range(epochs):\n",
        "        for idx, batch in enumerate(dl):\n",
        "             with torch.set_grad_enabled(True):\n",
        "                optimizer.zero_grad()\n",
        "                batch = batch.to(device)\n",
        "                output = model(batch, labels=batch)\n",
        "                loss = output[0]\n",
        "                loss.backward()\n",
        "                optimizer.step()\n",
        "                if idx % 50 == 0:\n",
        "                    print(\"loss: %f, %d\"%(loss, idx))"
      ],
      "metadata": {
        "id": "kGs0TFZbppuX"
      },
      "execution_count": null,
      "outputs": []
    },
    {
      "cell_type": "code",
      "source": [
        "# Prevent all layers other than the last 2 from changing\n",
        "N = len(model.transformer.h)\n",
        "for i, m in enumerate(model.transformer.h):\n",
        "  if i >= N-2:\n",
        "    for parameter in m.parameters():\n",
        "      parameter.requires_grad = True\n",
        "  else:\n",
        "    for parameter in m.parameters():\n",
        "      parameter.requires_grad = False"
      ],
      "metadata": {
        "id": "PZv0PLgmK1fR"
      },
      "execution_count": null,
      "outputs": []
    },
    {
      "cell_type": "code",
      "source": [
        "\n",
        "# # run to fine-tune model\n",
        "# train(model=model, optimizer=optimizer, dl=dataloader, epochs=1)\n"
      ],
      "metadata": {
        "id": "Ed91YPj3p51D"
      },
      "execution_count": null,
      "outputs": []
    },
    {
      "cell_type": "markdown",
      "source": [
        "## Newly summarised model"
      ],
      "metadata": {
        "id": "AoJbu1pTUPm1"
      }
    },
    {
      "cell_type": "code",
      "source": [
        "# change the max length maybe idk\n",
        "N = len(by_para_mon[0])\n",
        "list_of_summaries = [\"mon202212\", \"mon202211\", \"mon202205\", \"mon202201\"]\n",
        "newer_gpt2_summary = []\n",
        "by_para_mon2 = []\n",
        "for speech in by_para_mon:\n",
        "  by_para_mon2.append(\" \".join(speech))\n",
        "for i in range(N):\n",
        "  print(f\"*** Monetary policy for {list_of_summaries[i]} ***\")\n",
        "  print(\"Original text: \"+ by_para_mon2[i])\n",
        "\n",
        "  GPT_summary=\"\"\n",
        "  input_ids = tokenizer.encode(by_para_mon2[i] +'TL;DR', return_tensors='pt', truncation=True)\n",
        "  summary_ids=model.generate(\n",
        "    input_ids,\n",
        "    do_sample=True, \n",
        "    max_length=1500, \n",
        "    min_length = 800,\n",
        "    top_k=50, \n",
        "    top_p=0.90, \n",
        "    num_return_sequences=4,\n",
        "    pad_token_id=tokenizer.eos_token_id\n",
        "  )\n",
        "  GPT_summary=tokenizer.decode(summary_ids[0],skip_special_tokens=True)\n",
        "  GPT_summary = GPT_summary.split(\"TL;DR\")[1]\n",
        "  \n",
        "  newer_gpt2_summary.append(GPT_summary)\n",
        "  print(\"Summarised text: \"+ GPT_summary + \"\\n\")"
      ],
      "metadata": {
        "id": "bHKj-YX4QX2g",
        "colab": {
          "base_uri": "https://localhost:8080/"
        },
        "outputId": "1954a288-9d85-459f-a98e-21247a8e9983"
      },
      "execution_count": null,
      "outputs": [
        {
          "output_type": "stream",
          "name": "stdout",
          "text": [
            "*** Monetary policy for mon202212 ***\n",
            "Original text: Recent indicators point to modest growth in spending and production.  Job gains have been robust in recent months, and the unemployment rate has remained low.  Inflation remains elevated, reflecting supply and demand imbalances related to the pandemic, higher food and energy prices, and broader price pressures. Russia’s war against Ukraine is causing tremendous human and economic hardship.  The war and related e vents are contributing to upward pressure on inflation and are weighing on global economic activity.  The Committee is highly attentive to inflation risks. The Committee seeks to achieve maximum employment and inflation at the rate of 2 percent over the l onger run.  In support of these goals, the Committee decided to raise the target range for the federal funds rate to 4 -1/4 to 4- 1/2 percent.  The Committee anticipates that ongoing increases in the target range will be appropriate in order to attain a stan ce of monetary policy that is sufficiently restrictive to return inflation to 2 percent over time.  In determining the pace of future increases in the target range, the Committee will take into account the cumulative tightening of monetary policy, the lags  with which monetary policy affects economic activity and inflation, and economic and financial developments.  In addition, the Committee will continue reducing its holdings of Treasury securities and agency debt and agency mortgage -backed securities, as d escribed in the Plans for Reducing the Size of the Federal Reserve’s Balance Sheet that were issued in May.  The Committee is strongly committed to returning inflation to its 2 percent objective. In assessing the appropriate stance of monetary policy, the Committee will continue to monitor the implications of incoming information for the economic outlook.  The Committee would be prepared to adjust the stance of monetary policy as appropriate if ris ks emerge that could impede the attainment of the Committee’s goals.  The Committee’s assessments will take into account a wide range of information, including readings on public health, labor market conditions, inflation pressures and inflation expectations, and financial and international developments.   \n",
            "Summarised text:  The Committee on International Finance (CIF) on Wednesday said it has raised the target range of Fed funds rate to 4 -1% over the current l onger run by raising the current 2-3 cent hike to 3% over the next fiscal year. Notably, it further said it is increasing the target of spending over inflation to 2 percent over the next fiscal year.  Notably, it further said it is reducing the Fed's holdings.  Notably, it further said it would continue to monitor developments to further enhance the Fed's credibility.  Notably, it has raised interest rates over the next year, which it said was necessary to meet current expectations.  Notably, it has increased the target of monetary policy to 4% over the next fiscal year, including increases in the bond market and asset prices.  Notably, it has increased the target of inflation and employment growth to 4 percent over the next fiscal year. Notably, it has continued to increase the Fed's credibility to meet current rates.  Notably, it has increased the Fed's holdings of Treasury securities, Agency debt and agency mortgage-backed securities, and agency mortgage-backed securities.  Notably, the Committee has also continued to increase its holdings of Treasury Securities, Agency debt and agency mortgage-backed securities, and agency mortgage-backed securities.  Notably, it is currently holding Fed Reserve Notes and Agency debt.  Notably, the Committee has also increased the Fed's holdings of Treasury Securities and Agency debt. Notably, it has continued to increase the Fed's holdings of Treasury Securities and Agency debt. Notably, it has increased the Fed's holdings of Treasury Securities and Agency debt. Notably, it has increased the Fed's holdings of Treasury Securities and Agency debt. Notably, it has increased the Fed's holdings of Treasury Securities and Agency debt.  Notably, the Committee has raised the Fed's target of 2-3% over the next fiscal year over the past year. Notably, it further said it has continued to monitor developments to further enhance the credibility. Notably,\n",
            "\n",
            "*** Monetary policy for mon202211 ***\n",
            "Original text: Recent indicators point to modest growth in spending and production.  Job gains have been robust in recent months, and the unemployment rate has remained low.  Inflation remains elevated, reflecting supply and demand imbalances related to the pandemic, higher food and energy prices, and broader price pressures . Russia’s war against Ukraine is causing tremendous human and economic hardship.  The war and related  events are creating additional upward pressure on inflation and are weighing on global economic activity.  The Committee is highly attentive to inflation risks. The Committee seeks to achieve maximum employment and inflation at the rate of 2 percent ov er the longer run.  In support of these goals, the Committee decided to raise the target range for the federal funds rate to 3 -3/4 to 4 percent.  The Committee anticipates that ongoing increases in the target range will be appropriate in order to attain a stance of monetary policy that is sufficiently restrictive to return inflation to 2 percent over time .  In determining the pace of future increases in the target range, the Committee will take into account the cumulative tightening of monetary policy, the lags with which monetary policy affects economic activity and inflation, and economic and financial developments.  In addition, the Committee will continue reducing its holdings of Treasury securities and agency debt and agency mortgage -backed securities, as described in the Plans for Reducing the Size of the Federal Reserve’s Balance Sheet that were issued in May.  The Committee is strongly committed to returning inflation to its 2 percent objective.  In assessing the appropriate stance of monetary policy, the Committee will continue to monitor the implications of incoming information for the economic outlook.  The Committee would be prepared to adjust the stance of monetary policy as appropriate if ris ks emerge that could impede the attainment of the Committee’s goals.  The Committee’s assessments will take into account a wide range of information, including readings on public health, labor market conditions, inflation pressures and inflation expectations, and financial and international developments.   \n",
            "Summarised text:  The Russian Committee on the Federal Reserve, which serves the Federal Reserve System, has made significant policy adjustments since May. Notably, it will begin to raise the target range for its Federal funds rate to 3 -3/4 to 4 percent in the next fiscal year. The Committee is assessing whether its expectations of monetary policy are adequate to attain the 2% goal.                                                                                                                                                                                                                                                                                                                                                                                                                                       \n",
            "\n",
            "*** Monetary policy for mon202205 ***\n",
            "Original text: Although overall economic activity edged down in the first quarter, household spending and business fixed investment remained strong.  Job gains have been robust  in recent months, and the unemployment rate has declined substantially.  Inflation remains elevated, reflecting supply and demand imbalances related to the pandemic, higher energy prices, and broader price pressures. The invasion of Ukraine by Russia is c ausing tremendous human and economic hardship.  The implications for the U.S. economy are highly uncertain.  The invasion and related events are creating  additional upward pressure on inflation and are likely to weigh on economic activity.  In addition, CO VID- related lockdowns in China are likely to exacerbate supply chain disruptions.  The Committee is highly attentive to inflation risks. The Committee seeks to achieve maximum employment and inflation at the rate of 2 percent over the longer run.  With appropriate firming in the stance of monetary policy, the Committee expects inflation to return to its 2  percent objective and the labor market to remain strong.  In support of these goals, the Committee decided to raise the target range for the federal funds rate to 3/4 to 1 percent and anticipates that ongoing increases in the target range will be appropriate.  In addition, the Committee decided  to begin reducing its holdings of Treasury securities and agency debt and agency mortgage -backed securities on June 1, as described in the Plans for Reducing the Size of the Federal Reserve’s Balance Sheet that were issued in conjunction with this statement. In assessing the appropriate stance of monetary policy, the Committee will continue to monitor the implications of incoming information for the economic   outlook.  The Committee would be prepared to adjust the stance of monetary policy as appropriate if risks emerge that could impede the attainment of the Committee’s goals.  The Committee’s assessments will take into account a wide range of information, including readings on public health, labor market conditions, inflation pressures and inflation expectations, and financial and international developments.  \n",
            "Summarised text:  The Committee on the Effect of Regulatory Circumstances on the Federal funds rate has raised its stated goal of increasing the federal funds rate to 3 percent and the Labor Market to remain strong. This is the result of substantial changes in the Federal funds rate.   Notably, the Committee has repeatedly raised the target range of the federal funds rate to 3% and the unemployment rate to 7.5% over the past several years.  Notably,  the Committee does not believe that any of the steps suggested in monetary policy will lead to  a sharp rise in the federal funds rate.  Notably, the Committee will continue to monitor the implications of incoming information for the economic outlook.  Notably, the Committee has repeatedly raised the range of the federal funds rate to 3% and the unemployment rate to 7.5% over the past several years.  Notably, the Committee does not believe that any of the steps suggested by the Committee will lead to an increase in the federal funds rate. Notably, the Committee does not believe that any of the steps suggested by the Committee will lead to an increase in the federal funds rate.  Notably, the Committee has repeatedly raised the target range of the federal funds rate to 3% and the unemployment rate to 7.5% over the past several years. Notably, the Committee will continue to monitor the implications of incoming information for the economic   outlook.  Notably, the Committee has repeatedly raised the range of the federal funds rate to 3% and the unemployment rate to 7.5% over the past several years.  Notably, the Committee is expected to increase its holdings of Treasury securities and agency debt and agency mortgage-backed securities on June 1, as described in the Plans for Reducing the Size of the Fed's balance sheet that were issued in conjunction with this statement.      Notably, the Committee has     \n",
            "\n",
            "n\n",
            "SRV I RATIONALE OF THE EARLY ALL-IN CAPITAL CAPITAL STOCKPIX ECONOMY THE COMBAT COMMITTEE'S MEANings On the Federal funds rate.\n",
            "\n",
            "*** Monetary policy for mon202201 ***\n",
            "Original text: Indicators of economic activity and employment have continued to strengthen. The sectors most adversely affected by the pandemic have improved in recent months but are being affected by the recent sharp rise in COVID-19 cases.  Job gains have been solid in recent months, and the unemployment rate has declined substantially.  Supply and demand imbalances related to the pandemic and the reopening of the economy have continued to contribute to elevated levels of inflation.  Overall financial conditions remain accommodative, in part reflecting policy measures to support the economy and the flow of credit to U.S. households and businesses. The path of the economy continues to depend on the course of the virus.  Progress on vaccinations and an easing of supply cons traints are expected to support continued gains in economic activity and employment as well as a reduction in inflation.  Risks to the economic outlook remain, including from new va riants of the virus. The Committee seeks to achieve maximum em ployment and inflation at the rate of 2 percent over the longer run.  In s upport of these goals, the Committee decided to keep the target range for the federal funds rate  at 0 to 1/4 percent.  With inflation well above 2 percent and a strong labor market , the Committee expects it will soon be appropriate to raise the target range for the federal funds rate.   The Committee decided to continue to redu ce the monthly pace of its net asset purchases, bringing them to an end in early March.  Beginning in February, the Committee will increase its holdings of Treasury securities by at least $20 billion per month and of agency mortgage ‑backed securities by at l east $10 billion per month.  The Federal Reserve’s ongoing purchases and  holdings of securities will continue to foster smooth market functioning and accommodative financial conditions, thereby supporting the flow of credit to households and businesses. In assessing the appropriate stance of monetary policy, the Committee will continue to monitor the implications of  incoming information for the economic outlook.  The Committee would be prepared to  adjust the stance of monetary policy as appropriate if risks emer ge that could impede the at tainment of the Committee’s goals.  The Committee’s assessments will take into account a wide range of information, including readi ngs on public health, labor market conditions, inflation pressures and inflation expectations, and financial and international developments. \n",
            "Summarised text:  The Committee on International Financial Management has considered changing the monetary policy of the United States to a mix of the and to add to it more accommodative monetary policy and further improve the financial and international conditions. The Committee is aware that a risk of increasing the rate of inflation in response to the pandemic was present but has adopted more accommodative policies.                                                                                                                                                                                                                                                                                                                                                                                                 \n",
            "\n"
          ]
        }
      ]
    },
    {
      "cell_type": "markdown",
      "source": [
        "## Saving the model\n"
      ],
      "metadata": {
        "id": "y6yQI0QqUKrh"
      }
    },
    {
      "cell_type": "code",
      "source": [
        "# model.push_to_hub(\"finscan_gpt2_test\")"
      ],
      "metadata": {
        "id": "idQVFfloOHsx"
      },
      "execution_count": null,
      "outputs": []
    },
    {
      "cell_type": "code",
      "source": [
        "# tokenizer.push_to_hub(\"finscan_gpt2_test\")"
      ],
      "metadata": {
        "id": "KeFNbOD2TbOC"
      },
      "execution_count": null,
      "outputs": []
    },
    {
      "cell_type": "markdown",
      "source": [
        "# Evaluating new summary\n"
      ],
      "metadata": {
        "id": "QZQtIF3NzXAK"
      }
    },
    {
      "cell_type": "markdown",
      "source": [
        "## Using rouge"
      ],
      "metadata": {
        "id": "e9hYfF8vLP0k"
      }
    },
    {
      "cell_type": "code",
      "source": [
        "# avg score from 1st summaries\n",
        "rouge1r, rouge1p, rouge1f = 0, 0, 0\n",
        "rouge2r, rouge2p, rouge2f = 0, 0, 0\n",
        "rougelr, rougelp, rougelf = 0, 0, 0\n",
        "avg_new_gpt2_by_human_rouge = {}\n",
        "\n",
        "N = len(by_human)\n",
        "\n",
        "for i in range(N):  \n",
        "  for generated_summary in newer_gpt2_summary:\n",
        "    result = calc_rouge_scores(preprocess_to_str(generated_summary), preprocess_to_str(by_human[i]))\n",
        "    rouge1r += result[0]['rouge-1']['r']\n",
        "    rouge1p += result[0]['rouge-1']['p']\n",
        "    rouge1f += result[0]['rouge-1']['f']\n",
        "\n",
        "    rouge2r += result[0]['rouge-2']['r']\n",
        "    rouge2p += result[0]['rouge-2']['p']\n",
        "    rouge2f += result[0]['rouge-2']['f']\n",
        "\n",
        "    rougelr += result[0]['rouge-l']['r']\n",
        "    rougelp += result[0]['rouge-l']['p']\n",
        "    rougelf += result[0]['rouge-l']['f']\n",
        "\n",
        "avg_gpt2_by_human_rouge = {'rouge-1':{'r': rouge1r/N, 'p': rouge1p/N, 'f': rouge1f/N}, 'rouge-2':{'r': rouge2r/N, 'p': rouge2p/N, 'f': rouge2f/N}, 'rouge-l':{'r': rougelr/N, 'p': rougelp/N, 'f': rougelf/N}}\n",
        "print(avg_gpt2_by_human_rouge)"
      ],
      "metadata": {
        "id": "M_6KFWhQPSPP",
        "colab": {
          "base_uri": "https://localhost:8080/"
        },
        "outputId": "b2cb6bd3-579a-4b2e-ce46-00a090f1f282"
      },
      "execution_count": null,
      "outputs": [
        {
          "output_type": "stream",
          "name": "stdout",
          "text": [
            "{'rouge-1': {'r': 1.0132109759448458, 'p': 0.8314564564564565, 'f': 0.8677905533680633}, 'rouge-2': {'r': 0.26792453467185506, 'p': 0.19951923076923078, 'f': 0.214640626915637}, 'rouge-l': {'r': 0.9766370869033049, 'p': 0.8115326865326866, 'f': 0.8420541248544068}}\n"
          ]
        }
      ]
    },
    {
      "cell_type": "code",
      "source": [
        "# avg score from 2nd summaries\n",
        "rouge1r, rouge1p, rouge1f = 0, 0, 0\n",
        "rouge2r, rouge2p, rouge2f = 0, 0, 0\n",
        "rougelr, rougelp, rougelf = 0, 0, 0\n",
        "avg_new_gpt2_by_tarasha_rouge = {}\n",
        "\n",
        "N = len(by_tarasha)\n",
        "\n",
        "for i in range(N):  \n",
        "  for generated_summary in newer_gpt2_summary:\n",
        "    result = calc_rouge_scores(preprocess_to_str(generated_summary), preprocess_to_str(by_tarasha[i]))\n",
        "    rouge1r += result[0]['rouge-1']['r']\n",
        "    rouge1p += result[0]['rouge-1']['p']\n",
        "    rouge1f += result[0]['rouge-1']['f']\n",
        "\n",
        "    rouge2r += result[0]['rouge-2']['r']\n",
        "    rouge2p += result[0]['rouge-2']['p']\n",
        "    rouge2f += result[0]['rouge-2']['f']\n",
        "\n",
        "    rougelr += result[0]['rouge-l']['r']\n",
        "    rougelp += result[0]['rouge-l']['p']\n",
        "    rougelf += result[0]['rouge-l']['f']\n",
        "\n",
        "avg_gpt2_by_tarasha_rouge = {'rouge-1':{'r': rouge1r/N, 'p': rouge1p/N, 'f': rouge1f/N}, 'rouge-2':{'r': rouge2r/N, 'p': rouge2p/N, 'f': rouge2f/N}, 'rouge-l':{'r': rougelr/N, 'p': rougelp/N, 'f': rougelf/N}}\n",
        "print(avg_gpt2_by_tarasha_rouge)"
      ],
      "metadata": {
        "id": "2FHABu355ASG",
        "colab": {
          "base_uri": "https://localhost:8080/"
        },
        "outputId": "f32952b6-f1a8-4c4d-e083-c78c952ea00d"
      },
      "execution_count": null,
      "outputs": [
        {
          "output_type": "stream",
          "name": "stdout",
          "text": [
            "{'rouge-1': {'r': 0.9330889720021658, 'p': 0.910833910833911, 'f': 0.8324177037003151}, 'rouge-2': {'r': 0.19636118033006958, 'p': 0.15661057692307692, 'f': 0.14884461955000486}, 'rouge-l': {'r': 0.8580274432220094, 'p': 0.8248440748440747, 'f': 0.7614200304878089}}\n"
          ]
        }
      ]
    },
    {
      "cell_type": "code",
      "source": [
        "# avg score from 3rd summaries\n",
        "rouge1r, rouge1p, rouge1f = 0, 0, 0\n",
        "rouge2r, rouge2p, rouge2f = 0, 0, 0\n",
        "rougelr, rougelp, rougelf = 0, 0, 0\n",
        "avg_gpt2_by_arjun_rouge = {}\n",
        "\n",
        "N = len(by_arjun)\n",
        "\n",
        "for i in range(N):  \n",
        "  for generated_summay in newer_gpt2_summary: \n",
        "    result = calc_rouge_scores(preprocess_to_str(generated_summary), preprocess_to_str(by_arjun[i]))\n",
        "    rouge1r += result[0]['rouge-1']['r']\n",
        "    rouge1p += result[0]['rouge-1']['p']\n",
        "    rouge1f += result[0]['rouge-1']['f']\n",
        "\n",
        "    rouge2r += result[0]['rouge-2']['r']\n",
        "    rouge2p += result[0]['rouge-2']['p']\n",
        "    rouge2f += result[0]['rouge-2']['f']\n",
        "\n",
        "    rougelr += result[0]['rouge-l']['r']\n",
        "    rougelp += result[0]['rouge-l']['p']\n",
        "    rougelf += result[0]['rouge-l']['f']\n",
        "\n",
        "avg_gpt2_by_arjun_rouge = {'rouge-1':{'r': rouge1r/N, 'p': rouge1p/N, 'f': rouge1f/N}, 'rouge-2':{'r': rouge2r/N, 'p': rouge2p/N, 'f': rouge2f/N}, 'rouge-l':{'r': rougelr/N, 'p': rougelp/N, 'f': rougelf/N}}\n",
        "print(avg_gpt2_by_arjun_rouge)"
      ],
      "metadata": {
        "id": "qf_VpCxgzQsY",
        "colab": {
          "base_uri": "https://localhost:8080/"
        },
        "outputId": "98c4b1e9-10c7-4c48-cc2d-537615631e7f"
      },
      "execution_count": null,
      "outputs": [
        {
          "output_type": "stream",
          "name": "stdout",
          "text": [
            "{'rouge-1': {'r': 0.2620137299771167, 'p': 0.730769230769231, 'f': 0.3855521000347513}, 'rouge-2': {'r': 0.0, 'p': 0.0, 'f': 0.0}, 'rouge-l': {'r': 0.2620137299771167, 'p': 0.730769230769231, 'f': 0.3855521000347513}}\n"
          ]
        }
      ]
    },
    {
      "cell_type": "code",
      "source": [
        "all_gpt2_rouge = [avg_gpt2_by_human_rouge, avg_gpt2_by_tarasha_rouge, avg_gpt2_by_arjun_rouge]\n",
        "# SCORE TO BEAT: {'rouge-1': {'r': 0.44843257775721174, 'p': 0.26704870321249635, 'f': 0.32233283893970527}, 'rouge-2': {'r': 0.23409951842891383, 'p': 0.12404817840146716, 'f': 0.15570658372256482}, 'rouge-l': {'r': 0.43756552995403325, 'p': 0.2579605069260242, 'f': 0.3127341419547412}}\n",
        "print(avg_rouge_results(all_gpt2_rouge))"
      ],
      "metadata": {
        "id": "XPWSz6WqaZiG",
        "colab": {
          "base_uri": "https://localhost:8080/"
        },
        "outputId": "31232fb7-ce6e-481c-c2b4-888d3d4da97a"
      },
      "execution_count": null,
      "outputs": [
        {
          "output_type": "stream",
          "name": "stdout",
          "text": [
            "{'rouge-1': {'r': 0.7361045593080427, 'p': 0.8243531993531995, 'f': 0.69525345236771}, 'rouge-2': {'r': 0.15476190500064155, 'p': 0.1187099358974359, 'f': 0.12116174882188062}, 'rouge-l': {'r': 0.698892753367477, 'p': 0.7890486640486641, 'f': 0.6630087517923223}}\n"
          ]
        }
      ]
    },
    {
      "cell_type": "markdown",
      "source": [
        "## Using wmd\n"
      ],
      "metadata": {
        "id": "jJeaMxC-LSG7"
      }
    },
    {
      "cell_type": "code",
      "source": [
        "from nltk.corpus import stopwords\n",
        "from nltk import download\n",
        "download('stopwords')\n",
        "stop_words = stopwords.words('english')\n",
        "\n",
        "def preprocess(sentence):\n",
        "  a = []\n",
        "  for sen in sentence:\n",
        "    for word in sen.split(\" \"):\n",
        "      if word.lower() not in stop_words:\n",
        "        a.append(word.lower())\n",
        "  return a\n",
        "\n",
        "def preprocess2(sentence):\n",
        "  return [w for w in sentence.lower().split() if w not in stop_words]\n",
        "\n",
        "def preprocess_to_str(sentence):\n",
        "  sentence = sentence.lower().split()\n",
        "  result = \"\"\n",
        "  for i in sentence:\n",
        "    if i not in stop_words:\n",
        "      result += (i + \" \")\n",
        "  return result\n",
        "\n",
        "avg_dist = 0\n",
        "for i in range(N):\n",
        "  reference_summary1 = preprocess2(by_human[i])\n",
        "  reference_summary2 = preprocess2(by_tarasha[i])\n",
        "  reference_summary3 = preprocess2(by_arjun[i])\n",
        "  model_summary = preprocess2(newer_gpt2_summary[i])\n",
        "  print(f\"*** WMD for the {i+1}th summary ***\")\n",
        "  distance1 = wmdmodel.wmdistance(model_summary, reference_summary1)\n",
        "  print('distance = %.4f' % distance1)\n",
        "  distance2 = wmdmodel.wmdistance(model_summary, reference_summary2)\n",
        "  print('distance = %.4f' % distance2)\n",
        "  distance3 = wmdmodel.wmdistance(model_summary, reference_summary3)\n",
        "  print('distance = %.4f' % distance3)\n",
        "  dist = (distance1 + distance2 + distance3) / 3\n",
        "  avg_dist += dist\n",
        "  print('average distance = %.4f' % dist + \"\\n\")\n",
        "print(\"*** Average WMD from all 4 summaries *** \")\n",
        "print(avg_dist/N)"
      ],
      "metadata": {
        "id": "wEKpJQZrN9F0",
        "colab": {
          "base_uri": "https://localhost:8080/"
        },
        "outputId": "63d79ec0-4bd8-4a12-e5f1-6967ace0d2df"
      },
      "execution_count": null,
      "outputs": [
        {
          "output_type": "stream",
          "name": "stdout",
          "text": [
            "*** WMD for the 1th summary ***\n",
            "distance = 0.9573\n",
            "distance = 0.9569\n",
            "distance = 0.9006\n",
            "average distance = 0.9383\n",
            "\n",
            "*** WMD for the 2th summary ***\n",
            "distance = 0.8385\n",
            "distance = 1.0016\n",
            "distance = 1.0329\n",
            "average distance = 0.9577\n",
            "\n",
            "*** WMD for the 3th summary ***\n",
            "distance = 0.8750\n",
            "distance = 1.0220\n",
            "distance = 0.9462\n",
            "average distance = 0.9477\n",
            "\n",
            "*** WMD for the 4th summary ***\n",
            "distance = 1.0498\n",
            "distance = 0.9819\n",
            "distance = 1.1364\n",
            "average distance = 1.0561\n",
            "\n",
            "*** Average WMD from all 4 summaries *** \n",
            "0.9749342021736258\n"
          ]
        }
      ]
    },
    {
      "cell_type": "code",
      "source": [
        "print(preprocess2(new_gpt2_summary[i]))"
      ],
      "metadata": {
        "id": "pZoa0rQ7I_kj",
        "colab": {
          "base_uri": "https://localhost:8080/"
        },
        "outputId": "0d47420b-249a-457a-f5bd-bf9d4c90e3df"
      },
      "execution_count": null,
      "outputs": [
        {
          "output_type": "stream",
          "name": "stdout",
          "text": [
            "['committee', 'international', 'financial', 'management', 'considered', 'changing', 'monetary', 'policy', 'united', 'states', 'mix', 'add', 'accommodative', 'monetary', 'policy', 'improve', 'financial', 'international', 'conditions.', 'committee', 'aware', 'risk', 'increasing', 'rate', 'inflation', 'response', 'pandemic', 'present', 'adopted', 'accommodative', 'policies.']\n"
          ]
        }
      ]
    },
    {
      "cell_type": "code",
      "source": [
        "print(reference_summary3)"
      ],
      "metadata": {
        "id": "gUxKofq9JDfJ",
        "colab": {
          "base_uri": "https://localhost:8080/"
        },
        "outputId": "6bf71ded-6b31-4a50-8191-c916c1af6097"
      },
      "execution_count": null,
      "outputs": [
        {
          "output_type": "stream",
          "name": "stdout",
          "text": [
            "['us', 'economy', 'showed', 'signs', 'recovery', 'strong', 'indicators', 'good', 'employment', 'despite', 'fact', 'got', 'severely', 'affected', 'covid-19', 'cases.', 'but,', 'supply-demand', 'imbalances', 'due', 'pandemic', 'rise', 'new', 'virus', 'variants.', 'federal', 'reserve', 'kept', 'federal', 'funds', 'rate', 'target', 'range', '0%', '¼%', 'expects', 'raise', 'soon', 'due', 'inflation', 'well', '2%', 'strong', 'labor', 'market.', 'furthermore,', 'committee', 'decided', 'continue', 'reduce', 'monthly', 'pace', 'net', 'asset', 'purchases.', 'also', 'aim', 'increase', 'holdings', 'treasury', 'securities', 'least', '$20', 'billion', 'month', 'agency', 'mortgage‐backed', 'securities', 'least', '$10', 'billion', 'per', 'month.', 'purchase', 'holdings', 'aim', 'continue', 'smoothen', 'market', 'functioning,', 'thereby', 'supporting', 'flow', 'credit', 'households', 'businesses.']\n"
          ]
        }
      ]
    },
    {
      "cell_type": "code",
      "source": [],
      "metadata": {
        "id": "zG2Ds_KUi6W8"
      },
      "execution_count": null,
      "outputs": []
    }
  ],
  "metadata": {
    "accelerator": "GPU",
    "colab": {
      "provenance": []
    },
    "gpuClass": "standard",
    "kernelspec": {
      "display_name": "Python 3",
      "name": "python3"
    },
    "language_info": {
      "name": "python"
    }
  },
  "nbformat": 4,
  "nbformat_minor": 0
}