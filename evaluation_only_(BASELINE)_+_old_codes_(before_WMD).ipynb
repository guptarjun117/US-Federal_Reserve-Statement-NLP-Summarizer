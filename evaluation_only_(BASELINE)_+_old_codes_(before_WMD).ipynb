{
  "cells": [
    {
      "cell_type": "code",
      "execution_count": null,
      "metadata": {
        "colab": {
          "base_uri": "https://localhost:8080/"
        },
        "id": "iIpwXONTjXwx",
        "outputId": "c5f744dc-9710-44ac-de32-ce1d69e30950"
      },
      "outputs": [
        {
          "output_type": "stream",
          "name": "stdout",
          "text": [
            "Requirement already satisfied: python-docx in ./opt/anaconda3/lib/python3.9/site-packages (0.8.11)\r\n",
            "Requirement already satisfied: lxml>=2.3.2 in ./opt/anaconda3/lib/python3.9/site-packages (from python-docx) (4.9.1)\n",
            "Requirement already satisfied: PyPDF2 in ./opt/anaconda3/lib/python3.9/site-packages (2.10.8)\n",
            "Requirement already satisfied: typing-extensions>=3.10.0.0 in ./opt/anaconda3/lib/python3.9/site-packages (from PyPDF2) (4.4.0)\n",
            "Requirement already satisfied: transformers in ./opt/anaconda3/lib/python3.9/site-packages (4.25.1)\n",
            "Requirement already satisfied: datasets in ./opt/anaconda3/lib/python3.9/site-packages (2.8.0)\n",
            "Requirement already satisfied: packaging>=20.0 in ./opt/anaconda3/lib/python3.9/site-packages (from transformers) (22.0)\n",
            "Requirement already satisfied: tqdm>=4.27 in ./opt/anaconda3/lib/python3.9/site-packages (from transformers) (4.64.1)\n",
            "Requirement already satisfied: filelock in ./opt/anaconda3/lib/python3.9/site-packages (from transformers) (3.9.0)\n",
            "Requirement already satisfied: regex!=2019.12.17 in ./opt/anaconda3/lib/python3.9/site-packages (from transformers) (2022.7.9)\n",
            "Requirement already satisfied: pyyaml>=5.1 in ./opt/anaconda3/lib/python3.9/site-packages (from transformers) (6.0)\n",
            "Requirement already satisfied: numpy>=1.17 in ./opt/anaconda3/lib/python3.9/site-packages (from transformers) (1.21.5)\n",
            "Requirement already satisfied: requests in ./opt/anaconda3/lib/python3.9/site-packages (from transformers) (2.28.1)\n",
            "Requirement already satisfied: huggingface-hub<1.0,>=0.10.0 in ./opt/anaconda3/lib/python3.9/site-packages (from transformers) (0.11.1)\n",
            "Requirement already satisfied: tokenizers!=0.11.3,<0.14,>=0.11.1 in ./opt/anaconda3/lib/python3.9/site-packages (from transformers) (0.13.2)\n",
            "Requirement already satisfied: dill<0.3.7 in ./opt/anaconda3/lib/python3.9/site-packages (from datasets) (0.3.6)\n",
            "Requirement already satisfied: responses<0.19 in ./opt/anaconda3/lib/python3.9/site-packages (from datasets) (0.10.15)\n",
            "Requirement already satisfied: xxhash in ./opt/anaconda3/lib/python3.9/site-packages (from datasets) (3.2.0)\n",
            "Requirement already satisfied: pyarrow>=6.0.0 in ./opt/anaconda3/lib/python3.9/site-packages (from datasets) (10.0.1)\n",
            "Requirement already satisfied: fsspec[http]>=2021.11.1 in ./opt/anaconda3/lib/python3.9/site-packages (from datasets) (2022.11.0)\n",
            "Requirement already satisfied: aiohttp in ./opt/anaconda3/lib/python3.9/site-packages (from datasets) (3.8.3)\n",
            "Requirement already satisfied: multiprocess in ./opt/anaconda3/lib/python3.9/site-packages (from datasets) (0.70.14)\n",
            "Requirement already satisfied: pandas in ./opt/anaconda3/lib/python3.9/site-packages (from datasets) (1.4.4)\n",
            "Requirement already satisfied: async-timeout<5.0,>=4.0.0a3 in ./opt/anaconda3/lib/python3.9/site-packages (from aiohttp->datasets) (4.0.2)\n",
            "Requirement already satisfied: frozenlist>=1.1.1 in ./opt/anaconda3/lib/python3.9/site-packages (from aiohttp->datasets) (1.3.3)\n",
            "Requirement already satisfied: aiosignal>=1.1.2 in ./opt/anaconda3/lib/python3.9/site-packages (from aiohttp->datasets) (1.2.0)\n",
            "Requirement already satisfied: charset-normalizer<3.0,>=2.0 in ./opt/anaconda3/lib/python3.9/site-packages (from aiohttp->datasets) (2.0.4)\n",
            "Requirement already satisfied: yarl<2.0,>=1.0 in ./opt/anaconda3/lib/python3.9/site-packages (from aiohttp->datasets) (1.8.1)\n",
            "Requirement already satisfied: multidict<7.0,>=4.5 in ./opt/anaconda3/lib/python3.9/site-packages (from aiohttp->datasets) (6.0.2)\n",
            "Requirement already satisfied: attrs>=17.3.0 in ./opt/anaconda3/lib/python3.9/site-packages (from aiohttp->datasets) (22.1.0)\n",
            "Requirement already satisfied: typing-extensions>=3.7.4.3 in ./opt/anaconda3/lib/python3.9/site-packages (from huggingface-hub<1.0,>=0.10.0->transformers) (4.4.0)\n",
            "Requirement already satisfied: certifi>=2017.4.17 in ./opt/anaconda3/lib/python3.9/site-packages (from requests->transformers) (2022.12.7)\n",
            "Requirement already satisfied: urllib3<1.27,>=1.21.1 in ./opt/anaconda3/lib/python3.9/site-packages (from requests->transformers) (1.26.14)\n",
            "Requirement already satisfied: idna<4,>=2.5 in ./opt/anaconda3/lib/python3.9/site-packages (from requests->transformers) (3.4)\n",
            "Requirement already satisfied: six in ./opt/anaconda3/lib/python3.9/site-packages (from responses<0.19->datasets) (1.12.0)\n",
            "Requirement already satisfied: python-dateutil>=2.8.1 in ./opt/anaconda3/lib/python3.9/site-packages (from pandas->datasets) (2.8.2)\n",
            "Requirement already satisfied: pytz>=2020.1 in ./opt/anaconda3/lib/python3.9/site-packages (from pandas->datasets) (2022.7)\n"
          ]
        }
      ],
      "source": [
        "import os\n",
        "\n",
        "# import pandas as pd\n",
        "# import numpy as np\n",
        "# import matplotlib.pyplot as plt\n",
        "!pip install python-docx\n",
        "import docx\n",
        "!pip install PyPDF2\n",
        "import PyPDF2\n",
        "\n",
        "!pip install transformers datasets"
      ]
    },
    {
      "cell_type": "code",
      "execution_count": null,
      "metadata": {
        "id": "BnpAyuE5jlzI"
      },
      "outputs": [],
      "source": [
        "# from google.colab import drive\n",
        "# drive.mount('/content/drive', force_remount = True)\n",
        "# # note: the path may be different for others.\n",
        "# os.chdir('/content/drive/MyDrive/DAP Group 6: Fin Scanners/statements')"
      ]
    },
    {
      "cell_type": "code",
      "execution_count": null,
      "metadata": {
        "colab": {
          "base_uri": "https://localhost:8080/"
        },
        "id": "MCfXFbeqjnvr",
        "outputId": "a375ea28-6b42-46fc-f0b3-24a86e52fbfd"
      },
      "outputs": [
        {
          "output_type": "stream",
          "name": "stdout",
          "text": [
            "\u001b[34mApplications\u001b[m\u001b[m                    monetary20220615a1_summary.docx\r\n",
            "\u001b[34mDesktop\u001b[m\u001b[m                         monetary20220727a1.pdf\r\n",
            "\u001b[34mDeveloper\u001b[m\u001b[m                       monetary20220727a1_summary.docx\r\n",
            "\u001b[34mDocuments\u001b[m\u001b[m                       monetary20220921a1.pdf\r\n",
            "\u001b[34mDownloads\u001b[m\u001b[m                       monetary20220921a1_summary.docx\r\n",
            "\u001b[34mLibrary\u001b[m\u001b[m                         monetary20221102a1.pdf\r\n",
            "\u001b[34mMovies\u001b[m\u001b[m                          monetary20221102a1_summary.docx\r\n",
            "\u001b[34mMusic\u001b[m\u001b[m                           monetary20221214a1.pdf\r\n",
            "\u001b[34mPictures\u001b[m\u001b[m                        monetary20221214a1_summary.docx\r\n",
            "\u001b[34mPostman\u001b[m\u001b[m                         news_summary.csv\r\n",
            "\u001b[34mPublic\u001b[m\u001b[m                          \u001b[34mnltk_data\u001b[m\u001b[m\r\n",
            "\u001b[34mSites\u001b[m\u001b[m                           open\r\n",
            "Summary 20220126a1.docx         \u001b[34mopt\u001b[m\u001b[m\r\n",
            "Summary 20220504a1.docx         \u001b[34mpandas\u001b[m\u001b[m\r\n",
            "Summary 20220615a1.docx         refsum20220126.docx\r\n",
            "Summary 20220727a1.docx         refsum20220504.docx\r\n",
            "Summary 20220921a1.docx         refsum20220615.docx\r\n",
            "Summary 20221102a1.docx         refsum20220727.docx\r\n",
            "Summary 20221214a1.docx         refsum20220921.docx\r\n",
            "\u001b[34mZotero\u001b[m\u001b[m                          refsum20221102.docx\r\n",
            "\u001b[34mgensim-data\u001b[m\u001b[m                     refsum20221214.docx\r\n",
            "monetary20220126a1.pdf          \u001b[34mresults\u001b[m\u001b[m\r\n",
            "monetary20220126a1_summary.docx tutorial.pem\r\n",
            "monetary20220504a1.pdf          \u001b[34mvenv\u001b[m\u001b[m\r\n",
            "monetary20220504a1_summary.docx word_mov_dist.pkl\r\n",
            "monetary20220615a1.pdf\r\n"
          ]
        }
      ],
      "source": [
        "!ls"
      ]
    },
    {
      "cell_type": "markdown",
      "metadata": {
        "id": "SqNE86oAEfWC"
      },
      "source": [
        "# create a function to preprocess the statement to be fed into the model"
      ]
    },
    {
      "cell_type": "code",
      "execution_count": null,
      "metadata": {
        "id": "BpEBJGpskgER"
      },
      "outputs": [],
      "source": [
        "def clean_monetary_pdf(monetary_pdf, by=\"para\"):\n",
        "  # takes in 2 parameters: first is the original statement;\n",
        "  # second parameter is \"para\" (for split by paragraphs) or  \"sen\" (for split by first sentences)\n",
        "\n",
        "  # opening the pdf\n",
        "  monetary_pdf = open(monetary_pdf, \"rb\")\n",
        "  monetary_pdf = PyPDF2.PdfReader(monetary_pdf)\n",
        "\n",
        "  # chunking all the text in the pdf together\n",
        "  text = \"\"\n",
        "  for page in monetary_pdf.pages:\n",
        "    text+=page.extract_text()\n",
        "    if \"-0-\" in page:\n",
        "      break\n",
        "\n",
        "  # create a header variable which we will need to take out if present\n",
        "  header = \"\"\n",
        "  start = text.find(\"For release\")\n",
        "  end = text.find(\"22\")\n",
        "  header = text[start:end+2]\n",
        "\n",
        "  text = text.split(\"\\n\")\n",
        "\n",
        "  # split by paragraph\n",
        "  para_summary_input = []\n",
        "  current_para = \"\"\n",
        "\n",
        "  for i,sentence in enumerate(text):\n",
        "    if \"Voting\" in sentence:\n",
        "      break\n",
        "    elif \"-2-\" in sentence or \"(more)\" in sentence:\n",
        "      continue\n",
        "    # make sure there's no headers in the sentence\n",
        "    sentence = sentence.replace(header, \"\")\n",
        "    # if first word is a \" \", that means it's a start of a new paragraph! (not the same for every text!)\n",
        "    # if the sentence starts with a capital letter and the prevoious letter is a \" \" then it's also a new para! (idk how that works)\n",
        "    # push the current para into the summary and reset current_para\n",
        "    # print(sentence)\n",
        "    if sentence[0] == \" \" or (sentence[0].isupper() and text[i-1][-1] == \" \"):\n",
        "      if current_para.strip():\n",
        "        para_summary_input.append(current_para.strip())\n",
        "      current_para = sentence\n",
        "    else:\n",
        "        current_para += sentence\n",
        "  # add in the leftovers\n",
        "  if current_para:\n",
        "    para_summary_input.append(current_para)\n",
        "\n",
        "  if by == \"para\":\n",
        "    return para_summary_input\n",
        "\n",
        "  # split and get the first sentences\n",
        "  if by == \"sen\":\n",
        "    first_n_summary = \"\"\n",
        "    for para in para_summary_input:      \n",
        "      first_n_summary += para.split(\". \")[0] + \". \"\n",
        "    \n",
        "    return first_n_summary"
      ]
    },
    {
      "cell_type": "markdown",
      "metadata": {
        "id": "-sL0SMpHO0q-"
      },
      "source": [
        "(sort of\\) works for everything except for the statements in Jun, Jul and Sep"
      ]
    },
    {
      "cell_type": "code",
      "execution_count": null,
      "metadata": {
        "id": "rROGTvf3PH0M"
      },
      "outputs": [],
      "source": [
        "by_para_mon202212 = ['Recent indicators point to modest growth in spending and production.  Job gains have been robust in recent months, and the unemployment rate has remained low.  Inflation remains elevated, reflecting supply and demand imbalances related to the pandemic, higher food and energy prices, and broader price pressures.', 'Russia’s war against Ukraine is causing tremendous human and economic hardship.  The war and related e vents are contributing to upward pressure on inflation and are weighing on global economic activity.  The Committee is highly attentive to inflation risks.', 'The Committee seeks to achieve maximum employment and inflation at the rate of 2 percent over the l onger run.  In support of these goals, the Committee decided to raise the target range for the federal funds rate to 4 -1/4 to 4- 1/2 percent.  The Committee anticipates that ongoing increases in the target range will be appropriate in order to attain a stan ce of monetary policy that is sufficiently restrictive to return inflation to 2 percent over time.  In determining the pace of future increases in the target range, the Committee will take into account the cumulative tightening of monetary policy, the lags  with which monetary policy affects economic activity and inflation, and economic and financial developments.  In addition, the Committee will continue reducing its holdings of Treasury securities and agency debt and agency mortgage -backed securities, as d escribed in the Plans for Reducing the Size of the Federal Reserve’s Balance Sheet that were issued in May.  The Committee is strongly committed to returning inflation to its 2 percent objective.', 'In assessing the appropriate stance of monetary policy, the Committee will continue to monitor the implications of incoming information for the economic outlook.  The Committee would be prepared to adjust the stance of monetary policy as appropriate if ris ks emerge that could impede the attainment of the Committee’s goals.  The Committee’s assessments will take into account a wide range of information, including readings on public health, labor market conditions, inflation pressures and inflation expectations, and financial and international developments.   ']\n",
        "by_sen_mon202212 = \"Recent indicators point to modest growth in spending and production. Russia’s war against Ukraine is causing tremendous human and economic hardship. The Committee seeks to achieve maximum employment and inflation at the rate of 2 percent over the l onger run. In assessing the appropriate stance of monetary policy, the Committee will continue to monitor the implications of incoming information for the economic outlook. \""
      ]
    },
    {
      "cell_type": "code",
      "execution_count": null,
      "metadata": {
        "id": "K0hL3dJRuYgy"
      },
      "outputs": [],
      "source": [
        "by_para_mon202211 = ['Recent indicators point to modest growth in spending and production.  Job gains have been robust in recent months, and the unemployment rate has remained low.  Inflation remains elevated, reflecting supply and demand imbalances related to the pandemic, higher food and energy prices, and broader price pressures .', 'Russia’s war against Ukraine is causing tremendous human and economic hardship.  The war and related  events are creating additional upward pressure on inflation and are weighing on global economic activity.  The Committee is highly attentive to inflation risks.', 'The Committee seeks to achieve maximum employment and inflation at the rate of 2 percent ov er the longer run.  In support of these goals, the Committee decided to raise the target range for the federal funds rate to 3 -3/4 to 4 percent.  The Committee anticipates that ongoing increases in the target range will be appropriate in order to attain a stance of monetary policy that is sufficiently restrictive to return inflation to 2 percent over time .  In determining the pace of future increases in the target range, the Committee will take into account the cumulative tightening of monetary policy, the lags with which monetary policy affects economic activity and inflation, and economic and financial developments.  In addition, the Committee will continue reducing its holdings of Treasury securities and agency debt and agency mortgage -backed securities, as described in the Plans for Reducing the Size of the Federal Reserve’s Balance Sheet that were issued in May.  The Committee is strongly committed to returning inflation to its 2 percent objective.', ' In assessing the appropriate stance of monetary policy, the Committee will continue to monitor the implications of incoming information for the economic outlook.  The Committee would be prepared to adjust the stance of monetary policy as appropriate if ris ks emerge that could impede the attainment of the Committee’s goals.  The Committee’s assessments will take into account a wide range of information, including readings on public health, labor market conditions, inflation pressures and inflation expectations, and financial and international developments.   ']\n",
        "by_sen_mon202211 = \"Recent indicators point to modest growth in spending and production. Russia’s war against Ukraine is causing tremendous human and economic hardship. The Committee seeks to achieve maximum employment and inflation at the rate of 2 percent ov er the longer run.  In assessing the appropriate stance of monetary policy, the Committee will continue to monitor the implications of incoming information for the economic outlook. \""
      ]
    },
    {
      "cell_type": "code",
      "execution_count": null,
      "metadata": {
        "id": "63EftyXCaE6O"
      },
      "outputs": [],
      "source": [
        "by_para_mon202205 = ['Although overall economic activity edged down in the first quarter, household spending and business fixed investment remained strong.  Job gains have been robust  in recent months, and the unemployment rate has declined substantially.  Inflation remains elevated, reflecting supply and demand imbalances related to the pandemic, higher energy prices, and broader price pressures.', 'The invasion of Ukraine by Russia is c ausing tremendous human and economic hardship.  The implications for the U.S. economy are highly uncertain.  The invasion and related events are creating  additional upward pressure on inflation and are likely to weigh on economic activity.  In addition, CO VID- related lockdowns in China are likely to exacerbate supply chain disruptions.  The Committee is highly attentive to inflation risks.', 'The Committee seeks to achieve maximum employment and inflation at the rate of 2 percent over the longer run.  With appropriate firming in the stance of monetary policy, the Committee expects inflation to return to its 2  percent objective and the labor market to remain strong.  In support of these goals, the Committee decided to raise the target range for the federal funds rate to 3/4 to 1 percent and anticipates that ongoing increases in the target range will be appropriate.  In addition, the Committee decided  to begin reducing its holdings of Treasury securities and agency debt and agency mortgage -backed securities on June 1, as described in the Plans for Reducing the Size of the Federal Reserve’s Balance Sheet that were issued in conjunction with this statement.', 'In assessing the appropriate stance of monetary policy, the Committee will continue to monitor the implications of incoming information for the economic', '  outlook.  The Committee would be prepared to adjust the stance of monetary policy as appropriate if risks emerge that could impede the attainment of the Committee’s goals.  The Committee’s assessments will take into account a wide range of information, including readings on public health, labor market conditions, inflation pressures and inflation expectations, and financial and international developments.  ']\n",
        "by_sen_mon202205 = \"Although overall economic activity edged down in the first quarter, household spending and business fixed investment remained strong. The invasion of Ukraine by Russia is c ausing tremendous human and economic hardship. The Committee seeks to achieve maximum employment and inflation at the rate of 2 percent over the longer run. In assessing the appropriate stance of monetary policy, the Committee will continue to monitor the implications of incoming information for the economic.   outlook. \""
      ]
    },
    {
      "cell_type": "code",
      "execution_count": null,
      "metadata": {
        "id": "QfkJCypNjd9v"
      },
      "outputs": [],
      "source": [
        "by_para_mon202201 = ['Indicators of economic activity and empl oyment have continued to strengthen.', 'The sectors most adversely affected by th e pandemic have improved in recent months but are being affected by the recent sharp rise in COVID-19 cases.  Job gains have been solid in recent months, and the unemployment rate has declined substantially.  Supply and demand imbalances related to the pandemic and the reopening of the economy have continued to contribute to el evated levels of inflation.  Overall financial conditions remain accommodative, in part reflecting policy measures to support the economy and the flow of cred it to U.S. households and businesses.', 'The path of the economy continues to depe nd on the course of the virus.  Progress on vaccinations and an easing of supply cons traints are expected to support continued gains in economic activity and employment as well as a reduction in inflation.  Risks to the economic outlook re main, including from new va riants of the virus.', 'The Committee seeks to achieve maximum em ployment and inflation at the rate of 2 percent over the longer run.  In s upport of these goals, the Committee decided to keep the target range for the federal funds rate  at 0 to 1/4 percent.  With inflation well above 2 percent and a strong labor market , the Committee exp ects it will soon be appropriate to raise the target range for the federal funds rate.   The Committee decided to continue to redu ce the monthly pace of its net asset purchases, bringing them to an end in early March.  Beginni ng in February, the Committee will increase its holdings of Treasury securities by at least $20 billion per month and of agency mortgage ‑backed securities by at l east $10 billion per month.  The Federal Reserve’s ongoing purchases and  holdings of securities will con tinue to foster smooth market functioning and accommodative financial condi tions, thereby supporting the flow of credit to households and businesses.', 'In assessing the appropriate stance of monetary policy, the Committee will continue to monitor the implications of  incoming information for the economic outlook.  The Committee would be prepared to  adjust the stance of monetary policy as appropriate if risks emer ge that could impede the at tainment of the Committee’s goals.  The Committee’s assessments will take into account a wide range of information, including readi ngs on public health, labor market conditions, inflation pressures and inflation exp ectations, and financial and international developments. ']\n",
        "by_sen_mon202201 = \"Indicators of economic activity and empl oyment have continued to strengthen.. The sectors most adversely affected by th e pandemic have improved in recent months but are being affected by the recent sharp rise in COVID-19 cases. The path of the economy continues to depe nd on the course of the virus. The Committee seeks to achieve maximum em ployment and inflation at the rate of 2 percent over the longer run. In assessing the appropriate stance of monetary policy, the Committee will continue to monitor the implications of  incoming information for the economic outlook. \""
      ]
    },
    {
      "cell_type": "code",
      "source": [
        "# print(by_para_mon202212)\n",
        "# print(by_sen_mon202212)"
      ],
      "metadata": {
        "id": "2NdI3We-J9xF"
      },
      "execution_count": null,
      "outputs": []
    },
    {
      "cell_type": "code",
      "source": [
        "# print(by_para_mon202211)\n",
        "# print(by_sen_mon202211)"
      ],
      "metadata": {
        "id": "PygQH-TqKgvV"
      },
      "execution_count": null,
      "outputs": []
    },
    {
      "cell_type": "code",
      "source": [
        "# print(by_para_mon202205)\n",
        "# print(by_sen_mon202205)"
      ],
      "metadata": {
        "id": "sE0ThDEZKgse"
      },
      "execution_count": null,
      "outputs": []
    },
    {
      "cell_type": "code",
      "source": [
        "# print(by_para_mon202201)\n",
        "# print(by_sen_mon202201)"
      ],
      "metadata": {
        "id": "bDl0RHf7Kgol"
      },
      "execution_count": null,
      "outputs": []
    },
    {
      "cell_type": "code",
      "execution_count": null,
      "metadata": {
        "id": "3uTbL6PlFFLE"
      },
      "outputs": [],
      "source": [
        "by_para_mon = [by_para_mon202212, by_para_mon202211, by_para_mon202205, by_para_mon202201]\n",
        "by_sen_mon = [by_sen_mon202212, by_sen_mon202211, by_sen_mon202205, by_sen_mon202201]"
      ]
    },
    {
      "cell_type": "markdown",
      "metadata": {
        "id": "7Ck1w2OWWLpC"
      },
      "source": [
        "# code to extract our human-summarisation from the docx into the model"
      ]
    },
    {
      "cell_type": "code",
      "execution_count": null,
      "metadata": {
        "id": "XHxTmyWxTpJE"
      },
      "outputs": [],
      "source": [
        "def getText(filename):\n",
        "    doc = docx.Document(filename)\n",
        "    fullText = []\n",
        "    for para in doc.paragraphs:\n",
        "        fullText.append(para.text)\n",
        "    return ' '.join(fullText)"
      ]
    },
    {
      "cell_type": "code",
      "execution_count": null,
      "metadata": {
        "id": "cnL-8s1CWrHj"
      },
      "outputs": [],
      "source": [
        "# given the way i write the for-loop later on, the order should stay like that\n",
        "\n",
        "human202212 = getText(\"refsum20221214.docx\")\n",
        "human202211 = getText(\"refsum20221102.docx\")\n",
        "human202205 = getText(\"refsum20220504.docx\")\n",
        "human202201 = getText(\"refsum20220126.docx\")\n",
        "tarasha202212 = getText(\"Summary 20221214a1.docx\")\n",
        "tarasha202211 = getText(\"Summary 20221102a1.docx\")\n",
        "tarasha202205 = getText(\"Summary 20220504a1.docx\")\n",
        "tarasha202201 = getText(\"Summary 20220126a1.docx\")\n",
        "arjun202212 = getText(\"monetary20220126a1_summary.docx\")\n",
        "arjun202211 = getText(\"monetary20221102a1_summary.docx\")\n",
        "arjun202205 = getText(\"monetary20220504a1_summary.docx\")\n",
        "arjun202201 = getText(\"monetary20220126a1_summary.docx\")\n",
        "\n",
        "by_human = [human202212, human202211, human202205, human202201]\n",
        "by_tarasha = [tarasha202212, tarasha202211, tarasha202205, tarasha202201]\n",
        "by_arjun = [arjun202212, arjun202211, arjun202205, arjun202201]"
      ]
    },
    {
      "cell_type": "markdown",
      "metadata": {
        "id": "62QGiwm1G1Ks"
      },
      "source": [
        "# Evaluating baseline model"
      ]
    },
    {
      "cell_type": "code",
      "execution_count": null,
      "metadata": {
        "colab": {
          "base_uri": "https://localhost:8080/"
        },
        "id": "H6gbJgoWE-dD",
        "outputId": "df04d001-8a79-4a45-b7aa-415addfa0040"
      },
      "outputs": [
        {
          "output_type": "stream",
          "name": "stdout",
          "text": [
            "Requirement already satisfied: transformers in ./opt/anaconda3/lib/python3.9/site-packages (4.25.1)\n",
            "Requirement already satisfied: regex!=2019.12.17 in ./opt/anaconda3/lib/python3.9/site-packages (from transformers) (2022.7.9)\n",
            "Requirement already satisfied: packaging>=20.0 in ./opt/anaconda3/lib/python3.9/site-packages (from transformers) (22.0)\n",
            "Requirement already satisfied: numpy>=1.17 in ./opt/anaconda3/lib/python3.9/site-packages (from transformers) (1.21.5)\n",
            "Requirement already satisfied: pyyaml>=5.1 in ./opt/anaconda3/lib/python3.9/site-packages (from transformers) (6.0)\n",
            "Requirement already satisfied: requests in ./opt/anaconda3/lib/python3.9/site-packages (from transformers) (2.28.1)\n",
            "Requirement already satisfied: filelock in ./opt/anaconda3/lib/python3.9/site-packages (from transformers) (3.9.0)\n",
            "Requirement already satisfied: tokenizers!=0.11.3,<0.14,>=0.11.1 in ./opt/anaconda3/lib/python3.9/site-packages (from transformers) (0.13.2)\n",
            "Requirement already satisfied: tqdm>=4.27 in ./opt/anaconda3/lib/python3.9/site-packages (from transformers) (4.64.1)\n",
            "Requirement already satisfied: huggingface-hub<1.0,>=0.10.0 in ./opt/anaconda3/lib/python3.9/site-packages (from transformers) (0.11.1)\n",
            "Requirement already satisfied: typing-extensions>=3.7.4.3 in ./opt/anaconda3/lib/python3.9/site-packages (from huggingface-hub<1.0,>=0.10.0->transformers) (4.4.0)\n",
            "Requirement already satisfied: charset-normalizer<3,>=2 in ./opt/anaconda3/lib/python3.9/site-packages (from requests->transformers) (2.0.4)\n",
            "Requirement already satisfied: urllib3<1.27,>=1.21.1 in ./opt/anaconda3/lib/python3.9/site-packages (from requests->transformers) (1.26.14)\n",
            "Requirement already satisfied: certifi>=2017.4.17 in ./opt/anaconda3/lib/python3.9/site-packages (from requests->transformers) (2022.12.7)\n",
            "Requirement already satisfied: idna<4,>=2.5 in ./opt/anaconda3/lib/python3.9/site-packages (from requests->transformers) (3.4)\n",
            "Requirement already satisfied: sentencepiece in ./opt/anaconda3/lib/python3.9/site-packages (0.1.97)\n"
          ]
        }
      ],
      "source": [
        "!pip install transformers\n",
        "from transformers import pipeline, AutoTokenizer, AutoModelForSeq2SeqLM\n",
        "!pip install sentencepiece"
      ]
    },
    {
      "cell_type": "markdown",
      "metadata": {
        "id": "2SnPVM5Snkl0"
      },
      "source": [
        "## Based on ROUGE, BLEU, BLANC"
      ]
    },
    {
      "cell_type": "code",
      "execution_count": null,
      "metadata": {
        "colab": {
          "base_uri": "https://localhost:8080/"
        },
        "id": "lIAgtStoIbmr",
        "outputId": "99860e33-91b5-4824-f83d-a193b1d00049"
      },
      "outputs": [
        {
          "output_type": "stream",
          "name": "stdout",
          "text": [
            "Requirement already satisfied: rouge in ./opt/anaconda3/lib/python3.9/site-packages (1.0.1)\r\n",
            "Requirement already satisfied: six in ./opt/anaconda3/lib/python3.9/site-packages (from rouge) (1.12.0)\r\n"
          ]
        }
      ],
      "source": [
        "!pip install rouge\n",
        "from rouge import Rouge\n",
        "rouge = Rouge()\n",
        "\n",
        "def calc_rouge_scores(model_summary, reference_summary):\n",
        "    return rouge.get_scores(model_summary, reference_summary)"
      ]
    },
    {
      "cell_type": "code",
      "source": [
        "from nltk.translate.bleu_score import sentence_bleu"
      ],
      "metadata": {
        "id": "tSZB1RE6ZNPm"
      },
      "execution_count": null,
      "outputs": []
    },
    {
      "cell_type": "code",
      "execution_count": null,
      "metadata": {
        "colab": {
          "base_uri": "https://localhost:8080/"
        },
        "id": "acu3rurZd92E",
        "outputId": "d96aa24c-d04d-4223-adfa-9b1fcfcdf4e9"
      },
      "outputs": [
        {
          "output_type": "stream",
          "name": "stderr",
          "text": [
            "[nltk_data] Downloading package stopwords to /Users/yj/nltk_data...\n",
            "[nltk_data]   Package stopwords is already up-to-date!\n"
          ]
        }
      ],
      "source": [
        "from nltk.corpus import stopwords\n",
        "from nltk import download\n",
        "\n",
        "download('stopwords')\n",
        "stop_words = stopwords.words('english')\n",
        "\n",
        "def preprocess(sentence):\n",
        "  return [w for w in sentence.lower().split() if w not in stop_words]\n",
        "\n",
        "def preprocess_to_str(sentence):\n",
        "  sentence = sentence.lower().split()\n",
        "  result = \"\"\n",
        "  for i in sentence:\n",
        "    if i not in stop_words:\n",
        "      result += (i + \" \")\n",
        "  return result"
      ]
    },
    {
      "cell_type": "code",
      "execution_count": null,
      "metadata": {
        "id": "c8rDhBYiTxPM",
        "colab": {
          "base_uri": "https://localhost:8080/"
        },
        "outputId": "bb6e3198-21a5-481a-befe-9c41e37b36d7"
      },
      "outputs": [
        {
          "output_type": "stream",
          "name": "stdout",
          "text": [
            "{'rouge-1': {'r': 0.34912712637074417, 'p': 0.35020739064856715, 'f': 0.3478143997283309}, 'rouge-2': {'r': 0.16606624325389321, 'p': 0.1857492936631494, 'f': 0.17428230866688513}, 'rouge-l': {'r': 0.34912712637074417, 'p': 0.35020739064856715, 'f': 0.3478143997283309}}\n",
            "[5.359624986283916e-155, 0.11169314207209548, 0.22087675159484207, 0.05068034052957636]\n"
          ]
        },
        {
          "output_type": "stream",
          "name": "stderr",
          "text": [
            "/Users/yj/opt/anaconda3/lib/python3.9/site-packages/nltk/translate/bleu_score.py:552: UserWarning: \n",
            "The hypothesis contains 0 counts of 3-gram overlaps.\n",
            "Therefore the BLEU score evaluates to 0, independently of\n",
            "how many N-gram overlaps of lower order it contains.\n",
            "Consider using lower n-gram order or use SmoothingFunction()\n",
            "  warnings.warn(_msg)\n",
            "/Users/yj/opt/anaconda3/lib/python3.9/site-packages/nltk/translate/bleu_score.py:552: UserWarning: \n",
            "The hypothesis contains 0 counts of 4-gram overlaps.\n",
            "Therefore the BLEU score evaluates to 0, independently of\n",
            "how many N-gram overlaps of lower order it contains.\n",
            "Consider using lower n-gram order or use SmoothingFunction()\n",
            "  warnings.warn(_msg)\n"
          ]
        }
      ],
      "source": [
        "rouge1r, rouge1p, rouge1f = 0, 0, 0\n",
        "rouge2r, rouge2p, rouge2f = 0, 0, 0\n",
        "rougelr, rougelp, rougelf = 0, 0, 0\n",
        "avg_baseline_rouge = {}\n",
        "baseline_bleu = []\n",
        "\n",
        "N = len(by_human)\n",
        "for i in range(N):\n",
        "  result = calc_rouge_scores(preprocess_to_str(by_sen_mon[i]), preprocess_to_str(by_human[i]))\n",
        "  rouge1r += result[0]['rouge-1']['r']\n",
        "  rouge1p += result[0]['rouge-1']['p']\n",
        "  rouge1f += result[0]['rouge-1']['f']\n",
        "\n",
        "  rouge2r += result[0]['rouge-2']['r']\n",
        "  rouge2p += result[0]['rouge-2']['p']\n",
        "  rouge2f += result[0]['rouge-2']['f']\n",
        "\n",
        "  rougelr += result[0]['rouge-l']['r']\n",
        "  rougelp += result[0]['rouge-l']['p']\n",
        "  rougelf += result[0]['rouge-l']['f']\n",
        "\n",
        "  result_bleu = sentence_bleu([preprocess(by_sen_mon[i])], preprocess(by_human[i]))\n",
        "  baseline_bleu.append(result_bleu)\n",
        "\n",
        "avg_baseline_rouge = {'rouge-1':{'r': rouge1r/N, 'p': rouge1p/N, 'f': rouge1f/N}, 'rouge-2':{'r': rouge2r/N, 'p': rouge2p/N, 'f': rouge2f/N}, 'rouge-l':{'r': rougelr/N, 'p': rougelp/N, 'f': rougelf/N}}\n",
        "print(avg_baseline_rouge)\n",
        "print(baseline_bleu)"
      ]
    },
    {
      "cell_type": "code",
      "source": [
        "import gensim.downloader as api\n",
        "wmdmodel = api.load('word2vec-google-news-300')\n",
        "!pip install pyemd"
      ],
      "metadata": {
        "colab": {
          "base_uri": "https://localhost:8080/"
        },
        "id": "kmh315cN5QJl",
        "outputId": "1ecf9cf5-4ef8-41b2-da0a-d88cdc8729bf"
      },
      "execution_count": null,
      "outputs": [
        {
          "output_type": "stream",
          "name": "stdout",
          "text": [
            "Requirement already satisfied: pyemd in ./opt/anaconda3/lib/python3.9/site-packages (1.0.0)\r\n",
            "Requirement already satisfied: numpy>=1.9.0 in ./opt/anaconda3/lib/python3.9/site-packages (from pyemd) (1.21.5)\r\n"
          ]
        }
      ]
    },
    {
      "cell_type": "code",
      "source": [
        "from nltk.corpus import stopwords\n",
        "from nltk import download\n",
        "\n",
        "download('stopwords')\n",
        "stop_words = stopwords.words('english')\n",
        "\n",
        "def preprocess(sentence):\n",
        "  a = []\n",
        "  for sen in sentence:\n",
        "    for word in sen.split(\" \"):\n",
        "      if word.lower() not in stop_words:\n",
        "        a.append(word.lower())\n",
        "  return a\n",
        "\n",
        "def preprocess2(sentence):\n",
        "  return [w for w in sentence.lower().split() if w not in stop_words]\n",
        "\n",
        "def preprocess_to_str(sentence):\n",
        "  sentence = sentence.lower().split()\n",
        "  result = \"\"\n",
        "  for i in sentence:\n",
        "    if i not in stop_words:\n",
        "      result += (i + \" \")\n",
        "  return result"
      ],
      "metadata": {
        "colab": {
          "base_uri": "https://localhost:8080/"
        },
        "id": "y5AUwGrf5r_4",
        "outputId": "3af63ecb-6813-4dab-b5fb-07c67f7b31c0"
      },
      "execution_count": null,
      "outputs": [
        {
          "output_type": "stream",
          "name": "stderr",
          "text": [
            "[nltk_data] Downloading package stopwords to /Users/yj/nltk_data...\n",
            "[nltk_data]   Package stopwords is already up-to-date!\n"
          ]
        }
      ]
    },
    {
      "cell_type": "code",
      "source": [
        "avg_dist = 0\n",
        "\n",
        "for i in range(N):\n",
        "  reference_summary1 = preprocess2(by_human[i])\n",
        "  reference_summary2 = preprocess2(by_tarasha[i])\n",
        "  reference_summary3 = preprocess2(by_arjun[i])\n",
        "  model_summary = preprocess2(by_sen_mon[i])\n",
        "  print(f\"*** WMD for the {i+1}th summary ***\")\n",
        "  distance1 = wmdmodel.wmdistance(model_summary, reference_summary1)\n",
        "  print('distance = %.4f' % distance1)\n",
        "  distance2 = wmdmodel.wmdistance(model_summary, reference_summary2)\n",
        "  print('distance = %.4f' % distance2)\n",
        "  distance3 = wmdmodel.wmdistance(model_summary, reference_summary3)\n",
        "  print('distance = %.4f' % distance3)\n",
        "  dist = (distance1 + distance2 + distance3) / 3\n",
        "  avg_dist += dist\n",
        "  print('average distance = %.4f' % dist + \"\\n\")\n",
        "print(\"*** Average WMD from all 4 summaries *** \")\n",
        "print(avg_dist/4)"
      ],
      "metadata": {
        "colab": {
          "base_uri": "https://localhost:8080/"
        },
        "id": "GBT62AnP5Yzu",
        "outputId": "ef27a895-ae7f-448b-fd09-3c01a1dd4e6a"
      },
      "execution_count": null,
      "outputs": [
        {
          "output_type": "stream",
          "name": "stdout",
          "text": [
            "*** WMD for the 1th summary ***\n",
            "distance = 0.8513\n",
            "distance = 0.6852\n",
            "distance = 1.0677\n",
            "average distance = 0.8681\n",
            "\n",
            "*** WMD for the 2th summary ***\n",
            "distance = 0.7395\n",
            "distance = 0.6466\n",
            "distance = 0.8660\n",
            "average distance = 0.7507\n",
            "\n",
            "*** WMD for the 3th summary ***\n",
            "distance = 0.6600\n",
            "distance = 0.7038\n",
            "distance = 0.6973\n",
            "average distance = 0.6870\n",
            "\n",
            "*** WMD for the 4th summary ***\n",
            "distance = 0.9563\n",
            "distance = 0.8272\n",
            "distance = 1.0176\n",
            "average distance = 0.9337\n",
            "\n",
            "*** Average WMD from all 4 summaries *** \n",
            "0.8098764879981596\n"
          ]
        }
      ]
    },
    {
      "cell_type": "code",
      "source": [
        "# print(preprocess(by_sen_mon[i]))\n",
        "# print(preprocess(by_human[i]))"
      ],
      "metadata": {
        "id": "gSg3MRgU9TyR"
      },
      "execution_count": null,
      "outputs": []
    },
    {
      "cell_type": "code",
      "execution_count": null,
      "metadata": {
        "id": "-Etgl3em_woC"
      },
      "outputs": [],
      "source": [
        "# function to get the combined avg of all 3 results\n",
        "\n",
        "def avg_rouge_results(all_results):\n",
        "  N = len(all_results)\n",
        "  ans = {'rouge-1':{'r': 0, 'p': 0, 'f': 0}, 'rouge-2':{'r': 0, 'p': 0, 'f': 0}, 'rouge-l':{'r': 0, 'p': 0, 'f': 0}}\n",
        "\n",
        "  # to get the sum of the score\n",
        "  for i in range(len(all_results)):\n",
        "    for k, (r, p, f) in all_results[i].items():\n",
        "      ans[k][r] += all_results[i][k][r]\n",
        "      ans[k][p] += all_results[i][k][p]\n",
        "      ans[k][f] += all_results[i][k][f]\n",
        "  \n",
        "  # to get the avg score\n",
        "  for k, (r, p, f) in ans.items():\n",
        "    ans[k][r] /= N\n",
        "    ans[k][p] /= N\n",
        "    ans[k][f] /= N\n",
        "  return ans"
      ]
    },
    {
      "cell_type": "markdown",
      "metadata": {
        "id": "2BQctFLxdfw9"
      },
      "source": [
        "# Getting pegasus model to evaluate the speech that is split by paragraph"
      ]
    },
    {
      "cell_type": "code",
      "execution_count": null,
      "metadata": {
        "id": "-afqPc05FCRb"
      },
      "outputs": [],
      "source": [
        "# pegasus for financial data model summary\n",
        "summarizer1 = pipeline(model = \"human-centered-summarization/financial-summarization-pegasus\")\n",
        "\n",
        "tokenizer = AutoTokenizer.from_pretrained(\"human-centered-summarization/financial-summarization-pegasus\")\n",
        "model = AutoModelForSeq2SeqLM.from_pretrained(\"human-centered-summarization/financial-summarization-pegasus\")"
      ]
    },
    {
      "cell_type": "markdown",
      "metadata": {
        "id": "GiuBYyvonr_S"
      },
      "source": [
        "## Based on rouge score"
      ]
    },
    {
      "cell_type": "code",
      "execution_count": null,
      "metadata": {
        "id": "hSianTVIclpn",
        "colab": {
          "base_uri": "https://localhost:8080/"
        },
        "outputId": "0e911aeb-f51d-424f-b932-f3689df27389"
      },
      "outputs": [
        {
          "output_type": "stream",
          "name": "stdout",
          "text": [
            "Economic recovery is gathering pace. Inflation remains elevated, reflecting supply and demand imbalances War against Ukraine is causing tremendous human and economic hardship. The Committee decided to raise the target range for the federal funds rate to 4 -1/4 to 4- 1/2 percent. The Committee will continue to assess the effects of monetary policy on the U.S. economy.\n",
            "Economic recovery is gathering pace. Inflation remains elevated, reflecting supply and demand imbalances related to the pandemic War, related events are creating additional upward pressure on inflation. The Committee decided to raise the target range for the federal funds rate to 3  to 4 percent. The Committee will continue to assess the effects of monetary policy on the U.S. economy.\n",
            "Household spending, business fixed investment remain strong. Inflation remains elevated, reflecting supply and demand imbalances The Committee will continue to assess the effects of the invasion on the U.S. economy. The Committee decided to raise the target range for the federal funds rate to 3/4 to 1 percent. The Committee will continue to assess the impact of its stance of monetary policy on the economy. The Committee will continue to assess the effects of monetary policy on the U.S. economy.\n",
            "Economic activity in the euro area has continued to strengthen. Supply and demand imbalances related to the pandemic and reopening of the economy have contributed to inflation. Economic recovery is expected to continue, supported by progress on vaccinations. The Committee decided to keep the target range for the federal funds rate at 0 to 1/4 percent. The Committee will continue to assess the impact of policies on the U.S. economy.\n",
            "{'rouge-1': {'r': 0.3406141495765993, 'p': 0.37837837837837834, 'f': 0.3576843201920863}, 'rouge-2': {'r': 0.17101592749489086, 'p': 0.20792682926829267, 'f': 0.18732992702463067}, 'rouge-l': {'r': 0.33403520220817823, 'p': 0.37196812196812196, 'f': 0.35119081369857985}}\n",
            "[0.5797584177137663, 0.4979068132114899, 0.7161346990383348, 0.5856778561403942]\n"
          ]
        }
      ],
      "source": [
        "# avg score from 1st summaries\n",
        "rouge1r, rouge1p, rouge1f = 0, 0, 0\n",
        "rouge2r, rouge2p, rouge2f = 0, 0, 0\n",
        "rougelr, rougelp, rougelf = 0, 0, 0\n",
        "avg_pegasus_by_para_rouge = {}\n",
        "pegasus_bleu = []\n",
        "\n",
        "N = len(by_human)\n",
        "\n",
        "for i in range(N):  # looping through every text(splitted by paragraph) in the list \n",
        "  peg_candidate = []\n",
        "  for para in by_para_mon[i]: # looping through every paragraph within that text\n",
        "    input_ids = tokenizer(para, return_tensors=\"pt\").input_ids\n",
        "    output = model.generate(\n",
        "        input_ids, \n",
        "        min_length=10,\n",
        "        max_length=3000,\n",
        "        num_beams=4, \n",
        "        early_stopping=True\n",
        "    )\n",
        "    peg_candidate.append(tokenizer.decode(output[0], skip_special_tokens=True))\n",
        "  peg_cand = \" \".join(peg_candidate) # here in peg_cand we have the pegasus generated model\n",
        "  print(peg_cand)\n",
        "  \n",
        "  result = calc_rouge_scores(preprocess_to_str(peg_cand), preprocess_to_str(by_human[i]))\n",
        "  rouge1r += result[0]['rouge-1']['r']\n",
        "  rouge1p += result[0]['rouge-1']['p']\n",
        "  rouge1f += result[0]['rouge-1']['f']\n",
        "\n",
        "  rouge2r += result[0]['rouge-2']['r']\n",
        "  rouge2p += result[0]['rouge-2']['p']\n",
        "  rouge2f += result[0]['rouge-2']['f']\n",
        "\n",
        "  rougelr += result[0]['rouge-l']['r']\n",
        "  rougelp += result[0]['rouge-l']['p']\n",
        "  rougelf += result[0]['rouge-l']['f']\n",
        "\n",
        "  result_bleu = sentence_bleu([preprocess(peg_cand)], preprocess(by_human[i]))\n",
        "  pegasus_bleu.append(result_bleu)\n",
        "\n",
        "avg_pegasus_by_human_rouge = {'rouge-1':{'r': rouge1r/N, 'p': rouge1p/N, 'f': rouge1f/N}, 'rouge-2':{'r': rouge2r/N, 'p': rouge2p/N, 'f': rouge2f/N}, 'rouge-l':{'r': rougelr/N, 'p': rougelp/N, 'f': rougelf/N}}\n",
        "print(avg_pegasus_by_human_rouge)\n",
        "print(pegasus_bleu)"
      ]
    },
    {
      "cell_type": "code",
      "execution_count": null,
      "metadata": {
        "id": "HmgT0RN7an4J",
        "colab": {
          "base_uri": "https://localhost:8080/"
        },
        "outputId": "1fb97f77-fba3-4148-96a1-fae38b11b741"
      },
      "outputs": [
        {
          "output_type": "stream",
          "name": "stdout",
          "text": [
            "Economic recovery is gathering pace. Inflation remains elevated, reflecting supply and demand imbalances War against Ukraine is causing tremendous human and economic hardship. The Committee decided to raise the target range for the federal funds rate to 4 -1/4 to 4- 1/2 percent. The Committee will continue to assess the effects of monetary policy on the U.S. economy.\n",
            "Economic recovery is gathering pace. Inflation remains elevated, reflecting supply and demand imbalances related to the pandemic War, related events are creating additional upward pressure on inflation. The Committee decided to raise the target range for the federal funds rate to 3  to 4 percent. The Committee will continue to assess the effects of monetary policy on the U.S. economy.\n",
            "Household spending, business fixed investment remain strong. Inflation remains elevated, reflecting supply and demand imbalances The Committee will continue to assess the effects of the invasion on the U.S. economy. The Committee decided to raise the target range for the federal funds rate to 3/4 to 1 percent. The Committee will continue to assess the impact of its stance of monetary policy on the economy. The Committee will continue to assess the effects of monetary policy on the U.S. economy.\n",
            "Economic activity in the euro area has continued to strengthen. Supply and demand imbalances related to the pandemic and reopening of the economy have contributed to inflation. Economic recovery is expected to continue, supported by progress on vaccinations. The Committee decided to keep the target range for the federal funds rate at 0 to 1/4 percent. The Committee will continue to assess the impact of policies on the U.S. economy.\n",
            "{'rouge-1': {'r': 0.23903301706663438, 'p': 0.3108108108108108, 'f': 0.2579451630506175}, 'rouge-2': {'r': 0.06204913287522969, 'p': 0.09801829268292683, 'f': 0.07074008698210905}, 'rouge-l': {'r': 0.22826856852875735, 'p': 0.2915800415800416, 'f': 0.24470474493215058}}\n",
            "[0.5541189693365105, 0.5709028090189872, 0.4617703245905455, 0.28457673387264176]\n"
          ]
        }
      ],
      "source": [
        "# avg score from 2nd summaries\n",
        "rouge1r, rouge1p, rouge1f = 0, 0, 0\n",
        "rouge2r, rouge2p, rouge2f = 0, 0, 0\n",
        "rougelr, rougelp, rougelf = 0, 0, 0\n",
        "avg_pegasus_by_tarasha_rouge = {}\n",
        "pegasus_bleu_tarasha = []\n",
        "\n",
        "N = len(by_tarasha)\n",
        "\n",
        "for i in range(N):  # looping through every text(splitted by paragraph) in the list \n",
        "  peg_candidate = []\n",
        "  for para in by_para_mon[i]: # looping through every paragraph within that text\n",
        "    input_ids = tokenizer(para, return_tensors=\"pt\").input_ids\n",
        "    output = model.generate(\n",
        "        input_ids, \n",
        "        min_length=10,\n",
        "        max_length=3000,\n",
        "        num_beams=4, \n",
        "        early_stopping=True\n",
        "    ) \n",
        "    peg_candidate.append(tokenizer.decode(output[0], skip_special_tokens=True))\n",
        "  peg_cand = \" \".join(peg_candidate) # here in peg_cand we have the pegasus generated model\n",
        "  print(peg_cand)\n",
        "  \n",
        "  result = calc_rouge_scores(preprocess_to_str(peg_cand), preprocess_to_str(by_tarasha[i]))\n",
        "  rouge1r += result[0]['rouge-1']['r']\n",
        "  rouge1p += result[0]['rouge-1']['p']\n",
        "  rouge1f += result[0]['rouge-1']['f']\n",
        "\n",
        "  rouge2r += result[0]['rouge-2']['r']\n",
        "  rouge2p += result[0]['rouge-2']['p']\n",
        "  rouge2f += result[0]['rouge-2']['f']\n",
        "\n",
        "  rougelr += result[0]['rouge-l']['r']\n",
        "  rougelp += result[0]['rouge-l']['p']\n",
        "  rougelf += result[0]['rouge-l']['f']\n",
        "\n",
        "  result_bleu = sentence_bleu([preprocess(peg_cand)], preprocess(by_tarasha[i]))\n",
        "  pegasus_bleu_tarasha.append(result_bleu)\n",
        "\n",
        "avg_pegasus_by_tarasha_rouge = {'rouge-1':{'r': rouge1r/N, 'p': rouge1p/N, 'f': rouge1f/N}, 'rouge-2':{'r': rouge2r/N, 'p': rouge2p/N, 'f': rouge2f/N}, 'rouge-l':{'r': rougelr/N, 'p': rougelp/N, 'f': rougelf/N}}\n",
        "print(avg_pegasus_by_tarasha_rouge)\n",
        "print(pegasus_bleu_tarasha)"
      ]
    },
    {
      "cell_type": "code",
      "execution_count": null,
      "metadata": {
        "id": "QEp4xkoQbJWQ",
        "colab": {
          "base_uri": "https://localhost:8080/"
        },
        "outputId": "b73e43df-d291-4108-9778-0494454c0895"
      },
      "outputs": [
        {
          "output_type": "stream",
          "name": "stdout",
          "text": [
            "Economic recovery is gathering pace. Inflation remains elevated, reflecting supply and demand imbalances War against Ukraine is causing tremendous human and economic hardship. The Committee decided to raise the target range for the federal funds rate to 4 -1/4 to 4- 1/2 percent. The Committee will continue to assess the effects of monetary policy on the U.S. economy.\n",
            "Economic recovery is gathering pace. Inflation remains elevated, reflecting supply and demand imbalances related to the pandemic War, related events are creating additional upward pressure on inflation. The Committee decided to raise the target range for the federal funds rate to 3  to 4 percent. The Committee will continue to assess the effects of monetary policy on the U.S. economy.\n",
            "Household spending, business fixed investment remain strong. Inflation remains elevated, reflecting supply and demand imbalances The Committee will continue to assess the effects of the invasion on the U.S. economy. The Committee decided to raise the target range for the federal funds rate to 3/4 to 1 percent. The Committee will continue to assess the impact of its stance of monetary policy on the economy. The Committee will continue to assess the effects of monetary policy on the U.S. economy.\n",
            "Economic activity in the euro area has continued to strengthen. Supply and demand imbalances related to the pandemic and reopening of the economy have contributed to inflation. Economic recovery is expected to continue, supported by progress on vaccinations. The Committee decided to keep the target range for the federal funds rate at 0 to 1/4 percent. The Committee will continue to assess the impact of policies on the U.S. economy.\n",
            "{}\n",
            "[0.34027834838572873, 0.42287700884816426, 0.5235573779216696, 0.4202510540714748]\n",
            "economic activity euro area continued strengthen. supply demand imbalances related pandemic reopening economy contributed inflation. economic recovery expected continue, supported progress vaccinations. committee decided keep target range federal funds rate 0 1/4 percent. committee continue assess impact policies u.s. economy.  us economy showed signs recovery strong indicators good employment despite fact got severely affected covid-19 cases. but, supply-demand imbalances due pandemic rise new virus variants. federal reserve kept federal funds rate target range 0% ¼% expects raise soon due inflation well 2% strong labor market. furthermore, committee decided continue reduce monthly pace net asset purchases. also aim increase holdings treasury securities least $20 billion month agency mortgage‐backed securities least $10 billion per month. purchase holdings aim continue smoothen market functioning, thereby supporting flow credit households businesses. \n"
          ]
        }
      ],
      "source": [
        "# avg score from 3rd summaries\n",
        "rouge1r, rouge1p, rouge1f = 0, 0, 0\n",
        "rouge2r, rouge2p, rouge2f = 0, 0, 0\n",
        "rougelr, rougelp, rougelf = 0, 0, 0\n",
        "avg_pegasus_by_arjun_rouge = {}\n",
        "pegasus_bleu_arjun = []\n",
        "\n",
        "N = len(by_arjun)\n",
        "\n",
        "for i in range(N):  # looping through every text(splitted by paragraph) in the list \n",
        "  peg_candidate = []\n",
        "  for para in by_para_mon[i]: # looping through every paragraph within that text\n",
        "    input_ids = tokenizer(para, return_tensors=\"pt\").input_ids\n",
        "    output = model.generate(\n",
        "        input_ids, \n",
        "        min_length=10,\n",
        "        max_length=3000,\n",
        "        num_beams=4, \n",
        "        early_stopping=True\n",
        "    )\n",
        "    peg_candidate.append(tokenizer.decode(output[0], skip_special_tokens=True))\n",
        "  peg_cand = \" \".join(peg_candidate) # here in peg_cand we have the pegasus generated model\n",
        "  print(peg_cand)\n",
        "  \n",
        "  result = calc_rouge_scores(preprocess_to_str(peg_cand), preprocess_to_str(by_arjun[i]))\n",
        "  rouge1r += result[0]['rouge-1']['r']\n",
        "  rouge1p += result[0]['rouge-1']['p']\n",
        "  rouge1f += result[0]['rouge-1']['f']\n",
        "\n",
        "  rouge2r += result[0]['rouge-2']['r']\n",
        "  rouge2p += result[0]['rouge-2']['p']\n",
        "  rouge2f += result[0]['rouge-2']['f']\n",
        "\n",
        "  rougelr += result[0]['rouge-l']['r']\n",
        "  rougelp += result[0]['rouge-l']['p']\n",
        "  rougelf += result[0]['rouge-l']['f']\n",
        "\n",
        "  result_bleu = sentence_bleu([preprocess(peg_cand)], preprocess(by_arjun[i]))\n",
        "  pegasus_bleu_arjun.append(result_bleu)\n",
        "\n",
        "avg_pegasus_by_ajun_rouge = {'rouge-1':{'r': rouge1r/N, 'p': rouge1p/N, 'f': rouge1f/N}, 'rouge-2':{'r': rouge2r/N, 'p': rouge2p/N, 'f': rouge2f/N}, 'rouge-l':{'r': rougelr/N, 'p': rougelp/N, 'f': rougelf/N}}\n",
        "print(avg_pegasus_by_arjun_rouge)\n",
        "print(pegasus_bleu_arjun)\n",
        "print(preprocess_to_str(peg_cand), preprocess_to_str(by_arjun[i]))"
      ]
    },
    {
      "cell_type": "code",
      "source": [
        "# rouge1r, rouge1p, rouge1f = 0, 0, 0\n",
        "# rouge2r, rouge2p, rouge2f = 0, 0, 0\n",
        "# rougelr, rougelp, rougelf = 0, 0, 0\n",
        "# # avg score for 3rd summaries\n",
        "# for i in range(N):  # looping through every text(splitted by paragraph) in the list \n",
        "#   sshleifer_candidate = []\n",
        "#   for para in by_para_mon[i]: # looping through every paragraph within that text\n",
        "#     sshleifer_candidate.append(summarizer2(para, min_length=15,max_length=20)[0]['summary_text'])\n",
        "  \n",
        "#   sshleifer_cand = \" \".join(sshleifer_candidate)\n",
        "#   print(sshleifer_cand) \n",
        "#   result = calc_rouge_scores(preprocess_to_str(sshleifer_cand), preprocess_to_str(by_arjun[i]))\n",
        "#   rouge1r += result[0]['rouge-1']['r']\n",
        "#   rouge1p += result[0]['rouge-1']['p']\n",
        "#   rouge1f += result[0]['rouge-1']['f']\n",
        "\n",
        "#   rouge2r += result[0]['rouge-2']['r']\n",
        "#   rouge2p += result[0]['rouge-2']['p']\n",
        "#   rouge2f += result[0]['rouge-2']['f']\n",
        "\n",
        "#   rougelr += result[0]['rouge-l']['r']\n",
        "#   rougelp += result[0]['rouge-l']['p']\n",
        "#   rougelf += result[0]['rouge-l']['f']\n",
        "\n",
        "# avg_bart_by_arjun_rouge = {'rouge-1':{'r': rouge1r/N, 'p': rouge1p/N, 'f': rouge1f/N}, 'rouge-2':{'r': rouge2r/N, 'p': rouge2p/N, 'f': rouge2f/N}, 'rouge-l':{'r': rougelr/N, 'p': rougelp/N, 'f': rougelf/N}}\n",
        "# print(avg_bart_by_arjun_rouge)"
      ],
      "metadata": {
        "id": "hoRdbX3269DC"
      },
      "execution_count": null,
      "outputs": []
    },
    {
      "cell_type": "code",
      "source": [
        "# # function to average bleu\n",
        "\n",
        "# def avg_bleu_results(input):\n",
        "#   result = []\n",
        "#   result_index = 0\n",
        "#   for i in range(0, len(input)):\n",
        "#     for j in range(0, len(input[i])):\n",
        "#       result.append(input[i][j])\n",
        "    \n",
        "#     result_index = 0\n",
        "\n",
        "#   for i in result:\n",
        "#     i = i/4\n",
        "\n",
        "#   return result"
      ],
      "metadata": {
        "id": "QHTVBD0HmSa7"
      },
      "execution_count": null,
      "outputs": []
    },
    {
      "cell_type": "code",
      "execution_count": null,
      "metadata": {
        "id": "gF3QdCBycG3t",
        "colab": {
          "base_uri": "https://localhost:8080/"
        },
        "outputId": "f4bf0440-48cc-4e30-8eba-4e91faffab0c"
      },
      "outputs": [
        {
          "output_type": "stream",
          "name": "stdout",
          "text": [
            "{'rouge-1': {'r': 0.19321572221441122, 'p': 0.22972972972972971, 'f': 0.20520982774756794}, 'rouge-2': {'r': 0.07768835345670684, 'p': 0.10198170731707316, 'f': 0.08602333800224658}, 'rouge-l': {'r': 0.1874345902456452, 'p': 0.22118272118272117, 'f': 0.19863185287691013}}\n"
          ]
        }
      ],
      "source": [
        "## Combined avg of all 3 summaries\n",
        "all_peg_rouge = [avg_pegasus_by_human_rouge, avg_pegasus_by_tarasha_rouge, avg_pegasus_by_arjun_rouge]\n",
        "print(avg_rouge_results(all_peg_rouge))"
      ]
    },
    {
      "cell_type": "markdown",
      "metadata": {
        "id": "DNGGgtJ0ojJ8"
      },
      "source": [
        "## Based on WMD"
      ]
    },
    {
      "cell_type": "code",
      "execution_count": null,
      "metadata": {
        "id": "1Bq7tebwolOW"
      },
      "outputs": [],
      "source": [
        "# model_summary = preprocess(peg_cand)\n",
        "# reference_summary1 = preprocess(by_human)\n",
        "# reference_summary2 = preprocess(by_tarasha)\n",
        "# reference_summary3 = preprocess(by_arjun)\n",
        "\n",
        "# distance1 = model.wmdistance(model_summary, reference_summary1)\n",
        "# print('distance = %.4f' % distance1)\n",
        "# distance2 = model.wmdistance(model_summary, reference_summary2)\n",
        "# print('distance = %.4f' % distance2)\n",
        "# distance3 = model.wmdistance(model_summary, reference_summary3)\n",
        "# print('distance = %.4f' % distance3)\n",
        "# avg_dist = (distance1 + distance2 + distance3) / 3\n",
        "# print('distance = %.4f' % avg_dist)"
      ]
    },
    {
      "cell_type": "markdown",
      "metadata": {
        "id": "1lkPuhGV6a0U"
      },
      "source": [
        "# Getting sshleifer-Bart model to evaluate the speech that is split by paragraph "
      ]
    },
    {
      "cell_type": "code",
      "source": [
        "from transformers import BartForConditionalGeneration, BartTokenizer, AutoModel"
      ],
      "metadata": {
        "id": "nzwaWNP_GiTo"
      },
      "execution_count": null,
      "outputs": []
    },
    {
      "cell_type": "code",
      "execution_count": null,
      "metadata": {
        "id": "blCGJbya7KuM"
      },
      "outputs": [],
      "source": [
        "summarizer2 = BartForConditionalGeneration.from_pretrained(\"sshleifer/distilbart-cnn-12-6\")"
      ]
    },
    {
      "cell_type": "code",
      "source": [
        "summarizer2 = pipeline(model = \"sshleifer/distilbart-cnn-12-6\")"
      ],
      "metadata": {
        "colab": {
          "base_uri": "https://localhost:8080/",
          "height": 113,
          "referenced_widgets": [
            "58f9a681fd734b2db4b1320156f7299b",
            "581cec0b0caf45b99f334bb1091d11b2",
            "0db2570dd51344438d2c3e2d85596b25",
            "2f94b0f6dd234360965082c65ae03238",
            "6656eb2b46884326b0eacd5e0b1fc6dc",
            "8bad3ab17d3c4c41afd4431c1bcb7129",
            "eba32884bf40438185891a2a546377c6",
            "8d25e711994247a4bc7b938c68252be2",
            "20b35604b01d43f58b1fbae66de2d8fb",
            "f7ebbc863b7d4705b05929aecedd43fb",
            "e495317954374cd09c79653dc8b10607",
            "22809c4d54ef49a7ae2d29f9cef32d5a",
            "dcd4f2917d6646e1a6bd2e4f92eb382d",
            "fab71b520ef1475390e73439aa9b3f6a",
            "34ae5abe2190418284cfeaf7306e8aa4",
            "3bf66ad2c5ff453880d548f065e678c6",
            "61c795ff5eec45aaaec58e8d8dbccf09",
            "67351b04b5b34bdda85f75fa8edc7002",
            "fc20185f53dd47e49ccbe44ac1c000a5",
            "41622ae2058a4876ac3ebf962eb9c87a",
            "68f183248d774ef2a991fb677b86168f",
            "93efd1c4d9634f84a919ff08d025dbef",
            "10f9a85b040b4d7d94432f5b5441d0c0",
            "07626911ff9d48989e34709423167064",
            "3cc7f58c0f664fd9886ddfd52358421c",
            "b13015ee209c49dfb23c450a973ab012",
            "494c0bcca6bd44228690abd6c76a9e92",
            "73175fc6c7d446dbb2b417816839cd66",
            "24c150af069d49da8b34f9d6292665ac",
            "2400491e7f7d4e8d9bcc52210c1b8b21",
            "9f072d616d344e9fb6f20fbb5366d5e7",
            "a573577e787845e0b36bcbf313da97e2",
            "8a50f70b1c8a4f5084170b71979c4bf9"
          ]
        },
        "id": "f2NnQ4ECa6_T",
        "outputId": "40fcf918-2967-40cb-bc8c-e13c533fd083"
      },
      "execution_count": null,
      "outputs": [
        {
          "output_type": "display_data",
          "data": {
            "text/plain": [
              "Downloading:   0%|          | 0.00/26.0 [00:00<?, ?B/s]"
            ],
            "application/vnd.jupyter.widget-view+json": {
              "version_major": 2,
              "version_minor": 0,
              "model_id": "58f9a681fd734b2db4b1320156f7299b"
            }
          },
          "metadata": {}
        },
        {
          "output_type": "display_data",
          "data": {
            "text/plain": [
              "Downloading:   0%|          | 0.00/899k [00:00<?, ?B/s]"
            ],
            "application/vnd.jupyter.widget-view+json": {
              "version_major": 2,
              "version_minor": 0,
              "model_id": "22809c4d54ef49a7ae2d29f9cef32d5a"
            }
          },
          "metadata": {}
        },
        {
          "output_type": "display_data",
          "data": {
            "text/plain": [
              "Downloading:   0%|          | 0.00/456k [00:00<?, ?B/s]"
            ],
            "application/vnd.jupyter.widget-view+json": {
              "version_major": 2,
              "version_minor": 0,
              "model_id": "10f9a85b040b4d7d94432f5b5441d0c0"
            }
          },
          "metadata": {}
        }
      ]
    },
    {
      "cell_type": "markdown",
      "metadata": {
        "id": "Lp9TRG7On0AQ"
      },
      "source": [
        "## Based on rouge score"
      ]
    },
    {
      "cell_type": "code",
      "execution_count": null,
      "metadata": {
        "id": "q48l2SFd9B3C",
        "colab": {
          "base_uri": "https://localhost:8080/",
          "height": 387
        },
        "outputId": "e1efc69d-2433-4ad3-b2c1-bb240d76e0a9"
      },
      "outputs": [
        {
          "output_type": "error",
          "ename": "TypeError",
          "evalue": "ignored",
          "traceback": [
            "\u001b[0;31m---------------------------------------------------------------------------\u001b[0m",
            "\u001b[0;31mTypeError\u001b[0m                                 Traceback (most recent call last)",
            "\u001b[0;32m/var/folders/z1/cwnnlb713vdfc2_wknfcvkx40000gn/T/ipykernel_27119/1178403336.py\u001b[0m in \u001b[0;36m<module>\u001b[0;34m\u001b[0m\n\u001b[1;32m      6\u001b[0m   \u001b[0msshleifer_candidate\u001b[0m \u001b[0;34m=\u001b[0m \u001b[0;34m[\u001b[0m\u001b[0;34m]\u001b[0m\u001b[0;34m\u001b[0m\u001b[0;34m\u001b[0m\u001b[0m\n\u001b[1;32m      7\u001b[0m   \u001b[0;32mfor\u001b[0m \u001b[0mpara\u001b[0m \u001b[0;32min\u001b[0m \u001b[0mby_para_mon\u001b[0m\u001b[0;34m[\u001b[0m\u001b[0mi\u001b[0m\u001b[0;34m]\u001b[0m\u001b[0;34m:\u001b[0m \u001b[0;31m# looping through every paragraph within that text\u001b[0m\u001b[0;34m\u001b[0m\u001b[0;34m\u001b[0m\u001b[0m\n\u001b[0;32m----> 8\u001b[0;31m     \u001b[0msshleifer_candidate\u001b[0m\u001b[0;34m.\u001b[0m\u001b[0mappend\u001b[0m\u001b[0;34m(\u001b[0m\u001b[0msummarizer2\u001b[0m\u001b[0;34m(\u001b[0m\u001b[0mpara\u001b[0m\u001b[0;34m,\u001b[0m \u001b[0mmin_length\u001b[0m\u001b[0;34m=\u001b[0m\u001b[0;36m15\u001b[0m\u001b[0;34m,\u001b[0m\u001b[0mmax_length\u001b[0m\u001b[0;34m=\u001b[0m\u001b[0;36m20\u001b[0m\u001b[0;34m)\u001b[0m\u001b[0;34m[\u001b[0m\u001b[0;36m0\u001b[0m\u001b[0;34m]\u001b[0m\u001b[0;34m[\u001b[0m\u001b[0;34m'summary_text'\u001b[0m\u001b[0;34m]\u001b[0m\u001b[0;34m)\u001b[0m\u001b[0;34m\u001b[0m\u001b[0;34m\u001b[0m\u001b[0m\n\u001b[0m\u001b[1;32m      9\u001b[0m \u001b[0;34m\u001b[0m\u001b[0m\n\u001b[1;32m     10\u001b[0m   \u001b[0msshleifer_cand\u001b[0m \u001b[0;34m=\u001b[0m \u001b[0;34m\" \"\u001b[0m\u001b[0;34m.\u001b[0m\u001b[0mjoin\u001b[0m\u001b[0;34m(\u001b[0m\u001b[0msshleifer_candidate\u001b[0m\u001b[0;34m)\u001b[0m\u001b[0;34m\u001b[0m\u001b[0;34m\u001b[0m\u001b[0m\n",
            "\u001b[0;32m~/opt/anaconda3/lib/python3.9/site-packages/torch/nn/modules/module.py\u001b[0m in \u001b[0;36m_call_impl\u001b[0;34m(self, *input, **kwargs)\u001b[0m\n\u001b[1;32m   1192\u001b[0m         if not (self._backward_hooks or self._forward_hooks or self._forward_pre_hooks or _global_backward_hooks\n\u001b[1;32m   1193\u001b[0m                 or _global_forward_hooks or _global_forward_pre_hooks):\n\u001b[0;32m-> 1194\u001b[0;31m             \u001b[0;32mreturn\u001b[0m \u001b[0mforward_call\u001b[0m\u001b[0;34m(\u001b[0m\u001b[0;34m*\u001b[0m\u001b[0minput\u001b[0m\u001b[0;34m,\u001b[0m \u001b[0;34m**\u001b[0m\u001b[0mkwargs\u001b[0m\u001b[0;34m)\u001b[0m\u001b[0;34m\u001b[0m\u001b[0;34m\u001b[0m\u001b[0m\n\u001b[0m\u001b[1;32m   1195\u001b[0m         \u001b[0;31m# Do not call functions when jit is used\u001b[0m\u001b[0;34m\u001b[0m\u001b[0;34m\u001b[0m\u001b[0m\n\u001b[1;32m   1196\u001b[0m         \u001b[0mfull_backward_hooks\u001b[0m\u001b[0;34m,\u001b[0m \u001b[0mnon_full_backward_hooks\u001b[0m \u001b[0;34m=\u001b[0m \u001b[0;34m[\u001b[0m\u001b[0;34m]\u001b[0m\u001b[0;34m,\u001b[0m \u001b[0;34m[\u001b[0m\u001b[0;34m]\u001b[0m\u001b[0;34m\u001b[0m\u001b[0;34m\u001b[0m\u001b[0m\n",
            "\u001b[0;31mTypeError\u001b[0m: forward() got an unexpected keyword argument 'min_length'"
          ]
        }
      ],
      "source": [
        "rouge1r, rouge1p, rouge1f = 0, 0, 0\n",
        "rouge2r, rouge2p, rouge2f = 0, 0, 0\n",
        "rougelr, rougelp, rougelf = 0, 0, 0\n",
        "# avg score for 1st summaries\n",
        "for i in range(N):  # looping through every text(splitted by paragraph) in the list \n",
        "  sshleifer_candidate = []\n",
        "  for para in by_para_mon[i]: # looping through every paragraph within that text\n",
        "    sshleifer_candidate.append(summarizer2(para, min_length=15,max_length=20)[0]['summary_text'])\n",
        "  \n",
        "  sshleifer_cand = \" \".join(sshleifer_candidate)\n",
        "  print(sshleifer_cand) \n",
        "  result = calc_rouge_scores(preprocess_to_str(sshleifer_cand), preprocess_to_str(by_human[i]))\n",
        "  rouge1r += result[0]['rouge-1']['r']\n",
        "  rouge1p += result[0]['rouge-1']['p']\n",
        "  rouge1f += result[0]['rouge-1']['f']\n",
        "\n",
        "  rouge2r += result[0]['rouge-2']['r']\n",
        "  rouge2p += result[0]['rouge-2']['p']\n",
        "  rouge2f += result[0]['rouge-2']['f']\n",
        "\n",
        "  rougelr += result[0]['rouge-l']['r']\n",
        "  rougelp += result[0]['rouge-l']['p']\n",
        "  rougelf += result[0]['rouge-l']['f']\n",
        "\n",
        "avg_bart_by_human_rouge = {'rouge-1':{'r': rouge1r/N, 'p': rouge1p/N, 'f': rouge1f/N}, 'rouge-2':{'r': rouge2r/N, 'p': rouge2p/N, 'f': rouge2f/N}, 'rouge-l':{'r': rougelr/N, 'p': rougelp/N, 'f': rougelf/N}}\n",
        "print(avg_bart_by_human_rouge)"
      ]
    },
    {
      "cell_type": "code",
      "execution_count": null,
      "metadata": {
        "id": "BscFswDVpeec",
        "colab": {
          "base_uri": "https://localhost:8080/",
          "height": 387
        },
        "outputId": "0bec7b5b-ae3d-49d2-a526-7492c26737db"
      },
      "outputs": [
        {
          "output_type": "error",
          "ename": "TypeError",
          "evalue": "ignored",
          "traceback": [
            "\u001b[0;31m---------------------------------------------------------------------------\u001b[0m",
            "\u001b[0;31mTypeError\u001b[0m                                 Traceback (most recent call last)",
            "\u001b[0;32m/var/folders/z1/cwnnlb713vdfc2_wknfcvkx40000gn/T/ipykernel_27119/757292208.py\u001b[0m in \u001b[0;36m<module>\u001b[0;34m\u001b[0m\n\u001b[1;32m      6\u001b[0m   \u001b[0msshleifer_candidate\u001b[0m \u001b[0;34m=\u001b[0m \u001b[0;34m[\u001b[0m\u001b[0;34m]\u001b[0m\u001b[0;34m\u001b[0m\u001b[0;34m\u001b[0m\u001b[0m\n\u001b[1;32m      7\u001b[0m   \u001b[0;32mfor\u001b[0m \u001b[0mpara\u001b[0m \u001b[0;32min\u001b[0m \u001b[0mby_para_mon\u001b[0m\u001b[0;34m[\u001b[0m\u001b[0mi\u001b[0m\u001b[0;34m]\u001b[0m\u001b[0;34m:\u001b[0m \u001b[0;31m# looping through every paragraph within that text\u001b[0m\u001b[0;34m\u001b[0m\u001b[0;34m\u001b[0m\u001b[0m\n\u001b[0;32m----> 8\u001b[0;31m     \u001b[0msshleifer_candidate\u001b[0m\u001b[0;34m.\u001b[0m\u001b[0mappend\u001b[0m\u001b[0;34m(\u001b[0m\u001b[0msummarizer2\u001b[0m\u001b[0;34m(\u001b[0m\u001b[0mpara\u001b[0m\u001b[0;34m,\u001b[0m \u001b[0mmin_length\u001b[0m\u001b[0;34m=\u001b[0m\u001b[0;36m15\u001b[0m\u001b[0;34m,\u001b[0m\u001b[0mmax_length\u001b[0m\u001b[0;34m=\u001b[0m\u001b[0;36m20\u001b[0m\u001b[0;34m)\u001b[0m\u001b[0;34m[\u001b[0m\u001b[0;36m0\u001b[0m\u001b[0;34m]\u001b[0m\u001b[0;34m[\u001b[0m\u001b[0;34m'summary_text'\u001b[0m\u001b[0;34m]\u001b[0m\u001b[0;34m)\u001b[0m\u001b[0;34m\u001b[0m\u001b[0;34m\u001b[0m\u001b[0m\n\u001b[0m\u001b[1;32m      9\u001b[0m \u001b[0;34m\u001b[0m\u001b[0m\n\u001b[1;32m     10\u001b[0m   \u001b[0msshleifer_cand\u001b[0m \u001b[0;34m=\u001b[0m \u001b[0;34m\" \"\u001b[0m\u001b[0;34m.\u001b[0m\u001b[0mjoin\u001b[0m\u001b[0;34m(\u001b[0m\u001b[0msshleifer_candidate\u001b[0m\u001b[0;34m)\u001b[0m\u001b[0;34m\u001b[0m\u001b[0;34m\u001b[0m\u001b[0m\n",
            "\u001b[0;32m~/opt/anaconda3/lib/python3.9/site-packages/torch/nn/modules/module.py\u001b[0m in \u001b[0;36m_call_impl\u001b[0;34m(self, *input, **kwargs)\u001b[0m\n\u001b[1;32m   1192\u001b[0m         if not (self._backward_hooks or self._forward_hooks or self._forward_pre_hooks or _global_backward_hooks\n\u001b[1;32m   1193\u001b[0m                 or _global_forward_hooks or _global_forward_pre_hooks):\n\u001b[0;32m-> 1194\u001b[0;31m             \u001b[0;32mreturn\u001b[0m \u001b[0mforward_call\u001b[0m\u001b[0;34m(\u001b[0m\u001b[0;34m*\u001b[0m\u001b[0minput\u001b[0m\u001b[0;34m,\u001b[0m \u001b[0;34m**\u001b[0m\u001b[0mkwargs\u001b[0m\u001b[0;34m)\u001b[0m\u001b[0;34m\u001b[0m\u001b[0;34m\u001b[0m\u001b[0m\n\u001b[0m\u001b[1;32m   1195\u001b[0m         \u001b[0;31m# Do not call functions when jit is used\u001b[0m\u001b[0;34m\u001b[0m\u001b[0;34m\u001b[0m\u001b[0m\n\u001b[1;32m   1196\u001b[0m         \u001b[0mfull_backward_hooks\u001b[0m\u001b[0;34m,\u001b[0m \u001b[0mnon_full_backward_hooks\u001b[0m \u001b[0;34m=\u001b[0m \u001b[0;34m[\u001b[0m\u001b[0;34m]\u001b[0m\u001b[0;34m,\u001b[0m \u001b[0;34m[\u001b[0m\u001b[0;34m]\u001b[0m\u001b[0;34m\u001b[0m\u001b[0;34m\u001b[0m\u001b[0m\n",
            "\u001b[0;31mTypeError\u001b[0m: forward() got an unexpected keyword argument 'min_length'"
          ]
        }
      ],
      "source": [
        "rouge1r, rouge1p, rouge1f = 0, 0, 0\n",
        "rouge2r, rouge2p, rouge2f = 0, 0, 0\n",
        "rougelr, rougelp, rougelf = 0, 0, 0\n",
        "# avg score for 2nd summaries\n",
        "for i in range(N):  # looping through every text(splitted by paragraph) in the list \n",
        "  sshleifer_candidate = []\n",
        "  for para in by_para_mon[i]: # looping through every paragraph within that text\n",
        "    sshleifer_candidate.append(summarizer2(para, min_length=15,max_length=20)[0]['summary_text'])\n",
        "  \n",
        "  sshleifer_cand = \" \".join(sshleifer_candidate)\n",
        "  print(sshleifer_cand) \n",
        "  result = calc_rouge_scores(preprocess_to_str(sshleifer_cand), preprocess_to_str(by_tarasha[i]))\n",
        "  rouge1r += result[0]['rouge-1']['r']\n",
        "  rouge1p += result[0]['rouge-1']['p']\n",
        "  rouge1f += result[0]['rouge-1']['f']\n",
        "\n",
        "  rouge2r += result[0]['rouge-2']['r']\n",
        "  rouge2p += result[0]['rouge-2']['p']\n",
        "  rouge2f += result[0]['rouge-2']['f']\n",
        "\n",
        "  rougelr += result[0]['rouge-l']['r']\n",
        "  rougelp += result[0]['rouge-l']['p']\n",
        "  rougelf += result[0]['rouge-l']['f']\n",
        "\n",
        "avg_bart_by_tarasha_rouge = {'rouge-1':{'r': rouge1r/N, 'p': rouge1p/N, 'f': rouge1f/N}, 'rouge-2':{'r': rouge2r/N, 'p': rouge2p/N, 'f': rouge2f/N}, 'rouge-l':{'r': rougelr/N, 'p': rougelp/N, 'f': rougelf/N}}\n",
        "print(avg_bart_by_tarasha_rouge)"
      ]
    },
    {
      "cell_type": "code",
      "execution_count": null,
      "metadata": {
        "id": "tc3ebV7ype87"
      },
      "outputs": [],
      "source": [
        "rouge1r, rouge1p, rouge1f = 0, 0, 0\n",
        "rouge2r, rouge2p, rouge2f = 0, 0, 0\n",
        "rougelr, rougelp, rougelf = 0, 0, 0\n",
        "# avg score for 3rd summaries\n",
        "for i in range(N):  # looping through every text(splitted by paragraph) in the list \n",
        "  sshleifer_candidate = []\n",
        "  for para in by_para_mon[i]: # looping through every paragraph within that text\n",
        "    sshleifer_candidate.append(summarizer2(para, min_length=15,max_length=20)[0]['summary_text'])\n",
        "  \n",
        "  sshleifer_cand = \" \".join(sshleifer_candidate)\n",
        "  print(sshleifer_cand) \n",
        "  result = calc_rouge_scores(preprocess_to_str(sshleifer_cand), preprocess_to_str(by_arjun[i]))\n",
        "  rouge1r += result[0]['rouge-1']['r']\n",
        "  rouge1p += result[0]['rouge-1']['p']\n",
        "  rouge1f += result[0]['rouge-1']['f']\n",
        "\n",
        "  rouge2r += result[0]['rouge-2']['r']\n",
        "  rouge2p += result[0]['rouge-2']['p']\n",
        "  rouge2f += result[0]['rouge-2']['f']\n",
        "\n",
        "  rougelr += result[0]['rouge-l']['r']\n",
        "  rougelp += result[0]['rouge-l']['p']\n",
        "  rougelf += result[0]['rouge-l']['f']\n",
        "\n",
        "avg_bart_by_arjun_rouge = {'rouge-1':{'r': rouge1r/N, 'p': rouge1p/N, 'f': rouge1f/N}, 'rouge-2':{'r': rouge2r/N, 'p': rouge2p/N, 'f': rouge2f/N}, 'rouge-l':{'r': rougelr/N, 'p': rougelp/N, 'f': rougelf/N}}\n",
        "print(avg_bart_by_arjun_rouge)"
      ]
    },
    {
      "cell_type": "code",
      "execution_count": null,
      "metadata": {
        "id": "I_AFRdZpqn68",
        "colab": {
          "base_uri": "https://localhost:8080/",
          "height": 224
        },
        "outputId": "e103f386-ace5-4f47-9c66-8f4d813ca5c3"
      },
      "outputs": [
        {
          "output_type": "error",
          "ename": "NameError",
          "evalue": "ignored",
          "traceback": [
            "\u001b[0;31m---------------------------------------------------------------------------\u001b[0m",
            "\u001b[0;31mNameError\u001b[0m                                 Traceback (most recent call last)",
            "\u001b[0;32m/var/folders/z1/cwnnlb713vdfc2_wknfcvkx40000gn/T/ipykernel_27119/1679078988.py\u001b[0m in \u001b[0;36m<module>\u001b[0;34m\u001b[0m\n\u001b[1;32m      1\u001b[0m \u001b[0;31m# ## Combined avg of all 3 summaries\u001b[0m\u001b[0;34m\u001b[0m\u001b[0;34m\u001b[0m\u001b[0m\n\u001b[0;32m----> 2\u001b[0;31m \u001b[0mall_bart_rouge\u001b[0m \u001b[0;34m=\u001b[0m \u001b[0;34m[\u001b[0m\u001b[0mavg_bart_by_human_rouge\u001b[0m\u001b[0;34m,\u001b[0m \u001b[0mavg_bart_by_tarasha_rouge\u001b[0m\u001b[0;34m,\u001b[0m \u001b[0mavg_bart_by_arjun_rouge\u001b[0m\u001b[0;34m]\u001b[0m\u001b[0;34m\u001b[0m\u001b[0;34m\u001b[0m\u001b[0m\n\u001b[0m\u001b[1;32m      3\u001b[0m \u001b[0;34m\u001b[0m\u001b[0m\n\u001b[1;32m      4\u001b[0m \u001b[0mprint\u001b[0m\u001b[0;34m(\u001b[0m\u001b[0mavg_rouge_results\u001b[0m\u001b[0;34m(\u001b[0m\u001b[0mall_bart_rouge\u001b[0m\u001b[0;34m)\u001b[0m\u001b[0;34m)\u001b[0m\u001b[0;34m\u001b[0m\u001b[0;34m\u001b[0m\u001b[0m\n",
            "\u001b[0;31mNameError\u001b[0m: name 'avg_bart_by_human_rouge' is not defined"
          ]
        }
      ],
      "source": [
        "# ## Combined avg of all 3 summaries\n",
        "all_bart_rouge = [avg_bart_by_human_rouge, avg_bart_by_tarasha_rouge, avg_bart_by_arjun_rouge]\n",
        "\n",
        "print(avg_rouge_results(all_bart_rouge))"
      ]
    },
    {
      "cell_type": "markdown",
      "metadata": {
        "id": "nA6Xz1MXofvl"
      },
      "source": [
        "## Based on WMD"
      ]
    },
    {
      "cell_type": "code",
      "execution_count": null,
      "metadata": {
        "id": "C16sxwXiohUN"
      },
      "outputs": [],
      "source": [
        "# model_summary = preprocess(sshleifer_cand)\n",
        "# reference_summary1 = preprocess(by_human)\n",
        "# reference_summary2 = preprocess(by_tarasha)\n",
        "# reference_summary3 = preprocess(by_arjun)\n",
        "\n",
        "# distance1 = model.wmdistance(model_summary, reference_summary1)\n",
        "# print('distance = %.4f' % distance1)\n",
        "# distance2 = model.wmdistance(model_summary, reference_summary2)\n",
        "# print('distance = %.4f' % distance2)\n",
        "# distance3 = model.wmdistance(model_summary, reference_summary3)\n",
        "# print('distance = %.4f' % distance3)\n",
        "# avg_dist = (distance1 + distance2 + distance3) / 3\n",
        "# print('distance = %.4f' % avg_dist)"
      ]
    },
    {
      "cell_type": "markdown",
      "metadata": {
        "id": "PPUE2zksBmCS"
      },
      "source": [
        "# Getting T5 model to evaluate the speech that is split by paragraph"
      ]
    },
    {
      "cell_type": "code",
      "execution_count": null,
      "metadata": {
        "id": "bmSIN1QC8HHf",
        "colab": {
          "base_uri": "https://localhost:8080/"
        },
        "outputId": "31d0e473-aff8-45c1-87ca-179472da4a49"
      },
      "outputs": [
        {
          "output_type": "stream",
          "name": "stderr",
          "text": [
            "/Users/yj/opt/anaconda3/lib/python3.9/site-packages/transformers/models/t5/tokenization_t5_fast.py:155: FutureWarning: This tokenizer was incorrectly instantiated with a model max length of 512 which will be corrected in Transformers v5.\n",
            "For now, this behavior is kept to avoid breaking backwards compatibility when padding/encoding with `truncation is True`.\n",
            "- Be aware that you SHOULD NOT rely on t5-base automatically truncating your input to 512 when padding/encoding.\n",
            "- If you want to encode/pad to sequences longer than 512 you can either instantiate this tokenizer with `model_max_length` or pass `max_length` when encoding/padding.\n",
            "- To avoid this warning, please instantiate this tokenizer with `model_max_length` set to your preferred value.\n",
            "  warnings.warn(\n"
          ]
        }
      ],
      "source": [
        "from transformers import AutoTokenizer, T5ForConditionalGeneration\n",
        "tokenizer = AutoTokenizer.from_pretrained(\"t5-base\")\n",
        "model = T5ForConditionalGeneration.from_pretrained(\"t5-base\")"
      ]
    },
    {
      "cell_type": "markdown",
      "metadata": {
        "id": "eU_5gin2n3x2"
      },
      "source": [
        "## Based on rouge score"
      ]
    },
    {
      "cell_type": "code",
      "execution_count": null,
      "metadata": {
        "id": "yZV6yDmAfOrV",
        "colab": {
          "base_uri": "https://localhost:8080/"
        },
        "outputId": "66d231c3-733b-416b-9304-b5300fedd9ab"
      },
      "outputs": [
        {
          "output_type": "stream",
          "name": "stdout",
          "text": [
            " recent indicators point to modest growth in spending and production. inflation remains elevated, reflecting supply and demand imbalances.  the war and related e vents are contributing to upward pressure on inflation. the Committee is highly attentive to inflation risks.  the Committee is strongly committed to returning inflation to its 2 percent objective. the Committee will continue reducing its holdings of Treasury securities and agency debt and agency mortgage -backed securities.  the Committee will monitor the implications of incoming information for the economic outlook. the Committee would be prepared to adjust the stance of monetary policy as appropriate if ris ks emerge that could impede the attainment of the Committee’s goals.\n",
            " recent indicators point to modest growth in spending and production. job gains have been robust in recent months, and the unemployment rate has remained low.  the war and related events are creating additional upward pressure on inflation. the Committee is highly attentive to inflation risks.  the Committee is strongly committed to returning inflation to its 2 percent objective. the Committee will continue reducing its holdings of Treasury securities and agency debt and agency mortgage -backed securities.  the Committee will monitor the implications of incoming information for the economic outlook. the Committee would be prepared to adjust the stance of monetary policy as appropriate if ris ks emerge that could impede the attainment of the Committee’s goals.\n",
            " household spending and business fixed investment remain strong. inflation remains elevated, reflecting supply and demand imbalances.  aaron miller: the invasion of Ukraine by Russia is causing tremendous human and economic hardship. miller: the implications for the u.s. economy are highly uncertain. he says lockdowns in china are likely to exacerbate supply chain disruptions. miller: the Committee is highly attentive to inflation risks.  the Committee expects inflation to return to its 2 percent objective. the Committee decided to raise the target range for the federal funds rate to 3/4 to 1 percent.  monetary committee will continue to monitor the implications of incoming information for the economic environment. incoming information will have a positive impact on the economic environment.  the Committee’s assessments will take into account a wide range of information. this includes readings on public health, labor market conditions, inflation pressures and inflation expectations, and financial and international developments.\n",
            " Indicators of economic activity and empl oyment have continued to strengthen.  COVID-19 cases have increased in recent months. the unemployment rate has declined substantially. overall financial conditions remain accommodative.  progress on vaccinations and an easing of supply constraints expected to support gains. economic activity and employment expected to continue, as well as a reduction in inflation.  the Committee seeks to achieve maximum employment and inflation at the rate of 2 percent over the longer run. the Committee decided to keep the target range for the federal funds rate at 0 to 1/4 percent.  the Committee will monitor the implications of incoming information for the economic outlook. the Committee would be prepared to adjust the stance of monetary policy as appropriate if risks emerge that could impede the at tainment of the Committee’s goals.\n",
            "{'rouge-1': {'r': 0.42665347962930583, 'p': 0.2562427995391705, 'f': 0.31894985434817946}, 'rouge-2': {'r': 0.2298182507249057, 'p': 0.13394340124365897, 'f': 0.16826889915358065}, 'rouge-l': {'r': 0.42665347962930583, 'p': 0.2562427995391705, 'f': 0.31894985434817946}}\n"
          ]
        }
      ],
      "source": [
        "# avg score from 1st summaries\n",
        "rouge1r, rouge1p, rouge1f = 0, 0, 0\n",
        "rouge2r, rouge2p, rouge2f = 0, 0, 0\n",
        "rougelr, rougelp, rougelf = 0, 0, 0\n",
        "avg_t5_by_human_rouge = {}\n",
        "\n",
        "N = len(by_human)\n",
        "\n",
        "for i in range(N):  # looping through every text(splitted by paragraph) in the list \n",
        "  t5_candidate = []\n",
        "  for para in by_para_mon[i]: # looping through every paragraph within that text\n",
        "    text = \"summarize: \" + para # need to add a \"summarize\" to tell the T5 what to do\n",
        "    input_ids = tokenizer.encode(text,return_tensors=\"pt\")\n",
        "    output_ids = model.generate(\n",
        "        input_ids, \n",
        "        min_length=10,\n",
        "        max_length=1024\n",
        "    )\n",
        "    t5_candidate.append(tokenizer.decode(output_ids[0]))\n",
        "  t5_cand = \" \".join(t5_candidate) # here in t5_cand we have the t5 generated model\n",
        "  t5_cand = t5_cand.replace(\"<pad>\", \"\")\n",
        "  t5_cand = t5_cand.replace(\"</s>\", \"\")\n",
        "  print(t5_cand)\n",
        "  \n",
        "  result = calc_rouge_scores(preprocess_to_str(t5_cand), preprocess_to_str(by_human[i]))\n",
        "  rouge1r += result[0]['rouge-1']['r']\n",
        "  rouge1p += result[0]['rouge-1']['p']\n",
        "  rouge1f += result[0]['rouge-1']['f']\n",
        "\n",
        "  rouge2r += result[0]['rouge-2']['r']\n",
        "  rouge2p += result[0]['rouge-2']['p']\n",
        "  rouge2f += result[0]['rouge-2']['f']\n",
        "\n",
        "  rougelr += result[0]['rouge-l']['r']\n",
        "  rougelp += result[0]['rouge-l']['p']\n",
        "  rougelf += result[0]['rouge-l']['f']\n",
        "\n",
        "avg_t5_by_human_rouge = {'rouge-1':{'r': rouge1r/N, 'p': rouge1p/N, 'f': rouge1f/N}, 'rouge-2':{'r': rouge2r/N, 'p': rouge2p/N, 'f': rouge2f/N}, 'rouge-l':{'r': rougelr/N, 'p': rougelp/N, 'f': rougelf/N}}\n",
        "print(avg_t5_by_human_rouge)"
      ]
    },
    {
      "cell_type": "code",
      "execution_count": null,
      "metadata": {
        "id": "pBbBTNWsibLh",
        "colab": {
          "base_uri": "https://localhost:8080/"
        },
        "outputId": "bb2923e5-b078-4183-cc7e-d42a2fa86709"
      },
      "outputs": [
        {
          "output_type": "stream",
          "name": "stdout",
          "text": [
            " recent indicators point to modest growth in spending and production. inflation remains elevated, reflecting supply and demand imbalances.  the war and related e vents are contributing to upward pressure on inflation. the Committee is highly attentive to inflation risks.  the Committee is strongly committed to returning inflation to its 2 percent objective. the Committee will continue reducing its holdings of Treasury securities and agency debt and agency mortgage -backed securities.  the Committee will monitor the implications of incoming information for the economic outlook. the Committee would be prepared to adjust the stance of monetary policy as appropriate if ris ks emerge that could impede the attainment of the Committee’s goals.\n",
            " recent indicators point to modest growth in spending and production. job gains have been robust in recent months, and the unemployment rate has remained low.  the war and related events are creating additional upward pressure on inflation. the Committee is highly attentive to inflation risks.  the Committee is strongly committed to returning inflation to its 2 percent objective. the Committee will continue reducing its holdings of Treasury securities and agency debt and agency mortgage -backed securities.  the Committee will monitor the implications of incoming information for the economic outlook. the Committee would be prepared to adjust the stance of monetary policy as appropriate if ris ks emerge that could impede the attainment of the Committee’s goals.\n",
            " household spending and business fixed investment remain strong. inflation remains elevated, reflecting supply and demand imbalances.  aaron miller: the invasion of Ukraine by Russia is causing tremendous human and economic hardship. miller: the implications for the u.s. economy are highly uncertain. he says lockdowns in china are likely to exacerbate supply chain disruptions. miller: the Committee is highly attentive to inflation risks.  the Committee expects inflation to return to its 2 percent objective. the Committee decided to raise the target range for the federal funds rate to 3/4 to 1 percent.  monetary committee will continue to monitor the implications of incoming information for the economic environment. incoming information will have a positive impact on the economic environment.  the Committee’s assessments will take into account a wide range of information. this includes readings on public health, labor market conditions, inflation pressures and inflation expectations, and financial and international developments.\n",
            " Indicators of economic activity and empl oyment have continued to strengthen.  COVID-19 cases have increased in recent months. the unemployment rate has declined substantially. overall financial conditions remain accommodative.  progress on vaccinations and an easing of supply constraints expected to support gains. economic activity and employment expected to continue, as well as a reduction in inflation.  the Committee seeks to achieve maximum employment and inflation at the rate of 2 percent over the longer run. the Committee decided to keep the target range for the federal funds rate at 0 to 1/4 percent.  the Committee will monitor the implications of incoming information for the economic outlook. the Committee would be prepared to adjust the stance of monetary policy as appropriate if risks emerge that could impede the at tainment of the Committee’s goals.\n",
            "{'rouge-1': {'r': 0.4111619364324868, 'p': 0.31312283986175116, 'f': 0.33775700949474624}, 'rouge-2': {'r': 0.18452138236552645, 'p': 0.13808910162002946, 'f': 0.14886835652509833}, 'rouge-l': {'r': 0.39458353440623767, 'p': 0.29791546658986173, 'f': 0.3223852467545625}}\n"
          ]
        }
      ],
      "source": [
        "# avg score from 2nd summaries\n",
        "rouge1r, rouge1p, rouge1f = 0, 0, 0\n",
        "rouge2r, rouge2p, rouge2f = 0, 0, 0\n",
        "rougelr, rougelp, rougelf = 0, 0, 0\n",
        "avg_t5_by_tarasha_rouge = {}\n",
        "\n",
        "N = len(by_tarasha)\n",
        "\n",
        "for i in range(N):  # looping through every text(splitted by paragraph) in the list \n",
        "  t5_candidate = []\n",
        "  for para in by_para_mon[i]: # looping through every paragraph within that text\n",
        "    text = \"summarize: \" + para # need to add a \"summarize\" to tell the T5 what to do\n",
        "    input_ids = tokenizer.encode(text,return_tensors=\"pt\")\n",
        "    output_ids = model.generate(\n",
        "        input_ids, \n",
        "        min_length=10,\n",
        "        max_length=1024\n",
        "    )\n",
        "    t5_candidate.append(tokenizer.decode(output_ids[0]))\n",
        "  t5_cand = \" \".join(t5_candidate) # here in t5_cand we have the t5 generated model\n",
        "  t5_cand = t5_cand.replace(\"<pad>\", \"\")\n",
        "  t5_cand = t5_cand.replace(\"</s>\", \"\")\n",
        "  print(t5_cand)\n",
        "  \n",
        "  result = calc_rouge_scores(preprocess_to_str(t5_cand), preprocess_to_str(by_tarasha[i]))\n",
        "  rouge1r += result[0]['rouge-1']['r']\n",
        "  rouge1p += result[0]['rouge-1']['p']\n",
        "  rouge1f += result[0]['rouge-1']['f']\n",
        "\n",
        "  rouge2r += result[0]['rouge-2']['r']\n",
        "  rouge2p += result[0]['rouge-2']['p']\n",
        "  rouge2f += result[0]['rouge-2']['f']\n",
        "\n",
        "  rougelr += result[0]['rouge-l']['r']\n",
        "  rougelp += result[0]['rouge-l']['p']\n",
        "  rougelf += result[0]['rouge-l']['f']\n",
        "\n",
        "avg_t5_by_tarasha_rouge = {'rouge-1':{'r': rouge1r/N, 'p': rouge1p/N, 'f': rouge1f/N}, 'rouge-2':{'r': rouge2r/N, 'p': rouge2p/N, 'f': rouge2f/N}, 'rouge-l':{'r': rougelr/N, 'p': rougelp/N, 'f': rougelf/N}}\n",
        "print(avg_t5_by_tarasha_rouge)"
      ]
    },
    {
      "cell_type": "code",
      "execution_count": null,
      "metadata": {
        "id": "ET4tf1D5mUeE",
        "colab": {
          "base_uri": "https://localhost:8080/"
        },
        "outputId": "d7a830f2-daad-4312-ef67-7ebd1bbf3958"
      },
      "outputs": [
        {
          "output_type": "stream",
          "name": "stdout",
          "text": [
            " recent indicators point to modest growth in spending and production. inflation remains elevated, reflecting supply and demand imbalances.  the war and related e vents are contributing to upward pressure on inflation. the Committee is highly attentive to inflation risks.  the Committee is strongly committed to returning inflation to its 2 percent objective. the Committee will continue reducing its holdings of Treasury securities and agency debt and agency mortgage -backed securities.  the Committee will monitor the implications of incoming information for the economic outlook. the Committee would be prepared to adjust the stance of monetary policy as appropriate if ris ks emerge that could impede the attainment of the Committee’s goals.\n",
            " recent indicators point to modest growth in spending and production. job gains have been robust in recent months, and the unemployment rate has remained low.  the war and related events are creating additional upward pressure on inflation. the Committee is highly attentive to inflation risks.  the Committee is strongly committed to returning inflation to its 2 percent objective. the Committee will continue reducing its holdings of Treasury securities and agency debt and agency mortgage -backed securities.  the Committee will monitor the implications of incoming information for the economic outlook. the Committee would be prepared to adjust the stance of monetary policy as appropriate if ris ks emerge that could impede the attainment of the Committee’s goals.\n",
            " household spending and business fixed investment remain strong. inflation remains elevated, reflecting supply and demand imbalances.  aaron miller: the invasion of Ukraine by Russia is causing tremendous human and economic hardship. miller: the implications for the u.s. economy are highly uncertain. he says lockdowns in china are likely to exacerbate supply chain disruptions. miller: the Committee is highly attentive to inflation risks.  the Committee expects inflation to return to its 2 percent objective. the Committee decided to raise the target range for the federal funds rate to 3/4 to 1 percent.  monetary committee will continue to monitor the implications of incoming information for the economic environment. incoming information will have a positive impact on the economic environment.  the Committee’s assessments will take into account a wide range of information. this includes readings on public health, labor market conditions, inflation pressures and inflation expectations, and financial and international developments.\n",
            " Indicators of economic activity and empl oyment have continued to strengthen.  COVID-19 cases have increased in recent months. the unemployment rate has declined substantially. overall financial conditions remain accommodative.  progress on vaccinations and an easing of supply constraints expected to support gains. economic activity and employment expected to continue, as well as a reduction in inflation.  the Committee seeks to achieve maximum employment and inflation at the rate of 2 percent over the longer run. the Committee decided to keep the target range for the federal funds rate at 0 to 1/4 percent.  the Committee will monitor the implications of incoming information for the economic outlook. the Committee would be prepared to adjust the stance of monetary policy as appropriate if risks emerge that could impede the at tainment of the Committee’s goals.\n",
            "{'rouge-1': {'r': 0.2854691075514874, 'p': 0.2895413306451613, 'f': 0.28635198489907215}, 'rouge-2': {'r': 0.11404533695237287, 'p': 0.10388183194239896, 'f': 0.10810900309404671}, 'rouge-l': {'r': 0.26802059496567504, 'p': 0.27146097350230414, 'f': 0.26862816814011126}}\n"
          ]
        }
      ],
      "source": [
        "# avg score from 3rd summaries\n",
        "rouge1r, rouge1p, rouge1f = 0, 0, 0\n",
        "rouge2r, rouge2p, rouge2f = 0, 0, 0\n",
        "rougelr, rougelp, rougelf = 0, 0, 0\n",
        "avg_t5_by_arjun_rouge = {}\n",
        "\n",
        "N = len(by_arjun)\n",
        "\n",
        "for i in range(N):  # looping through every text(splitted by paragraph) in the list \n",
        "  t5_candidate = []\n",
        "  for para in by_para_mon[i]: # looping through every paragraph within that text\n",
        "    text = \"summarize: \" + para # need to add a \"summarize\" to tell the T5 what to do\n",
        "    input_ids = tokenizer.encode(text,return_tensors=\"pt\")\n",
        "    output_ids = model.generate(\n",
        "        input_ids, \n",
        "        min_length=10,\n",
        "        max_length=1024\n",
        "    )\n",
        "    t5_candidate.append(tokenizer.decode(output_ids[0]))\n",
        "  t5_cand = \" \".join(t5_candidate) # here in t5_cand we have the t5 generated model\n",
        "  t5_cand = t5_cand.replace(\"<pad>\", \"\")\n",
        "  t5_cand = t5_cand.replace(\"</s>\", \"\")\n",
        "  print(t5_cand)\n",
        "  \n",
        "  result = calc_rouge_scores(preprocess_to_str(t5_cand), preprocess_to_str(by_arjun[i]))\n",
        "  rouge1r += result[0]['rouge-1']['r']\n",
        "  rouge1p += result[0]['rouge-1']['p']\n",
        "  rouge1f += result[0]['rouge-1']['f']\n",
        "\n",
        "  rouge2r += result[0]['rouge-2']['r']\n",
        "  rouge2p += result[0]['rouge-2']['p']\n",
        "  rouge2f += result[0]['rouge-2']['f']\n",
        "\n",
        "  rougelr += result[0]['rouge-l']['r']\n",
        "  rougelp += result[0]['rouge-l']['p']\n",
        "  rougelf += result[0]['rouge-l']['f']\n",
        "\n",
        "avg_t5_by_arjun_rouge = {'rouge-1':{'r': rouge1r/N, 'p': rouge1p/N, 'f': rouge1f/N}, 'rouge-2':{'r': rouge2r/N, 'p': rouge2p/N, 'f': rouge2f/N}, 'rouge-l':{'r': rougelr/N, 'p': rougelp/N, 'f': rougelf/N}}\n",
        "print(avg_t5_by_arjun_rouge)"
      ]
    },
    {
      "cell_type": "code",
      "execution_count": null,
      "metadata": {
        "id": "q-d8Y508_P9b",
        "colab": {
          "base_uri": "https://localhost:8080/"
        },
        "outputId": "6e1b4ac9-9c81-4684-8dbe-9f03bba185c1"
      },
      "outputs": [
        {
          "output_type": "stream",
          "name": "stdout",
          "text": [
            "{'rouge-1': {'r': 0.37442817453776, 'p': 0.2863023233486943, 'f': 0.3143529495806659}, 'rouge-2': {'r': 0.17612832334760167, 'p': 0.1253047782686958, 'f': 0.1417487529242419}, 'rouge-l': {'r': 0.36308586966707285, 'p': 0.2752064132104455, 'f': 0.30332108974761773}}\n"
          ]
        }
      ],
      "source": [
        "# ## Combined avg of all 3 summaries\n",
        "all_t5_rouge = [avg_t5_by_human_rouge, avg_t5_by_tarasha_rouge, avg_t5_by_arjun_rouge]\n",
        "\n",
        "print(avg_rouge_results(all_t5_rouge))"
      ]
    },
    {
      "cell_type": "markdown",
      "metadata": {
        "id": "2GHOJQscoYoH"
      },
      "source": [
        "## Based on WMD"
      ]
    },
    {
      "cell_type": "code",
      "source": [],
      "metadata": {
        "id": "etMmJL_t_i4U"
      },
      "execution_count": null,
      "outputs": []
    },
    {
      "cell_type": "code",
      "execution_count": null,
      "metadata": {
        "id": "84__w0Ihop3O"
      },
      "outputs": [],
      "source": [
        "# model_summary = preprocess(t5_cand)\n",
        "# reference_summary1 = preprocess(by_human)\n",
        "# reference_summary2 = preprocess(by_tarasha)\n",
        "# reference_summary3 = preprocess(by_arjun)\n",
        "\n",
        "# distance1 = model.wmdistance(model_summary, reference_summary1)\n",
        "# print('distance = %.4f' % distance1)\n",
        "# distance2 = model.wmdistance(model_summary, reference_summary2)\n",
        "# print('distance = %.4f' % distance2)\n",
        "# distance3 = model.wmdistance(model_summary, reference_summary3)\n",
        "# print('distance = %.4f' % distance3)\n",
        "# avg_dist = (distance1 + distance2 + distance3) / 3\n",
        "# print('distance = %.4f' % avg_dist)"
      ]
    },
    {
      "cell_type": "markdown",
      "metadata": {
        "id": "XaacbasIMXds"
      },
      "source": [
        "# Getting GPT2 model to evaluate text that is split by paragraph"
      ]
    },
    {
      "cell_type": "code",
      "execution_count": null,
      "metadata": {
        "id": "pOtZT3Q5Mn-g"
      },
      "outputs": [],
      "source": [
        "# from transformers import AutoTokenizer, GPT2LMHeadModel\n",
        "# tokenizer = AutoTokenizer.from_pretrained(\"gpt2\")\n",
        "# model = GPT2LMHeadModel.from_pretrained(\"gpt2\")"
      ]
    },
    {
      "cell_type": "code",
      "source": [
        "!pip install bert-extractive-summarizer\n",
        "from summarizer import Summarizer,TransformerSummarizer"
      ],
      "metadata": {
        "id": "FDIh7GuYn9eU",
        "colab": {
          "base_uri": "https://localhost:8080/"
        },
        "outputId": "086868ba-785b-4269-f4c5-ea091c1d2695"
      },
      "execution_count": null,
      "outputs": [
        {
          "output_type": "stream",
          "name": "stdout",
          "text": [
            "huggingface/tokenizers: The current process just got forked, after parallelism has already been used. Disabling parallelism to avoid deadlocks...\n",
            "To disable this warning, you can either:\n",
            "\t- Avoid using `tokenizers` before the fork if possible\n",
            "\t- Explicitly set the environment variable TOKENIZERS_PARALLELISM=(true | false)\n",
            "Requirement already satisfied: bert-extractive-summarizer in ./opt/anaconda3/lib/python3.9/site-packages (0.10.1)\n",
            "Requirement already satisfied: transformers in ./opt/anaconda3/lib/python3.9/site-packages (from bert-extractive-summarizer) (4.25.1)\n",
            "Requirement already satisfied: spacy in ./opt/anaconda3/lib/python3.9/site-packages (from bert-extractive-summarizer) (3.5.0)\n",
            "Requirement already satisfied: scikit-learn in ./opt/anaconda3/lib/python3.9/site-packages (from bert-extractive-summarizer) (1.1.2)\n",
            "Requirement already satisfied: joblib>=1.0.0 in ./opt/anaconda3/lib/python3.9/site-packages (from scikit-learn->bert-extractive-summarizer) (1.1.1)\n",
            "Requirement already satisfied: numpy>=1.17.3 in ./opt/anaconda3/lib/python3.9/site-packages (from scikit-learn->bert-extractive-summarizer) (1.21.5)\n",
            "Requirement already satisfied: threadpoolctl>=2.0.0 in ./opt/anaconda3/lib/python3.9/site-packages (from scikit-learn->bert-extractive-summarizer) (2.2.0)\n",
            "Requirement already satisfied: scipy>=1.3.2 in ./opt/anaconda3/lib/python3.9/site-packages (from scikit-learn->bert-extractive-summarizer) (1.7.3)\n",
            "Requirement already satisfied: murmurhash<1.1.0,>=0.28.0 in ./opt/anaconda3/lib/python3.9/site-packages (from spacy->bert-extractive-summarizer) (1.0.9)\n",
            "Requirement already satisfied: thinc<8.2.0,>=8.1.0 in ./opt/anaconda3/lib/python3.9/site-packages (from spacy->bert-extractive-summarizer) (8.1.9)\n",
            "Requirement already satisfied: jinja2 in ./opt/anaconda3/lib/python3.9/site-packages (from spacy->bert-extractive-summarizer) (2.11.3)\n",
            "Requirement already satisfied: catalogue<2.1.0,>=2.0.6 in ./opt/anaconda3/lib/python3.9/site-packages (from spacy->bert-extractive-summarizer) (2.0.8)\n",
            "Requirement already satisfied: pydantic!=1.8,!=1.8.1,<1.11.0,>=1.7.4 in ./opt/anaconda3/lib/python3.9/site-packages (from spacy->bert-extractive-summarizer) (1.10.6)\n",
            "Requirement already satisfied: requests<3.0.0,>=2.13.0 in ./opt/anaconda3/lib/python3.9/site-packages (from spacy->bert-extractive-summarizer) (2.28.1)\n",
            "Requirement already satisfied: srsly<3.0.0,>=2.4.3 in ./opt/anaconda3/lib/python3.9/site-packages (from spacy->bert-extractive-summarizer) (2.4.6)\n",
            "Requirement already satisfied: cymem<2.1.0,>=2.0.2 in ./opt/anaconda3/lib/python3.9/site-packages (from spacy->bert-extractive-summarizer) (2.0.7)\n",
            "Requirement already satisfied: pathy>=0.10.0 in ./opt/anaconda3/lib/python3.9/site-packages (from spacy->bert-extractive-summarizer) (0.10.1)\n",
            "Requirement already satisfied: langcodes<4.0.0,>=3.2.0 in ./opt/anaconda3/lib/python3.9/site-packages (from spacy->bert-extractive-summarizer) (3.3.0)\n",
            "Requirement already satisfied: tqdm<5.0.0,>=4.38.0 in ./opt/anaconda3/lib/python3.9/site-packages (from spacy->bert-extractive-summarizer) (4.64.1)\n",
            "Requirement already satisfied: wasabi<1.2.0,>=0.9.1 in ./opt/anaconda3/lib/python3.9/site-packages (from spacy->bert-extractive-summarizer) (1.1.1)\n",
            "Requirement already satisfied: preshed<3.1.0,>=3.0.2 in ./opt/anaconda3/lib/python3.9/site-packages (from spacy->bert-extractive-summarizer) (3.0.8)\n",
            "Requirement already satisfied: spacy-legacy<3.1.0,>=3.0.11 in ./opt/anaconda3/lib/python3.9/site-packages (from spacy->bert-extractive-summarizer) (3.0.12)\n",
            "Requirement already satisfied: setuptools in ./opt/anaconda3/lib/python3.9/site-packages (from spacy->bert-extractive-summarizer) (65.6.3)\n",
            "Requirement already satisfied: spacy-loggers<2.0.0,>=1.0.0 in ./opt/anaconda3/lib/python3.9/site-packages (from spacy->bert-extractive-summarizer) (1.0.4)\n",
            "Requirement already satisfied: packaging>=20.0 in ./opt/anaconda3/lib/python3.9/site-packages (from spacy->bert-extractive-summarizer) (22.0)\n",
            "Requirement already satisfied: smart-open<7.0.0,>=5.2.1 in ./opt/anaconda3/lib/python3.9/site-packages (from spacy->bert-extractive-summarizer) (5.2.1)\n",
            "Requirement already satisfied: typer<0.8.0,>=0.3.0 in ./opt/anaconda3/lib/python3.9/site-packages (from spacy->bert-extractive-summarizer) (0.7.0)\n",
            "Requirement already satisfied: filelock in ./opt/anaconda3/lib/python3.9/site-packages (from transformers->bert-extractive-summarizer) (3.9.0)\n",
            "Requirement already satisfied: tokenizers!=0.11.3,<0.14,>=0.11.1 in ./opt/anaconda3/lib/python3.9/site-packages (from transformers->bert-extractive-summarizer) (0.13.2)\n",
            "Requirement already satisfied: regex!=2019.12.17 in ./opt/anaconda3/lib/python3.9/site-packages (from transformers->bert-extractive-summarizer) (2022.7.9)\n",
            "Requirement already satisfied: pyyaml>=5.1 in ./opt/anaconda3/lib/python3.9/site-packages (from transformers->bert-extractive-summarizer) (6.0)\n",
            "Requirement already satisfied: huggingface-hub<1.0,>=0.10.0 in ./opt/anaconda3/lib/python3.9/site-packages (from transformers->bert-extractive-summarizer) (0.11.1)\n",
            "Requirement already satisfied: typing-extensions>=3.7.4.3 in ./opt/anaconda3/lib/python3.9/site-packages (from huggingface-hub<1.0,>=0.10.0->transformers->bert-extractive-summarizer) (4.4.0)\n",
            "Requirement already satisfied: certifi>=2017.4.17 in ./opt/anaconda3/lib/python3.9/site-packages (from requests<3.0.0,>=2.13.0->spacy->bert-extractive-summarizer) (2022.12.7)\n",
            "Requirement already satisfied: charset-normalizer<3,>=2 in ./opt/anaconda3/lib/python3.9/site-packages (from requests<3.0.0,>=2.13.0->spacy->bert-extractive-summarizer) (2.0.4)\n",
            "Requirement already satisfied: urllib3<1.27,>=1.21.1 in ./opt/anaconda3/lib/python3.9/site-packages (from requests<3.0.0,>=2.13.0->spacy->bert-extractive-summarizer) (1.26.14)\n",
            "Requirement already satisfied: idna<4,>=2.5 in ./opt/anaconda3/lib/python3.9/site-packages (from requests<3.0.0,>=2.13.0->spacy->bert-extractive-summarizer) (3.4)\n",
            "Requirement already satisfied: confection<1.0.0,>=0.0.1 in ./opt/anaconda3/lib/python3.9/site-packages (from thinc<8.2.0,>=8.1.0->spacy->bert-extractive-summarizer) (0.0.4)\n",
            "Requirement already satisfied: blis<0.8.0,>=0.7.8 in ./opt/anaconda3/lib/python3.9/site-packages (from thinc<8.2.0,>=8.1.0->spacy->bert-extractive-summarizer) (0.7.9)\n",
            "Requirement already satisfied: click<9.0.0,>=7.1.1 in ./opt/anaconda3/lib/python3.9/site-packages (from typer<0.8.0,>=0.3.0->spacy->bert-extractive-summarizer) (8.0.4)\n",
            "Requirement already satisfied: MarkupSafe>=0.23 in ./opt/anaconda3/lib/python3.9/site-packages (from jinja2->spacy->bert-extractive-summarizer) (2.0.1)\n"
          ]
        }
      ]
    },
    {
      "cell_type": "markdown",
      "metadata": {
        "id": "SC9OPHzbQnCT"
      },
      "source": [
        "## Based on ROUGE score"
      ]
    },
    {
      "cell_type": "code",
      "source": [
        "GPT2_model = TransformerSummarizer(transformer_type=\"GPT2\",transformer_model_key=\"gpt2-medium\")"
      ],
      "metadata": {
        "id": "xsfsO0JcoRXY"
      },
      "execution_count": null,
      "outputs": []
    },
    {
      "cell_type": "code",
      "execution_count": null,
      "metadata": {
        "id": "52CKjuCJQpyY",
        "colab": {
          "base_uri": "https://localhost:8080/"
        },
        "outputId": "20eededf-de38-464f-9e47-f65ee1e546d0"
      },
      "outputs": [
        {
          "output_type": "stream",
          "name": "stdout",
          "text": [
            "Recent indicators point to modest growth in spending and production. Job gains have been robust in recent months, and the unemployment rate has remained low. Russia’s war against Ukraine is causing tremendous human and economic hardship. The war and related e vents are contributing to upward pressure on inflation and are weighing on global economic activity. The Committee seeks to achieve maximum employment and inflation at the rate of 2 percent over the l onger run. The Committee anticipates that ongoing increases in the target range will be appropriate in order to attain a stan ce of monetary policy that is sufficiently restrictive to return inflation to 2 percent over time. In assessing the appropriate stance of monetary policy, the Committee will continue to monitor the implications of incoming information for the economic outlook. The Committee’s assessments will take into account a wide range of information, including readings on public health, labor market conditions, inflation pressures and inflation expectations, and financial and international developments.\n",
            "Recent indicators point to modest growth in spending and production. Job gains have been robust in recent months, and the unemployment rate has remained low. Russia’s war against Ukraine is causing tremendous human and economic hardship. The Committee is highly attentive to inflation risks. The Committee seeks to achieve maximum employment and inflation at the rate of 2 percent ov er the longer run. The Committee anticipates that ongoing increases in the target range will be appropriate in order to attain a stance of monetary policy that is sufficiently restrictive to return inflation to 2 percent over time . In assessing the appropriate stance of monetary policy, the Committee will continue to monitor the implications of incoming information for the economic outlook. The Committee’s assessments will take into account a wide range of information, including readings on public health, labor market conditions, inflation pressures and inflation expectations, and financial and international developments.\n",
            "Although overall economic activity edged down in the first quarter, household spending and business fixed investment remained strong. Job gains have been robust  in recent months, and the unemployment rate has declined substantially. The invasion of Ukraine by Russia is c ausing tremendous human and economic hardship. In addition, CO VID- related lockdowns in China are likely to exacerbate supply chain disruptions. The Committee seeks to achieve maximum employment and inflation at the rate of 2 percent over the longer run. In support of these goals, the Committee decided to raise the target range for the federal funds rate to 3/4 to 1 percent and anticipates that ongoing increases in the target range will be appropriate. In assessing the appropriate stance of monetary policy, the Committee will continue to monitor the implications of incoming information for the economic The Committee would be prepared to adjust the stance of monetary policy as appropriate if risks emerge that could impede the attainment of the Committee’s goals. The Committee’s assessments will take into account a wide range of information, including readings on public health, labor market conditions, inflation pressures and inflation expectations, and financial and international developments.\n",
            "Indicators of economic activity and empl oyment have continued to strengthen. The sectors most adversely affected by th e pandemic have improved in recent months but are being affected by the recent sharp rise in COVID-19 cases. Supply and demand imbalances related to the pandemic and the reopening of the economy have continued to contribute to el evated levels of inflation. The path of the economy continues to depe nd on the course of the virus. Risks to the economic outlook re main, including from new va riants of the virus. The Committee seeks to achieve maximum em ployment and inflation at the rate of 2 percent over the longer run. In s upport of these goals, the Committee decided to keep the target range for the federal funds rate  at 0 to 1/4 percent. In assessing the appropriate stance of monetary policy, the Committee will continue to monitor the implications of  incoming information for the economic outlook. The Committee would be prepared to  adjust the stance of monetary policy as appropriate if risks emer ge that could impede the at tainment of the Committee’s goals.\n",
            "{'rouge-1': {'r': 0.49631678864936424, 'p': 0.2366655614500442, 'f': 0.31865483323122834}, 'rouge-2': {'r': 0.2695713274620649, 'p': 0.12481607856496067, 'f': 0.16948430312388327}, 'rouge-l': {'r': 0.4897378412809432, 'p': 0.23379199823165342, 'f': 0.3146548332312284}}\n"
          ]
        }
      ],
      "source": [
        "# avg score from 1st summaries\n",
        "rouge1r, rouge1p, rouge1f = 0, 0, 0\n",
        "rouge2r, rouge2p, rouge2f = 0, 0, 0\n",
        "rougelr, rougelp, rougelf = 0, 0, 0\n",
        "avg_gpt2_by_human_rouge = {}\n",
        "\n",
        "N = len(by_human)\n",
        "\n",
        "for i in range(N):  # looping through every text(splitted by paragraph) in the list \n",
        "  gpt2_candidate = []\n",
        "  for para in by_para_mon[i]: # looping through every paragraph within that text\n",
        "    gpt2_candidate.append(GPT2_model(para, min_length=50))\n",
        "  gpt2_cand = ' '.join(gpt2_candidate)\n",
        "  print(gpt2_cand)\n",
        "    \n",
        "  result = calc_rouge_scores(preprocess_to_str(gpt2_cand), preprocess_to_str(by_human[i]))\n",
        "  rouge1r += result[0]['rouge-1']['r']\n",
        "  rouge1p += result[0]['rouge-1']['p']\n",
        "  rouge1f += result[0]['rouge-1']['f']\n",
        "\n",
        "  rouge2r += result[0]['rouge-2']['r']\n",
        "  rouge2p += result[0]['rouge-2']['p']\n",
        "  rouge2f += result[0]['rouge-2']['f']\n",
        "\n",
        "  rougelr += result[0]['rouge-l']['r']\n",
        "  rougelp += result[0]['rouge-l']['p']\n",
        "  rougelf += result[0]['rouge-l']['f']\n",
        "\n",
        "avg_gpt2_by_human_rouge = {'rouge-1':{'r': rouge1r/N, 'p': rouge1p/N, 'f': rouge1f/N}, 'rouge-2':{'r': rouge2r/N, 'p': rouge2p/N, 'f': rouge2f/N}, 'rouge-l':{'r': rougelr/N, 'p': rougelp/N, 'f': rougelf/N}}\n",
        "print(avg_gpt2_by_human_rouge)"
      ]
    },
    {
      "cell_type": "code",
      "execution_count": null,
      "metadata": {
        "id": "GhqYr3klRJ_S",
        "colab": {
          "base_uri": "https://localhost:8080/"
        },
        "outputId": "a64ad14d-9fad-4fa2-8d87-28fa2ceb7280"
      },
      "outputs": [
        {
          "output_type": "stream",
          "name": "stdout",
          "text": [
            "Recent indicators point to modest growth in spending and production. Job gains have been robust in recent months, and the unemployment rate has remained low. Russia’s war against Ukraine is causing tremendous human and economic hardship. The war and related e vents are contributing to upward pressure on inflation and are weighing on global economic activity. The Committee seeks to achieve maximum employment and inflation at the rate of 2 percent over the l onger run. The Committee anticipates that ongoing increases in the target range will be appropriate in order to attain a stan ce of monetary policy that is sufficiently restrictive to return inflation to 2 percent over time. In assessing the appropriate stance of monetary policy, the Committee will continue to monitor the implications of incoming information for the economic outlook. The Committee’s assessments will take into account a wide range of information, including readings on public health, labor market conditions, inflation pressures and inflation expectations, and financial and international developments.\n",
            "Recent indicators point to modest growth in spending and production. Job gains have been robust in recent months, and the unemployment rate has remained low. Russia’s war against Ukraine is causing tremendous human and economic hardship. The Committee is highly attentive to inflation risks. The Committee seeks to achieve maximum employment and inflation at the rate of 2 percent ov er the longer run. The Committee anticipates that ongoing increases in the target range will be appropriate in order to attain a stance of monetary policy that is sufficiently restrictive to return inflation to 2 percent over time . In assessing the appropriate stance of monetary policy, the Committee will continue to monitor the implications of incoming information for the economic outlook. The Committee’s assessments will take into account a wide range of information, including readings on public health, labor market conditions, inflation pressures and inflation expectations, and financial and international developments.\n",
            "Although overall economic activity edged down in the first quarter, household spending and business fixed investment remained strong. Job gains have been robust  in recent months, and the unemployment rate has declined substantially. The invasion of Ukraine by Russia is c ausing tremendous human and economic hardship. In addition, CO VID- related lockdowns in China are likely to exacerbate supply chain disruptions. The Committee seeks to achieve maximum employment and inflation at the rate of 2 percent over the longer run. In support of these goals, the Committee decided to raise the target range for the federal funds rate to 3/4 to 1 percent and anticipates that ongoing increases in the target range will be appropriate. In assessing the appropriate stance of monetary policy, the Committee will continue to monitor the implications of incoming information for the economic The Committee would be prepared to adjust the stance of monetary policy as appropriate if risks emerge that could impede the attainment of the Committee’s goals. The Committee’s assessments will take into account a wide range of information, including readings on public health, labor market conditions, inflation pressures and inflation expectations, and financial and international developments.\n",
            "Indicators of economic activity and empl oyment have continued to strengthen. The sectors most adversely affected by th e pandemic have improved in recent months but are being affected by the recent sharp rise in COVID-19 cases. Supply and demand imbalances related to the pandemic and the reopening of the economy have continued to contribute to el evated levels of inflation. The path of the economy continues to depe nd on the course of the virus. Risks to the economic outlook re main, including from new va riants of the virus. The Committee seeks to achieve maximum em ployment and inflation at the rate of 2 percent over the longer run. In s upport of these goals, the Committee decided to keep the target range for the federal funds rate  at 0 to 1/4 percent. In assessing the appropriate stance of monetary policy, the Committee will continue to monitor the implications of  incoming information for the economic outlook. The Committee would be prepared to  adjust the stance of monetary policy as appropriate if risks emer ge that could impede the at tainment of the Committee’s goals.\n",
            "{'rouge-1': {'r': 0.5490516524939735, 'p': 0.30580515030946065, 'f': 0.3732629844131009}, 'rouge-2': {'r': 0.31748219184978227, 'p': 0.15389323891346096, 'f': 0.19590203498873526}, 'rouge-l': {'r': 0.5441011574444685, 'p': 0.30005802387267905, 'f': 0.36794383547693066}}\n"
          ]
        }
      ],
      "source": [
        "# avg score from 2nd summaries\n",
        "rouge1r, rouge1p, rouge1f = 0, 0, 0\n",
        "rouge2r, rouge2p, rouge2f = 0, 0, 0\n",
        "rougelr, rougelp, rougelf = 0, 0, 0\n",
        "avg_gpt2_by_tarasha_rouge = {}\n",
        "\n",
        "N = len(by_tarasha)\n",
        "\n",
        "for i in range(N):  # looping through every text(splitted by paragraph) in the list \n",
        "  gpt2_candidate = []\n",
        "  for para in by_para_mon[i]: # looping through every paragraph within that text\n",
        "    gpt2_candidate.append(GPT2_model(para, min_length=50))\n",
        "  gpt2_cand = ' '.join(gpt2_candidate)\n",
        "  print(gpt2_cand)\n",
        "    \n",
        "  result = calc_rouge_scores(preprocess_to_str(gpt2_cand), preprocess_to_str(by_tarasha[i]))\n",
        "  rouge1r += result[0]['rouge-1']['r']\n",
        "  rouge1p += result[0]['rouge-1']['p']\n",
        "  rouge1f += result[0]['rouge-1']['f']\n",
        "\n",
        "  rouge2r += result[0]['rouge-2']['r']\n",
        "  rouge2p += result[0]['rouge-2']['p']\n",
        "  rouge2f += result[0]['rouge-2']['f']\n",
        "\n",
        "  rougelr += result[0]['rouge-l']['r']\n",
        "  rougelp += result[0]['rouge-l']['p']\n",
        "  rougelf += result[0]['rouge-l']['f']\n",
        "\n",
        "avg_gpt2_by_tarasha_rouge = {'rouge-1':{'r': rouge1r/N, 'p': rouge1p/N, 'f': rouge1f/N}, 'rouge-2':{'r': rouge2r/N, 'p': rouge2p/N, 'f': rouge2f/N}, 'rouge-l':{'r': rougelr/N, 'p': rougelp/N, 'f': rougelf/N}}\n",
        "print(avg_gpt2_by_tarasha_rouge)"
      ]
    },
    {
      "cell_type": "code",
      "execution_count": null,
      "metadata": {
        "id": "0bGx9fVmRKGz",
        "colab": {
          "base_uri": "https://localhost:8080/"
        },
        "outputId": "bc0ac452-edac-4591-b104-d64b02df0f6f"
      },
      "outputs": [
        {
          "output_type": "stream",
          "name": "stdout",
          "text": [
            "Recent indicators point to modest growth in spending and production. Job gains have been robust in recent months, and the unemployment rate has remained low. Russia’s war against Ukraine is causing tremendous human and economic hardship. The war and related e vents are contributing to upward pressure on inflation and are weighing on global economic activity. The Committee seeks to achieve maximum employment and inflation at the rate of 2 percent over the l onger run. The Committee anticipates that ongoing increases in the target range will be appropriate in order to attain a stan ce of monetary policy that is sufficiently restrictive to return inflation to 2 percent over time. In assessing the appropriate stance of monetary policy, the Committee will continue to monitor the implications of incoming information for the economic outlook. The Committee’s assessments will take into account a wide range of information, including readings on public health, labor market conditions, inflation pressures and inflation expectations, and financial and international developments.\n",
            "Recent indicators point to modest growth in spending and production. Job gains have been robust in recent months, and the unemployment rate has remained low. Russia’s war against Ukraine is causing tremendous human and economic hardship. The Committee is highly attentive to inflation risks. The Committee seeks to achieve maximum employment and inflation at the rate of 2 percent ov er the longer run. The Committee anticipates that ongoing increases in the target range will be appropriate in order to attain a stance of monetary policy that is sufficiently restrictive to return inflation to 2 percent over time . In assessing the appropriate stance of monetary policy, the Committee will continue to monitor the implications of incoming information for the economic outlook. The Committee’s assessments will take into account a wide range of information, including readings on public health, labor market conditions, inflation pressures and inflation expectations, and financial and international developments.\n",
            "Although overall economic activity edged down in the first quarter, household spending and business fixed investment remained strong. Job gains have been robust  in recent months, and the unemployment rate has declined substantially. The invasion of Ukraine by Russia is c ausing tremendous human and economic hardship. In addition, CO VID- related lockdowns in China are likely to exacerbate supply chain disruptions. The Committee seeks to achieve maximum employment and inflation at the rate of 2 percent over the longer run. In support of these goals, the Committee decided to raise the target range for the federal funds rate to 3/4 to 1 percent and anticipates that ongoing increases in the target range will be appropriate. In assessing the appropriate stance of monetary policy, the Committee will continue to monitor the implications of incoming information for the economic The Committee would be prepared to adjust the stance of monetary policy as appropriate if risks emerge that could impede the attainment of the Committee’s goals. The Committee’s assessments will take into account a wide range of information, including readings on public health, labor market conditions, inflation pressures and inflation expectations, and financial and international developments.\n",
            "Indicators of economic activity and empl oyment have continued to strengthen. The sectors most adversely affected by th e pandemic have improved in recent months but are being affected by the recent sharp rise in COVID-19 cases. Supply and demand imbalances related to the pandemic and the reopening of the economy have continued to contribute to el evated levels of inflation. The path of the economy continues to depe nd on the course of the virus. Risks to the economic outlook re main, including from new va riants of the virus. The Committee seeks to achieve maximum em ployment and inflation at the rate of 2 percent over the longer run. In s upport of these goals, the Committee decided to keep the target range for the federal funds rate  at 0 to 1/4 percent. In assessing the appropriate stance of monetary policy, the Committee will continue to monitor the implications of  incoming information for the economic outlook. The Committee would be prepared to  adjust the stance of monetary policy as appropriate if risks emer ge that could impede the at tainment of the Committee’s goals.\n",
            "{'rouge-1': {'r': 0.3229881769641495, 'p': 0.2508593059239611, 'f': 0.2811687546831415}, 'rouge-2': {'r': 0.12021873277068579, 'p': 0.08422294941176975, 'f': 0.09873290784983978}, 'rouge-l': {'r': 0.30191647597254007, 'p': 0.23405448717948718, 'f': 0.26254202914120567}}\n"
          ]
        }
      ],
      "source": [
        "# avg score from 3rd summaries\n",
        "rouge1r, rouge1p, rouge1f = 0, 0, 0\n",
        "rouge2r, rouge2p, rouge2f = 0, 0, 0\n",
        "rougelr, rougelp, rougelf = 0, 0, 0\n",
        "avg_gpt2_by_arjun_rouge = {}\n",
        "\n",
        "N = len(by_arjun)\n",
        "\n",
        "for i in range(N):  # looping through every text(splitted by paragraph) in the list \n",
        "  gpt2_candidate = []\n",
        "  for para in by_para_mon[i]: # looping through every paragraph within that text\n",
        "    gpt2_candidate.append(GPT2_model(para, min_length=50))\n",
        "  gpt2_cand = ' '.join(gpt2_candidate)\n",
        "  print(gpt2_cand)\n",
        "    \n",
        "  result = calc_rouge_scores(preprocess_to_str(gpt2_cand), preprocess_to_str(by_arjun[i]))\n",
        "  rouge1r += result[0]['rouge-1']['r']\n",
        "  rouge1p += result[0]['rouge-1']['p']\n",
        "  rouge1f += result[0]['rouge-1']['f']\n",
        "\n",
        "  rouge2r += result[0]['rouge-2']['r']\n",
        "  rouge2p += result[0]['rouge-2']['p']\n",
        "  rouge2f += result[0]['rouge-2']['f']\n",
        "\n",
        "  rougelr += result[0]['rouge-l']['r']\n",
        "  rougelp += result[0]['rouge-l']['p']\n",
        "  rougelf += result[0]['rouge-l']['f']\n",
        "\n",
        "avg_gpt2_by_arjun_rouge = {'rouge-1':{'r': rouge1r/N, 'p': rouge1p/N, 'f': rouge1f/N}, 'rouge-2':{'r': rouge2r/N, 'p': rouge2p/N, 'f': rouge2f/N}, 'rouge-l':{'r': rougelr/N, 'p': rougelp/N, 'f': rougelf/N}}\n",
        "print(avg_gpt2_by_arjun_rouge)"
      ]
    },
    {
      "cell_type": "code",
      "execution_count": null,
      "metadata": {
        "id": "lcQS_Q8NiMbk",
        "colab": {
          "base_uri": "https://localhost:8080/"
        },
        "outputId": "81d0bf07-7ff4-4d6d-e125-7371d12abd70"
      },
      "outputs": [
        {
          "output_type": "stream",
          "name": "stdout",
          "text": [
            "{'rouge-1': {'r': 0.4561188727024958, 'p': 0.264443339227822, 'f': 0.32436219077582357}, 'rouge-2': {'r': 0.23575741736084432, 'p': 0.12097742229673047, 'f': 0.15470641532081944}, 'rouge-l': {'r': 0.4452518248993173, 'p': 0.25596816976127323, 'f': 0.31504689928312163}}\n"
          ]
        }
      ],
      "source": [
        "# ## Combined avg of all 3 summaries\n",
        "all_gpt2_rouge = [avg_gpt2_by_human_rouge, avg_gpt2_by_tarasha_rouge, avg_gpt2_by_arjun_rouge]\n",
        "\n",
        "print(avg_rouge_results(all_gpt2_rouge))"
      ]
    },
    {
      "cell_type": "markdown",
      "source": [
        "## Based on WMD"
      ],
      "metadata": {
        "id": "YSOzgLi9A8yj"
      }
    },
    {
      "cell_type": "code",
      "source": [
        "# model_summary = preprocess(gpt2_cand)\n",
        "# reference_summary1 = preprocess(by_human)\n",
        "# reference_summary2 = preprocess(by_tarasha)\n",
        "# reference_summary3 = preprocess(by_arjun)\n",
        "\n",
        "# distance1 = model.wmdistance(model_summary, reference_summary1)\n",
        "# print('distance = %.4f' % distance1)\n",
        "# distance2 = model.wmdistance(model_summary, reference_summary2)\n",
        "# print('distance = %.4f' % distance2)\n",
        "# distance3 = model.wmdistance(model_summary, reference_summary3)\n",
        "# print('distance = %.4f' % distance3)\n",
        "# avg_dist = (distance1 + distance2 + distance3) / 3\n",
        "# print('distance = %.4f' % avg_dist)"
      ],
      "metadata": {
        "id": "QEmnbJsaA-KV"
      },
      "execution_count": null,
      "outputs": []
    },
    {
      "cell_type": "code",
      "source": [
        "from transformers import AutoTokenizer, AutoModelWithLMHead\n"
      ],
      "metadata": {
        "id": "kkf2Ol_2M6RF"
      },
      "execution_count": null,
      "outputs": []
    },
    {
      "cell_type": "code",
      "source": [
        "tokenizer = AutoTokenizer.from_pretrained(\"yijiyap/finscan_gpt2_test\")\n",
        "model = AutoModelWithLMHead.from_pretrained(\"yijiyap/finscan_gpt2_test\")"
      ],
      "metadata": {
        "colab": {
          "base_uri": "https://localhost:8080/"
        },
        "id": "H6y5yhNyM2aO",
        "outputId": "f8efb87c-4633-4ca7-a6ad-9f0676dc0081"
      },
      "execution_count": null,
      "outputs": [
        {
          "output_type": "stream",
          "name": "stderr",
          "text": [
            "/Users/yj/opt/anaconda3/lib/python3.9/site-packages/transformers/models/auto/modeling_auto.py:1177: FutureWarning: The class `AutoModelWithLMHead` is deprecated and will be removed in a future version. Please use `AutoModelForCausalLM` for causal language models, `AutoModelForMaskedLM` for masked language models and `AutoModelForSeq2SeqLM` for encoder-decoder models.\n",
            "  warnings.warn(\n"
          ]
        }
      ]
    },
    {
      "cell_type": "code",
      "source": [
        "print(len(model.transformer.h))"
      ],
      "metadata": {
        "colab": {
          "base_uri": "https://localhost:8080/"
        },
        "id": "QIIR5cFdM84A",
        "outputId": "872d6da1-56f5-4685-bf77-2dba8632c3a5"
      },
      "execution_count": null,
      "outputs": [
        {
          "output_type": "stream",
          "name": "stdout",
          "text": [
            "12\n"
          ]
        }
      ]
    },
    {
      "cell_type": "markdown",
      "source": [
        "# Rankings based on rouge:\n",
        "1. sshleifer-Bart (0.937)\n",
        "2. gpt2 (0.481)\n",
        "3. t5 (0.402)\n",
        "4. pegasus (0.290)"
      ],
      "metadata": {
        "id": "e3Q16wkkK7fn"
      }
    },
    {
      "cell_type": "code",
      "source": [],
      "metadata": {
        "id": "q8ZmHrUUTTn4"
      },
      "execution_count": null,
      "outputs": []
    }
  ],
  "metadata": {
    "accelerator": "GPU",
    "colab": {
      "collapsed_sections": [
        "7Ck1w2OWWLpC",
        "62QGiwm1G1Ks",
        "OF5T-3ZgooSD",
        "2BQctFLxdfw9",
        "GiuBYyvonr_S",
        "1lkPuhGV6a0U",
        "Lp9TRG7On0AQ",
        "2GHOJQscoYoH"
      ],
      "provenance": []
    },
    "gpuClass": "standard",
    "kernelspec": {
      "display_name": "Python 3",
      "name": "python3"
    },
    "language_info": {
      "name": "python"
    },
    "widgets": {
      "application/vnd.jupyter.widget-state+json": {
        "58f9a681fd734b2db4b1320156f7299b": {
          "model_module": "@jupyter-widgets/controls",
          "model_name": "HBoxModel",
          "model_module_version": "1.5.0",
          "state": {
            "_dom_classes": [],
            "_model_module": "@jupyter-widgets/controls",
            "_model_module_version": "1.5.0",
            "_model_name": "HBoxModel",
            "_view_count": null,
            "_view_module": "@jupyter-widgets/controls",
            "_view_module_version": "1.5.0",
            "_view_name": "HBoxView",
            "box_style": "",
            "children": [
              "IPY_MODEL_581cec0b0caf45b99f334bb1091d11b2",
              "IPY_MODEL_0db2570dd51344438d2c3e2d85596b25",
              "IPY_MODEL_2f94b0f6dd234360965082c65ae03238"
            ],
            "layout": "IPY_MODEL_6656eb2b46884326b0eacd5e0b1fc6dc"
          }
        },
        "581cec0b0caf45b99f334bb1091d11b2": {
          "model_module": "@jupyter-widgets/controls",
          "model_name": "HTMLModel",
          "model_module_version": "1.5.0",
          "state": {
            "_dom_classes": [],
            "_model_module": "@jupyter-widgets/controls",
            "_model_module_version": "1.5.0",
            "_model_name": "HTMLModel",
            "_view_count": null,
            "_view_module": "@jupyter-widgets/controls",
            "_view_module_version": "1.5.0",
            "_view_name": "HTMLView",
            "description": "",
            "description_tooltip": null,
            "layout": "IPY_MODEL_8bad3ab17d3c4c41afd4431c1bcb7129",
            "placeholder": "​",
            "style": "IPY_MODEL_eba32884bf40438185891a2a546377c6",
            "value": "Downloading: 100%"
          }
        },
        "0db2570dd51344438d2c3e2d85596b25": {
          "model_module": "@jupyter-widgets/controls",
          "model_name": "FloatProgressModel",
          "model_module_version": "1.5.0",
          "state": {
            "_dom_classes": [],
            "_model_module": "@jupyter-widgets/controls",
            "_model_module_version": "1.5.0",
            "_model_name": "FloatProgressModel",
            "_view_count": null,
            "_view_module": "@jupyter-widgets/controls",
            "_view_module_version": "1.5.0",
            "_view_name": "ProgressView",
            "bar_style": "success",
            "description": "",
            "description_tooltip": null,
            "layout": "IPY_MODEL_8d25e711994247a4bc7b938c68252be2",
            "max": 26,
            "min": 0,
            "orientation": "horizontal",
            "style": "IPY_MODEL_20b35604b01d43f58b1fbae66de2d8fb",
            "value": 26
          }
        },
        "2f94b0f6dd234360965082c65ae03238": {
          "model_module": "@jupyter-widgets/controls",
          "model_name": "HTMLModel",
          "model_module_version": "1.5.0",
          "state": {
            "_dom_classes": [],
            "_model_module": "@jupyter-widgets/controls",
            "_model_module_version": "1.5.0",
            "_model_name": "HTMLModel",
            "_view_count": null,
            "_view_module": "@jupyter-widgets/controls",
            "_view_module_version": "1.5.0",
            "_view_name": "HTMLView",
            "description": "",
            "description_tooltip": null,
            "layout": "IPY_MODEL_f7ebbc863b7d4705b05929aecedd43fb",
            "placeholder": "​",
            "style": "IPY_MODEL_e495317954374cd09c79653dc8b10607",
            "value": " 26.0/26.0 [00:00&lt;00:00, 802B/s]"
          }
        },
        "6656eb2b46884326b0eacd5e0b1fc6dc": {
          "model_module": "@jupyter-widgets/base",
          "model_name": "LayoutModel",
          "model_module_version": "1.2.0",
          "state": {
            "_model_module": "@jupyter-widgets/base",
            "_model_module_version": "1.2.0",
            "_model_name": "LayoutModel",
            "_view_count": null,
            "_view_module": "@jupyter-widgets/base",
            "_view_module_version": "1.2.0",
            "_view_name": "LayoutView",
            "align_content": null,
            "align_items": null,
            "align_self": null,
            "border": null,
            "bottom": null,
            "display": null,
            "flex": null,
            "flex_flow": null,
            "grid_area": null,
            "grid_auto_columns": null,
            "grid_auto_flow": null,
            "grid_auto_rows": null,
            "grid_column": null,
            "grid_gap": null,
            "grid_row": null,
            "grid_template_areas": null,
            "grid_template_columns": null,
            "grid_template_rows": null,
            "height": null,
            "justify_content": null,
            "justify_items": null,
            "left": null,
            "margin": null,
            "max_height": null,
            "max_width": null,
            "min_height": null,
            "min_width": null,
            "object_fit": null,
            "object_position": null,
            "order": null,
            "overflow": null,
            "overflow_x": null,
            "overflow_y": null,
            "padding": null,
            "right": null,
            "top": null,
            "visibility": null,
            "width": null
          }
        },
        "8bad3ab17d3c4c41afd4431c1bcb7129": {
          "model_module": "@jupyter-widgets/base",
          "model_name": "LayoutModel",
          "model_module_version": "1.2.0",
          "state": {
            "_model_module": "@jupyter-widgets/base",
            "_model_module_version": "1.2.0",
            "_model_name": "LayoutModel",
            "_view_count": null,
            "_view_module": "@jupyter-widgets/base",
            "_view_module_version": "1.2.0",
            "_view_name": "LayoutView",
            "align_content": null,
            "align_items": null,
            "align_self": null,
            "border": null,
            "bottom": null,
            "display": null,
            "flex": null,
            "flex_flow": null,
            "grid_area": null,
            "grid_auto_columns": null,
            "grid_auto_flow": null,
            "grid_auto_rows": null,
            "grid_column": null,
            "grid_gap": null,
            "grid_row": null,
            "grid_template_areas": null,
            "grid_template_columns": null,
            "grid_template_rows": null,
            "height": null,
            "justify_content": null,
            "justify_items": null,
            "left": null,
            "margin": null,
            "max_height": null,
            "max_width": null,
            "min_height": null,
            "min_width": null,
            "object_fit": null,
            "object_position": null,
            "order": null,
            "overflow": null,
            "overflow_x": null,
            "overflow_y": null,
            "padding": null,
            "right": null,
            "top": null,
            "visibility": null,
            "width": null
          }
        },
        "eba32884bf40438185891a2a546377c6": {
          "model_module": "@jupyter-widgets/controls",
          "model_name": "DescriptionStyleModel",
          "model_module_version": "1.5.0",
          "state": {
            "_model_module": "@jupyter-widgets/controls",
            "_model_module_version": "1.5.0",
            "_model_name": "DescriptionStyleModel",
            "_view_count": null,
            "_view_module": "@jupyter-widgets/base",
            "_view_module_version": "1.2.0",
            "_view_name": "StyleView",
            "description_width": ""
          }
        },
        "8d25e711994247a4bc7b938c68252be2": {
          "model_module": "@jupyter-widgets/base",
          "model_name": "LayoutModel",
          "model_module_version": "1.2.0",
          "state": {
            "_model_module": "@jupyter-widgets/base",
            "_model_module_version": "1.2.0",
            "_model_name": "LayoutModel",
            "_view_count": null,
            "_view_module": "@jupyter-widgets/base",
            "_view_module_version": "1.2.0",
            "_view_name": "LayoutView",
            "align_content": null,
            "align_items": null,
            "align_self": null,
            "border": null,
            "bottom": null,
            "display": null,
            "flex": null,
            "flex_flow": null,
            "grid_area": null,
            "grid_auto_columns": null,
            "grid_auto_flow": null,
            "grid_auto_rows": null,
            "grid_column": null,
            "grid_gap": null,
            "grid_row": null,
            "grid_template_areas": null,
            "grid_template_columns": null,
            "grid_template_rows": null,
            "height": null,
            "justify_content": null,
            "justify_items": null,
            "left": null,
            "margin": null,
            "max_height": null,
            "max_width": null,
            "min_height": null,
            "min_width": null,
            "object_fit": null,
            "object_position": null,
            "order": null,
            "overflow": null,
            "overflow_x": null,
            "overflow_y": null,
            "padding": null,
            "right": null,
            "top": null,
            "visibility": null,
            "width": null
          }
        },
        "20b35604b01d43f58b1fbae66de2d8fb": {
          "model_module": "@jupyter-widgets/controls",
          "model_name": "ProgressStyleModel",
          "model_module_version": "1.5.0",
          "state": {
            "_model_module": "@jupyter-widgets/controls",
            "_model_module_version": "1.5.0",
            "_model_name": "ProgressStyleModel",
            "_view_count": null,
            "_view_module": "@jupyter-widgets/base",
            "_view_module_version": "1.2.0",
            "_view_name": "StyleView",
            "bar_color": null,
            "description_width": ""
          }
        },
        "f7ebbc863b7d4705b05929aecedd43fb": {
          "model_module": "@jupyter-widgets/base",
          "model_name": "LayoutModel",
          "model_module_version": "1.2.0",
          "state": {
            "_model_module": "@jupyter-widgets/base",
            "_model_module_version": "1.2.0",
            "_model_name": "LayoutModel",
            "_view_count": null,
            "_view_module": "@jupyter-widgets/base",
            "_view_module_version": "1.2.0",
            "_view_name": "LayoutView",
            "align_content": null,
            "align_items": null,
            "align_self": null,
            "border": null,
            "bottom": null,
            "display": null,
            "flex": null,
            "flex_flow": null,
            "grid_area": null,
            "grid_auto_columns": null,
            "grid_auto_flow": null,
            "grid_auto_rows": null,
            "grid_column": null,
            "grid_gap": null,
            "grid_row": null,
            "grid_template_areas": null,
            "grid_template_columns": null,
            "grid_template_rows": null,
            "height": null,
            "justify_content": null,
            "justify_items": null,
            "left": null,
            "margin": null,
            "max_height": null,
            "max_width": null,
            "min_height": null,
            "min_width": null,
            "object_fit": null,
            "object_position": null,
            "order": null,
            "overflow": null,
            "overflow_x": null,
            "overflow_y": null,
            "padding": null,
            "right": null,
            "top": null,
            "visibility": null,
            "width": null
          }
        },
        "e495317954374cd09c79653dc8b10607": {
          "model_module": "@jupyter-widgets/controls",
          "model_name": "DescriptionStyleModel",
          "model_module_version": "1.5.0",
          "state": {
            "_model_module": "@jupyter-widgets/controls",
            "_model_module_version": "1.5.0",
            "_model_name": "DescriptionStyleModel",
            "_view_count": null,
            "_view_module": "@jupyter-widgets/base",
            "_view_module_version": "1.2.0",
            "_view_name": "StyleView",
            "description_width": ""
          }
        },
        "22809c4d54ef49a7ae2d29f9cef32d5a": {
          "model_module": "@jupyter-widgets/controls",
          "model_name": "HBoxModel",
          "model_module_version": "1.5.0",
          "state": {
            "_dom_classes": [],
            "_model_module": "@jupyter-widgets/controls",
            "_model_module_version": "1.5.0",
            "_model_name": "HBoxModel",
            "_view_count": null,
            "_view_module": "@jupyter-widgets/controls",
            "_view_module_version": "1.5.0",
            "_view_name": "HBoxView",
            "box_style": "",
            "children": [
              "IPY_MODEL_dcd4f2917d6646e1a6bd2e4f92eb382d",
              "IPY_MODEL_fab71b520ef1475390e73439aa9b3f6a",
              "IPY_MODEL_34ae5abe2190418284cfeaf7306e8aa4"
            ],
            "layout": "IPY_MODEL_3bf66ad2c5ff453880d548f065e678c6"
          }
        },
        "dcd4f2917d6646e1a6bd2e4f92eb382d": {
          "model_module": "@jupyter-widgets/controls",
          "model_name": "HTMLModel",
          "model_module_version": "1.5.0",
          "state": {
            "_dom_classes": [],
            "_model_module": "@jupyter-widgets/controls",
            "_model_module_version": "1.5.0",
            "_model_name": "HTMLModel",
            "_view_count": null,
            "_view_module": "@jupyter-widgets/controls",
            "_view_module_version": "1.5.0",
            "_view_name": "HTMLView",
            "description": "",
            "description_tooltip": null,
            "layout": "IPY_MODEL_61c795ff5eec45aaaec58e8d8dbccf09",
            "placeholder": "​",
            "style": "IPY_MODEL_67351b04b5b34bdda85f75fa8edc7002",
            "value": "Downloading: 100%"
          }
        },
        "fab71b520ef1475390e73439aa9b3f6a": {
          "model_module": "@jupyter-widgets/controls",
          "model_name": "FloatProgressModel",
          "model_module_version": "1.5.0",
          "state": {
            "_dom_classes": [],
            "_model_module": "@jupyter-widgets/controls",
            "_model_module_version": "1.5.0",
            "_model_name": "FloatProgressModel",
            "_view_count": null,
            "_view_module": "@jupyter-widgets/controls",
            "_view_module_version": "1.5.0",
            "_view_name": "ProgressView",
            "bar_style": "success",
            "description": "",
            "description_tooltip": null,
            "layout": "IPY_MODEL_fc20185f53dd47e49ccbe44ac1c000a5",
            "max": 898822,
            "min": 0,
            "orientation": "horizontal",
            "style": "IPY_MODEL_41622ae2058a4876ac3ebf962eb9c87a",
            "value": 898822
          }
        },
        "34ae5abe2190418284cfeaf7306e8aa4": {
          "model_module": "@jupyter-widgets/controls",
          "model_name": "HTMLModel",
          "model_module_version": "1.5.0",
          "state": {
            "_dom_classes": [],
            "_model_module": "@jupyter-widgets/controls",
            "_model_module_version": "1.5.0",
            "_model_name": "HTMLModel",
            "_view_count": null,
            "_view_module": "@jupyter-widgets/controls",
            "_view_module_version": "1.5.0",
            "_view_name": "HTMLView",
            "description": "",
            "description_tooltip": null,
            "layout": "IPY_MODEL_68f183248d774ef2a991fb677b86168f",
            "placeholder": "​",
            "style": "IPY_MODEL_93efd1c4d9634f84a919ff08d025dbef",
            "value": " 899k/899k [01:06&lt;00:00, 36.2kB/s]"
          }
        },
        "3bf66ad2c5ff453880d548f065e678c6": {
          "model_module": "@jupyter-widgets/base",
          "model_name": "LayoutModel",
          "model_module_version": "1.2.0",
          "state": {
            "_model_module": "@jupyter-widgets/base",
            "_model_module_version": "1.2.0",
            "_model_name": "LayoutModel",
            "_view_count": null,
            "_view_module": "@jupyter-widgets/base",
            "_view_module_version": "1.2.0",
            "_view_name": "LayoutView",
            "align_content": null,
            "align_items": null,
            "align_self": null,
            "border": null,
            "bottom": null,
            "display": null,
            "flex": null,
            "flex_flow": null,
            "grid_area": null,
            "grid_auto_columns": null,
            "grid_auto_flow": null,
            "grid_auto_rows": null,
            "grid_column": null,
            "grid_gap": null,
            "grid_row": null,
            "grid_template_areas": null,
            "grid_template_columns": null,
            "grid_template_rows": null,
            "height": null,
            "justify_content": null,
            "justify_items": null,
            "left": null,
            "margin": null,
            "max_height": null,
            "max_width": null,
            "min_height": null,
            "min_width": null,
            "object_fit": null,
            "object_position": null,
            "order": null,
            "overflow": null,
            "overflow_x": null,
            "overflow_y": null,
            "padding": null,
            "right": null,
            "top": null,
            "visibility": null,
            "width": null
          }
        },
        "61c795ff5eec45aaaec58e8d8dbccf09": {
          "model_module": "@jupyter-widgets/base",
          "model_name": "LayoutModel",
          "model_module_version": "1.2.0",
          "state": {
            "_model_module": "@jupyter-widgets/base",
            "_model_module_version": "1.2.0",
            "_model_name": "LayoutModel",
            "_view_count": null,
            "_view_module": "@jupyter-widgets/base",
            "_view_module_version": "1.2.0",
            "_view_name": "LayoutView",
            "align_content": null,
            "align_items": null,
            "align_self": null,
            "border": null,
            "bottom": null,
            "display": null,
            "flex": null,
            "flex_flow": null,
            "grid_area": null,
            "grid_auto_columns": null,
            "grid_auto_flow": null,
            "grid_auto_rows": null,
            "grid_column": null,
            "grid_gap": null,
            "grid_row": null,
            "grid_template_areas": null,
            "grid_template_columns": null,
            "grid_template_rows": null,
            "height": null,
            "justify_content": null,
            "justify_items": null,
            "left": null,
            "margin": null,
            "max_height": null,
            "max_width": null,
            "min_height": null,
            "min_width": null,
            "object_fit": null,
            "object_position": null,
            "order": null,
            "overflow": null,
            "overflow_x": null,
            "overflow_y": null,
            "padding": null,
            "right": null,
            "top": null,
            "visibility": null,
            "width": null
          }
        },
        "67351b04b5b34bdda85f75fa8edc7002": {
          "model_module": "@jupyter-widgets/controls",
          "model_name": "DescriptionStyleModel",
          "model_module_version": "1.5.0",
          "state": {
            "_model_module": "@jupyter-widgets/controls",
            "_model_module_version": "1.5.0",
            "_model_name": "DescriptionStyleModel",
            "_view_count": null,
            "_view_module": "@jupyter-widgets/base",
            "_view_module_version": "1.2.0",
            "_view_name": "StyleView",
            "description_width": ""
          }
        },
        "fc20185f53dd47e49ccbe44ac1c000a5": {
          "model_module": "@jupyter-widgets/base",
          "model_name": "LayoutModel",
          "model_module_version": "1.2.0",
          "state": {
            "_model_module": "@jupyter-widgets/base",
            "_model_module_version": "1.2.0",
            "_model_name": "LayoutModel",
            "_view_count": null,
            "_view_module": "@jupyter-widgets/base",
            "_view_module_version": "1.2.0",
            "_view_name": "LayoutView",
            "align_content": null,
            "align_items": null,
            "align_self": null,
            "border": null,
            "bottom": null,
            "display": null,
            "flex": null,
            "flex_flow": null,
            "grid_area": null,
            "grid_auto_columns": null,
            "grid_auto_flow": null,
            "grid_auto_rows": null,
            "grid_column": null,
            "grid_gap": null,
            "grid_row": null,
            "grid_template_areas": null,
            "grid_template_columns": null,
            "grid_template_rows": null,
            "height": null,
            "justify_content": null,
            "justify_items": null,
            "left": null,
            "margin": null,
            "max_height": null,
            "max_width": null,
            "min_height": null,
            "min_width": null,
            "object_fit": null,
            "object_position": null,
            "order": null,
            "overflow": null,
            "overflow_x": null,
            "overflow_y": null,
            "padding": null,
            "right": null,
            "top": null,
            "visibility": null,
            "width": null
          }
        },
        "41622ae2058a4876ac3ebf962eb9c87a": {
          "model_module": "@jupyter-widgets/controls",
          "model_name": "ProgressStyleModel",
          "model_module_version": "1.5.0",
          "state": {
            "_model_module": "@jupyter-widgets/controls",
            "_model_module_version": "1.5.0",
            "_model_name": "ProgressStyleModel",
            "_view_count": null,
            "_view_module": "@jupyter-widgets/base",
            "_view_module_version": "1.2.0",
            "_view_name": "StyleView",
            "bar_color": null,
            "description_width": ""
          }
        },
        "68f183248d774ef2a991fb677b86168f": {
          "model_module": "@jupyter-widgets/base",
          "model_name": "LayoutModel",
          "model_module_version": "1.2.0",
          "state": {
            "_model_module": "@jupyter-widgets/base",
            "_model_module_version": "1.2.0",
            "_model_name": "LayoutModel",
            "_view_count": null,
            "_view_module": "@jupyter-widgets/base",
            "_view_module_version": "1.2.0",
            "_view_name": "LayoutView",
            "align_content": null,
            "align_items": null,
            "align_self": null,
            "border": null,
            "bottom": null,
            "display": null,
            "flex": null,
            "flex_flow": null,
            "grid_area": null,
            "grid_auto_columns": null,
            "grid_auto_flow": null,
            "grid_auto_rows": null,
            "grid_column": null,
            "grid_gap": null,
            "grid_row": null,
            "grid_template_areas": null,
            "grid_template_columns": null,
            "grid_template_rows": null,
            "height": null,
            "justify_content": null,
            "justify_items": null,
            "left": null,
            "margin": null,
            "max_height": null,
            "max_width": null,
            "min_height": null,
            "min_width": null,
            "object_fit": null,
            "object_position": null,
            "order": null,
            "overflow": null,
            "overflow_x": null,
            "overflow_y": null,
            "padding": null,
            "right": null,
            "top": null,
            "visibility": null,
            "width": null
          }
        },
        "93efd1c4d9634f84a919ff08d025dbef": {
          "model_module": "@jupyter-widgets/controls",
          "model_name": "DescriptionStyleModel",
          "model_module_version": "1.5.0",
          "state": {
            "_model_module": "@jupyter-widgets/controls",
            "_model_module_version": "1.5.0",
            "_model_name": "DescriptionStyleModel",
            "_view_count": null,
            "_view_module": "@jupyter-widgets/base",
            "_view_module_version": "1.2.0",
            "_view_name": "StyleView",
            "description_width": ""
          }
        },
        "10f9a85b040b4d7d94432f5b5441d0c0": {
          "model_module": "@jupyter-widgets/controls",
          "model_name": "HBoxModel",
          "model_module_version": "1.5.0",
          "state": {
            "_dom_classes": [],
            "_model_module": "@jupyter-widgets/controls",
            "_model_module_version": "1.5.0",
            "_model_name": "HBoxModel",
            "_view_count": null,
            "_view_module": "@jupyter-widgets/controls",
            "_view_module_version": "1.5.0",
            "_view_name": "HBoxView",
            "box_style": "",
            "children": [
              "IPY_MODEL_07626911ff9d48989e34709423167064",
              "IPY_MODEL_3cc7f58c0f664fd9886ddfd52358421c",
              "IPY_MODEL_b13015ee209c49dfb23c450a973ab012"
            ],
            "layout": "IPY_MODEL_494c0bcca6bd44228690abd6c76a9e92"
          }
        },
        "07626911ff9d48989e34709423167064": {
          "model_module": "@jupyter-widgets/controls",
          "model_name": "HTMLModel",
          "model_module_version": "1.5.0",
          "state": {
            "_dom_classes": [],
            "_model_module": "@jupyter-widgets/controls",
            "_model_module_version": "1.5.0",
            "_model_name": "HTMLModel",
            "_view_count": null,
            "_view_module": "@jupyter-widgets/controls",
            "_view_module_version": "1.5.0",
            "_view_name": "HTMLView",
            "description": "",
            "description_tooltip": null,
            "layout": "IPY_MODEL_73175fc6c7d446dbb2b417816839cd66",
            "placeholder": "​",
            "style": "IPY_MODEL_24c150af069d49da8b34f9d6292665ac",
            "value": "Downloading: 100%"
          }
        },
        "3cc7f58c0f664fd9886ddfd52358421c": {
          "model_module": "@jupyter-widgets/controls",
          "model_name": "FloatProgressModel",
          "model_module_version": "1.5.0",
          "state": {
            "_dom_classes": [],
            "_model_module": "@jupyter-widgets/controls",
            "_model_module_version": "1.5.0",
            "_model_name": "FloatProgressModel",
            "_view_count": null,
            "_view_module": "@jupyter-widgets/controls",
            "_view_module_version": "1.5.0",
            "_view_name": "ProgressView",
            "bar_style": "success",
            "description": "",
            "description_tooltip": null,
            "layout": "IPY_MODEL_2400491e7f7d4e8d9bcc52210c1b8b21",
            "max": 456318,
            "min": 0,
            "orientation": "horizontal",
            "style": "IPY_MODEL_9f072d616d344e9fb6f20fbb5366d5e7",
            "value": 456318
          }
        },
        "b13015ee209c49dfb23c450a973ab012": {
          "model_module": "@jupyter-widgets/controls",
          "model_name": "HTMLModel",
          "model_module_version": "1.5.0",
          "state": {
            "_dom_classes": [],
            "_model_module": "@jupyter-widgets/controls",
            "_model_module_version": "1.5.0",
            "_model_name": "HTMLModel",
            "_view_count": null,
            "_view_module": "@jupyter-widgets/controls",
            "_view_module_version": "1.5.0",
            "_view_name": "HTMLView",
            "description": "",
            "description_tooltip": null,
            "layout": "IPY_MODEL_a573577e787845e0b36bcbf313da97e2",
            "placeholder": "​",
            "style": "IPY_MODEL_8a50f70b1c8a4f5084170b71979c4bf9",
            "value": " 456k/456k [00:09&lt;00:00, 47.6kB/s]"
          }
        },
        "494c0bcca6bd44228690abd6c76a9e92": {
          "model_module": "@jupyter-widgets/base",
          "model_name": "LayoutModel",
          "model_module_version": "1.2.0",
          "state": {
            "_model_module": "@jupyter-widgets/base",
            "_model_module_version": "1.2.0",
            "_model_name": "LayoutModel",
            "_view_count": null,
            "_view_module": "@jupyter-widgets/base",
            "_view_module_version": "1.2.0",
            "_view_name": "LayoutView",
            "align_content": null,
            "align_items": null,
            "align_self": null,
            "border": null,
            "bottom": null,
            "display": null,
            "flex": null,
            "flex_flow": null,
            "grid_area": null,
            "grid_auto_columns": null,
            "grid_auto_flow": null,
            "grid_auto_rows": null,
            "grid_column": null,
            "grid_gap": null,
            "grid_row": null,
            "grid_template_areas": null,
            "grid_template_columns": null,
            "grid_template_rows": null,
            "height": null,
            "justify_content": null,
            "justify_items": null,
            "left": null,
            "margin": null,
            "max_height": null,
            "max_width": null,
            "min_height": null,
            "min_width": null,
            "object_fit": null,
            "object_position": null,
            "order": null,
            "overflow": null,
            "overflow_x": null,
            "overflow_y": null,
            "padding": null,
            "right": null,
            "top": null,
            "visibility": null,
            "width": null
          }
        },
        "73175fc6c7d446dbb2b417816839cd66": {
          "model_module": "@jupyter-widgets/base",
          "model_name": "LayoutModel",
          "model_module_version": "1.2.0",
          "state": {
            "_model_module": "@jupyter-widgets/base",
            "_model_module_version": "1.2.0",
            "_model_name": "LayoutModel",
            "_view_count": null,
            "_view_module": "@jupyter-widgets/base",
            "_view_module_version": "1.2.0",
            "_view_name": "LayoutView",
            "align_content": null,
            "align_items": null,
            "align_self": null,
            "border": null,
            "bottom": null,
            "display": null,
            "flex": null,
            "flex_flow": null,
            "grid_area": null,
            "grid_auto_columns": null,
            "grid_auto_flow": null,
            "grid_auto_rows": null,
            "grid_column": null,
            "grid_gap": null,
            "grid_row": null,
            "grid_template_areas": null,
            "grid_template_columns": null,
            "grid_template_rows": null,
            "height": null,
            "justify_content": null,
            "justify_items": null,
            "left": null,
            "margin": null,
            "max_height": null,
            "max_width": null,
            "min_height": null,
            "min_width": null,
            "object_fit": null,
            "object_position": null,
            "order": null,
            "overflow": null,
            "overflow_x": null,
            "overflow_y": null,
            "padding": null,
            "right": null,
            "top": null,
            "visibility": null,
            "width": null
          }
        },
        "24c150af069d49da8b34f9d6292665ac": {
          "model_module": "@jupyter-widgets/controls",
          "model_name": "DescriptionStyleModel",
          "model_module_version": "1.5.0",
          "state": {
            "_model_module": "@jupyter-widgets/controls",
            "_model_module_version": "1.5.0",
            "_model_name": "DescriptionStyleModel",
            "_view_count": null,
            "_view_module": "@jupyter-widgets/base",
            "_view_module_version": "1.2.0",
            "_view_name": "StyleView",
            "description_width": ""
          }
        },
        "2400491e7f7d4e8d9bcc52210c1b8b21": {
          "model_module": "@jupyter-widgets/base",
          "model_name": "LayoutModel",
          "model_module_version": "1.2.0",
          "state": {
            "_model_module": "@jupyter-widgets/base",
            "_model_module_version": "1.2.0",
            "_model_name": "LayoutModel",
            "_view_count": null,
            "_view_module": "@jupyter-widgets/base",
            "_view_module_version": "1.2.0",
            "_view_name": "LayoutView",
            "align_content": null,
            "align_items": null,
            "align_self": null,
            "border": null,
            "bottom": null,
            "display": null,
            "flex": null,
            "flex_flow": null,
            "grid_area": null,
            "grid_auto_columns": null,
            "grid_auto_flow": null,
            "grid_auto_rows": null,
            "grid_column": null,
            "grid_gap": null,
            "grid_row": null,
            "grid_template_areas": null,
            "grid_template_columns": null,
            "grid_template_rows": null,
            "height": null,
            "justify_content": null,
            "justify_items": null,
            "left": null,
            "margin": null,
            "max_height": null,
            "max_width": null,
            "min_height": null,
            "min_width": null,
            "object_fit": null,
            "object_position": null,
            "order": null,
            "overflow": null,
            "overflow_x": null,
            "overflow_y": null,
            "padding": null,
            "right": null,
            "top": null,
            "visibility": null,
            "width": null
          }
        },
        "9f072d616d344e9fb6f20fbb5366d5e7": {
          "model_module": "@jupyter-widgets/controls",
          "model_name": "ProgressStyleModel",
          "model_module_version": "1.5.0",
          "state": {
            "_model_module": "@jupyter-widgets/controls",
            "_model_module_version": "1.5.0",
            "_model_name": "ProgressStyleModel",
            "_view_count": null,
            "_view_module": "@jupyter-widgets/base",
            "_view_module_version": "1.2.0",
            "_view_name": "StyleView",
            "bar_color": null,
            "description_width": ""
          }
        },
        "a573577e787845e0b36bcbf313da97e2": {
          "model_module": "@jupyter-widgets/base",
          "model_name": "LayoutModel",
          "model_module_version": "1.2.0",
          "state": {
            "_model_module": "@jupyter-widgets/base",
            "_model_module_version": "1.2.0",
            "_model_name": "LayoutModel",
            "_view_count": null,
            "_view_module": "@jupyter-widgets/base",
            "_view_module_version": "1.2.0",
            "_view_name": "LayoutView",
            "align_content": null,
            "align_items": null,
            "align_self": null,
            "border": null,
            "bottom": null,
            "display": null,
            "flex": null,
            "flex_flow": null,
            "grid_area": null,
            "grid_auto_columns": null,
            "grid_auto_flow": null,
            "grid_auto_rows": null,
            "grid_column": null,
            "grid_gap": null,
            "grid_row": null,
            "grid_template_areas": null,
            "grid_template_columns": null,
            "grid_template_rows": null,
            "height": null,
            "justify_content": null,
            "justify_items": null,
            "left": null,
            "margin": null,
            "max_height": null,
            "max_width": null,
            "min_height": null,
            "min_width": null,
            "object_fit": null,
            "object_position": null,
            "order": null,
            "overflow": null,
            "overflow_x": null,
            "overflow_y": null,
            "padding": null,
            "right": null,
            "top": null,
            "visibility": null,
            "width": null
          }
        },
        "8a50f70b1c8a4f5084170b71979c4bf9": {
          "model_module": "@jupyter-widgets/controls",
          "model_name": "DescriptionStyleModel",
          "model_module_version": "1.5.0",
          "state": {
            "_model_module": "@jupyter-widgets/controls",
            "_model_module_version": "1.5.0",
            "_model_name": "DescriptionStyleModel",
            "_view_count": null,
            "_view_module": "@jupyter-widgets/base",
            "_view_module_version": "1.2.0",
            "_view_name": "StyleView",
            "description_width": ""
          }
        }
      }
    }
  },
  "nbformat": 4,
  "nbformat_minor": 0
}