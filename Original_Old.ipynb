{
  "cells": [
    {
      "cell_type": "code",
      "execution_count": null,
      "metadata": {
        "colab": {
          "base_uri": "https://localhost:8080/"
        },
        "id": "jfJT-iFyoz_J",
        "outputId": "1693be7d-98e1-4a33-8384-d2028828dd27"
      },
      "outputs": [
        {
          "name": "stdout",
          "output_type": "stream",
          "text": [
            "Looking in indexes: https://pypi.org/simple, https://us-python.pkg.dev/colab-wheels/public/simple/\n",
            "Requirement already satisfied: PyPDF2 in /usr/local/lib/python3.8/dist-packages (3.0.1)\n",
            "Requirement already satisfied: typing_extensions>=3.10.0.0 in /usr/local/lib/python3.8/dist-packages (from PyPDF2) (4.4.0)\n",
            "Looking in indexes: https://pypi.org/simple, https://us-python.pkg.dev/colab-wheels/public/simple/\n",
            "Requirement already satisfied: textract in /usr/local/lib/python3.8/dist-packages (1.6.5)\n",
            "Requirement already satisfied: SpeechRecognition~=3.8.1 in /usr/local/lib/python3.8/dist-packages (from textract) (3.8.1)\n",
            "Requirement already satisfied: six~=1.12.0 in /usr/local/lib/python3.8/dist-packages (from textract) (1.12.0)\n",
            "Requirement already satisfied: chardet==3.* in /usr/local/lib/python3.8/dist-packages (from textract) (3.0.4)\n",
            "Requirement already satisfied: extract-msg<=0.29.* in /usr/local/lib/python3.8/dist-packages (from textract) (0.28.7)\n",
            "Requirement already satisfied: beautifulsoup4~=4.8.0 in /usr/local/lib/python3.8/dist-packages (from textract) (4.8.2)\n",
            "Requirement already satisfied: docx2txt~=0.8 in /usr/local/lib/python3.8/dist-packages (from textract) (0.8)\n",
            "Requirement already satisfied: xlrd~=1.2.0 in /usr/local/lib/python3.8/dist-packages (from textract) (1.2.0)\n",
            "Requirement already satisfied: python-pptx~=0.6.18 in /usr/local/lib/python3.8/dist-packages (from textract) (0.6.21)\n",
            "Requirement already satisfied: argcomplete~=1.10.0 in /usr/local/lib/python3.8/dist-packages (from textract) (1.10.3)\n",
            "Requirement already satisfied: pdfminer.six==20191110 in /usr/local/lib/python3.8/dist-packages (from textract) (20191110)\n",
            "Requirement already satisfied: pycryptodome in /usr/local/lib/python3.8/dist-packages (from pdfminer.six==20191110->textract) (3.17)\n",
            "Requirement already satisfied: sortedcontainers in /usr/local/lib/python3.8/dist-packages (from pdfminer.six==20191110->textract) (2.4.0)\n",
            "Requirement already satisfied: soupsieve>=1.2 in /usr/local/lib/python3.8/dist-packages (from beautifulsoup4~=4.8.0->textract) (2.3.2.post1)\n",
            "Requirement already satisfied: compressed-rtf>=1.0.6 in /usr/local/lib/python3.8/dist-packages (from extract-msg<=0.29.*->textract) (1.0.6)\n",
            "Requirement already satisfied: olefile>=0.46 in /usr/local/lib/python3.8/dist-packages (from extract-msg<=0.29.*->textract) (0.46)\n",
            "Requirement already satisfied: imapclient==2.1.0 in /usr/local/lib/python3.8/dist-packages (from extract-msg<=0.29.*->textract) (2.1.0)\n",
            "Requirement already satisfied: tzlocal>=2.1 in /usr/local/lib/python3.8/dist-packages (from extract-msg<=0.29.*->textract) (4.2)\n",
            "Requirement already satisfied: ebcdic>=1.1.1 in /usr/local/lib/python3.8/dist-packages (from extract-msg<=0.29.*->textract) (1.1.1)\n",
            "Requirement already satisfied: XlsxWriter>=0.5.7 in /usr/local/lib/python3.8/dist-packages (from python-pptx~=0.6.18->textract) (3.0.8)\n",
            "Requirement already satisfied: lxml>=3.1.0 in /usr/local/lib/python3.8/dist-packages (from python-pptx~=0.6.18->textract) (4.9.2)\n",
            "Requirement already satisfied: Pillow>=3.3.2 in /usr/local/lib/python3.8/dist-packages (from python-pptx~=0.6.18->textract) (7.1.2)\n",
            "Requirement already satisfied: pytz-deprecation-shim in /usr/local/lib/python3.8/dist-packages (from tzlocal>=2.1->extract-msg<=0.29.*->textract) (0.1.0.post0)\n",
            "Requirement already satisfied: backports.zoneinfo in /usr/local/lib/python3.8/dist-packages (from tzlocal>=2.1->extract-msg<=0.29.*->textract) (0.2.1)\n",
            "Requirement already satisfied: tzdata in /usr/local/lib/python3.8/dist-packages (from pytz-deprecation-shim->tzlocal>=2.1->extract-msg<=0.29.*->textract) (2022.7)\n",
            "Looking in indexes: https://pypi.org/simple, https://us-python.pkg.dev/colab-wheels/public/simple/\n",
            "Requirement already satisfied: transformers in /usr/local/lib/python3.8/dist-packages (4.26.0)\n",
            "Requirement already satisfied: datasets in /usr/local/lib/python3.8/dist-packages (2.9.0)\n",
            "Requirement already satisfied: packaging>=20.0 in /usr/local/lib/python3.8/dist-packages (from transformers) (23.0)\n",
            "Requirement already satisfied: numpy>=1.17 in /usr/local/lib/python3.8/dist-packages (from transformers) (1.21.6)\n",
            "Requirement already satisfied: huggingface-hub<1.0,>=0.11.0 in /usr/local/lib/python3.8/dist-packages (from transformers) (0.12.0)\n",
            "Requirement already satisfied: pyyaml>=5.1 in /usr/local/lib/python3.8/dist-packages (from transformers) (6.0)\n",
            "Requirement already satisfied: regex!=2019.12.17 in /usr/local/lib/python3.8/dist-packages (from transformers) (2022.6.2)\n",
            "Requirement already satisfied: tqdm>=4.27 in /usr/local/lib/python3.8/dist-packages (from transformers) (4.64.1)\n",
            "Requirement already satisfied: filelock in /usr/local/lib/python3.8/dist-packages (from transformers) (3.9.0)\n",
            "Requirement already satisfied: tokenizers!=0.11.3,<0.14,>=0.11.1 in /usr/local/lib/python3.8/dist-packages (from transformers) (0.13.2)\n",
            "Requirement already satisfied: requests in /usr/local/lib/python3.8/dist-packages (from transformers) (2.25.1)\n",
            "Requirement already satisfied: dill<0.3.7 in /usr/local/lib/python3.8/dist-packages (from datasets) (0.3.6)\n",
            "Requirement already satisfied: aiohttp in /usr/local/lib/python3.8/dist-packages (from datasets) (3.8.3)\n",
            "Requirement already satisfied: xxhash in /usr/local/lib/python3.8/dist-packages (from datasets) (3.2.0)\n",
            "Requirement already satisfied: multiprocess in /usr/local/lib/python3.8/dist-packages (from datasets) (0.70.14)\n",
            "Requirement already satisfied: pyarrow>=6.0.0 in /usr/local/lib/python3.8/dist-packages (from datasets) (9.0.0)\n",
            "Requirement already satisfied: pandas in /usr/local/lib/python3.8/dist-packages (from datasets) (1.3.5)\n",
            "Requirement already satisfied: fsspec[http]>=2021.11.1 in /usr/local/lib/python3.8/dist-packages (from datasets) (2023.1.0)\n",
            "Requirement already satisfied: responses<0.19 in /usr/local/lib/python3.8/dist-packages (from datasets) (0.18.0)\n",
            "Requirement already satisfied: yarl<2.0,>=1.0 in /usr/local/lib/python3.8/dist-packages (from aiohttp->datasets) (1.8.2)\n",
            "Requirement already satisfied: frozenlist>=1.1.1 in /usr/local/lib/python3.8/dist-packages (from aiohttp->datasets) (1.3.3)\n",
            "Requirement already satisfied: aiosignal>=1.1.2 in /usr/local/lib/python3.8/dist-packages (from aiohttp->datasets) (1.3.1)\n",
            "Requirement already satisfied: multidict<7.0,>=4.5 in /usr/local/lib/python3.8/dist-packages (from aiohttp->datasets) (6.0.4)\n",
            "Requirement already satisfied: attrs>=17.3.0 in /usr/local/lib/python3.8/dist-packages (from aiohttp->datasets) (22.2.0)\n",
            "Requirement already satisfied: charset-normalizer<3.0,>=2.0 in /usr/local/lib/python3.8/dist-packages (from aiohttp->datasets) (2.1.1)\n",
            "Requirement already satisfied: async-timeout<5.0,>=4.0.0a3 in /usr/local/lib/python3.8/dist-packages (from aiohttp->datasets) (4.0.2)\n",
            "Requirement already satisfied: typing-extensions>=3.7.4.3 in /usr/local/lib/python3.8/dist-packages (from huggingface-hub<1.0,>=0.11.0->transformers) (4.4.0)\n",
            "Requirement already satisfied: certifi>=2017.4.17 in /usr/local/lib/python3.8/dist-packages (from requests->transformers) (2022.12.7)\n",
            "Requirement already satisfied: urllib3<1.27,>=1.21.1 in /usr/local/lib/python3.8/dist-packages (from requests->transformers) (1.26.14)\n",
            "Requirement already satisfied: chardet<5,>=3.0.2 in /usr/local/lib/python3.8/dist-packages (from requests->transformers) (3.0.4)\n",
            "Requirement already satisfied: idna<3,>=2.5 in /usr/local/lib/python3.8/dist-packages (from requests->transformers) (2.10)\n",
            "Requirement already satisfied: pytz>=2017.3 in /usr/local/lib/python3.8/dist-packages (from pandas->datasets) (2022.7.1)\n",
            "Requirement already satisfied: python-dateutil>=2.7.3 in /usr/local/lib/python3.8/dist-packages (from pandas->datasets) (2.8.2)\n",
            "Requirement already satisfied: six>=1.5 in /usr/local/lib/python3.8/dist-packages (from python-dateutil>=2.7.3->pandas->datasets) (1.12.0)\n"
          ]
        }
      ],
      "source": [
        "import os\n",
        "\n",
        "# import pandas as pd\n",
        "# import numpy as np\n",
        "# import matplotlib.pyplot as plt\n",
        "\n",
        "!pip install PyPDF2\n",
        "!pip install textract\n",
        "import PyPDF2, textract, nltk\n",
        "\n",
        "!pip install transformers datasets"
      ]
    },
    {
      "cell_type": "code",
      "execution_count": null,
      "metadata": {
        "id": "EWaMr9xHfoG7"
      },
      "outputs": [],
      "source": []
    },
    {
      "cell_type": "code",
      "execution_count": null,
      "metadata": {
        "colab": {
          "base_uri": "https://localhost:8080/"
        },
        "id": "ALRf_5Zkp02s",
        "outputId": "825bf5a4-3547-4d6f-aaa3-81816948579f"
      },
      "outputs": [
        {
          "name": "stdout",
          "output_type": "stream",
          "text": [
            "Mounted at /content/drive\n"
          ]
        }
      ],
      "source": [
        "from google.colab import drive\n",
        "drive.mount('/content/drive', force_remount = True)\n",
        "# note: the path may be different for others.\n",
        "os.chdir('/content/drive/MyDrive/DAP Group 6: Fin Scanners/statements')"
      ]
    },
    {
      "cell_type": "code",
      "execution_count": null,
      "metadata": {
        "colab": {
          "base_uri": "https://localhost:8080/"
        },
        "id": "47ANJsYTqEbV",
        "outputId": "0e90fef0-bd33-4df4-ce98-9ea7bcbdd38c"
      },
      "outputs": [
        {
          "name": "stdout",
          "output_type": "stream",
          "text": [
            "logs\t\t\tmonetary20221102a1.pdf\trefsum20220921.gdoc\n",
            "monetary20220126a1.pdf\tmonetary20221214a1.pdf\trefsum20221102.gdoc\n",
            "monetary20220504a1.pdf\trefsum20220126.gdoc\trefsum20221214.gdoc\n",
            "monetary20220615a1.pdf\trefsum20220504.gdoc\tresults\n",
            "monetary20220727a1.pdf\trefsum20220615.gdoc\n",
            "monetary20220921a1.pdf\trefsum20220727.gdoc\n"
          ]
        }
      ],
      "source": [
        "!ls"
      ]
    },
    {
      "cell_type": "markdown",
      "metadata": {
        "id": "gS4l-dxScV7h"
      },
      "source": [
        "let's try to open one of the statements. Trying out on Dec's speech, since Fed would have been extremely careful with their words then, as compared to in Jan"
      ]
    },
    {
      "cell_type": "code",
      "execution_count": null,
      "metadata": {
        "id": "R4_lUSyis3cI"
      },
      "outputs": [],
      "source": [
        "# reading the pdf (named 12 for the month december)\n",
        "monetary_12 = open(\"monetary20221214a1.pdf\", \"rb\")\n",
        "monetary_12 = PyPDF2.PdfReader(monetary_12)\n",
        "\n",
        "text = \"\"\n",
        "\n",
        "for page in monetary_12.pages:\n",
        "    text += page.extract_text()\n",
        "    if \"-0-\" in page:\n",
        "      break;"
      ]
    },
    {
      "cell_type": "code",
      "execution_count": null,
      "metadata": {
        "id": "hf52THXr7TIW"
      },
      "outputs": [],
      "source": [
        "# how to know where to split the paragraphs?\n",
        "# use tabs!"
      ]
    },
    {
      "cell_type": "code",
      "execution_count": null,
      "metadata": {
        "colab": {
          "base_uri": "https://localhost:8080/"
        },
        "id": "fodyfTmKjHSe",
        "outputId": "40a44e66-cffb-4403-e0c6-1304d3470328"
      },
      "outputs": [
        {
          "name": "stdout",
          "output_type": "stream",
          "text": [
            " Recent indicators point to modest growth in spending and production.  Job gains have \n",
            "been robust in recent months, and the unemployment rate has remained low.  Inflation remains \n",
            "elevated, reflecting supply and demand imbalances related to the pandemic, higher food and energy prices, and broader price pressures.  \n",
            " Russia’s war against Ukraine is causing tremendous human and economic hardship.  The \n",
            "war and related e vents are contributing to upward pressure on inflation and are weighing on \n",
            "global economic activity.  The Committee is highly attentive to inflation risks.  \n",
            " The Committee seeks to achieve maximum employment and inflation at the rate of \n",
            "2 percent over the l onger run.  In support of these goals, the Committee decided to raise the \n",
            "target range for the federal funds rate to 4 -1/4 to 4- 1/2 percent.  The Committee anticipates that \n",
            "ongoing increases in the target range will be appropriate in order to attain a stan ce of monetary \n",
            "policy that is sufficiently restrictive to return inflation to 2 percent over time.  In determining the pace of future increases in the target range, the Committee will take into account the cumulative \n",
            "tightening of monetary policy, the lags  with which monetary policy affects economic activity and \n",
            "inflation, and economic and financial developments.  In addition, the Committee will continue reducing its holdings of Treasury securities and agency debt and agency mortgage -backed \n",
            "securities, as d escribed in the Plans for Reducing the Size of the Federal Reserve’s Balance Sheet \n",
            "that were issued in May.  The Committee is strongly committed to returning inflation to its \n",
            "2 percent objective.  \n",
            "(more)    \n",
            "-2- \n",
            "In assessing the appropriate stance of monetary policy, the Committee will continue to \n",
            "monitor the implications of incoming information for the economic outlook.  The Committee \n",
            "would be prepared to adjust the stance of monetary policy as appropriate if ris ks emerge that \n",
            "could impede the attainment of the Committee’s goals.  The Committee’s assessments will take \n",
            "into account a wide range of information, including readings on public health, labor market \n",
            "conditions, inflation pressures and inflation expectations, and financial and international \n",
            "developments.   \n",
            "Voting for the monetary policy action were Jerome H. Powell, Chair; John C. Williams, \n",
            "Vice Chair;  Michael S. Barr;  Michelle W. Bowman; Lael Brainard; James Bullard; Susan M. \n",
            "Collins; Lisa D. Cook; Esther L. George; Philip N. Jefferson; Loretta J. Mester; and Christopher \n",
            "J. Waller.  \n",
            "-0- \n",
            "For media inquiries, please email media@frb.gov  or call 202- 452-2955.  \n",
            " \n",
            " For release at 2 :00 p.m. E ST                      December 14, 2022  \n",
            " \n",
            "Decisions Regarding Monetary Policy Implementation  \n",
            "The Federal Reserve has made the following decisions to implement the monetary policy stance \n",
            "announced by the Federal Open Market Committee in its statement  on December 14, 2022:  \n",
            "• The Board of Governors of the Federal Reserve System voted unanimously to rai se the \n",
            "interest rate paid on reserve balances to 4.4 percent, effective December 15, 2022. \n",
            "• As part of its policy decision, the Federal Open Market Committee voted to authorize and \n",
            "direct the Open Market Desk at the Federal Reserve Bank of New York, until i nstructed \n",
            "otherwise, to execute transactions in the System Open Market Account in accordance with the following domestic policy directive:  \n",
            "\"Effective December 15, 2022, the Federal Open Market Committee directs the Desk to:  \n",
            "o Undertake open market operations as necessary to maintain the federal funds rate \n",
            "in a target range of 4- 1/4 to 4- 1/2 percent.  \n",
            "o Conduct overnight repurchase agreement operations with a minimum bid rate of \n",
            "4.5 percent and with an aggregate operation limit of $500 billion; the aggregate \n",
            "operation limit can be temporarily increased at the discretion of the Chair.  \n",
            "o Conduct overnight reverse repurchase agreement operations at an offering rate of 4.3 percent and with  a per -counterparty limit of $160 billion per day; the per-\n",
            "counterparty limit can be temporarily increased at the discretion of the Chair.  \n",
            "o Roll over at auction the amount of principal payments from the Federal Reserve's holdings of Treasury securities matu ring in each calendar month that exceeds a \n",
            "cap of $60 billion per month. Redeem Treasury coupon securities up to this \n",
            "monthly cap and Treasury bills to the extent that coupon principal payments are \n",
            "less than the monthly cap. \n",
            "o Reinvest into agency mortgage -backed securities (MBS) the amount of principal \n",
            "payments from the Federal Reserve's holdings of agency debt and agency MBS received in each calendar month that exceeds a cap of $35 billion per month. \n",
            "o Allow modest deviations from stated amounts for reinvestm ents, if needed for \n",
            "operational reasons.  \n",
            "o Engage in dollar roll and coupon swap transactions as necessary to facilitate settlement of the Federal Reserve's agency MBS transactions.\"  \n",
            " \n",
            "• In a related action, the Board of Governors of the Federal Reserve System voted \n",
            "unanimously to approve a 1/2 percentage point increase in the primary credit rate to 4.5 percent, effective December 15, 2022. In taking this action, the Board approved requests \n",
            "to establish that rate submitted by the Boards of Directors of the Feder al Reserve Banks of  \n",
            "Boston, New York, Philadelphia, Cleveland, Richmond, Atlanta, Chicago, St. Louis, Minneapolis, Kansas City, Dallas, and San Francisco.  \n",
            "(more)   \n",
            " \n",
            "  \n",
            "-2- \n",
            "This information will be updated as appropriate to reflect decisions of the Federal Open Market \n",
            "Committee or the Board of Governors regarding details of the Federal Reserve's operational tools and approach used to implement monetary policy. \n",
            "More information regarding open market operations and reinvestments may be found on the \n",
            "Federal Reserve Bank of New York's website.\n",
            " \n",
            " \n"
          ]
        }
      ],
      "source": [
        "# remove the first few extra texts\n",
        "trimmed_text = '\\n'.join(text.split('\\n', 3)[3:text.index(\"-0-\")])\n",
        "\n",
        "print(trimmed_text)"
      ]
    },
    {
      "cell_type": "code",
      "execution_count": null,
      "metadata": {
        "colab": {
          "base_uri": "https://localhost:8080/"
        },
        "id": "Fro62gb-jg-a",
        "outputId": "118e9f77-30fe-4250-d7f3-8909bfa2f9e0"
      },
      "outputs": [
        {
          "name": "stdout",
          "output_type": "stream",
          "text": [
            "[' Recent indicators point to modest growth in spending and production.  Job gains have ', 'been robust in recent months, and the unemployment rate has remained low.  Inflation remains ', 'elevated, reflecting supply and demand imbalances related to the pandemic, higher food and energy prices, and broader price pressures.  ', ' Russia’s war against Ukraine is causing tremendous human and economic hardship.  The ', 'war and related e vents are contributing to upward pressure on inflation and are weighing on ', 'global economic activity.  The Committee is highly attentive to inflation risks.  ', ' The Committee seeks to achieve maximum employment and inflation at the rate of ', '2 percent over the l onger run.  In support of these goals, the Committee decided to raise the ', 'target range for the federal funds rate to 4 -1/4 to 4- 1/2 percent.  The Committee anticipates that ', 'ongoing increases in the target range will be appropriate in order to attain a stan ce of monetary ', 'policy that is sufficiently restrictive to return inflation to 2 percent over time.  In determining the pace of future increases in the target range, the Committee will take into account the cumulative ', 'tightening of monetary policy, the lags  with which monetary policy affects economic activity and ', 'inflation, and economic and financial developments.  In addition, the Committee will continue reducing its holdings of Treasury securities and agency debt and agency mortgage -backed ', 'securities, as d escribed in the Plans for Reducing the Size of the Federal Reserve’s Balance Sheet ', 'that were issued in May.  The Committee is strongly committed to returning inflation to its ', '2 percent objective.  ', '(more)    ', '-2- ', 'In assessing the appropriate stance of monetary policy, the Committee will continue to ', 'monitor the implications of incoming information for the economic outlook.  The Committee ', 'would be prepared to adjust the stance of monetary policy as appropriate if ris ks emerge that ', 'could impede the attainment of the Committee’s goals.  The Committee’s assessments will take ', 'into account a wide range of information, including readings on public health, labor market ', 'conditions, inflation pressures and inflation expectations, and financial and international ', 'developments.   ', 'Voting for the monetary policy action were Jerome H. Powell, Chair; John C. Williams, ', 'Vice Chair;  Michael S. Barr;  Michelle W. Bowman; Lael Brainard; James Bullard; Susan M. ', 'Collins; Lisa D. Cook; Esther L. George; Philip N. Jefferson; Loretta J. Mester; and Christopher ', 'J. Waller.  ', '-0- ', 'For media inquiries, please email media@frb.gov  or call 202- 452-2955.  ', ' ', ' For release at 2 :00 p.m. E ST                      December 14, 2022  ', ' ', 'Decisions Regarding Monetary Policy Implementation  ', 'The Federal Reserve has made the following decisions to implement the monetary policy stance ', 'announced by the Federal Open Market Committee in its statement  on December 14, 2022:  ', '• The Board of Governors of the Federal Reserve System voted unanimously to rai se the ', 'interest rate paid on reserve balances to 4.4 percent, effective December 15, 2022. ', '• As part of its policy decision, the Federal Open Market Committee voted to authorize and ', 'direct the Open Market Desk at the Federal Reserve Bank of New York, until i nstructed ', 'otherwise, to execute transactions in the System Open Market Account in accordance with the following domestic policy directive:  ', '\"Effective December 15, 2022, the Federal Open Market Committee directs the Desk to:  ', 'o Undertake open market operations as necessary to maintain the federal funds rate ', 'in a target range of 4- 1/4 to 4- 1/2 percent.  ', 'o Conduct overnight repurchase agreement operations with a minimum bid rate of ', '4.5 percent and with an aggregate operation limit of $500 billion; the aggregate ', 'operation limit can be temporarily increased at the discretion of the Chair.  ', 'o Conduct overnight reverse repurchase agreement operations at an offering rate of 4.3 percent and with  a per -counterparty limit of $160 billion per day; the per-', 'counterparty limit can be temporarily increased at the discretion of the Chair.  ', \"o Roll over at auction the amount of principal payments from the Federal Reserve's holdings of Treasury securities matu ring in each calendar month that exceeds a \", 'cap of $60 billion per month. Redeem Treasury coupon securities up to this ', 'monthly cap and Treasury bills to the extent that coupon principal payments are ', 'less than the monthly cap. ', 'o Reinvest into agency mortgage -backed securities (MBS) the amount of principal ', \"payments from the Federal Reserve's holdings of agency debt and agency MBS received in each calendar month that exceeds a cap of $35 billion per month. \", 'o Allow modest deviations from stated amounts for reinvestm ents, if needed for ', 'operational reasons.  ', 'o Engage in dollar roll and coupon swap transactions as necessary to facilitate settlement of the Federal Reserve\\'s agency MBS transactions.\"  ', ' ', '• In a related action, the Board of Governors of the Federal Reserve System voted ', 'unanimously to approve a 1/2 percentage point increase in the primary credit rate to 4.5 percent, effective December 15, 2022. In taking this action, the Board approved requests ', 'to establish that rate submitted by the Boards of Directors of the Feder al Reserve Banks of  ', 'Boston, New York, Philadelphia, Cleveland, Richmond, Atlanta, Chicago, St. Louis, Minneapolis, Kansas City, Dallas, and San Francisco.  ', '(more)   ', ' ', '  ', '-2- ', 'This information will be updated as appropriate to reflect decisions of the Federal Open Market ', \"Committee or the Board of Governors regarding details of the Federal Reserve's operational tools and approach used to implement monetary policy. \", 'More information regarding open market operations and reinvestments may be found on the ', \"Federal Reserve Bank of New York's website.\", ' ', ' ']\n"
          ]
        }
      ],
      "source": [
        "split_text = trimmed_text.split(\"\\n\")\n",
        "print(split_text)"
      ]
    },
    {
      "cell_type": "code",
      "execution_count": null,
      "metadata": {
        "colab": {
          "base_uri": "https://localhost:8080/"
        },
        "id": "u0k5CZ6vcEd8",
        "outputId": "d1dabf5a-be94-461d-9a71-f0860bdc5b14"
      },
      "outputs": [
        {
          "name": "stdout",
          "output_type": "stream",
          "text": [
            " Recent indicators point to modest growth in spending and production.  Job gains have been robust in recent months, and the unemployment rate has remained low.  Inflation remains elevated, reflecting supply and demand imbalances related to the pandemic, higher food and energy prices, and broader price pressures.   Russia’s war against Ukraine is causing tremendous human and economic hardship.  The war and related e vents are contributing to upward pressure on inflation and are weighing on global economic activity.  The Committee is highly attentive to inflation risks.   The Committee seeks to achieve maximum employment and inflation at the rate of 2 percent over the l onger run.  In support of these goals, the Committee decided to raise the target range for the federal funds rate to 4 -1/4 to 4- 1/2 percent.  The Committee anticipates that ongoing increases in the target range will be appropriate in order to attain a stan ce of monetary policy that is sufficiently restrictive to return inflation to 2 percent over time.  In determining the pace of future increases in the target range, the Committee will take into account the cumulative tightening of monetary policy, the lags  with which monetary policy affects economic activity and inflation, and economic and financial developments.  In addition, the Committee will continue reducing its holdings of Treasury securities and agency debt and agency mortgage -backed securities, as d escribed in the Plans for Reducing the Size of the Federal Reserve’s Balance Sheet that were issued in May.  The Committee is strongly committed to returning inflation to its 2 percent objective.  (more)    In assessing the appropriate stance of monetary policy, the Committee will continue to monitor the implications of incoming information for the economic outlook.  The Committee would be prepared to adjust the stance of monetary policy as appropriate if ris ks emerge that could impede the attainment of the Committee’s goals.  The Committee’s assessments will take into account a wide range of information, including readings on public health, labor market conditions, inflation pressures and inflation expectations, and financial and international developments.   \n"
          ]
        }
      ],
      "source": [
        "split_text_for_model = \"\"\n",
        "\n",
        "for i in range(0, len(split_text)):\n",
        "  if \"Voting\" in split_text[i]: \n",
        "    break;\n",
        "  if \"-2-\" not in split_text[i]:\n",
        "    split_text_for_model += split_text[i]\n",
        "\n",
        "print(split_text_for_model)"
      ]
    },
    {
      "cell_type": "markdown",
      "metadata": {
        "id": "UCN65rwMprEk"
      },
      "source": [
        "looks like all paragraphs in \"split_text\" start with a \"\\n\"\n"
      ]
    },
    {
      "cell_type": "markdown",
      "metadata": {
        "id": "WPaSw729BynT"
      },
      "source": [
        "## Getting the final summary for the model"
      ]
    },
    {
      "cell_type": "markdown",
      "metadata": {
        "id": "zwOo6gK-BwSF"
      },
      "source": [
        "### Summary using the first sentences"
      ]
    },
    {
      "cell_type": "code",
      "execution_count": null,
      "metadata": {
        "colab": {
          "base_uri": "https://localhost:8080/"
        },
        "id": "pCgg1iE3MJjW",
        "outputId": "3f59b140-8690-45d5-b704-734911f7dfbe"
      },
      "outputs": [
        {
          "name": "stdout",
          "output_type": "stream",
          "text": [
            "Recent indicators point to modest growth in spending and production.\n",
            "\n",
            "Russia’s war against Ukraine is causing tremendous human and economic hardship.\n",
            "\n",
            "The Committee seeks to achieve maximum employment and inflation at the rate of 2 percent over the l onger run.\n",
            "\n",
            "In assessing the appropriate stance of monetary policy, the Committee will continue to monitor the implications of incoming information for the economic outlook.\n",
            "\n"
          ]
        }
      ],
      "source": [
        "# tryna extract the first sentences\n",
        "# logic:\n",
        "  # if the item starts with a tab or capital letter, then consider it an important sentence\n",
        "  # if a \".\" exist in the item, print the whole sentence until the \".\"\n",
        "  # else, print the item and the next item until the \".\" in the next item\n",
        "  # this is assuming that every sentence is at most 2 lines, which is probably the case\n",
        "  # if we see the word Voting within the first few chars it means we reached the last para and can break\n",
        "\n",
        "first_n_summary = \"\"\n",
        "\n",
        "for i in range(0, len(split_text)):\n",
        "  \n",
        "  if \"Voting\" in split_text[i][0:7]:\n",
        "    break;\n",
        "\n",
        "  if split_text[i][0] == \" \" and \".\" in split_text[i]:\n",
        "    first_n_summary += split_text[i].partition('.')[0].lstrip() + \". \"\n",
        "    print(split_text[i].partition('.')[0].lstrip() + \".\" + \"\\n\");\n",
        "  elif split_text[i][0].isupper() and \".\" in split_text[i]:\n",
        "    first_n_summary += split_text[i].partition('.')[0] + \". \"\n",
        "    print(split_text[i].partition('.')[0] + \".\" + \"\\n\");\n",
        "  elif split_text[i][0] == \" \" or split_text[i][0].isupper():\n",
        "    first_n_summary += split_text[i].lstrip() + split_text[i+1].partition('.')[0] + \". \"\n",
        "    print(split_text[i].lstrip() + split_text[i+1].partition('.')[0] + \".\" + \"\\n\");"
      ]
    },
    {
      "cell_type": "markdown",
      "metadata": {
        "id": "NqIkbkrMCFYW"
      },
      "source": [
        "### Input for splitting by sentence"
      ]
    },
    {
      "cell_type": "code",
      "execution_count": null,
      "metadata": {
        "id": "RgoTROorCJAv"
      },
      "outputs": [],
      "source": [
        "# sentences_summary_input = []\n",
        "\n",
        "# trimmed_text = ' '.join(text.split('\\n', 3)[3:text.index(\"-0-\")])\n",
        "# current_sentence = \"\"\n",
        "\n",
        "# for index,ch in enumerate(trimmed_text):\n",
        "#   if ch == \".\":\n",
        "#     current_sentence = current_sentence.strip()\n",
        "#     current_sentence = current_sentence.replace(\"\\n\", \"\")\n",
        "#     sentences_summary_input.append(current_sentence)\n",
        "#     current_sentence = \"\"\n",
        "#   elif ch == \"-\":\n",
        "#     continue\n",
        "#   elif current_sentence == \"Voting\":\n",
        "#     break\n",
        "#   else:\n",
        "#     current_sentence += ch\n",
        "    \n",
        "# print(sentences_summary_input)"
      ]
    },
    {
      "cell_type": "markdown",
      "metadata": {
        "id": "XZfWEMETCYOl"
      },
      "source": [
        "### Input for splitting by paragraph"
      ]
    },
    {
      "cell_type": "code",
      "execution_count": null,
      "metadata": {
        "colab": {
          "base_uri": "https://localhost:8080/"
        },
        "id": "KUS4j43NCarG",
        "outputId": "b5a40af9-5e30-49a8-d4b6-2170e61ffa29"
      },
      "outputs": [
        {
          "name": "stdout",
          "output_type": "stream",
          "text": [
            "['Recent indicators point to modest growth in spending and production.  Job gains have been robust in recent months, and the unemployment rate has remained low.  Inflation remains elevated, reflecting supply and demand imbalances related to the pandemic, higher food and energy prices, and broader price pressures.', 'Russia’s war against Ukraine is causing tremendous human and economic hardship.  The war and related e vents are contributing to upward pressure on inflation and are weighing on global economic activity.  The Committee is highly attentive to inflation risks.', 'The Committee seeks to achieve maximum employment and inflation at the rate of 2 percent over the l onger run.  In support of these goals, the Committee decided to raise the target range for the federal funds rate to 4 -1/4 to 4- 1/2 percent.  The Committee anticipates that ongoing increases in the target range will be appropriate in order to attain a stan ce of monetary policy that is sufficiently restrictive to return inflation to 2 percent over time.  In determining the pace of future increases in the target range, the Committee will take into account the cumulative tightening of monetary policy, the lags  with which monetary policy affects economic activity and inflation, and economic and financial developments.  In addition, the Committee will continue reducing its holdings of Treasury securities and agency debt and agency mortgage -backed securities, as d escribed in the Plans for Reducing the Size of the Federal Reserve’s Balance Sheet that were issued in May.  The Committee is strongly committed to returning inflation to its 2 percent objective.', 'In assessing the appropriate stance of monetary policy, the Committee will continue to monitor the implications of incoming information for the economic outlook.  The Committee would be prepared to adjust the stance of monetary policy as appropriate if ris ks emerge that could impede the attainment of the Committee’s goals.  The Committee’s assessments will take into account a wide range of information, including readings on public health, labor market conditions, inflation pressures and inflation expectations, and financial and international developments.']\n"
          ]
        }
      ],
      "source": [
        "para_summary_input = []\n",
        "\n",
        "trimmed_text2 = text.split('\\n')[3:]\n",
        "current_para = \"\"\n",
        "for sentence in trimmed_text2:\n",
        "\n",
        "  # if first sentence is a \" \", that means it's a start of a new paragraph!\n",
        "  # push the current para into the summary and reset current_para\n",
        "  if sentence[0] == \" \":\n",
        "    current_para = current_para.replace(\"(more)\", \"\")\n",
        "    current_para = current_para.strip()\n",
        "    para_summary_input.append(current_para.strip())\n",
        "    current_para = sentence\n",
        "  # if \"-2-\" is in the paragraph, then we have to split it up because that sentence contains words from 2 different paragraphs\n",
        "  # so we add the first part of the split and push to para_summary_input\n",
        "  # make sure the current sentence resets to the second part of the split\n",
        "  elif \"-2-\" in sentence:\n",
        "    temp = sentence.split(\"-2-\")\n",
        "    current_para += temp[0]\n",
        "    current_para = current_para.replace(\"(more)\", \"\")\n",
        "    current_para = current_para.strip()\n",
        "    para_summary_input.append(current_para.strip())\n",
        "    current_para = temp[1]\n",
        "  elif \"Voting\" in sentence:\n",
        "    temp = sentence.split(\"Voting\")\n",
        "    current_para += temp[0]\n",
        "    current_para = current_para.replace(\"(more)\", \"\")\n",
        "    current_para = current_para.strip()\n",
        "    para_summary_input.append(current_para.strip())\n",
        "    break\n",
        "  else:\n",
        "    current_para += sentence\n",
        "\n",
        "para_summary_input = para_summary_input[1:] # use [1:] to remove the stubborn empty string at the front\n",
        "print(para_summary_input)"
      ]
    },
    {
      "cell_type": "code",
      "execution_count": null,
      "metadata": {
        "id": "A5Yp2UNy0YOT"
      },
      "outputs": [],
      "source": [
        "# import re\n",
        "\n",
        "# ref_summaries = list(df_test['summary'])\n",
        "\n",
        "# for i in range (3):\n",
        "#     candidate_summaries = list(df_test['text'].apply(lambda x: ' '.join(re.split(r'(?<=[.:;])\\s', x)[:i+1])))\n",
        "#     print(f\"First {i+1} senctences: Scores {calc_rouge_scores(candidate_summaries, ref_summaries)}\")"
      ]
    },
    {
      "cell_type": "markdown",
      "metadata": {
        "id": "zG79qXpWyp43"
      },
      "source": [
        "# Trying out models for zero-shot learning"
      ]
    },
    {
      "cell_type": "markdown",
      "metadata": {
        "id": "LbwQBHIwyvG6"
      },
      "source": [
        "## financial-summarization-pegasus"
      ]
    },
    {
      "cell_type": "code",
      "execution_count": null,
      "metadata": {
        "colab": {
          "base_uri": "https://localhost:8080/"
        },
        "id": "KQwjSy47PRFq",
        "outputId": "2e0bc4cd-70c3-4e5b-88d8-744c2e0c6438"
      },
      "outputs": [
        {
          "name": "stdout",
          "output_type": "stream",
          "text": [
            "Looking in indexes: https://pypi.org/simple, https://us-python.pkg.dev/colab-wheels/public/simple/\n",
            "Requirement already satisfied: transformers in /usr/local/lib/python3.8/dist-packages (4.26.0)\n",
            "Requirement already satisfied: filelock in /usr/local/lib/python3.8/dist-packages (from transformers) (3.9.0)\n",
            "Requirement already satisfied: pyyaml>=5.1 in /usr/local/lib/python3.8/dist-packages (from transformers) (6.0)\n",
            "Requirement already satisfied: numpy>=1.17 in /usr/local/lib/python3.8/dist-packages (from transformers) (1.21.6)\n",
            "Requirement already satisfied: tqdm>=4.27 in /usr/local/lib/python3.8/dist-packages (from transformers) (4.64.1)\n",
            "Requirement already satisfied: packaging>=20.0 in /usr/local/lib/python3.8/dist-packages (from transformers) (23.0)\n",
            "Requirement already satisfied: tokenizers!=0.11.3,<0.14,>=0.11.1 in /usr/local/lib/python3.8/dist-packages (from transformers) (0.13.2)\n",
            "Requirement already satisfied: requests in /usr/local/lib/python3.8/dist-packages (from transformers) (2.25.1)\n",
            "Requirement already satisfied: huggingface-hub<1.0,>=0.11.0 in /usr/local/lib/python3.8/dist-packages (from transformers) (0.12.0)\n",
            "Requirement already satisfied: regex!=2019.12.17 in /usr/local/lib/python3.8/dist-packages (from transformers) (2022.6.2)\n",
            "Requirement already satisfied: typing-extensions>=3.7.4.3 in /usr/local/lib/python3.8/dist-packages (from huggingface-hub<1.0,>=0.11.0->transformers) (4.4.0)\n",
            "Requirement already satisfied: chardet<5,>=3.0.2 in /usr/local/lib/python3.8/dist-packages (from requests->transformers) (3.0.4)\n",
            "Requirement already satisfied: idna<3,>=2.5 in /usr/local/lib/python3.8/dist-packages (from requests->transformers) (2.10)\n",
            "Requirement already satisfied: urllib3<1.27,>=1.21.1 in /usr/local/lib/python3.8/dist-packages (from requests->transformers) (1.26.14)\n",
            "Requirement already satisfied: certifi>=2017.4.17 in /usr/local/lib/python3.8/dist-packages (from requests->transformers) (2022.12.7)\n",
            "Looking in indexes: https://pypi.org/simple, https://us-python.pkg.dev/colab-wheels/public/simple/\n",
            "Collecting sentencepiece\n",
            "  Downloading sentencepiece-0.1.97-cp38-cp38-manylinux_2_17_x86_64.manylinux2014_x86_64.whl (1.3 MB)\n",
            "\u001b[2K     \u001b[90m━━━━━━━━━━━━━━━━━━━━━━━━━━━━━━━━━━━━━━━━\u001b[0m \u001b[32m1.3/1.3 MB\u001b[0m \u001b[31m17.0 MB/s\u001b[0m eta \u001b[36m0:00:00\u001b[0m\n",
            "\u001b[?25hInstalling collected packages: sentencepiece\n",
            "Successfully installed sentencepiece-0.1.97\n"
          ]
        }
      ],
      "source": [
        "# zero shot model/learning pipeline from hugging face (pegasus model)\n",
        "# install shit\n",
        "\n",
        "!pip install transformers\n",
        "from transformers import pipeline\n",
        "!pip install sentencepiece"
      ]
    },
    {
      "cell_type": "code",
      "execution_count": null,
      "metadata": {
        "colab": {
          "base_uri": "https://localhost:8080/",
          "height": 177,
          "referenced_widgets": [
            "1ed66db395604eea89eeeb8d0efe81ff",
            "2b59c701184b404da359c9dc34326b45",
            "fc9741aeb84943c6b58fe900de74d741",
            "e177682c54de4ef7bdfe179dab383464",
            "bf91fa1b6d754f35a82d5aac40d13b65",
            "818838bbec0245c2955d41f8af166b48",
            "c4f98322a01f480297c2c1e06e58ef52",
            "5e23c9ec1c604eec8749f5e9497e05bc",
            "8313a9cd6ef24295a25128ffeee60aab",
            "ff486e36f3494d0895b523aef3981cc9",
            "0cc6faa03e294cabae5ae84ec02e3b9d",
            "548fc2f9579e48e4909100e72fcda106",
            "74d1702757f243518e447401b1f6e9ac",
            "92820279f6ed4fb987bf54675b784fa2",
            "cbe57e3682d0441788848180f71d04ba",
            "b1c00b12d2204ebb8be09f4a5a8b720c",
            "857580052d3c4a47965dd45169532199",
            "f216412e761b4ac4a8e33c1268f2de8e",
            "c83c0fbd51b74aa196edcc9eee3d6d95",
            "276164455b22428686c5ea1f9f0bedaa",
            "b281347cfa014444a8f8715ba222604b",
            "fe5e73826d4b4e9bb2103d5375363a21",
            "44107f80be14484786517be67ead0352",
            "84849c4061ab48959eccf4c5a564afdd",
            "1e048df7495e4fbd891d8ade59ae13f3",
            "fada0f7be2af4fed8b454f72090b6eed",
            "3996894c84f84a2d9a255c6dc218a25f",
            "8db5f1b817e34da6a384acd62fbe3b7b",
            "7b195b450fc242f3ba507a43de6df123",
            "86833d52a06f404bafeec7bb2adba052",
            "b9030a06ddbb4ef1bcb3660343398f5f",
            "b39fc9caa0c743a0ae12f82068c7b37e",
            "fec2b494f1484eea9275cc0965877e17",
            "2efe20ad31d548bc834333a145ee664a",
            "52fb0ebfc04242afb00a5741a27fef6c",
            "2d97121dce7f4055b5486de6416cc40e",
            "f5ec244a7b594587a964c9824161926e",
            "a8f3817b2da34e4a8918aa30ef615edb",
            "ef420c34a29744c4ac2a44c82666f329",
            "463190113bd84d0cb26e397bcc7088c1",
            "c29d81441af8400791f95a9109e61939",
            "9835d76a098f411bb10023f9fabbc1e9",
            "47f182f1a9e44f7bbaabc58b055e0760",
            "aaee2306b8d049b9b8173e805012db69",
            "0616743a2ab041868350e67115fe981a",
            "8c9a57871d064a0a9ae5b480ab159131",
            "a6e19fccb31f49e897c8910dfd88595a",
            "3dfd9b02c54c41a3ae8d8c5a199042af",
            "51ed8789331a4e67901270bc36932a24",
            "efe9263529d64108ba77f06e32ad8c8a",
            "678b0274f0d043c188e1560afc09cfef",
            "e26d97439ce64f2d8d4a6ea0f3344b95",
            "e27098bc1f5044eda7371c4fd7167375",
            "bb7457c00e36427294f7dd60d5825970",
            "f36ca8db7a3e456d83cbcb358e2da6e7"
          ]
        },
        "id": "WOFpfzChjsLu",
        "outputId": "41390f59-f71a-433b-feda-0a784beee32b"
      },
      "outputs": [
        {
          "data": {
            "application/vnd.jupyter.widget-view+json": {
              "model_id": "1ed66db395604eea89eeeb8d0efe81ff",
              "version_major": 2,
              "version_minor": 0
            },
            "text/plain": [
              "Downloading (…)lve/main/config.json:   0%|          | 0.00/1.27k [00:00<?, ?B/s]"
            ]
          },
          "metadata": {},
          "output_type": "display_data"
        },
        {
          "data": {
            "application/vnd.jupyter.widget-view+json": {
              "model_id": "548fc2f9579e48e4909100e72fcda106",
              "version_major": 2,
              "version_minor": 0
            },
            "text/plain": [
              "Downloading (…)\"pytorch_model.bin\";:   0%|          | 0.00/2.28G [00:00<?, ?B/s]"
            ]
          },
          "metadata": {},
          "output_type": "display_data"
        },
        {
          "data": {
            "application/vnd.jupyter.widget-view+json": {
              "model_id": "44107f80be14484786517be67ead0352",
              "version_major": 2,
              "version_minor": 0
            },
            "text/plain": [
              "Downloading (…)okenizer_config.json:   0%|          | 0.00/1.44k [00:00<?, ?B/s]"
            ]
          },
          "metadata": {},
          "output_type": "display_data"
        },
        {
          "data": {
            "application/vnd.jupyter.widget-view+json": {
              "model_id": "2efe20ad31d548bc834333a145ee664a",
              "version_major": 2,
              "version_minor": 0
            },
            "text/plain": [
              "Downloading (…)\"spiece.model\";:   0%|          | 0.00/1.91M [00:00<?, ?B/s]"
            ]
          },
          "metadata": {},
          "output_type": "display_data"
        },
        {
          "data": {
            "application/vnd.jupyter.widget-view+json": {
              "model_id": "0616743a2ab041868350e67115fe981a",
              "version_major": 2,
              "version_minor": 0
            },
            "text/plain": [
              "Downloading (…)cial_tokens_map.json:   0%|          | 0.00/1.34k [00:00<?, ?B/s]"
            ]
          },
          "metadata": {},
          "output_type": "display_data"
        }
      ],
      "source": [
        "# pegasus for financial data model summary\n",
        "summarizer1 = pipeline(model = \"human-centered-summarization/financial-summarization-pegasus\")\n",
        "\n",
        "from transformers import AutoTokenizer, AutoModelForSeq2SeqLM\n",
        "\n",
        "tokenizer = AutoTokenizer.from_pretrained(\"human-centered-summarization/financial-summarization-pegasus\")\n",
        "model = AutoModelForSeq2SeqLM.from_pretrained(\"human-centered-summarization/financial-summarization-pegasus\")\n"
      ]
    },
    {
      "cell_type": "markdown",
      "metadata": {
        "id": "5aAafwIHy3j9"
      },
      "source": [
        "Default model looks so stupid. We'll have to test out which parameters give us the most favourable results"
      ]
    },
    {
      "cell_type": "markdown",
      "metadata": {
        "id": "UH3WGgX3C7bt"
      },
      "source": [
        "### Testing out parameters for entire text model"
      ]
    },
    {
      "cell_type": "code",
      "execution_count": null,
      "metadata": {
        "id": "mU3-6PvzzHou"
      },
      "outputs": [],
      "source": [
        "# from transformers import AutoTokenizer, AutoModelForSeq2SeqLM\n",
        "\n",
        "# tokenizer = AutoTokenizer.from_pretrained(\"human-centered-summarization/financial-summarization-pegasus\")\n",
        "# model = AutoModelForSeq2SeqLM.from_pretrained(\"human-centered-summarization/financial-summarization-pegasus\")\n",
        "\n",
        "# # Tokenize our text\n",
        "# # If you want to run the code in Tensorflow, please remember to return the particular tensors as simply as using return_tensors = 'tf'\n",
        "# input_ids = tokenizer(split_text_for_model, return_tensors=\"pt\").input_ids\n",
        "\n",
        "# # Generate the output (Here, we use beam search but you can also use any other strategy you like)\n",
        "# output = model.generate(\n",
        "#     input_ids, \n",
        "#     min_length=50,\n",
        "#     max_length=5000,\n",
        "#     num_beams=10, \n",
        "#     early_stopping=True\n",
        "# )\n",
        "\n",
        "# # Finally, we can print the generated summary\n",
        "# print(tokenizer.decode(output[0], skip_special_tokens=True))"
      ]
    },
    {
      "cell_type": "code",
      "execution_count": null,
      "metadata": {
        "id": "HjGn_fB5FQ4s"
      },
      "outputs": [],
      "source": [
        "# output = model.generate(\n",
        "#     input_ids, \n",
        "#     min_length=50,\n",
        "#     max_length=5000,\n",
        "#     num_beams=50, \n",
        "#     early_stopping=True\n",
        "# )\n",
        "\n",
        "# print(tokenizer.decode(output[0], skip_special_tokens=True))"
      ]
    },
    {
      "cell_type": "code",
      "execution_count": null,
      "metadata": {
        "id": "CqBaEibsFlsu"
      },
      "outputs": [],
      "source": [
        "# output = model.generate(\n",
        "#     input_ids, \n",
        "#     min_length=50,\n",
        "#     max_length=5000,\n",
        "#     num_beams=20, \n",
        "#     early_stopping=True\n",
        "# )\n",
        "\n",
        "# print(tokenizer.decode(output[0], skip_special_tokens=True))"
      ]
    },
    {
      "cell_type": "markdown",
      "metadata": {
        "id": "9JwIaEoaDHQS"
      },
      "source": [
        "### Testing out parameters for split-by-sentences\n"
      ]
    },
    {
      "cell_type": "code",
      "execution_count": null,
      "metadata": {
        "id": "1h1H9xFJDOvG"
      },
      "outputs": [],
      "source": [
        "# test = []\n",
        "# for para in para_summary_input:\n",
        "#   input_ids = tokenizer(para, return_tensors=\"pt\").input_ids\n",
        "#   output = model.generate(\n",
        "#       input_ids, \n",
        "#       min_length=10,\n",
        "#       max_length=5000,\n",
        "#       num_beams=2, \n",
        "#       early_stopping=True\n",
        "#   )\n",
        "#   print(tokenizer.decode(output[0], skip_special_tokens=True))"
      ]
    },
    {
      "cell_type": "code",
      "execution_count": null,
      "metadata": {
        "id": "aOAywSeADOXJ"
      },
      "outputs": [],
      "source": [
        "# test = []\n",
        "# for para in para_summary_input:\n",
        "#   input_ids = tokenizer(para, return_tensors=\"pt\").input_ids\n",
        "#   output = model.generate(\n",
        "#       input_ids, \n",
        "#       min_length=10,\n",
        "#       max_length=5000,\n",
        "#       num_beams=4, \n",
        "#       early_stopping=True\n",
        "#   )\n",
        "#   print(tokenizer.decode(output[0], skip_special_tokens=True))"
      ]
    },
    {
      "cell_type": "code",
      "execution_count": null,
      "metadata": {
        "id": "c5CZXpLrDOOz"
      },
      "outputs": [],
      "source": [
        "# test = []\n",
        "# for para in para_summary_input:\n",
        "#   input_ids = tokenizer(para, return_tensors=\"pt\").input_ids\n",
        "#   output = model.generate(\n",
        "#       input_ids, \n",
        "#       min_length=10,\n",
        "#       max_length=4000,\n",
        "#       num_beams=4, \n",
        "#       early_stopping=True\n",
        "#   )\n",
        "#   print(tokenizer.decode(output[0], skip_special_tokens=True))"
      ]
    },
    {
      "cell_type": "markdown",
      "metadata": {
        "id": "fl8DyW_Nqn6Y"
      },
      "source": [
        "After trial and error, the best result for the **entire text** seems to be using the pegasus model with min=50, max=5000 and beam = 10 or 50;\n",
        "\n",
        "For the **by paragraph**, seems like the model with min=10, max=3000 and beam = 4 is better."
      ]
    },
    {
      "cell_type": "markdown",
      "metadata": {
        "id": "YBdiQitQDdFl"
      },
      "source": [
        "### Final choice of parameters for Pegasus (entire text) candidate"
      ]
    },
    {
      "cell_type": "code",
      "execution_count": null,
      "metadata": {
        "id": "ItPQcFbgEXM9"
      },
      "outputs": [],
      "source": [
        "# Tokenize our text\n",
        "# If you want to run the code in Tensorflow, please remember to return the particular tensors as simply as using return_tensors = 'tf'\n",
        "input_ids = tokenizer(split_text_for_model, return_tensors=\"pt\").input_ids\n",
        "\n",
        "# Generate the output (Here, we use beam search but you can also use any other strategy you like)\n",
        "output = model.generate(\n",
        "    input_ids, \n",
        "    min_length=50,\n",
        "    max_length=1024,\n",
        "    num_beams=10, \n",
        "    early_stopping=True\n",
        ")\n",
        "\n",
        "# Finally, we can print the generated summary\n",
        "pegasus_candidate1 = tokenizer.decode(output[0], skip_special_tokens=True)\n",
        "print(pegasus_candidate1)"
      ]
    },
    {
      "cell_type": "code",
      "execution_count": null,
      "metadata": {
        "colab": {
          "background_save": true
        },
        "id": "_rxHlVRlrMZm",
        "outputId": "e3c29077-6b6e-485c-9245-f28c123dbed7"
      },
      "outputs": [
        {
          "name": "stdout",
          "output_type": "stream",
          "text": [
            "Economic activity has continued to expand, albeit at a slower pace. Job gains have been robust in recent months, and the unemployment rate has remained low The Committee decided to raise the target range for the federal funds rate to 4 -1/4 to 4- 1/2 percent.\n"
          ]
        }
      ],
      "source": [
        "input_ids = tokenizer(split_text_for_model, return_tensors=\"pt\").input_ids\n",
        "\n",
        "output = model.generate(\n",
        "    input_ids, \n",
        "    min_length=50,\n",
        "    max_length=1024,\n",
        "    num_beams=50, \n",
        "    early_stopping=True\n",
        ")\n",
        "\n",
        "pegasus_candidate2 = tokenizer.decode(output[0], skip_special_tokens=True)\n",
        "print(pegasus_candidate2)"
      ]
    },
    {
      "cell_type": "markdown",
      "metadata": {
        "id": "vxC5fHV2Dm2V"
      },
      "source": [
        "### Final choice of parameters for Pegasus (text split by paragraph) candidate"
      ]
    },
    {
      "cell_type": "code",
      "execution_count": null,
      "metadata": {
        "colab": {
          "background_save": true
        },
        "id": "QRG9WjtSDtlU",
        "outputId": "057dbeb7-3d58-4952-abff-32f2c5629d8a"
      },
      "outputs": [
        {
          "name": "stdout",
          "output_type": "stream",
          "text": [
            "Economic recovery is gathering pace. Inflation remains elevated, reflecting supply and demand imbalances War against Ukraine is causing tremendous human and economic hardship. The Committee decided to raise the target range for the federal funds rate to 4 -1/4 to 4- 1/2 percent. The Committee will continue to assess the effects of monetary policy on the U.S. economy.\n"
          ]
        }
      ],
      "source": [
        "pegasus_cand3 = []\n",
        "for para in para_summary_input:\n",
        "  input_ids = tokenizer(para, return_tensors=\"pt\").input_ids\n",
        "  output = model.generate(\n",
        "      input_ids, \n",
        "      min_length=10,\n",
        "      max_length=1024,\n",
        "      num_beams=4, \n",
        "      early_stopping=True\n",
        ")\n",
        "  pegasus_cand3.append(peg_)\n",
        "\n",
        "pegasus_candidate3 = \" \".join(pegasus_cand3)\n",
        "print(pegasus_candidate3)"
      ]
    },
    {
      "cell_type": "markdown",
      "metadata": {
        "id": "y8Q6bNSIDwmz"
      },
      "source": [
        "### First-sentence-of-every-paragraph candidate"
      ]
    },
    {
      "cell_type": "code",
      "execution_count": null,
      "metadata": {
        "colab": {
          "background_save": true
        },
        "id": "ahh0-3XDrVPO",
        "outputId": "2eb841b1-29af-47e5-fc9d-7a556ed82518"
      },
      "outputs": [
        {
          "name": "stdout",
          "output_type": "stream",
          "text": [
            "Recent indicators point to modest growth in spending and production. Russia’s war against Ukraine is causing tremendous human and economic hardship. The Committee seeks to achieve maximum employment and inflation at the rate of 2 percent over the l onger run. In assessing the appropriate stance of monetary policy, the Committee will continue to monitor the implications of incoming information for the economic outlook. \n"
          ]
        }
      ],
      "source": [
        "baseline_candidate = first_n_summary\n",
        "print(baseline_candidate)"
      ]
    },
    {
      "cell_type": "markdown",
      "metadata": {
        "id": "NPeQN_RgDzTO"
      },
      "source": [
        "### sshleifer candidate"
      ]
    },
    {
      "cell_type": "code",
      "execution_count": null,
      "metadata": {
        "colab": {
          "background_save": true,
          "referenced_widgets": [
            "ecf68b8f758b49a79917c8c1da85f6d7",
            "f7122e2ac6334118b398aa77cee057be",
            "e67bfe5e7a4f483495b237d81d066b83",
            "65774dd7e9894565bc35f9d50a9aae7f",
            "55c18f6b93c34354818ed8644e126aff"
          ]
        },
        "id": "OcWyTOGtkCXk",
        "outputId": "41faa91f-64e9-42b6-c563-dcd3c76528db"
      },
      "outputs": [
        {
          "data": {
            "application/vnd.jupyter.widget-view+json": {
              "model_id": "ecf68b8f758b49a79917c8c1da85f6d7",
              "version_major": 2,
              "version_minor": 0
            },
            "text/plain": [
              "Downloading (…)lve/main/config.json:   0%|          | 0.00/1.80k [00:00<?, ?B/s]"
            ]
          },
          "metadata": {},
          "output_type": "display_data"
        },
        {
          "data": {
            "application/vnd.jupyter.widget-view+json": {
              "model_id": "f7122e2ac6334118b398aa77cee057be",
              "version_major": 2,
              "version_minor": 0
            },
            "text/plain": [
              "Downloading (…)\"pytorch_model.bin\";:   0%|          | 0.00/1.22G [00:00<?, ?B/s]"
            ]
          },
          "metadata": {},
          "output_type": "display_data"
        },
        {
          "data": {
            "application/vnd.jupyter.widget-view+json": {
              "model_id": "e67bfe5e7a4f483495b237d81d066b83",
              "version_major": 2,
              "version_minor": 0
            },
            "text/plain": [
              "Downloading (…)okenizer_config.json:   0%|          | 0.00/26.0 [00:00<?, ?B/s]"
            ]
          },
          "metadata": {},
          "output_type": "display_data"
        },
        {
          "data": {
            "application/vnd.jupyter.widget-view+json": {
              "model_id": "65774dd7e9894565bc35f9d50a9aae7f",
              "version_major": 2,
              "version_minor": 0
            },
            "text/plain": [
              "Downloading (…)olve/main/vocab.json:   0%|          | 0.00/899k [00:00<?, ?B/s]"
            ]
          },
          "metadata": {},
          "output_type": "display_data"
        },
        {
          "data": {
            "application/vnd.jupyter.widget-view+json": {
              "model_id": "55c18f6b93c34354818ed8644e126aff",
              "version_major": 2,
              "version_minor": 0
            },
            "text/plain": [
              "Downloading (…)olve/main/merges.txt:   0%|          | 0.00/456k [00:00<?, ?B/s]"
            ]
          },
          "metadata": {},
          "output_type": "display_data"
        },
        {
          "name": "stdout",
          "output_type": "stream",
          "text": [
            " Recent indicators point to modest growth in spending and production . Job gains have been robust in recent months, and unemployment rate has remained low . Inflation remains elevated, reflecting supply and demand imbalances related to pandemic, higher food and energy prices, and broader price pressures . Russia’s war against Ukraine is causing tremendous human and economic hardship .\n"
          ]
        }
      ],
      "source": [
        "# sshleifer/distilbart-cnn-12-6 model summary\n",
        "summarizer2 = pipeline(model = \"sshleifer/distilbart-cnn-12-6\")\n",
        "sshleifer_candidate = summarizer2(split_text_for_model)[0]['summary_text']\n",
        "print(sshleifer_candidate)"
      ]
    },
    {
      "cell_type": "code",
      "execution_count": null,
      "metadata": {
        "colab": {
          "background_save": true
        },
        "id": "okdRbA00llOG"
      },
      "outputs": [],
      "source": [
        "# # if we want to use this model we need to manipulate the tokens to take in larger data size\n",
        "# # nvr mind this model is shit\n",
        "# # nadzma/finetuned-T5-UK-financial-summarization\n",
        "# from tokenizers.pre_tokenizers import Whitespace\n",
        "# from tokenizers import pre_tokenizers\n",
        "# from tokenizers.pre_tokenizers import Digits\n",
        "# pre_tokenizer = pre_tokenizers.Sequence([Whitespace(), Digits(individual_digits=True)])\n",
        "# pre_tokenizer.pre_tokenize_str(split_text_for_model)\n",
        "\n",
        "# summarizer3 = pipeline(model = \"nadzma/finetuned-T5-UK-financial-summarization\")\n",
        "# print(summarizer3(split_text_for_model[:30]))"
      ]
    },
    {
      "cell_type": "code",
      "execution_count": null,
      "metadata": {
        "colab": {
          "background_save": true
        },
        "id": "f_pWyrCgz-9K"
      },
      "outputs": [],
      "source": [
        "# candidate_summaries = []\n",
        "\n",
        "# for i, text in enumerate(texts):\n",
        "#     if i % 100 == 0:\n",
        "#         print(i)\n",
        "#     candidate = summarizer(text, min_length=5, max_length=20)\n",
        "#     candidate_summaries.append(candidate[0]['summary_text'])"
      ]
    },
    {
      "cell_type": "markdown",
      "metadata": {
        "id": "PcUn0ldXrx4B"
      },
      "source": [
        "## Baseline model evaluation based on ROUGE score"
      ]
    },
    {
      "cell_type": "code",
      "execution_count": null,
      "metadata": {
        "colab": {
          "background_save": true
        },
        "id": "zq9kw0Wv24rr"
      },
      "outputs": [],
      "source": [
        "# !pip install rouge_score\n",
        "# from rouge_score import rouge_scorer\n",
        "# !pip install datasets\n",
        "# from datasets import load_metric\n",
        "# metric = load_metric(\"rouge\")\n"
      ]
    },
    {
      "cell_type": "code",
      "execution_count": null,
      "metadata": {
        "colab": {
          "background_save": true
        },
        "id": "TOmCHFrPr3z3"
      },
      "outputs": [],
      "source": [
        "# im not sure why rouge isnt working here but i think we need to create 2 arrays then append the summaries and corresponding references respectively \n",
        "# use this stackoverflow to fix im jus lazy HAHA :,)\n",
        "# https://stackoverflow.com/questions/44026832/valueerror-number-of-features-of-the-model-must-match-the-input\n",
        "\n",
        "# reference = \"Inflation is high and the Committee is highly attentive to inflation risks. The Committee is committed to achieving maximum employment and returning inflation to 2 percent. The federal funds rate will be raised to 4-1/4 to 4-1/2 percent. The Committee will continue to reduce its holdings of securities. For future raises in the target range, the Committee will look at the cumulative tightening of monetary policy, the lag time of monetary policy, and economic and financial developments.\"\n",
        "\n",
        "# def calc_rouge_scores(candidates, references):\n",
        "#     result = metric.compute(predictions=candidates, references=references, use_stemmer=True)\n",
        "#     result = {key: round(value.mid.fmeasure * 100, 1) for key, value in result.items()}\n",
        "#     return result\n",
        "\n",
        "# print(calc_rouge_scores(baseline_candidate, reference))"
      ]
    },
    {
      "cell_type": "code",
      "execution_count": null,
      "metadata": {
        "colab": {
          "background_save": true
        },
        "id": "9da1LQJHELwQ",
        "outputId": "5fa3476f-6777-4f8b-bd33-8eef2b48fc96"
      },
      "outputs": [
        {
          "name": "stdout",
          "output_type": "stream",
          "text": [
            "Looking in indexes: https://pypi.org/simple, https://us-python.pkg.dev/colab-wheels/public/simple/\n",
            "Collecting rouge\n",
            "  Downloading rouge-1.0.1-py3-none-any.whl (13 kB)\n",
            "Requirement already satisfied: six in /usr/local/lib/python3.8/dist-packages (from rouge) (1.12.0)\n",
            "Installing collected packages: rouge\n",
            "Successfully installed rouge-1.0.1\n"
          ]
        }
      ],
      "source": [
        "!pip install rouge\n",
        "from rouge import Rouge\n",
        "rouge = Rouge()\n",
        "\n",
        "def calc_rouge_scores(model_summary, reference_summary):\n",
        "    return rouge.get_scores(model_summary, reference_summary)"
      ]
    },
    {
      "cell_type": "code",
      "execution_count": null,
      "metadata": {
        "colab": {
          "background_save": true
        },
        "id": "zg_SsNwN5G02",
        "outputId": "e02d0514-487e-417f-c26e-06479be9cf0d"
      },
      "outputs": [
        {
          "name": "stdout",
          "output_type": "stream",
          "text": [
            "[{'rouge-1': {'r': 0.4, 'p': 0.38461538461538464, 'f': 0.3921568577470204}, 'rouge-2': {'r': 0.18840579710144928, 'p': 0.203125, 'f': 0.19548871681157795}, 'rouge-l': {'r': 0.34, 'p': 0.3269230769230769, 'f': 0.3333333283352557}}]\n"
          ]
        }
      ],
      "source": [
        "reference = \"Inflation is high and the Committee is highly attentive to inflation risks. The Committee is committed to achieving maximum employment and returning inflation to 2 percent. The federal funds rate will be raised to 4-1/4 to 4-1/2 percent. The Committee will continue to reduce its holdings of securities. For future raises in the target range, the Committee will look at the cumulative tightening of monetary policy, the lag time of monetary policy, and economic and financial developments.\"\n",
        "\n",
        "baseline_results = calc_rouge_scores(baseline_candidate, reference)\n",
        "print(baseline_results)"
      ]
    },
    {
      "cell_type": "markdown",
      "metadata": {
        "id": "UAMcCR_V8TyJ"
      },
      "source": [
        "# Zero-Shot Learning evaluation based on ROUGE score"
      ]
    },
    {
      "cell_type": "markdown",
      "metadata": {
        "id": "iCdQL0Lc812D"
      },
      "source": [
        "Zero-Shot Learning is refers to using pre-trained models to evaluate test data of classes that have not been used during training.\n",
        "We will test a range of models to see which gives us the highest ROUGE score, and train that model with our data."
      ]
    },
    {
      "cell_type": "code",
      "execution_count": null,
      "metadata": {
        "colab": {
          "background_save": true
        },
        "id": "-FtBPgTf8tHv",
        "outputId": "36046dff-fee2-42ec-9909-b5fe31a097e4"
      },
      "outputs": [
        {
          "name": "stdout",
          "output_type": "stream",
          "text": [
            "[{'rouge-1': {'r': 0.24, 'p': 0.2926829268292683, 'f': 0.2637362587851709}, 'rouge-2': {'r': 0.057971014492753624, 'p': 0.0851063829787234, 'f': 0.06896551242122508}, 'rouge-l': {'r': 0.22, 'p': 0.2682926829268293, 'f': 0.24175823680714903}}]\n"
          ]
        }
      ],
      "source": [
        "# Testing out pegasus model entire text\n",
        "\n",
        "pegasus_candidate1_results = calc_rouge_scores(pegasus_candidate1, reference)\n",
        "print(pegasus_candidate1_results)"
      ]
    },
    {
      "cell_type": "code",
      "execution_count": null,
      "metadata": {
        "colab": {
          "background_save": true
        },
        "id": "2OZn_a4MEdPo",
        "outputId": "b088408f-fc8b-4a02-ae9b-985ad4fe8d60"
      },
      "outputs": [
        {
          "name": "stdout",
          "output_type": "stream",
          "text": [
            "[{'rouge-1': {'r': 0.24, 'p': 0.3076923076923077, 'f': 0.2696629164246939}, 'rouge-2': {'r': 0.07246376811594203, 'p': 0.1111111111111111, 'f': 0.08771929346722095}, 'rouge-l': {'r': 0.22, 'p': 0.28205128205128205, 'f': 0.2471910063123344}}]\n"
          ]
        }
      ],
      "source": [
        "# Testing out pegasus model entire text\n",
        "\n",
        "pegasus_candidate2_results = calc_rouge_scores(pegasus_candidate2, reference)\n",
        "print(pegasus_candidate2_results)"
      ]
    },
    {
      "cell_type": "markdown",
      "metadata": {
        "id": "ePDar29qEqMW"
      },
      "source": [
        "unsurprisingly, the pegasus model, when using the entire text, produced not very good results; nowhere close to the baseline model"
      ]
    },
    {
      "cell_type": "code",
      "execution_count": null,
      "metadata": {
        "colab": {
          "background_save": true
        },
        "id": "SWyXW6-8EDAB",
        "outputId": "93e81994-c9c1-4106-bdd9-98fcdeb51e2b"
      },
      "outputs": [
        {
          "name": "stdout",
          "output_type": "stream",
          "text": [
            "[{'rouge-1': {'r': 0.34, 'p': 0.3469387755102041, 'f': 0.34343433843485366}, 'rouge-2': {'r': 0.14492753623188406, 'p': 0.17543859649122806, 'f': 0.1587301537755104}, 'rouge-l': {'r': 0.3, 'p': 0.30612244897959184, 'f': 0.30303029803081327}}]\n"
          ]
        }
      ],
      "source": [
        "# Testing out pegasus model by paragraphs\n",
        "\n",
        "pegasus_candidate3_results = calc_rouge_scores(pegasus_candidate3, reference)\n",
        "print(pegasus_candidate3_results)"
      ]
    },
    {
      "cell_type": "markdown",
      "metadata": {
        "id": "Zdr1PjqWEEoT"
      },
      "source": [
        "but when fed using paragraphs, it looks swell! or does it? idk goodnight everybody"
      ]
    },
    {
      "cell_type": "markdown",
      "metadata": {
        "id": "M407JULAE2e0"
      },
      "source": [
        "Let's now try on the sshleifer/distilbart-cnn-12-6 model"
      ]
    },
    {
      "cell_type": "code",
      "execution_count": null,
      "metadata": {
        "colab": {
          "background_save": true
        },
        "id": "c5iun8KaEhVn",
        "outputId": "df199bc2-d2a5-4a6e-8738-c0f401b91665"
      },
      "outputs": [
        {
          "name": "stdout",
          "output_type": "stream",
          "text": [
            "[{'rouge-1': {'r': 0.14, 'p': 0.14583333333333334, 'f': 0.1428571378592255}, 'rouge-2': {'r': 0.014492753623188406, 'p': 0.018518518518518517, 'f': 0.016260157675988006}, 'rouge-l': {'r': 0.14, 'p': 0.14583333333333334, 'f': 0.1428571378592255}}]\n"
          ]
        }
      ],
      "source": [
        "sshleifer_results = calc_rouge_scores(sshleifer_candidate, reference)\n",
        "print(sshleifer_results)"
      ]
    },
    {
      "cell_type": "markdown",
      "metadata": {
        "id": "7k2-2h-dYwwS"
      },
      "source": [
        "# Now let's try to fine-tune the pegasus model"
      ]
    },
    {
      "cell_type": "code",
      "execution_count": null,
      "metadata": {
        "colab": {
          "background_save": true
        },
        "id": "8M0UlRzKYyvD",
        "outputId": "925a6caf-abe0-4264-dd52-d6ed7f867316"
      },
      "outputs": [
        {
          "name": "stdout",
          "output_type": "stream",
          "text": [
            "Looking in indexes: https://pypi.org/simple, https://us-python.pkg.dev/colab-wheels/public/simple/\n",
            "Requirement already satisfied: transformers in /usr/local/lib/python3.8/dist-packages (4.26.0)\n",
            "Requirement already satisfied: datasets in /usr/local/lib/python3.8/dist-packages (2.9.0)\n",
            "Requirement already satisfied: packaging>=20.0 in /usr/local/lib/python3.8/dist-packages (from transformers) (23.0)\n",
            "Requirement already satisfied: requests in /usr/local/lib/python3.8/dist-packages (from transformers) (2.25.1)\n",
            "Requirement already satisfied: numpy>=1.17 in /usr/local/lib/python3.8/dist-packages (from transformers) (1.21.6)\n",
            "Requirement already satisfied: tqdm>=4.27 in /usr/local/lib/python3.8/dist-packages (from transformers) (4.64.1)\n",
            "Requirement already satisfied: huggingface-hub<1.0,>=0.11.0 in /usr/local/lib/python3.8/dist-packages (from transformers) (0.12.0)\n",
            "Requirement already satisfied: regex!=2019.12.17 in /usr/local/lib/python3.8/dist-packages (from transformers) (2022.6.2)\n",
            "Requirement already satisfied: pyyaml>=5.1 in /usr/local/lib/python3.8/dist-packages (from transformers) (6.0)\n",
            "Requirement already satisfied: tokenizers!=0.11.3,<0.14,>=0.11.1 in /usr/local/lib/python3.8/dist-packages (from transformers) (0.13.2)\n",
            "Requirement already satisfied: filelock in /usr/local/lib/python3.8/dist-packages (from transformers) (3.9.0)\n",
            "Requirement already satisfied: fsspec[http]>=2021.11.1 in /usr/local/lib/python3.8/dist-packages (from datasets) (2023.1.0)\n",
            "Requirement already satisfied: pyarrow>=6.0.0 in /usr/local/lib/python3.8/dist-packages (from datasets) (9.0.0)\n",
            "Requirement already satisfied: aiohttp in /usr/local/lib/python3.8/dist-packages (from datasets) (3.8.3)\n",
            "Requirement already satisfied: xxhash in /usr/local/lib/python3.8/dist-packages (from datasets) (3.2.0)\n",
            "Requirement already satisfied: responses<0.19 in /usr/local/lib/python3.8/dist-packages (from datasets) (0.18.0)\n",
            "Requirement already satisfied: pandas in /usr/local/lib/python3.8/dist-packages (from datasets) (1.3.5)\n",
            "Requirement already satisfied: multiprocess in /usr/local/lib/python3.8/dist-packages (from datasets) (0.70.14)\n",
            "Requirement already satisfied: dill<0.3.7 in /usr/local/lib/python3.8/dist-packages (from datasets) (0.3.6)\n",
            "Requirement already satisfied: attrs>=17.3.0 in /usr/local/lib/python3.8/dist-packages (from aiohttp->datasets) (22.2.0)\n",
            "Requirement already satisfied: yarl<2.0,>=1.0 in /usr/local/lib/python3.8/dist-packages (from aiohttp->datasets) (1.8.2)\n",
            "Requirement already satisfied: charset-normalizer<3.0,>=2.0 in /usr/local/lib/python3.8/dist-packages (from aiohttp->datasets) (2.1.1)\n",
            "Requirement already satisfied: async-timeout<5.0,>=4.0.0a3 in /usr/local/lib/python3.8/dist-packages (from aiohttp->datasets) (4.0.2)\n",
            "Requirement already satisfied: aiosignal>=1.1.2 in /usr/local/lib/python3.8/dist-packages (from aiohttp->datasets) (1.3.1)\n",
            "Requirement already satisfied: frozenlist>=1.1.1 in /usr/local/lib/python3.8/dist-packages (from aiohttp->datasets) (1.3.3)\n",
            "Requirement already satisfied: multidict<7.0,>=4.5 in /usr/local/lib/python3.8/dist-packages (from aiohttp->datasets) (6.0.4)\n",
            "Requirement already satisfied: typing-extensions>=3.7.4.3 in /usr/local/lib/python3.8/dist-packages (from huggingface-hub<1.0,>=0.11.0->transformers) (4.4.0)\n",
            "Requirement already satisfied: chardet<5,>=3.0.2 in /usr/local/lib/python3.8/dist-packages (from requests->transformers) (3.0.4)\n",
            "Requirement already satisfied: urllib3<1.27,>=1.21.1 in /usr/local/lib/python3.8/dist-packages (from requests->transformers) (1.26.14)\n",
            "Requirement already satisfied: idna<3,>=2.5 in /usr/local/lib/python3.8/dist-packages (from requests->transformers) (2.10)\n",
            "Requirement already satisfied: certifi>=2017.4.17 in /usr/local/lib/python3.8/dist-packages (from requests->transformers) (2022.12.7)\n",
            "Requirement already satisfied: pytz>=2017.3 in /usr/local/lib/python3.8/dist-packages (from pandas->datasets) (2022.7.1)\n",
            "Requirement already satisfied: python-dateutil>=2.7.3 in /usr/local/lib/python3.8/dist-packages (from pandas->datasets) (2.8.2)\n",
            "Requirement already satisfied: six>=1.5 in /usr/local/lib/python3.8/dist-packages (from python-dateutil>=2.7.3->pandas->datasets) (1.12.0)\n",
            "Looking in indexes: https://pypi.org/simple, https://us-python.pkg.dev/colab-wheels/public/simple/\n",
            "Requirement already satisfied: sentencepiece in /usr/local/lib/python3.8/dist-packages (0.1.97)\n",
            "Looking in indexes: https://pypi.org/simple, https://us-python.pkg.dev/colab-wheels/public/simple/\n",
            "Collecting protobuf==3.20.0\n",
            "  Downloading protobuf-3.20.0-cp38-cp38-manylinux_2_5_x86_64.manylinux1_x86_64.whl (1.0 MB)\n",
            "\u001b[2K     \u001b[90m━━━━━━━━━━━━━━━━━━━━━━━━━━━━━━━━━━━━━━━━\u001b[0m \u001b[32m1.0/1.0 MB\u001b[0m \u001b[31m36.2 MB/s\u001b[0m eta \u001b[36m0:00:00\u001b[0m\n",
            "\u001b[?25hInstalling collected packages: protobuf\n",
            "  Attempting uninstall: protobuf\n",
            "    Found existing installation: protobuf 3.19.6\n",
            "    Uninstalling protobuf-3.19.6:\n",
            "      Successfully uninstalled protobuf-3.19.6\n",
            "\u001b[31mERROR: pip's dependency resolver does not currently take into account all the packages that are installed. This behaviour is the source of the following dependency conflicts.\n",
            "tensorflow 2.9.2 requires protobuf<3.20,>=3.9.2, but you have protobuf 3.20.0 which is incompatible.\n",
            "tensorboard 2.9.1 requires protobuf<3.20,>=3.9.2, but you have protobuf 3.20.0 which is incompatible.\n",
            "googleapis-common-protos 1.58.0 requires protobuf!=3.20.0,!=3.20.1,!=4.21.1,!=4.21.2,!=4.21.3,!=4.21.4,!=4.21.5,<5.0.0dev,>=3.19.5, but you have protobuf 3.20.0 which is incompatible.\n",
            "google-cloud-translate 3.8.4 requires protobuf!=3.20.0,!=3.20.1,!=4.21.0,!=4.21.1,!=4.21.2,!=4.21.3,!=4.21.4,!=4.21.5,<5.0.0dev,>=3.19.5, but you have protobuf 3.20.0 which is incompatible.\n",
            "google-cloud-language 2.6.1 requires protobuf!=3.20.0,!=3.20.1,!=4.21.0,!=4.21.1,!=4.21.2,!=4.21.3,!=4.21.4,!=4.21.5,<5.0.0dev,>=3.19.5, but you have protobuf 3.20.0 which is incompatible.\n",
            "google-cloud-firestore 2.7.3 requires protobuf!=3.20.0,!=3.20.1,!=4.21.0,!=4.21.1,!=4.21.2,!=4.21.3,!=4.21.4,!=4.21.5,<5.0.0dev,>=3.19.5, but you have protobuf 3.20.0 which is incompatible.\n",
            "google-cloud-datastore 2.11.1 requires protobuf!=3.20.0,!=3.20.1,!=4.21.0,!=4.21.1,!=4.21.2,!=4.21.3,!=4.21.4,!=4.21.5,<5.0.0dev,>=3.19.5, but you have protobuf 3.20.0 which is incompatible.\n",
            "google-cloud-bigquery 3.4.2 requires protobuf!=3.20.0,!=3.20.1,!=4.21.0,!=4.21.1,!=4.21.2,!=4.21.3,!=4.21.4,!=4.21.5,<5.0.0dev,>=3.19.5, but you have protobuf 3.20.0 which is incompatible.\n",
            "google-cloud-bigquery-storage 2.18.1 requires protobuf!=3.20.0,!=3.20.1,!=4.21.0,!=4.21.1,!=4.21.2,!=4.21.3,!=4.21.4,!=4.21.5,<5.0.0dev,>=3.19.5, but you have protobuf 3.20.0 which is incompatible.\n",
            "google-api-core 2.11.0 requires protobuf!=3.20.0,!=3.20.1,!=4.21.0,!=4.21.1,!=4.21.2,!=4.21.3,!=4.21.4,!=4.21.5,<5.0.0dev,>=3.19.5, but you have protobuf 3.20.0 which is incompatible.\u001b[0m\u001b[31m\n",
            "\u001b[0mSuccessfully installed protobuf-3.20.0\n"
          ]
        }
      ],
      "source": [
        "!pip install transformers datasets\n",
        "!pip install sentencepiece\n",
        "!pip install protobuf==3.20.0"
      ]
    },
    {
      "cell_type": "code",
      "execution_count": null,
      "metadata": {
        "colab": {
          "background_save": true
        },
        "id": "Rf-jUyMqYy2D"
      },
      "outputs": [],
      "source": [
        "from transformers import PegasusForConditionalGeneration, PegasusTokenizer, Trainer, TrainingArguments\n",
        "import torch"
      ]
    },
    {
      "cell_type": "code",
      "execution_count": null,
      "metadata": {
        "colab": {
          "background_save": true
        },
        "id": "xhf6_TISYuuf"
      },
      "outputs": [],
      "source": [
        "class PegasusDataset(torch.utils.data.Dataset):\n",
        "    def __init__(self, encodings, labels):\n",
        "        self.encodings = encodings\n",
        "        self.labels = labels\n",
        "    def __getitem__(self, idx):\n",
        "        item = {key: torch.tensor(val[idx]) for key, val in self.encodings.items()}\n",
        "        item['labels'] = torch.tensor(self.labels['input_ids'][idx])  # torch.tensor(self.labels[idx])\n",
        "        return item\n",
        "    def __len__(self):\n",
        "        return len(self.labels['input_ids'])  # len(self.labels)\n"
      ]
    },
    {
      "cell_type": "code",
      "execution_count": null,
      "metadata": {
        "colab": {
          "background_save": true
        },
        "id": "3TXD6t3obMZ_"
      },
      "outputs": [],
      "source": [
        "def prepare_data(model_name, \n",
        "                 train_texts, train_labels, \n",
        "                 val_texts=None, val_labels=None, \n",
        "                 test_texts=None, test_labels=None):\n",
        "  \"\"\"\n",
        "  Prepare input data for model fine-tuning\n",
        "  \"\"\"\n",
        "  tokenizer = PegasusTokenizer.from_pretrained(model_name)\n",
        "\n",
        "  prepare_val = False if val_texts is None or val_labels is None else True\n",
        "  prepare_test = False if test_texts is None or test_labels is None else True\n",
        "  def tokenize_data(texts, labels):\n",
        "    encodings = tokenizer(texts, truncation=True, padding=True)\n",
        "    decodings = tokenizer(labels, truncation=True, padding=True)\n",
        "    dataset_tokenized = PegasusDataset(encodings, decodings)\n",
        "    return dataset_tokenized\n",
        "\n",
        "  train_dataset = tokenize_data(train_texts, train_labels)\n",
        "  val_dataset = tokenize_data(val_texts, val_labels) if prepare_val else None\n",
        "  test_dataset = tokenize_data(test_texts, test_labels) if prepare_test else None\n",
        "\n",
        "  return train_dataset, val_dataset, test_dataset, tokenizer"
      ]
    },
    {
      "cell_type": "code",
      "execution_count": null,
      "metadata": {
        "colab": {
          "background_save": true
        },
        "id": "sz9v7GDCbNaW"
      },
      "outputs": [],
      "source": [
        "def prepare_fine_tuning(model_name, tokenizer, train_dataset, val_dataset=None, freeze_encoder=False, output_dir='./results'):\n",
        "  \"\"\"\n",
        "  Prepare configurations and base model for fine-tuning\n",
        "  \"\"\"\n",
        "  torch_device = 'cuda' if torch.cuda.is_available() else 'cpu'\n",
        "  model = PegasusForConditionalGeneration.from_pretrained(model_name).to(torch_device)\n",
        "\n",
        "  if freeze_encoder:\n",
        "    for param in model.model.encoder.parameters():\n",
        "      param.requires_grad = False\n",
        "\n",
        "  if val_dataset is not None:\n",
        "    training_args = TrainingArguments(\n",
        "      output_dir=output_dir,           # output directory\n",
        "      num_train_epochs=25,           # total number of training epochs\n",
        "      per_device_train_batch_size=1,   # batch size per device during training, can increase if memory allows\n",
        "      per_device_eval_batch_size=1,    # batch size for evaluation, can increase if memory allows\n",
        "      save_steps=500,                  # number of updates steps before checkpoint saves\n",
        "      save_total_limit=5,              # limit the total amount of checkpoints and deletes the older checkpoints\n",
        "      evaluation_strategy='steps',     # evaluation strategy to adopt during training\n",
        "      eval_steps=100,                  # number of update steps before evaluation\n",
        "      warmup_steps=500,                # number of warmup steps for learning rate scheduler\n",
        "      weight_decay=0.01,               # strength of weight decay\n",
        "      logging_dir='./logs',            # directory for storing logs\n",
        "      logging_steps=10,\n",
        "    )\n",
        "\n",
        "    trainer = Trainer(\n",
        "      model=model,                         # the instantiated 🤗 Transformers model to be trained\n",
        "      args=training_args,                  # training arguments, defined above\n",
        "      train_dataset=train_dataset,         # training dataset\n",
        "      eval_dataset=val_dataset,            # evaluation dataset\n",
        "      tokenizer=tokenizer\n",
        "    )\n",
        "\n",
        "  else:\n",
        "    training_args = TrainingArguments(\n",
        "      output_dir=output_dir,           # output directory\n",
        "      num_train_epochs=25,           # total number of training epochs\n",
        "      per_device_train_batch_size=1,   # batch size per device during training, can increase if memory allows\n",
        "      save_steps=500,                  # number of updates steps before checkpoint saves\n",
        "      save_total_limit=5,              # limit the total amount of checkpoints and deletes the older checkpoints\n",
        "      warmup_steps=500,                # number of warmup steps for learning rate scheduler\n",
        "      weight_decay=0.01,               # strength of weight decay\n",
        "      logging_dir='./logs',            # directory for storing logs\n",
        "      logging_steps=10,\n",
        "    )\n",
        "\n",
        "    trainer = Trainer(\n",
        "      model=model,                         # the instantiated 🤗 Transformers model to be trained\n",
        "      args=training_args,                  # training arguments, defined above\n",
        "      train_dataset=train_dataset,         # training dataset\n",
        "      tokenizer=tokenizer\n",
        "    )\n",
        "\n",
        "  trainer.train()"
      ]
    },
    {
      "cell_type": "code",
      "execution_count": null,
      "metadata": {
        "colab": {
          "background_save": true,
          "referenced_widgets": [
            "a81ba1bf94474ef9b20d55354163300b",
            "d5c43c12ba994020b579ec610f9b2c58",
            "2f9a2ba9f1194b8b9fd452e9f3b5433f",
            "08477f1dacdf4837b56e3f896dfb129f",
            "b2ab77bdc1ea441a9082890751a01c68",
            "5b44c50504c84bf583e29c78faff9c96"
          ]
        },
        "id": "JlLVo33zbQxb",
        "outputId": "4851b7d7-9575-4070-e4de-f5430cb601ec"
      },
      "outputs": [
        {
          "data": {
            "application/vnd.jupyter.widget-view+json": {
              "model_id": "a81ba1bf94474ef9b20d55354163300b",
              "version_major": 2,
              "version_minor": 0
            },
            "text/plain": [
              "Downloading builder script:   0%|          | 0.00/5.76k [00:00<?, ?B/s]"
            ]
          },
          "metadata": {},
          "output_type": "display_data"
        },
        {
          "data": {
            "application/vnd.jupyter.widget-view+json": {
              "model_id": "d5c43c12ba994020b579ec610f9b2c58",
              "version_major": 2,
              "version_minor": 0
            },
            "text/plain": [
              "Downloading readme:   0%|          | 0.00/6.24k [00:00<?, ?B/s]"
            ]
          },
          "metadata": {},
          "output_type": "display_data"
        },
        {
          "name": "stdout",
          "output_type": "stream",
          "text": [
            "Downloading and preparing dataset xsum/default to /root/.cache/huggingface/datasets/xsum/default/1.2.0/082863bf4754ee058a5b6f6525d0cb2b18eadb62c7b370b095d1364050a52b71...\n"
          ]
        },
        {
          "data": {
            "application/vnd.jupyter.widget-view+json": {
              "model_id": "2f9a2ba9f1194b8b9fd452e9f3b5433f",
              "version_major": 2,
              "version_minor": 0
            },
            "text/plain": [
              "Downloading data files:   0%|          | 0/2 [00:00<?, ?it/s]"
            ]
          },
          "metadata": {},
          "output_type": "display_data"
        },
        {
          "data": {
            "application/vnd.jupyter.widget-view+json": {
              "model_id": "08477f1dacdf4837b56e3f896dfb129f",
              "version_major": 2,
              "version_minor": 0
            },
            "text/plain": [
              "Downloading data:   0%|          | 0.00/255M [00:00<?, ?B/s]"
            ]
          },
          "metadata": {},
          "output_type": "display_data"
        },
        {
          "data": {
            "application/vnd.jupyter.widget-view+json": {
              "model_id": "b2ab77bdc1ea441a9082890751a01c68",
              "version_major": 2,
              "version_minor": 0
            },
            "text/plain": [
              "Downloading data:   0%|          | 0.00/1.00M [00:00<?, ?B/s]"
            ]
          },
          "metadata": {},
          "output_type": "display_data"
        },
        {
          "data": {
            "application/vnd.jupyter.widget-view+json": {
              "model_id": "5b44c50504c84bf583e29c78faff9c96",
              "version_major": 2,
              "version_minor": 0
            },
            "text/plain": [
              "Generating train split:   0%|          | 0/204045 [00:00<?, ? examples/s]"
            ]
          },
          "metadata": {},
          "output_type": "display_data"
        },
        {
          "ename": "KeyboardInterrupt",
          "evalue": "ignored",
          "output_type": "error",
          "traceback": [
            "\u001b[0;31m---------------------------------------------------------------------------\u001b[0m",
            "\u001b[0;31mKeyboardInterrupt\u001b[0m                         Traceback (most recent call last)",
            "\u001b[0;32m<ipython-input-42-56cf39bbb8e4>\u001b[0m in \u001b[0;36m<module>\u001b[0;34m\u001b[0m\n\u001b[1;32m      1\u001b[0m \u001b[0;31m# using xsum for training\u001b[0m\u001b[0;34m\u001b[0m\u001b[0;34m\u001b[0m\u001b[0;34m\u001b[0m\u001b[0m\n\u001b[1;32m      2\u001b[0m \u001b[0;32mfrom\u001b[0m \u001b[0mdatasets\u001b[0m \u001b[0;32mimport\u001b[0m \u001b[0mload_dataset\u001b[0m\u001b[0;34m\u001b[0m\u001b[0;34m\u001b[0m\u001b[0m\n\u001b[0;32m----> 3\u001b[0;31m \u001b[0mdataset\u001b[0m \u001b[0;34m=\u001b[0m \u001b[0mload_dataset\u001b[0m\u001b[0;34m(\u001b[0m\u001b[0;34m\"xsum\"\u001b[0m\u001b[0;34m)\u001b[0m\u001b[0;34m\u001b[0m\u001b[0;34m\u001b[0m\u001b[0m\n\u001b[0m\u001b[1;32m      4\u001b[0m \u001b[0mtrain_texts\u001b[0m\u001b[0;34m,\u001b[0m \u001b[0mtrain_labels\u001b[0m \u001b[0;34m=\u001b[0m \u001b[0mdataset\u001b[0m\u001b[0;34m[\u001b[0m\u001b[0;34m'train'\u001b[0m\u001b[0;34m]\u001b[0m\u001b[0;34m[\u001b[0m\u001b[0;34m'document'\u001b[0m\u001b[0;34m]\u001b[0m\u001b[0;34m[\u001b[0m\u001b[0;34m:\u001b[0m\u001b[0;36m100\u001b[0m\u001b[0;34m]\u001b[0m\u001b[0;34m,\u001b[0m \u001b[0mdataset\u001b[0m\u001b[0;34m[\u001b[0m\u001b[0;34m'train'\u001b[0m\u001b[0;34m]\u001b[0m\u001b[0;34m[\u001b[0m\u001b[0;34m'summary'\u001b[0m\u001b[0;34m]\u001b[0m\u001b[0;34m[\u001b[0m\u001b[0;34m:\u001b[0m\u001b[0;36m100\u001b[0m\u001b[0;34m]\u001b[0m\u001b[0;34m\u001b[0m\u001b[0;34m\u001b[0m\u001b[0m\n",
            "\u001b[0;32m/usr/local/lib/python3.8/dist-packages/datasets/load.py\u001b[0m in \u001b[0;36mload_dataset\u001b[0;34m(path, name, data_dir, data_files, split, cache_dir, features, download_config, download_mode, ignore_verifications, keep_in_memory, save_infos, revision, use_auth_token, task, streaming, num_proc, **config_kwargs)\u001b[0m\n\u001b[1;32m   1756\u001b[0m \u001b[0;34m\u001b[0m\u001b[0m\n\u001b[1;32m   1757\u001b[0m     \u001b[0;31m# Download and prepare data\u001b[0m\u001b[0;34m\u001b[0m\u001b[0;34m\u001b[0m\u001b[0;34m\u001b[0m\u001b[0m\n\u001b[0;32m-> 1758\u001b[0;31m     builder_instance.download_and_prepare(\n\u001b[0m\u001b[1;32m   1759\u001b[0m         \u001b[0mdownload_config\u001b[0m\u001b[0;34m=\u001b[0m\u001b[0mdownload_config\u001b[0m\u001b[0;34m,\u001b[0m\u001b[0;34m\u001b[0m\u001b[0;34m\u001b[0m\u001b[0m\n\u001b[1;32m   1760\u001b[0m         \u001b[0mdownload_mode\u001b[0m\u001b[0;34m=\u001b[0m\u001b[0mdownload_mode\u001b[0m\u001b[0;34m,\u001b[0m\u001b[0;34m\u001b[0m\u001b[0;34m\u001b[0m\u001b[0m\n",
            "\u001b[0;32m/usr/local/lib/python3.8/dist-packages/datasets/builder.py\u001b[0m in \u001b[0;36mdownload_and_prepare\u001b[0;34m(self, output_dir, download_config, download_mode, ignore_verifications, try_from_hf_gcs, dl_manager, base_path, use_auth_token, file_format, max_shard_size, num_proc, storage_options, **download_and_prepare_kwargs)\u001b[0m\n\u001b[1;32m    858\u001b[0m                         \u001b[0;32mif\u001b[0m \u001b[0mnum_proc\u001b[0m \u001b[0;32mis\u001b[0m \u001b[0;32mnot\u001b[0m \u001b[0;32mNone\u001b[0m\u001b[0;34m:\u001b[0m\u001b[0;34m\u001b[0m\u001b[0;34m\u001b[0m\u001b[0m\n\u001b[1;32m    859\u001b[0m                             \u001b[0mprepare_split_kwargs\u001b[0m\u001b[0;34m[\u001b[0m\u001b[0;34m\"num_proc\"\u001b[0m\u001b[0;34m]\u001b[0m \u001b[0;34m=\u001b[0m \u001b[0mnum_proc\u001b[0m\u001b[0;34m\u001b[0m\u001b[0;34m\u001b[0m\u001b[0m\n\u001b[0;32m--> 860\u001b[0;31m                         self._download_and_prepare(\n\u001b[0m\u001b[1;32m    861\u001b[0m                             \u001b[0mdl_manager\u001b[0m\u001b[0;34m=\u001b[0m\u001b[0mdl_manager\u001b[0m\u001b[0;34m,\u001b[0m\u001b[0;34m\u001b[0m\u001b[0;34m\u001b[0m\u001b[0m\n\u001b[1;32m    862\u001b[0m                             \u001b[0mverify_infos\u001b[0m\u001b[0;34m=\u001b[0m\u001b[0mverify_infos\u001b[0m\u001b[0;34m,\u001b[0m\u001b[0;34m\u001b[0m\u001b[0;34m\u001b[0m\u001b[0m\n",
            "\u001b[0;32m/usr/local/lib/python3.8/dist-packages/datasets/builder.py\u001b[0m in \u001b[0;36m_download_and_prepare\u001b[0;34m(self, dl_manager, verify_infos, **prepare_splits_kwargs)\u001b[0m\n\u001b[1;32m   1610\u001b[0m \u001b[0;34m\u001b[0m\u001b[0m\n\u001b[1;32m   1611\u001b[0m     \u001b[0;32mdef\u001b[0m \u001b[0m_download_and_prepare\u001b[0m\u001b[0;34m(\u001b[0m\u001b[0mself\u001b[0m\u001b[0;34m,\u001b[0m \u001b[0mdl_manager\u001b[0m\u001b[0;34m,\u001b[0m \u001b[0mverify_infos\u001b[0m\u001b[0;34m,\u001b[0m \u001b[0;34m**\u001b[0m\u001b[0mprepare_splits_kwargs\u001b[0m\u001b[0;34m)\u001b[0m\u001b[0;34m:\u001b[0m\u001b[0;34m\u001b[0m\u001b[0;34m\u001b[0m\u001b[0m\n\u001b[0;32m-> 1612\u001b[0;31m         super()._download_and_prepare(\n\u001b[0m\u001b[1;32m   1613\u001b[0m             \u001b[0mdl_manager\u001b[0m\u001b[0;34m,\u001b[0m \u001b[0mverify_infos\u001b[0m\u001b[0;34m,\u001b[0m \u001b[0mcheck_duplicate_keys\u001b[0m\u001b[0;34m=\u001b[0m\u001b[0mverify_infos\u001b[0m\u001b[0;34m,\u001b[0m \u001b[0;34m**\u001b[0m\u001b[0mprepare_splits_kwargs\u001b[0m\u001b[0;34m\u001b[0m\u001b[0;34m\u001b[0m\u001b[0m\n\u001b[1;32m   1614\u001b[0m         )\n",
            "\u001b[0;32m/usr/local/lib/python3.8/dist-packages/datasets/builder.py\u001b[0m in \u001b[0;36m_download_and_prepare\u001b[0;34m(self, dl_manager, verify_infos, **prepare_split_kwargs)\u001b[0m\n\u001b[1;32m    951\u001b[0m             \u001b[0;32mtry\u001b[0m\u001b[0;34m:\u001b[0m\u001b[0;34m\u001b[0m\u001b[0;34m\u001b[0m\u001b[0m\n\u001b[1;32m    952\u001b[0m                 \u001b[0;31m# Prepare split will record examples associated to the split\u001b[0m\u001b[0;34m\u001b[0m\u001b[0;34m\u001b[0m\u001b[0;34m\u001b[0m\u001b[0m\n\u001b[0;32m--> 953\u001b[0;31m                 \u001b[0mself\u001b[0m\u001b[0;34m.\u001b[0m\u001b[0m_prepare_split\u001b[0m\u001b[0;34m(\u001b[0m\u001b[0msplit_generator\u001b[0m\u001b[0;34m,\u001b[0m \u001b[0;34m**\u001b[0m\u001b[0mprepare_split_kwargs\u001b[0m\u001b[0;34m)\u001b[0m\u001b[0;34m\u001b[0m\u001b[0;34m\u001b[0m\u001b[0m\n\u001b[0m\u001b[1;32m    954\u001b[0m             \u001b[0;32mexcept\u001b[0m \u001b[0mOSError\u001b[0m \u001b[0;32mas\u001b[0m \u001b[0me\u001b[0m\u001b[0;34m:\u001b[0m\u001b[0;34m\u001b[0m\u001b[0;34m\u001b[0m\u001b[0m\n\u001b[1;32m    955\u001b[0m                 raise OSError(\n",
            "\u001b[0;32m/usr/local/lib/python3.8/dist-packages/datasets/builder.py\u001b[0m in \u001b[0;36m_prepare_split\u001b[0;34m(self, split_generator, check_duplicate_keys, file_format, num_proc, max_shard_size)\u001b[0m\n\u001b[1;32m   1448\u001b[0m             \u001b[0mgen_kwargs\u001b[0m \u001b[0;34m=\u001b[0m \u001b[0msplit_generator\u001b[0m\u001b[0;34m.\u001b[0m\u001b[0mgen_kwargs\u001b[0m\u001b[0;34m\u001b[0m\u001b[0;34m\u001b[0m\u001b[0m\n\u001b[1;32m   1449\u001b[0m             \u001b[0mjob_id\u001b[0m \u001b[0;34m=\u001b[0m \u001b[0;36m0\u001b[0m\u001b[0;34m\u001b[0m\u001b[0;34m\u001b[0m\u001b[0m\n\u001b[0;32m-> 1450\u001b[0;31m             for job_id, done, content in self._prepare_split_single(\n\u001b[0m\u001b[1;32m   1451\u001b[0m                 \u001b[0mgen_kwargs\u001b[0m\u001b[0;34m=\u001b[0m\u001b[0mgen_kwargs\u001b[0m\u001b[0;34m,\u001b[0m \u001b[0mjob_id\u001b[0m\u001b[0;34m=\u001b[0m\u001b[0mjob_id\u001b[0m\u001b[0;34m,\u001b[0m \u001b[0;34m**\u001b[0m\u001b[0m_prepare_split_args\u001b[0m\u001b[0;34m\u001b[0m\u001b[0;34m\u001b[0m\u001b[0m\n\u001b[1;32m   1452\u001b[0m             ):\n",
            "\u001b[0;32m/usr/local/lib/python3.8/dist-packages/datasets/builder.py\u001b[0m in \u001b[0;36m_prepare_split_single\u001b[0;34m(self, gen_kwargs, fpath, file_format, max_shard_size, split_info, check_duplicate_keys, job_id)\u001b[0m\n\u001b[1;32m   1569\u001b[0m             \u001b[0;32mtry\u001b[0m\u001b[0;34m:\u001b[0m\u001b[0;34m\u001b[0m\u001b[0;34m\u001b[0m\u001b[0m\n\u001b[1;32m   1570\u001b[0m                 \u001b[0m_time\u001b[0m \u001b[0;34m=\u001b[0m \u001b[0mtime\u001b[0m\u001b[0;34m.\u001b[0m\u001b[0mtime\u001b[0m\u001b[0;34m(\u001b[0m\u001b[0;34m)\u001b[0m\u001b[0;34m\u001b[0m\u001b[0;34m\u001b[0m\u001b[0m\n\u001b[0;32m-> 1571\u001b[0;31m                 \u001b[0;32mfor\u001b[0m \u001b[0mkey\u001b[0m\u001b[0;34m,\u001b[0m \u001b[0mrecord\u001b[0m \u001b[0;32min\u001b[0m \u001b[0mgenerator\u001b[0m\u001b[0;34m:\u001b[0m\u001b[0;34m\u001b[0m\u001b[0;34m\u001b[0m\u001b[0m\n\u001b[0m\u001b[1;32m   1572\u001b[0m                     \u001b[0;32mif\u001b[0m \u001b[0mmax_shard_size\u001b[0m \u001b[0;32mis\u001b[0m \u001b[0;32mnot\u001b[0m \u001b[0;32mNone\u001b[0m \u001b[0;32mand\u001b[0m \u001b[0mwriter\u001b[0m\u001b[0;34m.\u001b[0m\u001b[0m_num_bytes\u001b[0m \u001b[0;34m>\u001b[0m \u001b[0mmax_shard_size\u001b[0m\u001b[0;34m:\u001b[0m\u001b[0;34m\u001b[0m\u001b[0;34m\u001b[0m\u001b[0m\n\u001b[1;32m   1573\u001b[0m                         \u001b[0mnum_examples\u001b[0m\u001b[0;34m,\u001b[0m \u001b[0mnum_bytes\u001b[0m \u001b[0;34m=\u001b[0m \u001b[0mwriter\u001b[0m\u001b[0;34m.\u001b[0m\u001b[0mfinalize\u001b[0m\u001b[0;34m(\u001b[0m\u001b[0;34m)\u001b[0m\u001b[0;34m\u001b[0m\u001b[0;34m\u001b[0m\u001b[0m\n",
            "\u001b[0;32m~/.cache/huggingface/modules/datasets_modules/datasets/xsum/082863bf4754ee058a5b6f6525d0cb2b18eadb62c7b370b095d1364050a52b71/xsum.py\u001b[0m in \u001b[0;36m_generate_examples\u001b[0;34m(self, split_path, split_name, data_dir, files)\u001b[0m\n\u001b[1;32m    139\u001b[0m                 \u001b[0;32mbreak\u001b[0m\u001b[0;34m\u001b[0m\u001b[0;34m\u001b[0m\u001b[0m\n\u001b[1;32m    140\u001b[0m             \u001b[0;32melif\u001b[0m \u001b[0mpath\u001b[0m\u001b[0;34m.\u001b[0m\u001b[0mstartswith\u001b[0m\u001b[0;34m(\u001b[0m\u001b[0mdata_dir\u001b[0m\u001b[0;34m)\u001b[0m \u001b[0;32mand\u001b[0m \u001b[0mpath\u001b[0m\u001b[0;34m.\u001b[0m\u001b[0mendswith\u001b[0m\u001b[0;34m(\u001b[0m\u001b[0;34m\".summary\"\u001b[0m\u001b[0;34m)\u001b[0m\u001b[0;34m:\u001b[0m\u001b[0;34m\u001b[0m\u001b[0;34m\u001b[0m\u001b[0m\n\u001b[0;32m--> 141\u001b[0;31m                 \u001b[0mi\u001b[0m \u001b[0;34m=\u001b[0m \u001b[0mos\u001b[0m\u001b[0;34m.\u001b[0m\u001b[0mpath\u001b[0m\u001b[0;34m.\u001b[0m\u001b[0mbasename\u001b[0m\u001b[0;34m(\u001b[0m\u001b[0mpath\u001b[0m\u001b[0;34m)\u001b[0m\u001b[0;34m.\u001b[0m\u001b[0msplit\u001b[0m\u001b[0;34m(\u001b[0m\u001b[0;34m\".\"\u001b[0m\u001b[0;34m)\u001b[0m\u001b[0;34m[\u001b[0m\u001b[0;36m0\u001b[0m\u001b[0;34m]\u001b[0m\u001b[0;34m\u001b[0m\u001b[0;34m\u001b[0m\u001b[0m\n\u001b[0m\u001b[1;32m    142\u001b[0m                 \u001b[0;32mif\u001b[0m \u001b[0mi\u001b[0m \u001b[0;32min\u001b[0m \u001b[0msplit_ids\u001b[0m\u001b[0;34m[\u001b[0m\u001b[0msplit_name\u001b[0m\u001b[0;34m]\u001b[0m\u001b[0;34m:\u001b[0m\u001b[0;34m\u001b[0m\u001b[0;34m\u001b[0m\u001b[0m\n\u001b[1;32m    143\u001b[0m                     \u001b[0msplit_ids\u001b[0m\u001b[0;34m[\u001b[0m\u001b[0msplit_name\u001b[0m\u001b[0;34m]\u001b[0m\u001b[0;34m.\u001b[0m\u001b[0mremove\u001b[0m\u001b[0;34m(\u001b[0m\u001b[0mi\u001b[0m\u001b[0;34m)\u001b[0m\u001b[0;34m\u001b[0m\u001b[0;34m\u001b[0m\u001b[0m\n",
            "\u001b[0;32m/usr/local/lib/python3.8/dist-packages/datasets/download/streaming_download_manager.py\u001b[0m in \u001b[0;36mxbasename\u001b[0;34m(a)\u001b[0m\n\u001b[1;32m    192\u001b[0m     \u001b[0ma\u001b[0m\u001b[0;34m,\u001b[0m \u001b[0;34m*\u001b[0m\u001b[0mb\u001b[0m \u001b[0;34m=\u001b[0m \u001b[0mstr\u001b[0m\u001b[0;34m(\u001b[0m\u001b[0ma\u001b[0m\u001b[0;34m)\u001b[0m\u001b[0;34m.\u001b[0m\u001b[0msplit\u001b[0m\u001b[0;34m(\u001b[0m\u001b[0;34m\"::\"\u001b[0m\u001b[0;34m)\u001b[0m\u001b[0;34m\u001b[0m\u001b[0;34m\u001b[0m\u001b[0m\n\u001b[1;32m    193\u001b[0m     \u001b[0;32mif\u001b[0m \u001b[0mis_local_path\u001b[0m\u001b[0;34m(\u001b[0m\u001b[0ma\u001b[0m\u001b[0;34m)\u001b[0m\u001b[0;34m:\u001b[0m\u001b[0;34m\u001b[0m\u001b[0;34m\u001b[0m\u001b[0m\n\u001b[0;32m--> 194\u001b[0;31m         \u001b[0;32mreturn\u001b[0m \u001b[0mos\u001b[0m\u001b[0;34m.\u001b[0m\u001b[0mpath\u001b[0m\u001b[0;34m.\u001b[0m\u001b[0mbasename\u001b[0m\u001b[0;34m(\u001b[0m\u001b[0mPath\u001b[0m\u001b[0;34m(\u001b[0m\u001b[0ma\u001b[0m\u001b[0;34m)\u001b[0m\u001b[0;34m.\u001b[0m\u001b[0mas_posix\u001b[0m\u001b[0;34m(\u001b[0m\u001b[0;34m)\u001b[0m\u001b[0;34m)\u001b[0m\u001b[0;34m\u001b[0m\u001b[0;34m\u001b[0m\u001b[0m\n\u001b[0m\u001b[1;32m    195\u001b[0m     \u001b[0;32melse\u001b[0m\u001b[0;34m:\u001b[0m\u001b[0;34m\u001b[0m\u001b[0;34m\u001b[0m\u001b[0m\n\u001b[1;32m    196\u001b[0m         \u001b[0;32mreturn\u001b[0m \u001b[0mposixpath\u001b[0m\u001b[0;34m.\u001b[0m\u001b[0mbasename\u001b[0m\u001b[0;34m(\u001b[0m\u001b[0ma\u001b[0m\u001b[0;34m)\u001b[0m\u001b[0;34m\u001b[0m\u001b[0;34m\u001b[0m\u001b[0m\n",
            "\u001b[0;32m/usr/lib/python3.8/pathlib.py\u001b[0m in \u001b[0;36m__new__\u001b[0;34m(cls, *args, **kwargs)\u001b[0m\n\u001b[1;32m   1040\u001b[0m         \u001b[0;32mif\u001b[0m \u001b[0mcls\u001b[0m \u001b[0;32mis\u001b[0m \u001b[0mPath\u001b[0m\u001b[0;34m:\u001b[0m\u001b[0;34m\u001b[0m\u001b[0;34m\u001b[0m\u001b[0m\n\u001b[1;32m   1041\u001b[0m             \u001b[0mcls\u001b[0m \u001b[0;34m=\u001b[0m \u001b[0mWindowsPath\u001b[0m \u001b[0;32mif\u001b[0m \u001b[0mos\u001b[0m\u001b[0;34m.\u001b[0m\u001b[0mname\u001b[0m \u001b[0;34m==\u001b[0m \u001b[0;34m'nt'\u001b[0m \u001b[0;32melse\u001b[0m \u001b[0mPosixPath\u001b[0m\u001b[0;34m\u001b[0m\u001b[0;34m\u001b[0m\u001b[0m\n\u001b[0;32m-> 1042\u001b[0;31m         \u001b[0mself\u001b[0m \u001b[0;34m=\u001b[0m \u001b[0mcls\u001b[0m\u001b[0;34m.\u001b[0m\u001b[0m_from_parts\u001b[0m\u001b[0;34m(\u001b[0m\u001b[0margs\u001b[0m\u001b[0;34m,\u001b[0m \u001b[0minit\u001b[0m\u001b[0;34m=\u001b[0m\u001b[0;32mFalse\u001b[0m\u001b[0;34m)\u001b[0m\u001b[0;34m\u001b[0m\u001b[0;34m\u001b[0m\u001b[0m\n\u001b[0m\u001b[1;32m   1043\u001b[0m         \u001b[0;32mif\u001b[0m \u001b[0;32mnot\u001b[0m \u001b[0mself\u001b[0m\u001b[0;34m.\u001b[0m\u001b[0m_flavour\u001b[0m\u001b[0;34m.\u001b[0m\u001b[0mis_supported\u001b[0m\u001b[0;34m:\u001b[0m\u001b[0;34m\u001b[0m\u001b[0;34m\u001b[0m\u001b[0m\n\u001b[1;32m   1044\u001b[0m             raise NotImplementedError(\"cannot instantiate %r on your system\"\n",
            "\u001b[0;31mKeyboardInterrupt\u001b[0m: "
          ]
        }
      ],
      "source": [
        "# using xsum for training\n",
        "from datasets import load_dataset\n",
        "dataset = load_dataset(\"xsum\")\n",
        "train_texts, train_labels = dataset['train']['document'][:100], dataset['train']['summary'][:100]"
      ]
    },
    {
      "cell_type": "code",
      "execution_count": null,
      "metadata": {
        "colab": {
          "background_save": true
        },
        "id": "WBWYNwLvCAmx"
      },
      "outputs": [],
      "source": [
        "# device = torch.device('cuda') if torch.cuda.is_available() else torch.device('cpu')\n",
        "\n",
        "# model = DistilBertForSequenceClassification.from_pretrained('distilbert-base-uncased')\n",
        "# model.to(device)\n",
        "# model.train()\n",
        "\n",
        "# train_loader = DataLoader(dataset['train']['document'][:100], batch_size=16, shuffle=True)\n",
        "\n",
        "# optim = AdamW(model.parameters(), lr=5e-5)\n",
        "\n",
        "# for epoch in range(3):\n",
        "#     for batch in train_loader:\n",
        "#         optim.zero_grad()\n",
        "#         input_ids = batch['input_ids'].to(device)\n",
        "#         attention_mask = batch['attention_mask'].to(device)\n",
        "#         labels = batch['labels'].to(device)\n",
        "#         outputs = model(input_ids, attention_mask=attention_mask, labels=labels)\n",
        "#         loss = outputs[0]\n",
        "#         loss.backward()\n",
        "#         optim.step()\n",
        "\n",
        "# model.eval()"
      ]
    },
    {
      "cell_type": "code",
      "execution_count": null,
      "metadata": {
        "colab": {
          "background_save": true
        },
        "id": "1bhpK8qlbZrR"
      },
      "outputs": [],
      "source": [
        "# using peg fin sum model for fine-tuning\n",
        "model_name = \"human-centered-summarization/financial-summarization-pegasus\"\n",
        "train_dataset, _, _, tokenizer = prepare_data(model_name, train_texts, train_labels)\n",
        "trainer = prepare_fine_tuning(model_name, tokenizer, train_dataset)\n",
        "trainer.train()"
      ]
    },
    {
      "cell_type": "code",
      "execution_count": null,
      "metadata": {
        "colab": {
          "background_save": true
        },
        "id": "vevLE3T6kqF9"
      },
      "outputs": [],
      "source": [
        "# run rogue score on trained model and see if model is better than before:\n"
      ]
    },
    {
      "cell_type": "code",
      "execution_count": null,
      "metadata": {
        "id": "Lkb_-udZrOke"
      },
      "outputs": [],
      "source": [
        "# save the model\n"
      ]
    }
  ],
  "metadata": {
    "colab": {
      "collapsed_sections": [
        "y8Q6bNSIDwmz",
        "7k2-2h-dYwwS"
      ],
      "provenance": []
    },
    "kernelspec": {
      "display_name": "Python 3",
      "name": "python3"
    },
    "language_info": {
      "name": "python"
    },
    "widgets": {
      "application/vnd.jupyter.widget-state+json": {
        "0616743a2ab041868350e67115fe981a": {
          "model_module": "@jupyter-widgets/controls",
          "model_module_version": "1.5.0",
          "model_name": "HBoxModel",
          "state": {
            "_dom_classes": [],
            "_model_module": "@jupyter-widgets/controls",
            "_model_module_version": "1.5.0",
            "_model_name": "HBoxModel",
            "_view_count": null,
            "_view_module": "@jupyter-widgets/controls",
            "_view_module_version": "1.5.0",
            "_view_name": "HBoxView",
            "box_style": "",
            "children": [
              "IPY_MODEL_8c9a57871d064a0a9ae5b480ab159131",
              "IPY_MODEL_a6e19fccb31f49e897c8910dfd88595a",
              "IPY_MODEL_3dfd9b02c54c41a3ae8d8c5a199042af"
            ],
            "layout": "IPY_MODEL_51ed8789331a4e67901270bc36932a24"
          }
        },
        "0cc6faa03e294cabae5ae84ec02e3b9d": {
          "model_module": "@jupyter-widgets/controls",
          "model_module_version": "1.5.0",
          "model_name": "DescriptionStyleModel",
          "state": {
            "_model_module": "@jupyter-widgets/controls",
            "_model_module_version": "1.5.0",
            "_model_name": "DescriptionStyleModel",
            "_view_count": null,
            "_view_module": "@jupyter-widgets/base",
            "_view_module_version": "1.2.0",
            "_view_name": "StyleView",
            "description_width": ""
          }
        },
        "1e048df7495e4fbd891d8ade59ae13f3": {
          "model_module": "@jupyter-widgets/controls",
          "model_module_version": "1.5.0",
          "model_name": "FloatProgressModel",
          "state": {
            "_dom_classes": [],
            "_model_module": "@jupyter-widgets/controls",
            "_model_module_version": "1.5.0",
            "_model_name": "FloatProgressModel",
            "_view_count": null,
            "_view_module": "@jupyter-widgets/controls",
            "_view_module_version": "1.5.0",
            "_view_name": "ProgressView",
            "bar_style": "success",
            "description": "",
            "description_tooltip": null,
            "layout": "IPY_MODEL_86833d52a06f404bafeec7bb2adba052",
            "max": 1436,
            "min": 0,
            "orientation": "horizontal",
            "style": "IPY_MODEL_b9030a06ddbb4ef1bcb3660343398f5f",
            "value": 1436
          }
        },
        "1ed66db395604eea89eeeb8d0efe81ff": {
          "model_module": "@jupyter-widgets/controls",
          "model_module_version": "1.5.0",
          "model_name": "HBoxModel",
          "state": {
            "_dom_classes": [],
            "_model_module": "@jupyter-widgets/controls",
            "_model_module_version": "1.5.0",
            "_model_name": "HBoxModel",
            "_view_count": null,
            "_view_module": "@jupyter-widgets/controls",
            "_view_module_version": "1.5.0",
            "_view_name": "HBoxView",
            "box_style": "",
            "children": [
              "IPY_MODEL_2b59c701184b404da359c9dc34326b45",
              "IPY_MODEL_fc9741aeb84943c6b58fe900de74d741",
              "IPY_MODEL_e177682c54de4ef7bdfe179dab383464"
            ],
            "layout": "IPY_MODEL_bf91fa1b6d754f35a82d5aac40d13b65"
          }
        },
        "276164455b22428686c5ea1f9f0bedaa": {
          "model_module": "@jupyter-widgets/controls",
          "model_module_version": "1.5.0",
          "model_name": "ProgressStyleModel",
          "state": {
            "_model_module": "@jupyter-widgets/controls",
            "_model_module_version": "1.5.0",
            "_model_name": "ProgressStyleModel",
            "_view_count": null,
            "_view_module": "@jupyter-widgets/base",
            "_view_module_version": "1.2.0",
            "_view_name": "StyleView",
            "bar_color": null,
            "description_width": ""
          }
        },
        "2b59c701184b404da359c9dc34326b45": {
          "model_module": "@jupyter-widgets/controls",
          "model_module_version": "1.5.0",
          "model_name": "HTMLModel",
          "state": {
            "_dom_classes": [],
            "_model_module": "@jupyter-widgets/controls",
            "_model_module_version": "1.5.0",
            "_model_name": "HTMLModel",
            "_view_count": null,
            "_view_module": "@jupyter-widgets/controls",
            "_view_module_version": "1.5.0",
            "_view_name": "HTMLView",
            "description": "",
            "description_tooltip": null,
            "layout": "IPY_MODEL_818838bbec0245c2955d41f8af166b48",
            "placeholder": "​",
            "style": "IPY_MODEL_c4f98322a01f480297c2c1e06e58ef52",
            "value": "Downloading (…)lve/main/config.json: 100%"
          }
        },
        "2d97121dce7f4055b5486de6416cc40e": {
          "model_module": "@jupyter-widgets/controls",
          "model_module_version": "1.5.0",
          "model_name": "FloatProgressModel",
          "state": {
            "_dom_classes": [],
            "_model_module": "@jupyter-widgets/controls",
            "_model_module_version": "1.5.0",
            "_model_name": "FloatProgressModel",
            "_view_count": null,
            "_view_module": "@jupyter-widgets/controls",
            "_view_module_version": "1.5.0",
            "_view_name": "ProgressView",
            "bar_style": "success",
            "description": "",
            "description_tooltip": null,
            "layout": "IPY_MODEL_c29d81441af8400791f95a9109e61939",
            "max": 1912529,
            "min": 0,
            "orientation": "horizontal",
            "style": "IPY_MODEL_9835d76a098f411bb10023f9fabbc1e9",
            "value": 1912529
          }
        },
        "2efe20ad31d548bc834333a145ee664a": {
          "model_module": "@jupyter-widgets/controls",
          "model_module_version": "1.5.0",
          "model_name": "HBoxModel",
          "state": {
            "_dom_classes": [],
            "_model_module": "@jupyter-widgets/controls",
            "_model_module_version": "1.5.0",
            "_model_name": "HBoxModel",
            "_view_count": null,
            "_view_module": "@jupyter-widgets/controls",
            "_view_module_version": "1.5.0",
            "_view_name": "HBoxView",
            "box_style": "",
            "children": [
              "IPY_MODEL_52fb0ebfc04242afb00a5741a27fef6c",
              "IPY_MODEL_2d97121dce7f4055b5486de6416cc40e",
              "IPY_MODEL_f5ec244a7b594587a964c9824161926e"
            ],
            "layout": "IPY_MODEL_a8f3817b2da34e4a8918aa30ef615edb"
          }
        },
        "3996894c84f84a2d9a255c6dc218a25f": {
          "model_module": "@jupyter-widgets/base",
          "model_module_version": "1.2.0",
          "model_name": "LayoutModel",
          "state": {
            "_model_module": "@jupyter-widgets/base",
            "_model_module_version": "1.2.0",
            "_model_name": "LayoutModel",
            "_view_count": null,
            "_view_module": "@jupyter-widgets/base",
            "_view_module_version": "1.2.0",
            "_view_name": "LayoutView",
            "align_content": null,
            "align_items": null,
            "align_self": null,
            "border": null,
            "bottom": null,
            "display": null,
            "flex": null,
            "flex_flow": null,
            "grid_area": null,
            "grid_auto_columns": null,
            "grid_auto_flow": null,
            "grid_auto_rows": null,
            "grid_column": null,
            "grid_gap": null,
            "grid_row": null,
            "grid_template_areas": null,
            "grid_template_columns": null,
            "grid_template_rows": null,
            "height": null,
            "justify_content": null,
            "justify_items": null,
            "left": null,
            "margin": null,
            "max_height": null,
            "max_width": null,
            "min_height": null,
            "min_width": null,
            "object_fit": null,
            "object_position": null,
            "order": null,
            "overflow": null,
            "overflow_x": null,
            "overflow_y": null,
            "padding": null,
            "right": null,
            "top": null,
            "visibility": null,
            "width": null
          }
        },
        "3dfd9b02c54c41a3ae8d8c5a199042af": {
          "model_module": "@jupyter-widgets/controls",
          "model_module_version": "1.5.0",
          "model_name": "HTMLModel",
          "state": {
            "_dom_classes": [],
            "_model_module": "@jupyter-widgets/controls",
            "_model_module_version": "1.5.0",
            "_model_name": "HTMLModel",
            "_view_count": null,
            "_view_module": "@jupyter-widgets/controls",
            "_view_module_version": "1.5.0",
            "_view_name": "HTMLView",
            "description": "",
            "description_tooltip": null,
            "layout": "IPY_MODEL_bb7457c00e36427294f7dd60d5825970",
            "placeholder": "​",
            "style": "IPY_MODEL_f36ca8db7a3e456d83cbcb358e2da6e7",
            "value": " 1.34k/1.34k [00:00&lt;00:00, 36.7kB/s]"
          }
        },
        "44107f80be14484786517be67ead0352": {
          "model_module": "@jupyter-widgets/controls",
          "model_module_version": "1.5.0",
          "model_name": "HBoxModel",
          "state": {
            "_dom_classes": [],
            "_model_module": "@jupyter-widgets/controls",
            "_model_module_version": "1.5.0",
            "_model_name": "HBoxModel",
            "_view_count": null,
            "_view_module": "@jupyter-widgets/controls",
            "_view_module_version": "1.5.0",
            "_view_name": "HBoxView",
            "box_style": "",
            "children": [
              "IPY_MODEL_84849c4061ab48959eccf4c5a564afdd",
              "IPY_MODEL_1e048df7495e4fbd891d8ade59ae13f3",
              "IPY_MODEL_fada0f7be2af4fed8b454f72090b6eed"
            ],
            "layout": "IPY_MODEL_3996894c84f84a2d9a255c6dc218a25f"
          }
        },
        "463190113bd84d0cb26e397bcc7088c1": {
          "model_module": "@jupyter-widgets/controls",
          "model_module_version": "1.5.0",
          "model_name": "DescriptionStyleModel",
          "state": {
            "_model_module": "@jupyter-widgets/controls",
            "_model_module_version": "1.5.0",
            "_model_name": "DescriptionStyleModel",
            "_view_count": null,
            "_view_module": "@jupyter-widgets/base",
            "_view_module_version": "1.2.0",
            "_view_name": "StyleView",
            "description_width": ""
          }
        },
        "47f182f1a9e44f7bbaabc58b055e0760": {
          "model_module": "@jupyter-widgets/base",
          "model_module_version": "1.2.0",
          "model_name": "LayoutModel",
          "state": {
            "_model_module": "@jupyter-widgets/base",
            "_model_module_version": "1.2.0",
            "_model_name": "LayoutModel",
            "_view_count": null,
            "_view_module": "@jupyter-widgets/base",
            "_view_module_version": "1.2.0",
            "_view_name": "LayoutView",
            "align_content": null,
            "align_items": null,
            "align_self": null,
            "border": null,
            "bottom": null,
            "display": null,
            "flex": null,
            "flex_flow": null,
            "grid_area": null,
            "grid_auto_columns": null,
            "grid_auto_flow": null,
            "grid_auto_rows": null,
            "grid_column": null,
            "grid_gap": null,
            "grid_row": null,
            "grid_template_areas": null,
            "grid_template_columns": null,
            "grid_template_rows": null,
            "height": null,
            "justify_content": null,
            "justify_items": null,
            "left": null,
            "margin": null,
            "max_height": null,
            "max_width": null,
            "min_height": null,
            "min_width": null,
            "object_fit": null,
            "object_position": null,
            "order": null,
            "overflow": null,
            "overflow_x": null,
            "overflow_y": null,
            "padding": null,
            "right": null,
            "top": null,
            "visibility": null,
            "width": null
          }
        },
        "51ed8789331a4e67901270bc36932a24": {
          "model_module": "@jupyter-widgets/base",
          "model_module_version": "1.2.0",
          "model_name": "LayoutModel",
          "state": {
            "_model_module": "@jupyter-widgets/base",
            "_model_module_version": "1.2.0",
            "_model_name": "LayoutModel",
            "_view_count": null,
            "_view_module": "@jupyter-widgets/base",
            "_view_module_version": "1.2.0",
            "_view_name": "LayoutView",
            "align_content": null,
            "align_items": null,
            "align_self": null,
            "border": null,
            "bottom": null,
            "display": null,
            "flex": null,
            "flex_flow": null,
            "grid_area": null,
            "grid_auto_columns": null,
            "grid_auto_flow": null,
            "grid_auto_rows": null,
            "grid_column": null,
            "grid_gap": null,
            "grid_row": null,
            "grid_template_areas": null,
            "grid_template_columns": null,
            "grid_template_rows": null,
            "height": null,
            "justify_content": null,
            "justify_items": null,
            "left": null,
            "margin": null,
            "max_height": null,
            "max_width": null,
            "min_height": null,
            "min_width": null,
            "object_fit": null,
            "object_position": null,
            "order": null,
            "overflow": null,
            "overflow_x": null,
            "overflow_y": null,
            "padding": null,
            "right": null,
            "top": null,
            "visibility": null,
            "width": null
          }
        },
        "52fb0ebfc04242afb00a5741a27fef6c": {
          "model_module": "@jupyter-widgets/controls",
          "model_module_version": "1.5.0",
          "model_name": "HTMLModel",
          "state": {
            "_dom_classes": [],
            "_model_module": "@jupyter-widgets/controls",
            "_model_module_version": "1.5.0",
            "_model_name": "HTMLModel",
            "_view_count": null,
            "_view_module": "@jupyter-widgets/controls",
            "_view_module_version": "1.5.0",
            "_view_name": "HTMLView",
            "description": "",
            "description_tooltip": null,
            "layout": "IPY_MODEL_ef420c34a29744c4ac2a44c82666f329",
            "placeholder": "​",
            "style": "IPY_MODEL_463190113bd84d0cb26e397bcc7088c1",
            "value": "Downloading (…)&quot;spiece.model&quot;;: 100%"
          }
        },
        "548fc2f9579e48e4909100e72fcda106": {
          "model_module": "@jupyter-widgets/controls",
          "model_module_version": "1.5.0",
          "model_name": "HBoxModel",
          "state": {
            "_dom_classes": [],
            "_model_module": "@jupyter-widgets/controls",
            "_model_module_version": "1.5.0",
            "_model_name": "HBoxModel",
            "_view_count": null,
            "_view_module": "@jupyter-widgets/controls",
            "_view_module_version": "1.5.0",
            "_view_name": "HBoxView",
            "box_style": "",
            "children": [
              "IPY_MODEL_74d1702757f243518e447401b1f6e9ac",
              "IPY_MODEL_92820279f6ed4fb987bf54675b784fa2",
              "IPY_MODEL_cbe57e3682d0441788848180f71d04ba"
            ],
            "layout": "IPY_MODEL_b1c00b12d2204ebb8be09f4a5a8b720c"
          }
        },
        "5e23c9ec1c604eec8749f5e9497e05bc": {
          "model_module": "@jupyter-widgets/base",
          "model_module_version": "1.2.0",
          "model_name": "LayoutModel",
          "state": {
            "_model_module": "@jupyter-widgets/base",
            "_model_module_version": "1.2.0",
            "_model_name": "LayoutModel",
            "_view_count": null,
            "_view_module": "@jupyter-widgets/base",
            "_view_module_version": "1.2.0",
            "_view_name": "LayoutView",
            "align_content": null,
            "align_items": null,
            "align_self": null,
            "border": null,
            "bottom": null,
            "display": null,
            "flex": null,
            "flex_flow": null,
            "grid_area": null,
            "grid_auto_columns": null,
            "grid_auto_flow": null,
            "grid_auto_rows": null,
            "grid_column": null,
            "grid_gap": null,
            "grid_row": null,
            "grid_template_areas": null,
            "grid_template_columns": null,
            "grid_template_rows": null,
            "height": null,
            "justify_content": null,
            "justify_items": null,
            "left": null,
            "margin": null,
            "max_height": null,
            "max_width": null,
            "min_height": null,
            "min_width": null,
            "object_fit": null,
            "object_position": null,
            "order": null,
            "overflow": null,
            "overflow_x": null,
            "overflow_y": null,
            "padding": null,
            "right": null,
            "top": null,
            "visibility": null,
            "width": null
          }
        },
        "678b0274f0d043c188e1560afc09cfef": {
          "model_module": "@jupyter-widgets/controls",
          "model_module_version": "1.5.0",
          "model_name": "DescriptionStyleModel",
          "state": {
            "_model_module": "@jupyter-widgets/controls",
            "_model_module_version": "1.5.0",
            "_model_name": "DescriptionStyleModel",
            "_view_count": null,
            "_view_module": "@jupyter-widgets/base",
            "_view_module_version": "1.2.0",
            "_view_name": "StyleView",
            "description_width": ""
          }
        },
        "74d1702757f243518e447401b1f6e9ac": {
          "model_module": "@jupyter-widgets/controls",
          "model_module_version": "1.5.0",
          "model_name": "HTMLModel",
          "state": {
            "_dom_classes": [],
            "_model_module": "@jupyter-widgets/controls",
            "_model_module_version": "1.5.0",
            "_model_name": "HTMLModel",
            "_view_count": null,
            "_view_module": "@jupyter-widgets/controls",
            "_view_module_version": "1.5.0",
            "_view_name": "HTMLView",
            "description": "",
            "description_tooltip": null,
            "layout": "IPY_MODEL_857580052d3c4a47965dd45169532199",
            "placeholder": "​",
            "style": "IPY_MODEL_f216412e761b4ac4a8e33c1268f2de8e",
            "value": "Downloading (…)&quot;pytorch_model.bin&quot;;: 100%"
          }
        },
        "7b195b450fc242f3ba507a43de6df123": {
          "model_module": "@jupyter-widgets/controls",
          "model_module_version": "1.5.0",
          "model_name": "DescriptionStyleModel",
          "state": {
            "_model_module": "@jupyter-widgets/controls",
            "_model_module_version": "1.5.0",
            "_model_name": "DescriptionStyleModel",
            "_view_count": null,
            "_view_module": "@jupyter-widgets/base",
            "_view_module_version": "1.2.0",
            "_view_name": "StyleView",
            "description_width": ""
          }
        },
        "818838bbec0245c2955d41f8af166b48": {
          "model_module": "@jupyter-widgets/base",
          "model_module_version": "1.2.0",
          "model_name": "LayoutModel",
          "state": {
            "_model_module": "@jupyter-widgets/base",
            "_model_module_version": "1.2.0",
            "_model_name": "LayoutModel",
            "_view_count": null,
            "_view_module": "@jupyter-widgets/base",
            "_view_module_version": "1.2.0",
            "_view_name": "LayoutView",
            "align_content": null,
            "align_items": null,
            "align_self": null,
            "border": null,
            "bottom": null,
            "display": null,
            "flex": null,
            "flex_flow": null,
            "grid_area": null,
            "grid_auto_columns": null,
            "grid_auto_flow": null,
            "grid_auto_rows": null,
            "grid_column": null,
            "grid_gap": null,
            "grid_row": null,
            "grid_template_areas": null,
            "grid_template_columns": null,
            "grid_template_rows": null,
            "height": null,
            "justify_content": null,
            "justify_items": null,
            "left": null,
            "margin": null,
            "max_height": null,
            "max_width": null,
            "min_height": null,
            "min_width": null,
            "object_fit": null,
            "object_position": null,
            "order": null,
            "overflow": null,
            "overflow_x": null,
            "overflow_y": null,
            "padding": null,
            "right": null,
            "top": null,
            "visibility": null,
            "width": null
          }
        },
        "8313a9cd6ef24295a25128ffeee60aab": {
          "model_module": "@jupyter-widgets/controls",
          "model_module_version": "1.5.0",
          "model_name": "ProgressStyleModel",
          "state": {
            "_model_module": "@jupyter-widgets/controls",
            "_model_module_version": "1.5.0",
            "_model_name": "ProgressStyleModel",
            "_view_count": null,
            "_view_module": "@jupyter-widgets/base",
            "_view_module_version": "1.2.0",
            "_view_name": "StyleView",
            "bar_color": null,
            "description_width": ""
          }
        },
        "84849c4061ab48959eccf4c5a564afdd": {
          "model_module": "@jupyter-widgets/controls",
          "model_module_version": "1.5.0",
          "model_name": "HTMLModel",
          "state": {
            "_dom_classes": [],
            "_model_module": "@jupyter-widgets/controls",
            "_model_module_version": "1.5.0",
            "_model_name": "HTMLModel",
            "_view_count": null,
            "_view_module": "@jupyter-widgets/controls",
            "_view_module_version": "1.5.0",
            "_view_name": "HTMLView",
            "description": "",
            "description_tooltip": null,
            "layout": "IPY_MODEL_8db5f1b817e34da6a384acd62fbe3b7b",
            "placeholder": "​",
            "style": "IPY_MODEL_7b195b450fc242f3ba507a43de6df123",
            "value": "Downloading (…)okenizer_config.json: 100%"
          }
        },
        "857580052d3c4a47965dd45169532199": {
          "model_module": "@jupyter-widgets/base",
          "model_module_version": "1.2.0",
          "model_name": "LayoutModel",
          "state": {
            "_model_module": "@jupyter-widgets/base",
            "_model_module_version": "1.2.0",
            "_model_name": "LayoutModel",
            "_view_count": null,
            "_view_module": "@jupyter-widgets/base",
            "_view_module_version": "1.2.0",
            "_view_name": "LayoutView",
            "align_content": null,
            "align_items": null,
            "align_self": null,
            "border": null,
            "bottom": null,
            "display": null,
            "flex": null,
            "flex_flow": null,
            "grid_area": null,
            "grid_auto_columns": null,
            "grid_auto_flow": null,
            "grid_auto_rows": null,
            "grid_column": null,
            "grid_gap": null,
            "grid_row": null,
            "grid_template_areas": null,
            "grid_template_columns": null,
            "grid_template_rows": null,
            "height": null,
            "justify_content": null,
            "justify_items": null,
            "left": null,
            "margin": null,
            "max_height": null,
            "max_width": null,
            "min_height": null,
            "min_width": null,
            "object_fit": null,
            "object_position": null,
            "order": null,
            "overflow": null,
            "overflow_x": null,
            "overflow_y": null,
            "padding": null,
            "right": null,
            "top": null,
            "visibility": null,
            "width": null
          }
        },
        "86833d52a06f404bafeec7bb2adba052": {
          "model_module": "@jupyter-widgets/base",
          "model_module_version": "1.2.0",
          "model_name": "LayoutModel",
          "state": {
            "_model_module": "@jupyter-widgets/base",
            "_model_module_version": "1.2.0",
            "_model_name": "LayoutModel",
            "_view_count": null,
            "_view_module": "@jupyter-widgets/base",
            "_view_module_version": "1.2.0",
            "_view_name": "LayoutView",
            "align_content": null,
            "align_items": null,
            "align_self": null,
            "border": null,
            "bottom": null,
            "display": null,
            "flex": null,
            "flex_flow": null,
            "grid_area": null,
            "grid_auto_columns": null,
            "grid_auto_flow": null,
            "grid_auto_rows": null,
            "grid_column": null,
            "grid_gap": null,
            "grid_row": null,
            "grid_template_areas": null,
            "grid_template_columns": null,
            "grid_template_rows": null,
            "height": null,
            "justify_content": null,
            "justify_items": null,
            "left": null,
            "margin": null,
            "max_height": null,
            "max_width": null,
            "min_height": null,
            "min_width": null,
            "object_fit": null,
            "object_position": null,
            "order": null,
            "overflow": null,
            "overflow_x": null,
            "overflow_y": null,
            "padding": null,
            "right": null,
            "top": null,
            "visibility": null,
            "width": null
          }
        },
        "8c9a57871d064a0a9ae5b480ab159131": {
          "model_module": "@jupyter-widgets/controls",
          "model_module_version": "1.5.0",
          "model_name": "HTMLModel",
          "state": {
            "_dom_classes": [],
            "_model_module": "@jupyter-widgets/controls",
            "_model_module_version": "1.5.0",
            "_model_name": "HTMLModel",
            "_view_count": null,
            "_view_module": "@jupyter-widgets/controls",
            "_view_module_version": "1.5.0",
            "_view_name": "HTMLView",
            "description": "",
            "description_tooltip": null,
            "layout": "IPY_MODEL_efe9263529d64108ba77f06e32ad8c8a",
            "placeholder": "​",
            "style": "IPY_MODEL_678b0274f0d043c188e1560afc09cfef",
            "value": "Downloading (…)cial_tokens_map.json: 100%"
          }
        },
        "8db5f1b817e34da6a384acd62fbe3b7b": {
          "model_module": "@jupyter-widgets/base",
          "model_module_version": "1.2.0",
          "model_name": "LayoutModel",
          "state": {
            "_model_module": "@jupyter-widgets/base",
            "_model_module_version": "1.2.0",
            "_model_name": "LayoutModel",
            "_view_count": null,
            "_view_module": "@jupyter-widgets/base",
            "_view_module_version": "1.2.0",
            "_view_name": "LayoutView",
            "align_content": null,
            "align_items": null,
            "align_self": null,
            "border": null,
            "bottom": null,
            "display": null,
            "flex": null,
            "flex_flow": null,
            "grid_area": null,
            "grid_auto_columns": null,
            "grid_auto_flow": null,
            "grid_auto_rows": null,
            "grid_column": null,
            "grid_gap": null,
            "grid_row": null,
            "grid_template_areas": null,
            "grid_template_columns": null,
            "grid_template_rows": null,
            "height": null,
            "justify_content": null,
            "justify_items": null,
            "left": null,
            "margin": null,
            "max_height": null,
            "max_width": null,
            "min_height": null,
            "min_width": null,
            "object_fit": null,
            "object_position": null,
            "order": null,
            "overflow": null,
            "overflow_x": null,
            "overflow_y": null,
            "padding": null,
            "right": null,
            "top": null,
            "visibility": null,
            "width": null
          }
        },
        "92820279f6ed4fb987bf54675b784fa2": {
          "model_module": "@jupyter-widgets/controls",
          "model_module_version": "1.5.0",
          "model_name": "FloatProgressModel",
          "state": {
            "_dom_classes": [],
            "_model_module": "@jupyter-widgets/controls",
            "_model_module_version": "1.5.0",
            "_model_name": "FloatProgressModel",
            "_view_count": null,
            "_view_module": "@jupyter-widgets/controls",
            "_view_module_version": "1.5.0",
            "_view_name": "ProgressView",
            "bar_style": "success",
            "description": "",
            "description_tooltip": null,
            "layout": "IPY_MODEL_c83c0fbd51b74aa196edcc9eee3d6d95",
            "max": 2275419259,
            "min": 0,
            "orientation": "horizontal",
            "style": "IPY_MODEL_276164455b22428686c5ea1f9f0bedaa",
            "value": 2275419259
          }
        },
        "9835d76a098f411bb10023f9fabbc1e9": {
          "model_module": "@jupyter-widgets/controls",
          "model_module_version": "1.5.0",
          "model_name": "ProgressStyleModel",
          "state": {
            "_model_module": "@jupyter-widgets/controls",
            "_model_module_version": "1.5.0",
            "_model_name": "ProgressStyleModel",
            "_view_count": null,
            "_view_module": "@jupyter-widgets/base",
            "_view_module_version": "1.2.0",
            "_view_name": "StyleView",
            "bar_color": null,
            "description_width": ""
          }
        },
        "a6e19fccb31f49e897c8910dfd88595a": {
          "model_module": "@jupyter-widgets/controls",
          "model_module_version": "1.5.0",
          "model_name": "FloatProgressModel",
          "state": {
            "_dom_classes": [],
            "_model_module": "@jupyter-widgets/controls",
            "_model_module_version": "1.5.0",
            "_model_name": "FloatProgressModel",
            "_view_count": null,
            "_view_module": "@jupyter-widgets/controls",
            "_view_module_version": "1.5.0",
            "_view_name": "ProgressView",
            "bar_style": "success",
            "description": "",
            "description_tooltip": null,
            "layout": "IPY_MODEL_e26d97439ce64f2d8d4a6ea0f3344b95",
            "max": 1341,
            "min": 0,
            "orientation": "horizontal",
            "style": "IPY_MODEL_e27098bc1f5044eda7371c4fd7167375",
            "value": 1341
          }
        },
        "a8f3817b2da34e4a8918aa30ef615edb": {
          "model_module": "@jupyter-widgets/base",
          "model_module_version": "1.2.0",
          "model_name": "LayoutModel",
          "state": {
            "_model_module": "@jupyter-widgets/base",
            "_model_module_version": "1.2.0",
            "_model_name": "LayoutModel",
            "_view_count": null,
            "_view_module": "@jupyter-widgets/base",
            "_view_module_version": "1.2.0",
            "_view_name": "LayoutView",
            "align_content": null,
            "align_items": null,
            "align_self": null,
            "border": null,
            "bottom": null,
            "display": null,
            "flex": null,
            "flex_flow": null,
            "grid_area": null,
            "grid_auto_columns": null,
            "grid_auto_flow": null,
            "grid_auto_rows": null,
            "grid_column": null,
            "grid_gap": null,
            "grid_row": null,
            "grid_template_areas": null,
            "grid_template_columns": null,
            "grid_template_rows": null,
            "height": null,
            "justify_content": null,
            "justify_items": null,
            "left": null,
            "margin": null,
            "max_height": null,
            "max_width": null,
            "min_height": null,
            "min_width": null,
            "object_fit": null,
            "object_position": null,
            "order": null,
            "overflow": null,
            "overflow_x": null,
            "overflow_y": null,
            "padding": null,
            "right": null,
            "top": null,
            "visibility": null,
            "width": null
          }
        },
        "aaee2306b8d049b9b8173e805012db69": {
          "model_module": "@jupyter-widgets/controls",
          "model_module_version": "1.5.0",
          "model_name": "DescriptionStyleModel",
          "state": {
            "_model_module": "@jupyter-widgets/controls",
            "_model_module_version": "1.5.0",
            "_model_name": "DescriptionStyleModel",
            "_view_count": null,
            "_view_module": "@jupyter-widgets/base",
            "_view_module_version": "1.2.0",
            "_view_name": "StyleView",
            "description_width": ""
          }
        },
        "b1c00b12d2204ebb8be09f4a5a8b720c": {
          "model_module": "@jupyter-widgets/base",
          "model_module_version": "1.2.0",
          "model_name": "LayoutModel",
          "state": {
            "_model_module": "@jupyter-widgets/base",
            "_model_module_version": "1.2.0",
            "_model_name": "LayoutModel",
            "_view_count": null,
            "_view_module": "@jupyter-widgets/base",
            "_view_module_version": "1.2.0",
            "_view_name": "LayoutView",
            "align_content": null,
            "align_items": null,
            "align_self": null,
            "border": null,
            "bottom": null,
            "display": null,
            "flex": null,
            "flex_flow": null,
            "grid_area": null,
            "grid_auto_columns": null,
            "grid_auto_flow": null,
            "grid_auto_rows": null,
            "grid_column": null,
            "grid_gap": null,
            "grid_row": null,
            "grid_template_areas": null,
            "grid_template_columns": null,
            "grid_template_rows": null,
            "height": null,
            "justify_content": null,
            "justify_items": null,
            "left": null,
            "margin": null,
            "max_height": null,
            "max_width": null,
            "min_height": null,
            "min_width": null,
            "object_fit": null,
            "object_position": null,
            "order": null,
            "overflow": null,
            "overflow_x": null,
            "overflow_y": null,
            "padding": null,
            "right": null,
            "top": null,
            "visibility": null,
            "width": null
          }
        },
        "b281347cfa014444a8f8715ba222604b": {
          "model_module": "@jupyter-widgets/base",
          "model_module_version": "1.2.0",
          "model_name": "LayoutModel",
          "state": {
            "_model_module": "@jupyter-widgets/base",
            "_model_module_version": "1.2.0",
            "_model_name": "LayoutModel",
            "_view_count": null,
            "_view_module": "@jupyter-widgets/base",
            "_view_module_version": "1.2.0",
            "_view_name": "LayoutView",
            "align_content": null,
            "align_items": null,
            "align_self": null,
            "border": null,
            "bottom": null,
            "display": null,
            "flex": null,
            "flex_flow": null,
            "grid_area": null,
            "grid_auto_columns": null,
            "grid_auto_flow": null,
            "grid_auto_rows": null,
            "grid_column": null,
            "grid_gap": null,
            "grid_row": null,
            "grid_template_areas": null,
            "grid_template_columns": null,
            "grid_template_rows": null,
            "height": null,
            "justify_content": null,
            "justify_items": null,
            "left": null,
            "margin": null,
            "max_height": null,
            "max_width": null,
            "min_height": null,
            "min_width": null,
            "object_fit": null,
            "object_position": null,
            "order": null,
            "overflow": null,
            "overflow_x": null,
            "overflow_y": null,
            "padding": null,
            "right": null,
            "top": null,
            "visibility": null,
            "width": null
          }
        },
        "b39fc9caa0c743a0ae12f82068c7b37e": {
          "model_module": "@jupyter-widgets/base",
          "model_module_version": "1.2.0",
          "model_name": "LayoutModel",
          "state": {
            "_model_module": "@jupyter-widgets/base",
            "_model_module_version": "1.2.0",
            "_model_name": "LayoutModel",
            "_view_count": null,
            "_view_module": "@jupyter-widgets/base",
            "_view_module_version": "1.2.0",
            "_view_name": "LayoutView",
            "align_content": null,
            "align_items": null,
            "align_self": null,
            "border": null,
            "bottom": null,
            "display": null,
            "flex": null,
            "flex_flow": null,
            "grid_area": null,
            "grid_auto_columns": null,
            "grid_auto_flow": null,
            "grid_auto_rows": null,
            "grid_column": null,
            "grid_gap": null,
            "grid_row": null,
            "grid_template_areas": null,
            "grid_template_columns": null,
            "grid_template_rows": null,
            "height": null,
            "justify_content": null,
            "justify_items": null,
            "left": null,
            "margin": null,
            "max_height": null,
            "max_width": null,
            "min_height": null,
            "min_width": null,
            "object_fit": null,
            "object_position": null,
            "order": null,
            "overflow": null,
            "overflow_x": null,
            "overflow_y": null,
            "padding": null,
            "right": null,
            "top": null,
            "visibility": null,
            "width": null
          }
        },
        "b9030a06ddbb4ef1bcb3660343398f5f": {
          "model_module": "@jupyter-widgets/controls",
          "model_module_version": "1.5.0",
          "model_name": "ProgressStyleModel",
          "state": {
            "_model_module": "@jupyter-widgets/controls",
            "_model_module_version": "1.5.0",
            "_model_name": "ProgressStyleModel",
            "_view_count": null,
            "_view_module": "@jupyter-widgets/base",
            "_view_module_version": "1.2.0",
            "_view_name": "StyleView",
            "bar_color": null,
            "description_width": ""
          }
        },
        "bb7457c00e36427294f7dd60d5825970": {
          "model_module": "@jupyter-widgets/base",
          "model_module_version": "1.2.0",
          "model_name": "LayoutModel",
          "state": {
            "_model_module": "@jupyter-widgets/base",
            "_model_module_version": "1.2.0",
            "_model_name": "LayoutModel",
            "_view_count": null,
            "_view_module": "@jupyter-widgets/base",
            "_view_module_version": "1.2.0",
            "_view_name": "LayoutView",
            "align_content": null,
            "align_items": null,
            "align_self": null,
            "border": null,
            "bottom": null,
            "display": null,
            "flex": null,
            "flex_flow": null,
            "grid_area": null,
            "grid_auto_columns": null,
            "grid_auto_flow": null,
            "grid_auto_rows": null,
            "grid_column": null,
            "grid_gap": null,
            "grid_row": null,
            "grid_template_areas": null,
            "grid_template_columns": null,
            "grid_template_rows": null,
            "height": null,
            "justify_content": null,
            "justify_items": null,
            "left": null,
            "margin": null,
            "max_height": null,
            "max_width": null,
            "min_height": null,
            "min_width": null,
            "object_fit": null,
            "object_position": null,
            "order": null,
            "overflow": null,
            "overflow_x": null,
            "overflow_y": null,
            "padding": null,
            "right": null,
            "top": null,
            "visibility": null,
            "width": null
          }
        },
        "bf91fa1b6d754f35a82d5aac40d13b65": {
          "model_module": "@jupyter-widgets/base",
          "model_module_version": "1.2.0",
          "model_name": "LayoutModel",
          "state": {
            "_model_module": "@jupyter-widgets/base",
            "_model_module_version": "1.2.0",
            "_model_name": "LayoutModel",
            "_view_count": null,
            "_view_module": "@jupyter-widgets/base",
            "_view_module_version": "1.2.0",
            "_view_name": "LayoutView",
            "align_content": null,
            "align_items": null,
            "align_self": null,
            "border": null,
            "bottom": null,
            "display": null,
            "flex": null,
            "flex_flow": null,
            "grid_area": null,
            "grid_auto_columns": null,
            "grid_auto_flow": null,
            "grid_auto_rows": null,
            "grid_column": null,
            "grid_gap": null,
            "grid_row": null,
            "grid_template_areas": null,
            "grid_template_columns": null,
            "grid_template_rows": null,
            "height": null,
            "justify_content": null,
            "justify_items": null,
            "left": null,
            "margin": null,
            "max_height": null,
            "max_width": null,
            "min_height": null,
            "min_width": null,
            "object_fit": null,
            "object_position": null,
            "order": null,
            "overflow": null,
            "overflow_x": null,
            "overflow_y": null,
            "padding": null,
            "right": null,
            "top": null,
            "visibility": null,
            "width": null
          }
        },
        "c29d81441af8400791f95a9109e61939": {
          "model_module": "@jupyter-widgets/base",
          "model_module_version": "1.2.0",
          "model_name": "LayoutModel",
          "state": {
            "_model_module": "@jupyter-widgets/base",
            "_model_module_version": "1.2.0",
            "_model_name": "LayoutModel",
            "_view_count": null,
            "_view_module": "@jupyter-widgets/base",
            "_view_module_version": "1.2.0",
            "_view_name": "LayoutView",
            "align_content": null,
            "align_items": null,
            "align_self": null,
            "border": null,
            "bottom": null,
            "display": null,
            "flex": null,
            "flex_flow": null,
            "grid_area": null,
            "grid_auto_columns": null,
            "grid_auto_flow": null,
            "grid_auto_rows": null,
            "grid_column": null,
            "grid_gap": null,
            "grid_row": null,
            "grid_template_areas": null,
            "grid_template_columns": null,
            "grid_template_rows": null,
            "height": null,
            "justify_content": null,
            "justify_items": null,
            "left": null,
            "margin": null,
            "max_height": null,
            "max_width": null,
            "min_height": null,
            "min_width": null,
            "object_fit": null,
            "object_position": null,
            "order": null,
            "overflow": null,
            "overflow_x": null,
            "overflow_y": null,
            "padding": null,
            "right": null,
            "top": null,
            "visibility": null,
            "width": null
          }
        },
        "c4f98322a01f480297c2c1e06e58ef52": {
          "model_module": "@jupyter-widgets/controls",
          "model_module_version": "1.5.0",
          "model_name": "DescriptionStyleModel",
          "state": {
            "_model_module": "@jupyter-widgets/controls",
            "_model_module_version": "1.5.0",
            "_model_name": "DescriptionStyleModel",
            "_view_count": null,
            "_view_module": "@jupyter-widgets/base",
            "_view_module_version": "1.2.0",
            "_view_name": "StyleView",
            "description_width": ""
          }
        },
        "c83c0fbd51b74aa196edcc9eee3d6d95": {
          "model_module": "@jupyter-widgets/base",
          "model_module_version": "1.2.0",
          "model_name": "LayoutModel",
          "state": {
            "_model_module": "@jupyter-widgets/base",
            "_model_module_version": "1.2.0",
            "_model_name": "LayoutModel",
            "_view_count": null,
            "_view_module": "@jupyter-widgets/base",
            "_view_module_version": "1.2.0",
            "_view_name": "LayoutView",
            "align_content": null,
            "align_items": null,
            "align_self": null,
            "border": null,
            "bottom": null,
            "display": null,
            "flex": null,
            "flex_flow": null,
            "grid_area": null,
            "grid_auto_columns": null,
            "grid_auto_flow": null,
            "grid_auto_rows": null,
            "grid_column": null,
            "grid_gap": null,
            "grid_row": null,
            "grid_template_areas": null,
            "grid_template_columns": null,
            "grid_template_rows": null,
            "height": null,
            "justify_content": null,
            "justify_items": null,
            "left": null,
            "margin": null,
            "max_height": null,
            "max_width": null,
            "min_height": null,
            "min_width": null,
            "object_fit": null,
            "object_position": null,
            "order": null,
            "overflow": null,
            "overflow_x": null,
            "overflow_y": null,
            "padding": null,
            "right": null,
            "top": null,
            "visibility": null,
            "width": null
          }
        },
        "cbe57e3682d0441788848180f71d04ba": {
          "model_module": "@jupyter-widgets/controls",
          "model_module_version": "1.5.0",
          "model_name": "HTMLModel",
          "state": {
            "_dom_classes": [],
            "_model_module": "@jupyter-widgets/controls",
            "_model_module_version": "1.5.0",
            "_model_name": "HTMLModel",
            "_view_count": null,
            "_view_module": "@jupyter-widgets/controls",
            "_view_module_version": "1.5.0",
            "_view_name": "HTMLView",
            "description": "",
            "description_tooltip": null,
            "layout": "IPY_MODEL_b281347cfa014444a8f8715ba222604b",
            "placeholder": "​",
            "style": "IPY_MODEL_fe5e73826d4b4e9bb2103d5375363a21",
            "value": " 2.28G/2.28G [00:27&lt;00:00, 71.1MB/s]"
          }
        },
        "e177682c54de4ef7bdfe179dab383464": {
          "model_module": "@jupyter-widgets/controls",
          "model_module_version": "1.5.0",
          "model_name": "HTMLModel",
          "state": {
            "_dom_classes": [],
            "_model_module": "@jupyter-widgets/controls",
            "_model_module_version": "1.5.0",
            "_model_name": "HTMLModel",
            "_view_count": null,
            "_view_module": "@jupyter-widgets/controls",
            "_view_module_version": "1.5.0",
            "_view_name": "HTMLView",
            "description": "",
            "description_tooltip": null,
            "layout": "IPY_MODEL_ff486e36f3494d0895b523aef3981cc9",
            "placeholder": "​",
            "style": "IPY_MODEL_0cc6faa03e294cabae5ae84ec02e3b9d",
            "value": " 1.27k/1.27k [00:00&lt;00:00, 14.5kB/s]"
          }
        },
        "e26d97439ce64f2d8d4a6ea0f3344b95": {
          "model_module": "@jupyter-widgets/base",
          "model_module_version": "1.2.0",
          "model_name": "LayoutModel",
          "state": {
            "_model_module": "@jupyter-widgets/base",
            "_model_module_version": "1.2.0",
            "_model_name": "LayoutModel",
            "_view_count": null,
            "_view_module": "@jupyter-widgets/base",
            "_view_module_version": "1.2.0",
            "_view_name": "LayoutView",
            "align_content": null,
            "align_items": null,
            "align_self": null,
            "border": null,
            "bottom": null,
            "display": null,
            "flex": null,
            "flex_flow": null,
            "grid_area": null,
            "grid_auto_columns": null,
            "grid_auto_flow": null,
            "grid_auto_rows": null,
            "grid_column": null,
            "grid_gap": null,
            "grid_row": null,
            "grid_template_areas": null,
            "grid_template_columns": null,
            "grid_template_rows": null,
            "height": null,
            "justify_content": null,
            "justify_items": null,
            "left": null,
            "margin": null,
            "max_height": null,
            "max_width": null,
            "min_height": null,
            "min_width": null,
            "object_fit": null,
            "object_position": null,
            "order": null,
            "overflow": null,
            "overflow_x": null,
            "overflow_y": null,
            "padding": null,
            "right": null,
            "top": null,
            "visibility": null,
            "width": null
          }
        },
        "e27098bc1f5044eda7371c4fd7167375": {
          "model_module": "@jupyter-widgets/controls",
          "model_module_version": "1.5.0",
          "model_name": "ProgressStyleModel",
          "state": {
            "_model_module": "@jupyter-widgets/controls",
            "_model_module_version": "1.5.0",
            "_model_name": "ProgressStyleModel",
            "_view_count": null,
            "_view_module": "@jupyter-widgets/base",
            "_view_module_version": "1.2.0",
            "_view_name": "StyleView",
            "bar_color": null,
            "description_width": ""
          }
        },
        "ef420c34a29744c4ac2a44c82666f329": {
          "model_module": "@jupyter-widgets/base",
          "model_module_version": "1.2.0",
          "model_name": "LayoutModel",
          "state": {
            "_model_module": "@jupyter-widgets/base",
            "_model_module_version": "1.2.0",
            "_model_name": "LayoutModel",
            "_view_count": null,
            "_view_module": "@jupyter-widgets/base",
            "_view_module_version": "1.2.0",
            "_view_name": "LayoutView",
            "align_content": null,
            "align_items": null,
            "align_self": null,
            "border": null,
            "bottom": null,
            "display": null,
            "flex": null,
            "flex_flow": null,
            "grid_area": null,
            "grid_auto_columns": null,
            "grid_auto_flow": null,
            "grid_auto_rows": null,
            "grid_column": null,
            "grid_gap": null,
            "grid_row": null,
            "grid_template_areas": null,
            "grid_template_columns": null,
            "grid_template_rows": null,
            "height": null,
            "justify_content": null,
            "justify_items": null,
            "left": null,
            "margin": null,
            "max_height": null,
            "max_width": null,
            "min_height": null,
            "min_width": null,
            "object_fit": null,
            "object_position": null,
            "order": null,
            "overflow": null,
            "overflow_x": null,
            "overflow_y": null,
            "padding": null,
            "right": null,
            "top": null,
            "visibility": null,
            "width": null
          }
        },
        "efe9263529d64108ba77f06e32ad8c8a": {
          "model_module": "@jupyter-widgets/base",
          "model_module_version": "1.2.0",
          "model_name": "LayoutModel",
          "state": {
            "_model_module": "@jupyter-widgets/base",
            "_model_module_version": "1.2.0",
            "_model_name": "LayoutModel",
            "_view_count": null,
            "_view_module": "@jupyter-widgets/base",
            "_view_module_version": "1.2.0",
            "_view_name": "LayoutView",
            "align_content": null,
            "align_items": null,
            "align_self": null,
            "border": null,
            "bottom": null,
            "display": null,
            "flex": null,
            "flex_flow": null,
            "grid_area": null,
            "grid_auto_columns": null,
            "grid_auto_flow": null,
            "grid_auto_rows": null,
            "grid_column": null,
            "grid_gap": null,
            "grid_row": null,
            "grid_template_areas": null,
            "grid_template_columns": null,
            "grid_template_rows": null,
            "height": null,
            "justify_content": null,
            "justify_items": null,
            "left": null,
            "margin": null,
            "max_height": null,
            "max_width": null,
            "min_height": null,
            "min_width": null,
            "object_fit": null,
            "object_position": null,
            "order": null,
            "overflow": null,
            "overflow_x": null,
            "overflow_y": null,
            "padding": null,
            "right": null,
            "top": null,
            "visibility": null,
            "width": null
          }
        },
        "f216412e761b4ac4a8e33c1268f2de8e": {
          "model_module": "@jupyter-widgets/controls",
          "model_module_version": "1.5.0",
          "model_name": "DescriptionStyleModel",
          "state": {
            "_model_module": "@jupyter-widgets/controls",
            "_model_module_version": "1.5.0",
            "_model_name": "DescriptionStyleModel",
            "_view_count": null,
            "_view_module": "@jupyter-widgets/base",
            "_view_module_version": "1.2.0",
            "_view_name": "StyleView",
            "description_width": ""
          }
        },
        "f36ca8db7a3e456d83cbcb358e2da6e7": {
          "model_module": "@jupyter-widgets/controls",
          "model_module_version": "1.5.0",
          "model_name": "DescriptionStyleModel",
          "state": {
            "_model_module": "@jupyter-widgets/controls",
            "_model_module_version": "1.5.0",
            "_model_name": "DescriptionStyleModel",
            "_view_count": null,
            "_view_module": "@jupyter-widgets/base",
            "_view_module_version": "1.2.0",
            "_view_name": "StyleView",
            "description_width": ""
          }
        },
        "f5ec244a7b594587a964c9824161926e": {
          "model_module": "@jupyter-widgets/controls",
          "model_module_version": "1.5.0",
          "model_name": "HTMLModel",
          "state": {
            "_dom_classes": [],
            "_model_module": "@jupyter-widgets/controls",
            "_model_module_version": "1.5.0",
            "_model_name": "HTMLModel",
            "_view_count": null,
            "_view_module": "@jupyter-widgets/controls",
            "_view_module_version": "1.5.0",
            "_view_name": "HTMLView",
            "description": "",
            "description_tooltip": null,
            "layout": "IPY_MODEL_47f182f1a9e44f7bbaabc58b055e0760",
            "placeholder": "​",
            "style": "IPY_MODEL_aaee2306b8d049b9b8173e805012db69",
            "value": " 1.91M/1.91M [00:00&lt;00:00, 20.1MB/s]"
          }
        },
        "fada0f7be2af4fed8b454f72090b6eed": {
          "model_module": "@jupyter-widgets/controls",
          "model_module_version": "1.5.0",
          "model_name": "HTMLModel",
          "state": {
            "_dom_classes": [],
            "_model_module": "@jupyter-widgets/controls",
            "_model_module_version": "1.5.0",
            "_model_name": "HTMLModel",
            "_view_count": null,
            "_view_module": "@jupyter-widgets/controls",
            "_view_module_version": "1.5.0",
            "_view_name": "HTMLView",
            "description": "",
            "description_tooltip": null,
            "layout": "IPY_MODEL_b39fc9caa0c743a0ae12f82068c7b37e",
            "placeholder": "​",
            "style": "IPY_MODEL_fec2b494f1484eea9275cc0965877e17",
            "value": " 1.44k/1.44k [00:00&lt;00:00, 56.5kB/s]"
          }
        },
        "fc9741aeb84943c6b58fe900de74d741": {
          "model_module": "@jupyter-widgets/controls",
          "model_module_version": "1.5.0",
          "model_name": "FloatProgressModel",
          "state": {
            "_dom_classes": [],
            "_model_module": "@jupyter-widgets/controls",
            "_model_module_version": "1.5.0",
            "_model_name": "FloatProgressModel",
            "_view_count": null,
            "_view_module": "@jupyter-widgets/controls",
            "_view_module_version": "1.5.0",
            "_view_name": "ProgressView",
            "bar_style": "success",
            "description": "",
            "description_tooltip": null,
            "layout": "IPY_MODEL_5e23c9ec1c604eec8749f5e9497e05bc",
            "max": 1274,
            "min": 0,
            "orientation": "horizontal",
            "style": "IPY_MODEL_8313a9cd6ef24295a25128ffeee60aab",
            "value": 1274
          }
        },
        "fe5e73826d4b4e9bb2103d5375363a21": {
          "model_module": "@jupyter-widgets/controls",
          "model_module_version": "1.5.0",
          "model_name": "DescriptionStyleModel",
          "state": {
            "_model_module": "@jupyter-widgets/controls",
            "_model_module_version": "1.5.0",
            "_model_name": "DescriptionStyleModel",
            "_view_count": null,
            "_view_module": "@jupyter-widgets/base",
            "_view_module_version": "1.2.0",
            "_view_name": "StyleView",
            "description_width": ""
          }
        },
        "fec2b494f1484eea9275cc0965877e17": {
          "model_module": "@jupyter-widgets/controls",
          "model_module_version": "1.5.0",
          "model_name": "DescriptionStyleModel",
          "state": {
            "_model_module": "@jupyter-widgets/controls",
            "_model_module_version": "1.5.0",
            "_model_name": "DescriptionStyleModel",
            "_view_count": null,
            "_view_module": "@jupyter-widgets/base",
            "_view_module_version": "1.2.0",
            "_view_name": "StyleView",
            "description_width": ""
          }
        },
        "ff486e36f3494d0895b523aef3981cc9": {
          "model_module": "@jupyter-widgets/base",
          "model_module_version": "1.2.0",
          "model_name": "LayoutModel",
          "state": {
            "_model_module": "@jupyter-widgets/base",
            "_model_module_version": "1.2.0",
            "_model_name": "LayoutModel",
            "_view_count": null,
            "_view_module": "@jupyter-widgets/base",
            "_view_module_version": "1.2.0",
            "_view_name": "LayoutView",
            "align_content": null,
            "align_items": null,
            "align_self": null,
            "border": null,
            "bottom": null,
            "display": null,
            "flex": null,
            "flex_flow": null,
            "grid_area": null,
            "grid_auto_columns": null,
            "grid_auto_flow": null,
            "grid_auto_rows": null,
            "grid_column": null,
            "grid_gap": null,
            "grid_row": null,
            "grid_template_areas": null,
            "grid_template_columns": null,
            "grid_template_rows": null,
            "height": null,
            "justify_content": null,
            "justify_items": null,
            "left": null,
            "margin": null,
            "max_height": null,
            "max_width": null,
            "min_height": null,
            "min_width": null,
            "object_fit": null,
            "object_position": null,
            "order": null,
            "overflow": null,
            "overflow_x": null,
            "overflow_y": null,
            "padding": null,
            "right": null,
            "top": null,
            "visibility": null,
            "width": null
          }
        }
      }
    },
    "accelerator": "GPU",
    "gpuClass": "standard"
  },
  "nbformat": 4,
  "nbformat_minor": 0
}